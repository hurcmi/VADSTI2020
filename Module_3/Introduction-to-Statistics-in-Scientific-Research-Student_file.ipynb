{
 "cells": [
  {
   "cell_type": "markdown",
   "metadata": {},
   "source": [
    "<b style=\"font-size:35px;\"><center>Virtual Applied Data Science Training Institute<br /><br>(VADSTI)</center></b>\n",
    "\n",
    " <hr style=\"color:#FE0000;border:0.5px solid red\" />\n",
    " \n",
    "<center><img src=\"Figures/cover_to_intro_day1_slide.PNG\" style=\"float: center; height: 350px\"></center>\n",
    "\n",
    "---\n",
    "\n",
    "<p /><br />\n",
    "\n",
    "\n",
    "<center><b style=\"font-size:30px; color:#FE0000;\"><em>Python Code Along -- Student's File</em></b></center>\n",
    "\n",
    "<hr style=\"color:#FE0000;border:0.1px solid red; width: 50%;\" />"
   ]
  },
  {
   "cell_type": "markdown",
   "metadata": {},
   "source": [
    "### Lesson Objectives\n",
    "\n",
    "After completing the series you will be able to use **Python** and the data provided in `Module 3, Day 1 slide #7` to implement the following tasks:\n",
    "\n",
    "1. Estimating Statistics -- <b style=\"font-size:14px; color:#FE0000;\"><em>Code-along -- Break 10 minutes</em></b>\n",
    "    - [Load dBP sample data](#slide7) -  (_slide 7_)\n",
    "    - What is the dBD mean -  (_slide 8_)\n",
    "    - What is the dBP standard deviation - (_slide 9_)\n",
    "    - Write your own function to compute sample statistics?\n",
    "    \n",
    "<p \\>\n",
    "    \n",
    "2. Inferential statistical analysis\n",
    "\t- [Sampling distribution of diastolic BP](#slide17) - (_slide 17_)\n",
    "\t- Generate random sample from the dBP data -  (_slide 17_)\n",
    "\t- Compute variability statistics by drawing random samples from the dBP data (_slides 19 & 20_)\n",
    "    - Compute confidence interval (_slides 21_)\n",
    "\n",
    "<p \\>\n",
    "\n",
    "3. [Hypothesis Testing](#slide28) - (_slide 28_) <b style=\"font-size:14px; color:#FE0000;\"><em>Code-along -- Break 10 minutes</em></b>\n",
    "\t- [z-test for difference in two independent means](#slide33) - (_slide 33_)\n",
    "\t- Categorical outcome (2 categories) - (_slide 37_)\n",
    "\t- Difference in independent proportions - (_slides 38, 39_)\n",
    "    - [Compute $\\chi^2$ value for a 2x2 contingency table](#slide42) - (_slides 42_)\n",
    "\n",
    "\n",
    "<p \\>\n",
    "\n",
    "4. [Statistical Methods](#slide49) - (_slide 49_)\n",
    "\t- Correlation -- Fitting a Linear Model on a given dataset - (_slide 52_)\n",
    "\t- Add confidence boundaries (_slide 54_)\n",
    "\n",
    "\n",
    "<p \\>\n",
    "\n",
    "5. Nonparametric statistics](#slide66) - (_slide 66_)\n",
    "\t- [Bootstrap – randomly select an observation from sample data with replacement](#slide66) - (_slide 68_)\n",
    "    - [Jackknife – leave-out-one](#slide69) - (_slide 69_)\n",
    "\n"
   ]
  },
  {
   "cell_type": "code",
   "execution_count": null,
   "metadata": {},
   "outputs": [],
   "source": []
  },
  {
   "cell_type": "markdown",
   "metadata": {},
   "source": [
    "<center><b style=\"font-size:25px; color:#00FE00;\">Required packages</b></center>"
   ]
  },
  {
   "cell_type": "code",
   "execution_count": 3,
   "metadata": {},
   "outputs": [
    {
     "name": "stdout",
     "output_type": "stream",
     "text": [
      "installing required packages ...\n"
     ]
    }
   ],
   "source": [
    "%%bash\n",
    "echo \"installing required packages ...\"\n",
    "\n",
    "exit    #<<<----   remove this run the intallation if necessary \n",
    "\n",
    "sudo pip3 install --upgrade pip # just make sure to upgrade pip\n",
    "sudo pip3 install pandas        # makes it easy working with structured (tabular and time series) data \n",
    "sudo pip3 install numpy         # \"Num Pie\": numeric computing library used for working with arrays\n",
    "sudo pip3 install scipy         # \"Sigh Pie\": scientific computing library for mathematics, science, and engineering\n",
    "\n",
    "#Plotting\n",
    "sudo pip3 install matplotlib    # mainly deployed for basic plotting, fewer syntax with lots of default themes\n",
    "sudo pip3 install seaborn       # a Python data visualization library based on matplotlib\n",
    "\n",
    "\n",
    "#sudo pip3 install random        # built-in module to generate the pseudo-random variables\n",
    "sudo pip3 install statistics    # provides functions for calculating mathematical statistics of numeric data\n",
    "sudo pip3 install xlrd          # a library for reading data and formatting information from Excel \n",
    "sudo pip3 install datatable     # package for manipulating 2-dimensional tabular data structures (aka data frames)\n"
   ]
  },
  {
   "cell_type": "code",
   "execution_count": null,
   "metadata": {},
   "outputs": [],
   "source": []
  },
  {
   "cell_type": "markdown",
   "metadata": {},
   "source": [
    " <hr style=\"color:#FE0000;border:0.5px solid red\" />\n",
    " \n",
    " <center><b style=\"font-size:18px; color:#FE0000;\"><em>* * * Students' Python Coding Exercises Starts at this point * * *</em></b></center>"
   ]
  },
  {
   "cell_type": "code",
   "execution_count": null,
   "metadata": {},
   "outputs": [],
   "source": []
  },
  {
   "cell_type": "code",
   "execution_count": 2,
   "metadata": {},
   "outputs": [],
   "source": [
    "#import libraries\n",
    "import pandas as pd     \n",
    "import numpy as np      \n",
    "import random\n",
    "\n",
    "import seaborn as sns\n",
    "\n",
    "# Forces matplotlib graphics to show up inline\n",
    "%matplotlib inline      "
   ]
  },
  {
   "cell_type": "markdown",
   "metadata": {},
   "source": [
    "<a id=\"slide7\"></a>\n",
    "\n",
    "### 1.  Estimating Statistics\n",
    "\n",
    "We will be using information provided on <b style=\"font-size:15px; color:#FE0000;\"><em>slides 6 through 9</em></b> to complete **Task 1** for Module 3 Day 1\n",
    "\n",
    "\n",
    "#### 1.A  Load the `dBP` and do an initial examination the underlying distribution.\n",
    "\n"
   ]
  },
  {
   "cell_type": "code",
   "execution_count": 3,
   "metadata": {},
   "outputs": [
    {
     "data": {
      "text/plain": [
       "array([ 73,  59,  67,  68,  68,  75,  97,  73,  94,  68,  55,  65,  42,\n",
       "        77,  76,  74,  93,  91,  58,  92,  73,  73,  68,  81,  73,  65,\n",
       "        66,  70,  92,  72,  72,  62,  78,  86,  73,  85,  67,  69,  80,\n",
       "        72,  71,  82,  57,  82,  99,  89,  85,  90,  84,  91,  98,  84,\n",
       "        95,  67,  74,  73,  71, 100,  80,  89,  75,  71,  70,  65,  69,\n",
       "        71,  65,  90,  90,  77,  69,  64,  80,  69,  74,  81,  98,  61,\n",
       "        79,  73,  82,  88,  62,  81,  78,  62,  71,  54,  74,  94,  73,\n",
       "        83,  74,  72,  73,  77,  64,  76,  74,  67,  90,  75,  91,  64,\n",
       "        82,  56,  78,  91,  73,  89,  59,  83, 100,  76,  79,  70,  77,\n",
       "        85,  73,  95,  70,  91,  84,  87,  60,  66,  63,  60,  71,  90,\n",
       "        84,  86,  92,  79,  73,  63,  82,  76,  80,  79,  64,  88,  70,\n",
       "        73])"
      ]
     },
     "execution_count": 3,
     "metadata": {},
     "output_type": "execute_result"
    }
   ],
   "source": [
    "dBP = np.array([\n",
    "73, 42, 73, 67, 84, 75, 80, 78, 64, 73, 70, 92,\n",
    "59, 77, 65, 69, 91, 71, 69, 62, 76, 89, 91, 79,\n",
    "67, 76, 66, 80, 98, 70, 74, 71, 74, 59, 84, 73,\n",
    "68, 74, 70, 72, 84, 65, 81, 54, 67, 83, 87, 63,\n",
    "68, 93, 92, 71, 95, 69, 98, 74, 90, 100, 60, 82,\n",
    "75, 91, 72, 82, 67, 71, 61, 94, 75, 76, 66, 76,\n",
    "97, 58, 72, 57, 74, 65, 79, 73, 91, 79, 63, 80,\n",
    "73, 92, 62, 82, 73, 90, 73, 83, 64, 70, 60, 79,\n",
    "94, 73, 78, 99, 71, 90, 82, 74, 82, 77, 71, 64,\n",
    "68, 73, 86, 89, 100, 77, 88, 72, 56, 85, 90, 88,\n",
    "55, 68, 73, 85, 80, 69, 62, 73, 78, 73, 84, 70,\n",
    "65, 81, 85, 90, 89, 64, 81, 77, 91, 95, 86, 73\n",
    "])\n",
    "\n",
    "#----\n",
    "# alternatively you may use\n",
    "dBP = np.array( pd.read_excel(\"Data.xls\", sheet_name=0) ).reshape(-1)\n",
    "dBP"
   ]
  },
  {
   "cell_type": "code",
   "execution_count": 30,
   "metadata": {},
   "outputs": [],
   "source": [
    "#1a: Compute the dBP mean -- PowerPoint slide 8\n"
   ]
  },
  {
   "cell_type": "code",
   "execution_count": null,
   "metadata": {},
   "outputs": [],
   "source": [
    "#1b: Compute the dBP standard deviation -- PowerPoint slide 9\n"
   ]
  },
  {
   "cell_type": "code",
   "execution_count": null,
   "metadata": {},
   "outputs": [],
   "source": [
    "#d. Why divide by (144 – 1)?  -- PowerPoint slide 9\n"
   ]
  },
  {
   "cell_type": "code",
   "execution_count": 4,
   "metadata": {},
   "outputs": [],
   "source": [
    "#Challenge 1.1: Write your own functions to compute the sample mean and standard deviation of dBP sample data\n"
   ]
  },
  {
   "cell_type": "code",
   "execution_count": null,
   "metadata": {},
   "outputs": [],
   "source": [
    "#Challenge 1.2: Plot the distribution of the dBP data"
   ]
  },
  {
   "cell_type": "markdown",
   "metadata": {},
   "source": [
    "<hr style=\"border:0.1px solid gray; width: 25%;\" />\n",
    "\n",
    "<b style=\"font-size:40px; color:#822c97\">References</b>\n",
    "\n",
    "* <https://stackabuse.com/calculating-variance-and-standard-deviation-in-python/>\n",
    "\n",
    "* <https://www.askpython.com/python/examples/mean-and-standard-deviation-python>\n",
    "\n",
    "***    \n",
    "    \n",
    "    \n",
    "<p /><p />\n",
    "\n",
    "<hr style=\"border:0.1px solid #822c97; width: 50%;\" />\n",
    "\n",
    "<center><b style=\"font-size:25px; color:##556B2F\">CONGRATULATION!!!<br>YOU HAVE SUCCESSFULLY COMPLETED CODE ALONG <br />TASK 1 FOR MODULE 3 Day 1</b></center>"
   ]
  },
  {
   "cell_type": "markdown",
   "metadata": {},
   "source": [
    "<a id=\"slide17\"></a>\n",
    "\n",
    " <hr style=\"border:0.5px solid red\" />\n",
    "\n",
    "\n",
    "### 2.  Inferential statistical analysis\n",
    "\n",
    "We will be using information provided on <b style=\"font-size:15px; color:#FE0000;\"><em>slides 12 through 21</em></b> to complete **Task 2** for Module 3 Day 2\n",
    "\n",
    "<p \\>\n",
    "\n",
    "#### 2.A Recall: Research sample mean (x) ~ population mean ($\\mu$) Inferential statistical analysis -- <b style=\"font-size:15px; color:#FE0000;\"><em> Slide 16</em><b/>\n",
    "\n",
    "<p \\>\n",
    " \n",
    "<center><img src=\"Figures/sample_and_population_mean.PNG\" style=\"float: center; height: 350px\"></center>\n",
    "\n",
    "\n"
   ]
  },
  {
   "cell_type": "code",
   "execution_count": 4,
   "metadata": {},
   "outputs": [
    {
     "data": {
      "text/plain": [
       "[3, 4]"
      ]
     },
     "execution_count": 4,
     "metadata": {},
     "output_type": "execute_result"
    }
   ],
   "source": [
    "# Example: Use the following code segment to extract (draw) 2 random numbers from between 0 and 9\n",
    "\n",
    "import random\n",
    "\n",
    "random.seed(4)        #to ensure a repeatable outcome\n",
    "\n",
    "data = [0, 1, 2, 3, 4, 5, 6, 7, 8, 9]  \n",
    "\n",
    "# Draw the samples indirectly from the data\n",
    "random.sample(population=data, k=2)\n"
   ]
  },
  {
   "cell_type": "code",
   "execution_count": null,
   "metadata": {},
   "outputs": [],
   "source": [
    "#2a Expand on the example above to draw 1 set of 5 random data from the dBP data (_slide 17_)\n",
    "\n",
    "random.seed(4)        #to ensure a repeatable outcome\n",
    "\n",
    "#insert your code here \n"
   ]
  },
  {
   "cell_type": "code",
   "execution_count": null,
   "metadata": {},
   "outputs": [],
   "source": [
    "#2b Expanding on your result in 2a, draw 12 sets of random samples each of size 5 from the dBP data \n",
    "#   and print the resulting samples. Use random.seed(4)\n",
    "\n",
    "import random\n",
    "\n",
    "#initialize temporary variables\n",
    "n = 5                 #sample size\n",
    "l = len(dBP)          #length dBP\n",
    "num_samples = 12      #12 samples\n",
    "random.seed(4)        #repeatable outcome\n",
    "\n",
    "\n",
    "#compute and print values\n",
    "for i in range(num_samples):\n",
    "   ??????  #insert code here\n",
    "\n"
   ]
  },
  {
   "cell_type": "code",
   "execution_count": null,
   "metadata": {},
   "outputs": [],
   "source": [
    "#2c Expanding on your result in 2b, by printing the mean of each of the random sample next the \n",
    "# sample values similar to data sampling output on slide 17. Use random.seed(4)\n",
    "                                   "
   ]
  },
  {
   "cell_type": "code",
   "execution_count": null,
   "metadata": {},
   "outputs": [],
   "source": [
    "#2d Compute the (i) mean, (ii) SEM = SD(sample_data)/sqrt(n=len(sample_data)) -- slide 19\n",
    "\n",
    "sample1 = [72, 82, 73, 90, 81]\n",
    "sample2 = [89, 90, 77, 80, 82]\n",
    "\n",
    "mean_sample1 = \n",
    "mean_sample2 =\n",
    "\n",
    "SEM_sample1 = \n",
    "SEM_sample2 =\n",
    "\n"
   ]
  },
  {
   "cell_type": "code",
   "execution_count": null,
   "metadata": {},
   "outputs": [],
   "source": [
    "#Challenge 2.1 Use the formula on slide 20 to compute the 95% confidence interval for sample1 and sample2\n",
    "\n",
    "LB_sample1 = mean_sample1 + (2 * SEM_sample1)   #   (2 is standard deviation units of the normal distribution).\n",
    "LB_sample2 = ???\n",
    "\n",
    "UB_sample1 = ???   \n",
    "UB_sample2 = ???\n",
    "\n",
    "#Compare your results to those obtained in the first 2 lines of the PowerPoint slide 20\n",
    "                                   "
   ]
  },
  {
   "cell_type": "markdown",
   "metadata": {},
   "source": [
    "#### 2.B Recall -- Recall: Table on  <b style=\"font-size:15px; color:#FE0000;\"><em> Slide 20</em><b/>\n",
    "\n",
    "<p \\>\n",
    " \n",
    "<center><img src=\"Figures/table_slide20.PNG\" style=\"float: center; height: 420px\"></center>\n"
   ]
  },
  {
   "cell_type": "code",
   "execution_count": null,
   "metadata": {},
   "outputs": [],
   "source": [
    "#Challenge 2.2 Generate a table similar to slide 20 USING THE dBP data for 10 samples each of size 5, \n",
    "\n",
    "# Print only Sample, Mean, SEM, LB, and UB values\n",
    "\n"
   ]
  },
  {
   "cell_type": "code",
   "execution_count": null,
   "metadata": {},
   "outputs": [],
   "source": [
    "#Challenge 2.3 Expand on challenge 2.2 by increasing each of the 10 samples from \n",
    "#              (i) 5 to 15 randome dBP values\n",
    "#              (i) 5 to 25 randome dBP values\n",
    "#              (i) 5 to 50 randome dBP values\n",
    "\n",
    "# This time, Print only Sample_size, Mean, SEM, LB, and UB values, and document any \n",
    "# interesting findings you may observation"
   ]
  },
  {
   "cell_type": "code",
   "execution_count": null,
   "metadata": {},
   "outputs": [],
   "source": [
    "# Challenge 2.4: Find how many time the mean is included in the sample means in either challenge 2.2 or 2.3\n",
    "\n",
    "dp= 0\n",
    "\n",
    "print(\"\\n Number of samples with mean == mean(dBP) = %d\\n---\\n\" % len(dBP_samples_df_slide20[ round(dBP_samples_df_slide20['Mean'], dp) ==  round(np.mean(dBP), dp) ] ) )\n",
    "\n",
    "dBP_samples_df_slide20[ round(dBP_samples_df_slide20['Mean'], dp) ==  round(np.mean(dBP), dp) ]"
   ]
  },
  {
   "cell_type": "code",
   "execution_count": null,
   "metadata": {},
   "outputs": [],
   "source": []
  },
  {
   "cell_type": "markdown",
   "metadata": {},
   "source": [
    "    \n",
    "<hr style=\"border:0.1px solid gray; width: 25%;\" />\n",
    "\n",
    "<b style=\"font-size:40px; color:#822c97\">References</b>\n",
    "\n",
    "* <https://pynative.com/python-random-sample/>\n",
    "    \n",
    "* <https://note.nkmk.me/en/python-random-choice-sample-choices/>\n",
    "\n",
    "    \n",
    "    \n",
    "<p /><p />\n",
    "\n",
    "<hr style=\"border:0.1px solid #822c97; width: 50%;\" />\n",
    "\n",
    "<center><b style=\"font-size:25px; color:##556B2F\">CONGRATULATION!!!<br>YOU HAVE SUCCESSFULLY COMPLETED CODE ALONG <br />TASK 2 FOR MODULE 3 Day 1</b></center>\n",
    "\n",
    "\n"
   ]
  },
  {
   "cell_type": "markdown",
   "metadata": {},
   "source": [
    "<a id=\"slide28\"></a>\n",
    "\n",
    "<hr style=\"color:#FE0000;border:0.5px solid red\" />\n",
    "\n",
    "\n",
    "### 3.  Hypothesis Testing \n",
    "\n",
    "\n",
    "\n",
    "<a id=\"slide33\"></a>\n",
    "\n",
    "#### 3.A  t-test for difference in two independent means\n",
    "\n",
    "<p />\n",
    "\n",
    "We will be using information provided on <b style=\"font-size:15px; color:#FE0000;\"><em>slides 28 through 39</em></b> to complete **Task 3A** for Module 3 Day 2\n",
    "\n",
    "\n",
    "####  Recall: Table on  <b style=\"font-size:15px; color:#FE0000;\"><em> Slide 28</em><b/>\n",
    "<p \\>\n",
    " \n",
    "<center><img src=\"Figures/slide34.PNG\" style=\"float: center; height: 360px\"></center>\n",
    "\n"
   ]
  },
  {
   "cell_type": "code",
   "execution_count": 21,
   "metadata": {},
   "outputs": [
    {
     "ename": "SyntaxError",
     "evalue": "invalid syntax (<ipython-input-21-dca648c6f491>, line 15)",
     "output_type": "error",
     "traceback": [
      "\u001b[1;36m  File \u001b[1;32m\"<ipython-input-21-dca648c6f491>\"\u001b[1;36m, line \u001b[1;32m15\u001b[0m\n\u001b[1;33m    Treatment_series = ???\u001b[0m\n\u001b[1;37m                       ^\u001b[0m\n\u001b[1;31mSyntaxError\u001b[0m\u001b[1;31m:\u001b[0m invalid syntax\n"
     ]
    }
   ],
   "source": [
    "#3a Compute t-test for difference in two independent means shown on slide 34 \n",
    "\n",
    "\n",
    "# Improt libraries\n",
    "import pandas as pd\n",
    "import numpy as np\n",
    "import matplotlib.pyplot as plt\n",
    "import seaborn as sns\n",
    "\n",
    "#Given data\n",
    "Treatment = [80,  88,  76,  77,  84]       # Mean = 81\n",
    "Control   = [84,  90,  86,  77,  93]       # Mean = 86\n",
    "\n",
    "#Generating a Pandas DataFrame for the 2 groups\n",
    "Treatment_series = ???\n",
    "Control_series =  ???\n",
    "  \n",
    " \n",
    "#Print resulting dataframe\n",
    "???\n",
    "\n",
    "#Plot a density plot on Treatment and Contril datasets\n",
    "???\n",
    "\n",
    "#Compute a 95% 2-Tail z-test for the difference in Population Proportoertions\n",
    "???\n",
    "\n",
    "#State the outcome of your test under H0\n",
    "???\n"
   ]
  },
  {
   "cell_type": "markdown",
   "metadata": {},
   "source": [
    "<a id=\"slide39\"></a>\n",
    "\n",
    "\n",
    "#### 3B.  Diffences in independed proportions ($\\chi^2$)\n",
    "\n",
    "<p />\n",
    "\n",
    "We will be using information provided on <b style=\"font-size:15px; color:#FE0000;\"><em>slide 39</em></b> to complete **Task 3B** for Module 3 Day 2\n",
    "\n",
    "\n",
    "####  Recall: Table on  <b style=\"font-size:15px; color:#FE0000;\"><em> Slide 39</em><b/>\n",
    "<p \\>\n",
    " \n",
    "<center><img src=\"Figures/slide39.PNG\" style=\"float: center; height: 360px\"></center>\n",
    "\n",
    "\n"
   ]
  },
  {
   "cell_type": "code",
   "execution_count": 22,
   "metadata": {},
   "outputs": [
    {
     "name": "stdout",
     "output_type": "stream",
     "text": [
      "\n",
      "z = 2.0014      |    p = 0.0454 (two-sided)\n",
      "---\n",
      "\n",
      "\n"
     ]
    }
   ],
   "source": [
    "import numpy as np\n",
    "from statsmodels.stats.proportion import proportions_ztest\n",
    "\n",
    "#Using the observation on slide 39, compute the z-test of diffences in proportions for the 2 samples\n",
    "\n",
    "#                 A    B\n",
    "count = np.array([?,  ?])\n",
    "nobs = ??\n",
    "\n",
    "#ztest\n",
    "stat, pval = proportions_ztest(count, nobs)\n",
    "print(f'\\nz = {stat:.4f}      |    p = {pval:.4f} (two-sided)\\n---\\n\\n')"
   ]
  },
  {
   "cell_type": "code",
   "execution_count": null,
   "metadata": {},
   "outputs": [],
   "source": []
  },
  {
   "cell_type": "markdown",
   "metadata": {},
   "source": [
    "<a id=\"slide42\"></a>\n",
    "\n",
    "\n",
    "#### 3.C  Chi Square ($\\chi^2$)\n",
    "\n",
    "<p />\n",
    "\n",
    "We will be using information provided on <b style=\"font-size:15px; color:#FE0000;\"><em>slide 42</em></b> to complete **Task 3C** for Module 3 Day 2\n",
    "\n",
    "\n",
    "####  Recall: Table on  <b style=\"font-size:15px; color:#FE0000;\"><em> Slide 28</em><b/>\n",
    "<p \\>\n",
    " \n",
    "<center><img src=\"Figures/Slide42.PNG\" style=\"float: center; height: 280px\"></center>\n"
   ]
  },
  {
   "cell_type": "code",
   "execution_count": 1,
   "metadata": {},
   "outputs": [
    {
     "data": {
      "text/plain": [
       "4.005452239276572"
      ]
     },
     "execution_count": 1,
     "metadata": {},
     "output_type": "execute_result"
    }
   ],
   "source": [
    "# That is:\n",
    "E1 = 184*156/386; E2 = 184*230/386; E3 = 202*156/386; E4 = 202*230/386\n",
    "chi2 = 1/E1*(84-E1)**2  +  1/E2*(100-E2)**2  +  1/E3*(72-E3)**2  +  1/E4*(130-E4)**2\n",
    "chi2"
   ]
  },
  {
   "cell_type": "code",
   "execution_count": null,
   "metadata": {},
   "outputs": [],
   "source": []
  },
  {
   "cell_type": "code",
   "execution_count": 19,
   "metadata": {},
   "outputs": [
    {
     "name": "stdout",
     "output_type": "stream",
     "text": [
      "\n",
      " Col sums: [156 230]   | Row sums: [184 202]   |   Row and Col sum: 386\n",
      "[ 74.3626943 109.6373057  81.6373057 120.3626943]\n",
      "\n",
      " Chi Square test statistic: 4.005   | P-value: 0.0454\n",
      "\n",
      "\n"
     ]
    }
   ],
   "source": [
    "#3c Verify the chi square value computed on slide 42\n",
    "import numpy as np\n",
    "from scipy import stats\n",
    "\n",
    "#data for the contingency table\n",
    "table = np.array([\n",
    "    [ 84, 100],\n",
    "    [ 72, 130]\n",
    "])\n",
    "\n",
    "table_col_sum = ???\n",
    "table_row_sum = ???\n",
    "table_sum = ???\n",
    "\n",
    "print(f'\\n Col sums: {table_col_sum}   | Row sums: {table_row_sum}   |   Row and Col sum: {table_sum}')\n",
    "\n",
    "#---\n",
    "#Compute E\n",
    "#                E1           E2           E3           E4\n",
    "#E = [ 74.3626943 109.6373057  81.6373057 120.3626943]\n",
    "E = ???\n",
    "\n",
    "print(E)\n",
    "\n",
    "\n",
    "#Pupulate array for Chi Sq vaules shown on slide 42\n",
    "ChiSq_array = (table.reshape(-1) - E)**2      #done for you\n",
    "\n",
    "#Compuite and print Chi Square test statistic\n",
    "ChiSq = ???\n",
    "\n",
    "#the actual value\n",
    "sum_ChiSq = (np.sum(ChiSq))\n",
    "\n",
    "#P-value from Chi sq test statistic in Python\n",
    "p = 1-stats.chi2.cdf(np.sum(ChiSq), 1)\n",
    "print(f'\\n Chi Square test statistic: {ChiSq:.3f}   | P-value: {p:.4f}\\n\\n')  \n",
    " \n"
   ]
  },
  {
   "cell_type": "code",
   "execution_count": null,
   "metadata": {},
   "outputs": [],
   "source": []
  },
  {
   "cell_type": "markdown",
   "metadata": {},
   "source": [
    "<hr style=\"border:0.1px solid gray; width: 25%;\" />\n",
    "\n",
    "<b style=\"font-size:40px; color:#822c97\">References</b>\n",
    "\n",
    "* <https://pynative.com/python-random-sample/>\n",
    "    \n",
    "* <https://note.nkmk.me/en/python-random-choice-sample-choices/>\n",
    "\n",
    "* <https://docs.scipy.org/doc/scipy/reference/generated/scipy.stats.ttest_ind.html>\n",
    "* <https://machinelearningmastery.com/how-to-code-the-students-t-test-from-scratch-in-python/>\n",
    "   \n",
    "<p /><p />\n",
    "\n",
    "<hr style=\"border:0.1px solid #822c97; width: 50%;\" />\n",
    "\n",
    "<center><b style=\"font-size:25px; color:##556B2F\">CONGRATULATION!!!<br>YOU HAVE SUCCESSFULLY COMPLETED CODE ALONG <br />TASK 3 FOR MODULE 3 Day 2</b></center>"
   ]
  },
  {
   "cell_type": "markdown",
   "metadata": {},
   "source": [
    "<a id=\"slide49\"></a>\n",
    "\n",
    "\n",
    "\n",
    "<hr style=\"color:#FE0000;border:0.5px solid red\" />\n",
    "\n",
    "\n",
    "\n",
    "#### 4 Statistical Methods\n",
    "\n",
    "<p />\n",
    "\n",
    "We will be using information provided on <b style=\"font-size:15px; color:#FE0000;\"><em>slides 51 through 54</em></b> to complete **Task 4** for Module 3 Day 2\n",
    "\n",
    "\n",
    "####  Recall: Table on  <b style=\"font-size:15px; color:#FE0000;\"><em> Slides 51 through 54</em><b/>\n",
    "<p \\>\n",
    " \n",
    "<center><img src=\"Figures/slide51-54.PNG\" style=\"float: center; height: 640px\"></center>"
   ]
  },
  {
   "cell_type": "code",
   "execution_count": 26,
   "metadata": {},
   "outputs": [
    {
     "name": "stdout",
     "output_type": "stream",
     "text": [
      "   dBP\n",
      "0   73\n",
      "1   59\n",
      "2   67\n",
      "3   68\n",
      "4   68\n",
      "5   75\n",
      "6   97\n",
      "7   73\n",
      "8   94\n",
      "9   68\n"
     ]
    }
   ],
   "source": [
    "#4.1 use pd.read_csv the patients dataset in \"Data.xls\" to create a Data_df dataframe\n",
    "import pandas as pd\n",
    "\n",
    "# create a HowardData_df dataframe from the \"Data.xls\", sheet_name=0\n",
    "Data_df = pd.????(\"Data.xls\", sheet_name=1)\n",
    "print(Data_df.head(n=10))\n",
    "\n"
   ]
  },
  {
   "cell_type": "code",
   "execution_count": null,
   "metadata": {},
   "outputs": [],
   "source": [
    "##Challenge 4A Fit a linear model to the dataset\n",
    "\n",
    "# Print the coefficients.  That is: yhat = coef1 * X _ intercept \n",
    "# Compare your computed value to those on slide 53 & 54\n",
    "# chol = 102.6  + 5.5 * age\n",
    "\n",
    "\n",
    "#-------------\n",
    "\n",
    "##Challenge 4B Plot a linear model to the dataset\n",
    "\n",
    "\n",
    "\n",
    "#-------------\n",
    "\n",
    "\n",
    "\n",
    "####Challenge 4C Generate a plot silimar to that on slide 54\n",
    "\n",
    "\n",
    "## You may use sample code provided here: https://tomholderness.wordpress.com/2013/01/10/confidence_intervals/"
   ]
  },
  {
   "cell_type": "code",
   "execution_count": null,
   "metadata": {},
   "outputs": [],
   "source": []
  },
  {
   "cell_type": "markdown",
   "metadata": {},
   "source": [
    "<hr style=\"border:0.1px solid gray; width: 25%;\" />\n",
    "\n",
    "<b style=\"font-size:40px; color:#822c97\">References</b>\n",
    "\n",
    "* <https://tomholderness.wordpress.com/2013/01/10/confidence_intervals/>\n",
    "\n",
    "<p /><p />\n",
    "\n",
    "<hr style=\"border:0.1px solid #822c97; width: 50%;\" />\n",
    "\n",
    "<center><b style=\"font-size:25px; color:##556B2F\">CONGRATULATION!!!<br>YOU HAVE SUCCESSFULLY COMPLETED CODE ALONG <br />TASK 4 OR MODULE 3 Day 2</b></center>"
   ]
  },
  {
   "cell_type": "markdown",
   "metadata": {},
   "source": [
    "<a id=\"slide66\"></a>\n",
    "\n",
    "\n",
    "### 5 Nonparametric statistics\n",
    "\n",
    "<p />\n",
    "\n",
    "\n",
    "#### 5.A  <b style=\"font-size:15px; color:#FE0000;\"><em>Bootstrap</em></b> – randomly select an observation from sample data <b style=\"font-size:15px; color:#FE0000;\"><em>with replacement</em></b>\n",
    "\n",
    "<p />\n",
    "\n",
    "\n",
    "We will be using information provided on <b style=\"font-size:15px; color:#FE0000;\"><em>slide 68</em></b> to complete **Task 5** for Module 3 Day 2\n",
    "\n",
    "\n",
    "####  Recall: Figure on  <b style=\"font-size:15px; color:#FE0000;\"><em> Slide 68</em><b/>\n",
    "<p \\>\n",
    " \n",
    "<center><img src=\"Figures/slide68.PNG\" style=\"float: center; height: 320px\"></center>"
   ]
  },
  {
   "cell_type": "code",
   "execution_count": null,
   "metadata": {},
   "outputs": [],
   "source": [
    "#5a Use bootstrapping to compute the *95%* confidence interval (CI) for the average dBP\n",
    "imprt numpy as np\n",
    "\n",
    "#Use this sample code to solve problem 5a\n",
    "np.random.seed(123)\n",
    "\n",
    "# Uncomment and run the following line\n",
    "# ?np.random.choice\n",
    "\n",
    "#See what np.random does\n",
    "temp_sample= np.random.choice(a= np.arange(10), size=3, replace=True, p=None)\n",
    "print(f'\\n 1: temp_sample = {temp_sample}\\n--\\n')\n",
    "\n",
    "temp_sample= np.random.choice(a= np.arange(10), size=5, replace=True, p=None)\n",
    "print(f'\\n 2: temp_sample = {temp_sample}\\n\\n')\n",
    "\n",
    "\n",
    "#--\n",
    "#5a.i  \n",
    "# Draw a 10 random samples each of size 5 from the dBP data with replacement and append mean to mean_dBP .\n",
    "\n",
    "#mean_dBP_samples is an empty list, mysample_size=5, replications=10 \n",
    "mean_dBP_samples, mysample_size, replications = [], 5, 10 \n",
    "\n",
    "#Use the for loop to poplutate the mean_dBP_samples data \n",
    "for i in range(replications):\n",
    "    temp_sample = ???\n",
    "    sample_mean = ???\n",
    "    #append the mean to the mean_dBP_samples\n",
    "    ???\n",
    "    \n",
    "#5a.ii\n",
    "# Calculate bootstrapped mean and 95% confidence interval.\n",
    "boot_mean = ???\n",
    "boot_95_ci = ??\n",
    "print(\"\\n---\\nBootstrapped dBP Sample_size = {}   | Mean = {}   |  95% CI = {}\\n\\n\".format(mysample_size, boot_mean, boot_95_ci))\n",
    "\n",
    "\n",
    "\n",
    "#5a.ii Try with different sample sizes \n",
    "\n",
    "\n",
    "#5a.iii Document your obsertations\n",
    "\n",
    "\n",
    "\n",
    "#---\n",
    "#Challenge 5 Modify code to compute the *95%* confidence interval (CI) for the `median` dBP \n"
   ]
  },
  {
   "cell_type": "code",
   "execution_count": null,
   "metadata": {},
   "outputs": [],
   "source": []
  },
  {
   "cell_type": "markdown",
   "metadata": {},
   "source": [
    "<a id=\"slide69\"></a>\n",
    "\n",
    "***\n",
    "\n",
    "#### 5.B  <b style=\"font-size:15px; color:#FE0000;\"><em>Jacknife</em></b> – leave-out-one\n",
    "\n",
    "<p />\n",
    "\n",
    "\n",
    "We will be using information provided on <b style=\"font-size:15px; color:#FE0000;\"><em>slide 69</em></b> to complete **Task 5B** for Module 3 Day 2\n",
    "\n",
    "\n",
    "####  Recall: Figure on  <b style=\"font-size:15px; color:#FE0000;\"><em> Slide 69</em><b/>\n",
    "<p \\>\n",
    " \n",
    "<center><img src=\"Figures/slide69.PNG\" style=\"float: center; height: 420px\"></center>"
   ]
  },
  {
   "cell_type": "code",
   "execution_count": 2,
   "metadata": {},
   "outputs": [
    {
     "ename": "SyntaxError",
     "evalue": "invalid syntax (<ipython-input-2-2394054c9bde>, line 17)",
     "output_type": "error",
     "traceback": [
      "\u001b[1;36m  File \u001b[1;32m\"<ipython-input-2-2394054c9bde>\"\u001b[1;36m, line \u001b[1;32m17\u001b[0m\n\u001b[1;33m    jk_sample = dBP[???????]              #Exclude data at the current (exlcude data for which i == index\u001b[0m\n\u001b[1;37m                    ^\u001b[0m\n\u001b[1;31mSyntaxError\u001b[0m\u001b[1;31m:\u001b[0m invalid syntax\n"
     ]
    }
   ],
   "source": [
    "import numpy as np\n",
    "\n",
    "np.random.seed(123)\n",
    "\n",
    "# Leave one observation out from dPB data to get the jackknife sample and store the mean value fo each sample\n",
    "mean_dBP_samples, replications = [], len(dBP)   #mean_dBP_samples are empty lists, replications=1000 \n",
    "\n",
    "index = np.arange(replications)          # array([  0,   1,   2,   3, .... 143])\n",
    "\n",
    "#print to view\n",
    "print(f'\\n Original data:\\n{dBP}\\n---\\n')\n",
    "print(f'\\n  Value index:\\n{index}\\n\\n---------------\\n\\n')\n",
    "\n",
    "#--\n",
    "\n",
    "for i in range(replications):\n",
    "    jk_sample = dBP[???????]              #Exclude data at the current (exlcude data for which i == index \n",
    "    mean_dBP_samples.append(?????))       #append the compute statistic  (sample mean)\n",
    "    \n",
    "    # for debugging purposes only print out a fee sample\n",
    "    if i < 3 or i > ( (len(dBP)) -3 ):    #141\n",
    "        print(f'\\n Leaving out index {i} | Jacknife estimate: {np.mean(jk_sample):.2f}\\n Jacknife sample data:\\n{jk_sample}')    \n",
    "\n",
    "# The jackknife estimate is the mean of dBP from each sample\n",
    "mean_dBP_jk = ???\n",
    "\n",
    "##Finally print the estimate\n",
    "print(f'\\n\\n-----\\n\\nFinally:\\n\\nThe true Jackknife estimate of the mean dBP = {mean_dBP_jk:.2f}\\n')"
   ]
  },
  {
   "cell_type": "markdown",
   "metadata": {},
   "source": [
    "<p /><p />\n",
    "\n",
    "***\n",
    "\n",
    "<b style=\"font-size:40px; color:#00FF00\">References</b>\n",
    "\n",
    "* <https://goodboychan.github.io/chans_jupyter/python/datacamp/statistics/modeling/2020/06/22/01-Resampling-methods.html#Bootstrapping>\n",
    "* <https://people.duke.edu/~ccc14/sta-663/ResamplingAndMonteCarloSimulations.html>\n",
    "* <https://machinelearningmastery.com/calculate-bootstrap-confidence-intervals-machine-learning-results-python/>\n",
    "\n",
    "\n",
    "\n",
    "# Additional References\n",
    "\n",
    "* <https://towardsdatascience.com/hypothesis-testing-in-machine-learning-using-python-a0dc89e169ce>\n",
    "\n",
    "* <https://towardsdatascience.com/demystifying-hypothesis-testing-with-simple-python-examples-4997ad3c5294>\n",
    "\n",
    "\n",
    "***\n",
    "   \n",
    "<p /><p />\n",
    "\n",
    "\n",
    "<hr style=\"color:#FE0000;border:0.5px solid red;width:75%\" />\n",
    "\n",
    "<p /><p />\n",
    "\n",
    "\n",
    "<center><b style=\"font-size:30px; color:#013220\">CONGRATULATION!!!<br \\><br \\><br \\><br \\>YOU HAVE SUCCESSFULLY COMPLETED <br \\><br \\>ALL YOUR CODING TASKS FOR <br \\><br \\>MODULE 3</b></center>\n",
    "\n",
    "\n",
    "\n",
    "<hr style=\"color:#FE0000;border:0.5px solid red\" />\n",
    "\n",
    "<p /><p />\n",
    "\n"
   ]
  },
  {
   "cell_type": "code",
   "execution_count": null,
   "metadata": {},
   "outputs": [],
   "source": []
  }
 ],
 "metadata": {
  "anaconda-cloud": {},
  "kernelspec": {
   "display_name": "Python 3",
   "language": "python",
   "name": "python3"
  },
  "language_info": {
   "codemirror_mode": {
    "name": "ipython",
    "version": 3
   },
   "file_extension": ".py",
   "mimetype": "text/x-python",
   "name": "python",
   "nbconvert_exporter": "python",
   "pygments_lexer": "ipython3",
   "version": "3.8.5"
  }
 },
 "nbformat": 4,
 "nbformat_minor": 4
}
