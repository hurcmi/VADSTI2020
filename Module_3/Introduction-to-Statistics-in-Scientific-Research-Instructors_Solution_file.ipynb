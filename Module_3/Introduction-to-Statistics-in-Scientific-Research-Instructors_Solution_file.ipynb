{
 "cells": [
  {
   "cell_type": "markdown",
   "metadata": {},
   "source": [
    "<b style=\"font-size:35px;\"><center>Virtual Applied Data Science Training Institute<br /><br>(VADSTI)</center></b>\n",
    "\n",
    " <hr style=\"border:0.5px solid red\" />\n",
    " \n",
    "<center><img src=\"Figures/cover_to_intro_day1_slide.PNG\" style=\"float: center; height: 350px\"></center>\n",
    "\n",
    "---\n",
    "\n",
    "<p /><br />\n",
    "\n",
    "\n",
    "<center><b style=\"font-size:40px; color:#000EFF;\"><em>Python Code Along -- Instructor's Solutions File</em></b></center>\n",
    "\n",
    "<hr style=\"border:0.1px solid red; width: 50%;\" />"
   ]
  },
  {
   "cell_type": "markdown",
   "metadata": {},
   "source": [
    "### Lesson Objectives\n",
    "\n",
    "After completing the series you will be able to use **Python** and the data provided in `Module 3, Day 1 slide #7` to implement the following tasks:\n",
    "\n",
    "1. Estimating Statistics -- <b style=\"font-size:14px; color:#FE0000;\"><em>Code-along -- Break 10 minutes</em></b>\n",
    "    - [Load dBP sample data](#slide7) -  (_slide 7_)\n",
    "    - What is the dBD mean -  (_slide 8_)\n",
    "    - What is the dBP standard deviation - (_slide 9_)\n",
    "    - Write your own function to compute sample statistics?\n",
    "    \n",
    "<p \\>\n",
    "    \n",
    "2. Inferential statistical analysis\n",
    "\t- [Sampling distribution of diastolic BP](#slide17) - (_slide 17_)\n",
    "\t- Generate random sample from the dBP data -  (_slide 17_)\n",
    "\t- Compute variability statistics by drawing random samples from the dBP data (_slides 19 & 20_)\n",
    "    - Compute confidence interval (_slides 21_)\n",
    "\n",
    "<p \\>\n",
    "\n",
    "3. [Hypothesis Testing](#slide28) - (_slide 28_) <b style=\"font-size:14px; color:#FE0000;\"><em>Code-along -- Break 10 minutes</em></b>\n",
    "\t- [z-test for difference in two independent means](#slide33) - (_slide 33_)\n",
    "\t- Categorical outcome (2 categories) - (_slide 37_)\n",
    "\t- Difference in independent proportions - (_slides 38, 39_)\n",
    "    - [Compute $\\chi^2$ value for a 2x2 contingency table](#slide42) - (_slides 42_)\n",
    "\n",
    "\n",
    "<p \\>\n",
    "\n",
    "4. [Statistical Methods](#slide49) - (_slide 49_)\n",
    "\t- Correlation -- Fitting a Linear Model on a given dataset - (_slide 52_)\n",
    "\t- Add confidence boundaries (_slide 54_)\n",
    "\n",
    "\n",
    "<p \\>\n",
    "\n",
    "5. Nonparametric statistics](#slide66) - (_slide 66_)\n",
    "\t- [Bootstrap – randomly select an observation from sample data with replacement](#slide66) - (_slide 68_)\n",
    "    - [Jackknife – leave-out-one](#slide69) - (_slide 69_)\n",
    "\n"
   ]
  },
  {
   "cell_type": "code",
   "execution_count": null,
   "metadata": {},
   "outputs": [],
   "source": []
  },
  {
   "cell_type": "markdown",
   "metadata": {},
   "source": [
    "<center><b style=\"font-size:25px; color:#00FE00;\">Required packages</b></center>"
   ]
  },
  {
   "cell_type": "code",
   "execution_count": 1,
   "metadata": {},
   "outputs": [
    {
     "name": "stdout",
     "output_type": "stream",
     "text": [
      "installing required packages ...\n"
     ]
    }
   ],
   "source": [
    "%%bash\n",
    "echo \"installing required packages ...\"\n",
    "\n",
    "exit    #<<<----   remove this run the intallation if necessary \n",
    "\n",
    "sudo pip3 install --upgrade pip  # just make sure to upgrade pip\n",
    "sudo pip3 install pandas         # makes it easy working with structured (tabular and time series) data \n",
    "sudo pip3 install numpy          # \"Num Pie\": numeric computing library used for working with arrays\n",
    "sudo pip3 install scipy          # \"Sigh Pie\": scientific computing library for mathematics, science, and engineering\n",
    "\n",
    "#Plotting\n",
    "sudo pip3 install matplotlib     # mainly deployed for basic plotting, fewer syntax with lots of default themes\n",
    "sudo pip3 install seaborn        # a Python data visualization library based on matplotlib\n",
    "\n",
    "\n",
    "#sudo pip3 install random        # built-in module to generate the pseudo-random variables\n",
    "sudo pip3 install statistics     # provides functions for calculating mathematical statistics of numeric data\n",
    "sudo pip3 install xlrd           # a library for reading data and formatting information from Excel \n",
    "sudo pip3 install datatable      # package for manipulating 2-dimensional tabular data structures (aka data frames\n",
    "\n",
    "sudo -H pip3 install statsmodels # provides classes and functions for the estimation of many different statistical model\n",
    "sudo -H pip3 install sklearn  # a machine learning library for Python, including several regression, classification and clustering algorithms\n"
   ]
  },
  {
   "cell_type": "code",
   "execution_count": null,
   "metadata": {},
   "outputs": [],
   "source": []
  },
  {
   "cell_type": "markdown",
   "metadata": {},
   "source": [
    " <hr style=\"border:0.5px solid red\" />\n",
    " \n",
    " <center><b style=\"font-size:18px; color:#FE0000;\"><em>* * * Instructors' Python Coding Exercises Solution Starts at this point * * *</em></b></center>"
   ]
  },
  {
   "cell_type": "code",
   "execution_count": null,
   "metadata": {},
   "outputs": [],
   "source": []
  },
  {
   "cell_type": "code",
   "execution_count": 2,
   "metadata": {},
   "outputs": [],
   "source": [
    "#import libraries\n",
    "import pandas as pd     \n",
    "import numpy as np      \n",
    "import random\n",
    "\n",
    "import seaborn as sns\n",
    "\n",
    "# Forces matplotlib graphics to show up inline\n",
    "%matplotlib inline "
   ]
  },
  {
   "cell_type": "markdown",
   "metadata": {},
   "source": [
    "<a id=\"slide7\"></a>\n",
    "\n",
    "### 1.  Estimating Statistics\n",
    "\n",
    "We will be using information provided on <b style=\"font-size:15px; color:#FE0000;\"><em>slides 6 through 9</em></b> to complete **Task 1** for Module 3 Day 1\n",
    "\n",
    "\n",
    "#### 1.A  Load the `dBP` and do an initial examination the underlying distribution.\n",
    "\n"
   ]
  },
  {
   "cell_type": "code",
   "execution_count": 3,
   "metadata": {},
   "outputs": [
    {
     "data": {
      "text/plain": [
       "array([ 73,  59,  67,  68,  68,  75,  97,  73,  94,  68,  55,  65,  42,\n",
       "        77,  76,  74,  93,  91,  58,  92,  73,  73,  68,  81,  73,  65,\n",
       "        66,  70,  92,  72,  72,  62,  78,  86,  73,  85,  67,  69,  80,\n",
       "        72,  71,  82,  57,  82,  99,  89,  85,  90,  84,  91,  98,  84,\n",
       "        95,  67,  74,  73,  71, 100,  80,  89,  75,  71,  70,  65,  69,\n",
       "        71,  65,  90,  90,  77,  69,  64,  80,  69,  74,  81,  98,  61,\n",
       "        79,  73,  82,  88,  62,  81,  78,  62,  71,  54,  74,  94,  73,\n",
       "        83,  74,  72,  73,  77,  64,  76,  74,  67,  90,  75,  91,  64,\n",
       "        82,  56,  78,  91,  73,  89,  59,  83, 100,  76,  79,  70,  77,\n",
       "        85,  73,  95,  70,  91,  84,  87,  60,  66,  63,  60,  71,  90,\n",
       "        84,  86,  92,  79,  73,  63,  82,  76,  80,  79,  64,  88,  70,\n",
       "        73], dtype=int64)"
      ]
     },
     "execution_count": 3,
     "metadata": {},
     "output_type": "execute_result"
    }
   ],
   "source": [
    "dBP = np.array([\n",
    "73, 42, 73, 67, 84, 75, 80, 78, 64, 73, 70, 92,\n",
    "59, 77, 65, 69, 91, 71, 69, 62, 76, 89, 91, 79,\n",
    "67, 76, 66, 80, 98, 70, 74, 71, 74, 59, 84, 73,\n",
    "68, 74, 70, 72, 84, 65, 81, 54, 67, 83, 87, 63,\n",
    "68, 93, 92, 71, 95, 69, 98, 74, 90, 100, 60, 82,\n",
    "75, 91, 72, 82, 67, 71, 61, 94, 75, 76, 66, 76,\n",
    "97, 58, 72, 57, 74, 65, 79, 73, 91, 79, 63, 80,\n",
    "73, 92, 62, 82, 73, 90, 73, 83, 64, 70, 60, 79,\n",
    "94, 73, 78, 99, 71, 90, 82, 74, 82, 77, 71, 64,\n",
    "68, 73, 86, 89, 100, 77, 88, 72, 56, 85, 90, 88,\n",
    "55, 68, 73, 85, 80, 69, 62, 73, 78, 73, 84, 70,\n",
    "65, 81, 85, 90, 89, 64, 81, 77, 91, 95, 86, 73\n",
    "])\n",
    "\n",
    "#----\n",
    "# alternatively you may use\n",
    "dBP = np.array( pd.read_excel(\"Data.xls\", sheet_name=0) ).reshape(-1)\n",
    "dBP"
   ]
  },
  {
   "cell_type": "code",
   "execution_count": 4,
   "metadata": {},
   "outputs": [
    {
     "name": "stdout",
     "output_type": "stream",
     "text": [
      "\n",
      " mean_dBP = 76.3\n",
      "\n"
     ]
    }
   ],
   "source": [
    "#1a: Compute the dBP mean -- PowerPoint slide 8\n",
    "\n",
    "# Using formular on slide 8 of HowardU_Introduction to statistics3-4-21.pptx \n",
    "sum_dBP          = dBP.sum()     #  sum all the elements in the dBP list\n",
    "num_elements_dBP = len(dBP)      #  same as /144\n",
    "dBP_mean = sum_dBP / num_elements_dBP\n",
    "\n",
    "#Alternatively use inbuild function mean() from numpy\n",
    "mean_dBP = np.mean(dBP)          # sample mean\n",
    "\n",
    "\n",
    "print(\"\\n mean_dBP = %.1f\\n\" %dBP_mean)"
   ]
  },
  {
   "cell_type": "code",
   "execution_count": 5,
   "metadata": {},
   "outputs": [
    {
     "name": "stdout",
     "output_type": "stream",
     "text": [
      "\n",
      "Sample variance using slide 9 = 123.65\n",
      "    Sample Standard Deviation = 11.12\n",
      "\n"
     ]
    }
   ],
   "source": [
    "#1b: Compute the dBP standard deviation -- PowerPoint slide 9\n",
    "import numpy as np\n",
    "\n",
    "variance = (( dBP - np.mean(dBP) )**2 ).sum()/(144 -1)\n",
    "sd = np.sqrt(variance)\n",
    "\n",
    "print(\"\\nSample variance using slide 9 = %.2f\\n    Sample Standard Deviation = %.2f\\n\" % (variance, sd))"
   ]
  },
  {
   "cell_type": "code",
   "execution_count": 6,
   "metadata": {},
   "outputs": [],
   "source": [
    "#c. Why divide by (144 – 1)?  -- PowerPoint slide 9\n",
    "\n",
    "# Unbias estimator -- fundamental law of Numerical Statistics"
   ]
  },
  {
   "cell_type": "code",
   "execution_count": null,
   "metadata": {},
   "outputs": [],
   "source": []
  },
  {
   "cell_type": "code",
   "execution_count": 7,
   "metadata": {},
   "outputs": [
    {
     "name": "stdout",
     "output_type": "stream",
     "text": [
      "a.    Sample mean using using statistic.mean = 76.00\n",
      "b. Sample variance using using statistic.var = 123.00\n",
      "c.          Sample Standard Deviation using  = 11.09\n",
      "\n",
      "\n"
     ]
    }
   ],
   "source": [
    "# Alternately, for 1a, 1b, 1c you can use the \"statistics\" package\n",
    "#!sudo pip3 install statistics\n",
    "import statistics \n",
    "\n",
    "# Inbuild sample variance and sample standard deviation\n",
    "statistic_mean = statistics.mean(dBP)\n",
    "statistic_var = statistics.variance(dBP)\n",
    "statistic_std = statistics.stdev(dBP)\n",
    "\n",
    "print(\"a.    Sample mean using using statistic.mean = %.2f\\n\\\n",
    "b. Sample variance using using statistic.var = %.2f\\n\\\n",
    "c.          Sample Standard Deviation using  = %.2f\\n\\n\" % (statistic_mean, statistic_var, statistic_std))\n"
   ]
  },
  {
   "cell_type": "code",
   "execution_count": null,
   "metadata": {},
   "outputs": [],
   "source": []
  },
  {
   "cell_type": "code",
   "execution_count": 8,
   "metadata": {},
   "outputs": [
    {
     "name": "stdout",
     "output_type": "stream",
     "text": [
      "\n",
      "\n",
      "Result from own function:\n",
      "a.    Sample mean  =  76.32\n",
      "b. Sample variance = 122.79\n",
      "c.  Sample Std_dev =  11.08\n",
      "\n",
      "\n"
     ]
    }
   ],
   "source": [
    "#Challenge 1.1: Write your own functions to compute the sample mean and standard deviation of dBP sample data\n",
    "\n",
    "# Our own function \n",
    "def mean_var_sd(data):\n",
    "  n = len(data)\n",
    "  #mean segment\n",
    "  mean = sum(data) / n\n",
    "  #variance segment\n",
    "  deviations = [(x - mean) ** 2 for x in data]\n",
    "  variance = sum(deviations) / n\n",
    "  #std_dev segment\n",
    "  std_dev = np.sqrt(variance)\n",
    "  return mean, variance, std_dev\n",
    "\n",
    "\n",
    "#test\n",
    "result = mean_var_sd(dBP)\n",
    "\n",
    "print(\"\\n\\nResult from own function:\\n\\\n",
    "a.    Sample mean  =  %.2f\\n\\\n",
    "b. Sample variance = %.2f\\n\\\n",
    "c.  Sample Std_dev =  %.2f\\n\\n\" % (result))\n",
    "\n"
   ]
  },
  {
   "cell_type": "code",
   "execution_count": 9,
   "metadata": {},
   "outputs": [
    {
     "data": {
      "image/png": "[encoded data removed]",
      "text/plain": [
       "<Figure size 432x288 with 1 Axes>"
      ]
     },
     "metadata": {
      "needs_background": "light"
     },
     "output_type": "display_data"
    }
   ],
   "source": [
    "#Challenge 1.2: Plot the distribution of the dBP data\n",
    "import matplotlib.pyplot as plt \n",
    "  \n",
    "plt.plot(dBP) \n",
    "plt.show() \n"
   ]
  },
  {
   "cell_type": "code",
   "execution_count": 10,
   "metadata": {},
   "outputs": [
    {
     "name": "stderr",
     "output_type": "stream",
     "text": [
      "C:\\ProgramData\\Anaconda3\\envs\\thesis_tensorflow_cpu_gpu_2_2_0_9_21_2020\\lib\\site-packages\\seaborn\\distributions.py:2557: FutureWarning: `distplot` is a deprecated function and will be removed in a future version. Please adapt your code to use either `displot` (a figure-level function with similar flexibility) or `histplot` (an axes-level function for histograms).\n",
      "  warnings.warn(msg, FutureWarning)\n"
     ]
    },
    {
     "data": {
      "text/plain": [
       "Text(0, 0.5, 'Frequency')"
      ]
     },
     "execution_count": 10,
     "metadata": {},
     "output_type": "execute_result"
    },
    {
     "data": {
      "image/png": "[encoded data removed]",
      "text/plain": [
       "<Figure size 842.4x595.44 with 1 Axes>"
      ]
     },
     "metadata": {
      "needs_background": "light"
     },
     "output_type": "display_data"
    }
   ],
   "source": [
    "#OR\n",
    "# Let’s plot the distribution of Treatment and control groups:\n",
    "import seaborn as sns\n",
    "\n",
    "#increase fifure size\n",
    "a4_dims = (11.7, 8.27)\n",
    "\n",
    "\n",
    "#Multiply (2) plots on 1 figure\n",
    "fig, axs = plt.subplots(figsize=a4_dims)\n",
    "\n",
    "sns.distplot(dBP, kde=True, color='red', bins=100)\n",
    "plt.title('Diastolic BP values of 144 patients', fontsize=18)\n",
    "plt.xlabel('dBP', fontsize=16)\n",
    "plt.ylabel('Frequency', fontsize=16)"
   ]
  },
  {
   "cell_type": "markdown",
   "metadata": {},
   "source": [
    "    \n",
    "<hr style=\"border:0.1px solid gray; width: 25%;\" />\n",
    "\n",
    "<b style=\"font-size:40px; color:#822c97\">References</b>\n",
    "\n",
    "* <https://stackabuse.com/calculating-variance-and-standard-deviation-in-python/>\n",
    "\n",
    "* <https://www.askpython.com/python/examples/mean-and-standard-deviation-python>\n",
    "\n",
    "***    \n",
    "    \n",
    "    \n",
    "<p /><p />\n",
    "\n",
    "<hr style=\"border:0.1px solid #822c97; width: 50%;\" />\n",
    "\n",
    "<center><b style=\"font-size:25px; color:##556B2F\">CONGRATULATION!!!<br>YOU HAVE SUCCESSFULLY COMPLETED CODE ALONG <br />TASK 1 FOR MODULE 3 Day 1</b></center>"
   ]
  },
  {
   "cell_type": "markdown",
   "metadata": {},
   "source": [
    "<a id=\"slide17\"></a>\n",
    "\n",
    "<hr style=\"color:#FE0000;border:0.5px solid red\" />\n",
    "\n",
    "\n",
    "### 2.  Inferential statistical analysis\n",
    "\n",
    "We will be using information provided on <b style=\"font-size:15px; color:#FE0000;\"><em>slides 12 through 21</em></b> to complete **Task 2** for Module 3 Day 2\n",
    "\n",
    "<p \\>\n",
    "\n",
    "#### 2.A Recall: Research sample mean (x) ~ population mean ($\\mu$) Inferential statistical analysis -- <b style=\"font-size:15px; color:#FE0000;\"><em> Slide 16</em><b/>\n",
    "\n",
    "<p \\>\n",
    " \n",
    "<center><img src=\"Figures/sample_and_population_mean.PNG\" style=\"float: center; height: 350px\"></center>\n",
    "\n",
    "\n"
   ]
  },
  {
   "cell_type": "code",
   "execution_count": 11,
   "metadata": {},
   "outputs": [
    {
     "data": {
      "text/plain": [
       "[3, 4]"
      ]
     },
     "execution_count": 11,
     "metadata": {},
     "output_type": "execute_result"
    }
   ],
   "source": [
    "# Example: Use the following code segment to extract (draw) 2 random numbers from between 0 and 9\n",
    "\n",
    "import random\n",
    "\n",
    "random.seed(4)        #to ensure a repeatable outcome\n",
    "\n",
    "data = [0, 1, 2, 3, 4, 5, 6, 7, 8, 9]  \n",
    "\n",
    "# Draw the samples indirectly from the data\n",
    "random.sample(population=data, k=2)\n"
   ]
  },
  {
   "cell_type": "code",
   "execution_count": 12,
   "metadata": {},
   "outputs": [
    {
     "data": {
      "text/plain": [
       "[75, 61, 66, 75, 84]"
      ]
     },
     "execution_count": 12,
     "metadata": {},
     "output_type": "execute_result"
    }
   ],
   "source": [
    "#2a Expand on the example above to draw 1 set of 5 random data from the dBP data (_slide 17_)\n",
    "\n",
    "random.seed(4)        #to ensure a repeatable outcome\n",
    "\n",
    "#insert your code here \n",
    "\n",
    "# 2a method 1 of 2: draw the samples directly\n",
    "random.sample( list(dBP), 5)   #has to be a list\n"
   ]
  },
  {
   "cell_type": "code",
   "execution_count": 13,
   "metadata": {},
   "outputs": [
    {
     "name": "stdout",
     "output_type": "stream",
     "text": [
      "  Index: [  0 124  29 109   1]  |   sample: [73 60 72 89 59]\n"
     ]
    }
   ],
   "source": [
    "#2a: Method 2 of 2: draw the samples indirectly usingthe index\n",
    "#random.sample( list(dBP), 5)   #has to be a list\n",
    "\n",
    "random.seed(4) \n",
    "\n",
    "n = 5           #sample size\n",
    "l = len(dBP)    #length dBP\n",
    "index = np.random.randint(0, l , size=n)\n",
    "\n",
    "sample = dBP[index] \n",
    "\n",
    "print(f'  Index: {index}  |   sample: {sample}')\n"
   ]
  },
  {
   "cell_type": "code",
   "execution_count": null,
   "metadata": {},
   "outputs": [],
   "source": []
  },
  {
   "cell_type": "code",
   "execution_count": 14,
   "metadata": {},
   "outputs": [
    {
     "name": "stdout",
     "output_type": "stream",
     "text": [
      "\n",
      "\n",
      "          Sample size (n = 5) \n",
      "         _____________________\n",
      "    1    [75, 61, 66, 75, 84] \n",
      "    2    [72, 81, 91, 75, 91] \n",
      "    3    [64, 74, 74, 71, 79] \n",
      "    4    [76, 74, 69, 99, 70] \n",
      "    5    [90, 74, 97, 65, 77] \n",
      "    6    [91, 57, 73, 74, 77] \n",
      "    7    [68, 71, 67, 90, 65] \n",
      "    8    [89, 65, 91, 64, 68] \n",
      "    9    [64, 98, 59, 74, 73] \n",
      "   10    [84, 91, 56, 73, 69] \n",
      "   11    [59, 70, 82, 89, 79] \n",
      "   12    [65, 65, 73, 73, 64] \n",
      "          _____________________\n"
     ]
    }
   ],
   "source": [
    "#2b Expanding on your result in 2a, draw 12 sets of random samples each of size 5 from the dBP data \n",
    "#   and print the resulting samples. Use random.seed(4)\n",
    "import random\n",
    "\n",
    "#initialize temporary variables\n",
    "n = 5                 #sample size\n",
    "l = len(dBP)          #length dBP\n",
    "num_samples = 12      #12 samples\n",
    "random.seed(4)        #repeatable outcome\n",
    "\n",
    "#setup output\n",
    "print(\"\\n\\n          Sample size (n = %d) \\n         _____________________\" %n)\n",
    "\n",
    "#compute and print values\n",
    "for i in range(num_samples):\n",
    "    # use 4 as a seed value  gets you the same values every time\n",
    "    #random.seed(4)\n",
    "    # get sample list of 5 items\n",
    "    sample_list = random.sample(list(dBP), n)\n",
    "    #print(f'{sample_list}  mean: {np.mean(sample_list):.2f}')\n",
    "    print(\"%5d    %5s \" % ((i+1), sample_list))\n",
    "\n",
    "#draw bottom line\n",
    "print(\"          _____________________\")"
   ]
  },
  {
   "cell_type": "code",
   "execution_count": null,
   "metadata": {},
   "outputs": [],
   "source": []
  },
  {
   "cell_type": "code",
   "execution_count": 15,
   "metadata": {},
   "outputs": [
    {
     "name": "stdout",
     "output_type": "stream",
     "text": [
      "\n",
      "\n",
      "          Sample size (n = 5)    |    Mean\n",
      "         ________________________|___________\n",
      "    1    [75, 61, 66, 75, 84]          72 \n",
      "    2    [72, 81, 91, 75, 91]          82 \n",
      "    3    [64, 74, 74, 71, 79]          72 \n",
      "    4    [76, 74, 69, 99, 70]          77 \n",
      "    5    [90, 74, 97, 65, 77]          80 \n",
      "    6    [91, 57, 73, 74, 77]          74 \n",
      "    7    [68, 71, 67, 90, 65]          72 \n",
      "    8    [89, 65, 91, 64, 68]          75 \n",
      "    9    [64, 98, 59, 74, 73]          73 \n",
      "   10    [84, 91, 56, 73, 69]          74 \n",
      "   11    [59, 70, 82, 89, 79]          75 \n",
      "   12    [65, 65, 73, 73, 64]          68 \n",
      "   13    [92, 82, 70, 54, 69]          73 \n",
      "   14    [98, 91, 56, 84, 100]          85 \n",
      "   15    [69, 90, 83, 83, 62]          77 \n",
      "   16    [70, 98, 62, 65, 74]          73 \n",
      "   17    [80, 64, 75, 62, 78]          71 \n",
      "   18    [89, 74, 85, 97, 55]          80 \n",
      "   19    [83, 73, 69, 81, 68]          74 \n",
      "   20    [62, 69, 72, 56, 92]          70 \n",
      "   21    [81, 91, 76, 74, 73]          79 \n",
      "   22    [69, 76, 71, 78, 67]          72 \n",
      "   23    [72, 65, 77, 82, 74]          74 \n",
      "   24    [74, 73, 100, 67, 73]          77 \n",
      "   25    [67, 72, 74, 76, 82]          74 \n",
      "          ________________________|___________\n"
     ]
    }
   ],
   "source": [
    "#2c Expanding on your result in 2b, by printing the mean of each of the random sample next the \n",
    "# sample values similar to data sampling output on slide 17. Use random.seed(4)\n",
    "\n",
    "import random\n",
    "\n",
    "#initialize temporary variables\n",
    "n = 5                 #sample size\n",
    "l = len(dBP)          #length dBP\n",
    "num_samples = 25      #25 samples\n",
    "random.seed(4)        #repeatable outcome\n",
    "\n",
    "#setup output\n",
    "print(\"\\n\\n          Sample size (n = %d)    |    Mean\\n         ________________________|___________\" %n)\n",
    "\n",
    "#compute and print values\n",
    "for i in range(num_samples):\n",
    "    # use 4 as a seed value  gets you the same values every time\n",
    "    #random.seed(4)\n",
    "    # get sample list of 5 items\n",
    "    sample_list = random.sample(list(dBP), n)\n",
    "    #print(f'{sample_list}  mean: {np.mean(sample_list):.2f}')\n",
    "    print(\"%5d    %5s          %.2d \" % ((i+1), sample_list, np.mean(sample_list)))\n",
    "\n",
    "#draw bottom line\n",
    "print(\"          ________________________|___________\")"
   ]
  },
  {
   "cell_type": "code",
   "execution_count": null,
   "metadata": {},
   "outputs": [],
   "source": [
    "\n",
    "                                   "
   ]
  },
  {
   "cell_type": "code",
   "execution_count": 16,
   "metadata": {},
   "outputs": [
    {
     "name": "stdout",
     "output_type": "stream",
     "text": [
      "\n",
      "\n",
      "Results:\n",
      "a.    Sample1:  [72, 82, 73, 90, 81]   | size: 5 |   mean sample1: 80   | SEM sample1: 3\n",
      "\n",
      "b.    Sample2:  [89, 90, 77, 80, 82]   | size: 5 |   mean sample2: 84   | SEM sample2: 3\n",
      "\n"
     ]
    }
   ],
   "source": [
    "#2d Compute the (i) mean, (ii) SEM = SD(sample_data)/sqrt(n=len(sample_data)) -- slide 19\n",
    "\n",
    "import numpy as np\n",
    "import scipy.stats       #the scientific computing library\n",
    "import statistics\n",
    "\n",
    "sample1 = [72, 82, 73, 90, 81]\n",
    "sample2 = [89, 90, 77, 80, 82]\n",
    "\n",
    "mean_sample1 =   np.mean(sample1)\n",
    "mean_sample2 =   np.mean(sample2)\n",
    "\n",
    "n = len(sample1)\n",
    "\n",
    "SEM_sample1 = statistics.stdev(sample1) * (1/np.sqrt(n))\n",
    "SEM_sample2 = statistics.stdev(sample2) * (1/np.sqrt(n))\n",
    "\n",
    "print(\"\\n\\nResults:\\n\\\n",
    "a.    Sample1:  %s   | size: %d |   mean sample1: %.0f   | SEM sample1: %.0f\\n\" % \\\n",
    "      (sample1, n, mean_sample1, SEM_sample1))\n",
    "print(\"\\\n",
    "b.    Sample2:  %s   | size: %d |   mean sample2: %.0f   | SEM sample2: %.0f\\n\" % \\\n",
    "      (sample2, n, mean_sample2, SEM_sample2))"
   ]
  },
  {
   "cell_type": "code",
   "execution_count": null,
   "metadata": {},
   "outputs": [],
   "source": []
  },
  {
   "cell_type": "code",
   "execution_count": 17,
   "metadata": {},
   "outputs": [
    {
     "name": "stdout",
     "output_type": "stream",
     "text": [
      "\n",
      "\n",
      "Results:\n",
      "a.    Sample1:  [72, 82, 73, 90, 81]   | size: 5 |   mean: 80   | SEM: 3   | LB: 73  |  UB: 86\n",
      "\n",
      "b.    Sample2:  [89, 90, 77, 80, 82]   | size: 5 |   mean: 84   | SEM: 3   | LB: 79  |  UB: 89\n",
      "\n"
     ]
    }
   ],
   "source": [
    "#Challenge 2.1 Use the formula on slide 20 to compute the 95% confidence interval for sample1 and sample2\n",
    "\n",
    "normal_d = 2\n",
    "LB_sample1 = mean_sample1 - (SEM_sample1 * normal_d)   #   (2 is standard deviation units of the normal distribution).\n",
    "UB_sample1 = mean_sample1 + (SEM_sample1 * normal_d)    \n",
    "\n",
    "LB_sample2 = mean_sample2 - (SEM_sample2 * normal_d) \n",
    "UB_sample2 = mean_sample2 + (SEM_sample2 * normal_d) \n",
    "\n",
    "#Compare your results to those obtained in the first 2 lines of the PowerPoint slide 20\n",
    "print(\"\\n\\nResults:\\n\\\n",
    "a.    Sample1:  %s   | size: %d |   mean: %.0f   | SEM: %.0f   | LB: %.0f  |  UB: %.0f\\n\" % \\\n",
    "      (sample1, n, mean_sample1, SEM_sample1, LB_sample1, UB_sample1))\n",
    "print(\"\\\n",
    "b.    Sample2:  %s   | size: %d |   mean: %.0f   | SEM: %.0f   | LB: %0.f  |  UB: %0.f\\n\" % \\\n",
    "      (sample2, n, mean_sample2, SEM_sample2, LB_sample2, UB_sample2))                                   "
   ]
  },
  {
   "cell_type": "code",
   "execution_count": null,
   "metadata": {},
   "outputs": [],
   "source": []
  },
  {
   "cell_type": "code",
   "execution_count": 18,
   "metadata": {},
   "outputs": [
    {
     "name": "stdout",
     "output_type": "stream",
     "text": [
      "        Sample            |      Mean   |    SEM    |    LB    |    UB \n",
      "  ----------------------------------------------------------------------\n",
      "   [72, 82, 73, 90, 81]   |      80     |     3     |    70    |    89\n",
      "   [89, 90, 77, 80, 82]   |      84     |     3     |    77    |    91\n"
     ]
    }
   ],
   "source": [
    "## 2.1 Alternative solution use scipy\n",
    "#So we can be a bit creative by defining a CI function\n",
    "\n",
    "def mean_confidence_interval(data, confidence=0.95):\n",
    "    a = 1.0 * np.array(data)\n",
    "    n = len(a)\n",
    "    m, sem = np.mean(a), scipy.stats.sem(a)\n",
    "    h = sem * scipy.stats.t.ppf((1 + confidence) / 2., n-1)\n",
    "    return m, sem, m-h, m+h\n",
    "    \n",
    "#Test the the function function\n",
    "sample1 = [72, 82, 73, 90, 81 ]   # slide 20\n",
    "sample2 = [89, 90, 77, 80, 82 ]\n",
    "\n",
    "mci1 = mean_confidence_interval(sample1)\n",
    "mci2 = mean_confidence_interval(sample2)\n",
    "\n",
    "#print\n",
    "\n",
    "print(\"        Sample            |      Mean   |    SEM    |    LB    |    UB \") \n",
    "print(\"  ----------------------------------------------------------------------\")\n",
    "print(\"   %s   |      %0.f     |     %0.f     |    %0.f    |    %0.f\" % (sample1, mci1[0], mci1[1], mci1[2], mci1[3] ) )\n",
    "print(\"   %s   |      %0.f     |     %0.f     |    %0.f    |    %0.f\" % (sample2, mci2[0], mci2[1], mci2[2], mci2[3] ) )\n",
    "\n"
   ]
  },
  {
   "cell_type": "code",
   "execution_count": null,
   "metadata": {},
   "outputs": [],
   "source": []
  },
  {
   "cell_type": "markdown",
   "metadata": {},
   "source": [
    "#### 2.B Recall: Table on  <b style=\"font-size:15px; color:#FE0000;\"><em> Slide 20</em><b/>\n",
    "\n",
    "<p \\>\n",
    " \n",
    "<center><img src=\"Figures/table_slide20.PNG\" style=\"float: center; height: 420px\"></center>\n"
   ]
  },
  {
   "cell_type": "code",
   "execution_count": 19,
   "metadata": {},
   "outputs": [
    {
     "name": "stdout",
     "output_type": "stream",
     "text": [
      "\n",
      "\n",
      "  type(dBP_samples_df_slide20) is : <class 'pandas.core.frame.DataFrame'>\n",
      "--\n",
      "\n",
      "Content:\n"
     ]
    },
    {
     "data": {
      "text/html": [
       "<div>\n",
       "<style scoped>\n",
       "    .dataframe tbody tr th:only-of-type {\n",
       "        vertical-align: middle;\n",
       "    }\n",
       "\n",
       "    .dataframe tbody tr th {\n",
       "        vertical-align: top;\n",
       "    }\n",
       "\n",
       "    .dataframe thead th {\n",
       "        text-align: right;\n",
       "    }\n",
       "</style>\n",
       "<table border=\"1\" class=\"dataframe\">\n",
       "  <thead>\n",
       "    <tr style=\"text-align: right;\">\n",
       "      <th></th>\n",
       "      <th>x1</th>\n",
       "      <th>x2</th>\n",
       "      <th>x3</th>\n",
       "      <th>x4</th>\n",
       "      <th>x5</th>\n",
       "      <th>mean</th>\n",
       "      <th>Mean</th>\n",
       "      <th>SEM</th>\n",
       "      <th>LB</th>\n",
       "      <th>UB</th>\n",
       "    </tr>\n",
       "  </thead>\n",
       "  <tbody>\n",
       "    <tr>\n",
       "      <th>0</th>\n",
       "      <td>75.0</td>\n",
       "      <td>61.0</td>\n",
       "      <td>66.0</td>\n",
       "      <td>75.0</td>\n",
       "      <td>84.0</td>\n",
       "      <td>72.2</td>\n",
       "      <td>72.2</td>\n",
       "      <td>3.992493</td>\n",
       "      <td>61.115062</td>\n",
       "      <td>83.284938</td>\n",
       "    </tr>\n",
       "    <tr>\n",
       "      <th>1</th>\n",
       "      <td>72.0</td>\n",
       "      <td>81.0</td>\n",
       "      <td>91.0</td>\n",
       "      <td>75.0</td>\n",
       "      <td>91.0</td>\n",
       "      <td>82.0</td>\n",
       "      <td>82.0</td>\n",
       "      <td>3.949684</td>\n",
       "      <td>71.033920</td>\n",
       "      <td>92.966080</td>\n",
       "    </tr>\n",
       "    <tr>\n",
       "      <th>2</th>\n",
       "      <td>64.0</td>\n",
       "      <td>74.0</td>\n",
       "      <td>74.0</td>\n",
       "      <td>71.0</td>\n",
       "      <td>79.0</td>\n",
       "      <td>72.4</td>\n",
       "      <td>72.4</td>\n",
       "      <td>2.461707</td>\n",
       "      <td>65.565206</td>\n",
       "      <td>79.234794</td>\n",
       "    </tr>\n",
       "    <tr>\n",
       "      <th>3</th>\n",
       "      <td>76.0</td>\n",
       "      <td>74.0</td>\n",
       "      <td>69.0</td>\n",
       "      <td>99.0</td>\n",
       "      <td>70.0</td>\n",
       "      <td>77.6</td>\n",
       "      <td>77.6</td>\n",
       "      <td>5.500909</td>\n",
       "      <td>62.327028</td>\n",
       "      <td>92.872972</td>\n",
       "    </tr>\n",
       "    <tr>\n",
       "      <th>4</th>\n",
       "      <td>90.0</td>\n",
       "      <td>74.0</td>\n",
       "      <td>97.0</td>\n",
       "      <td>65.0</td>\n",
       "      <td>77.0</td>\n",
       "      <td>80.6</td>\n",
       "      <td>80.6</td>\n",
       "      <td>5.732364</td>\n",
       "      <td>64.684405</td>\n",
       "      <td>96.515595</td>\n",
       "    </tr>\n",
       "    <tr>\n",
       "      <th>5</th>\n",
       "      <td>91.0</td>\n",
       "      <td>57.0</td>\n",
       "      <td>73.0</td>\n",
       "      <td>74.0</td>\n",
       "      <td>77.0</td>\n",
       "      <td>74.4</td>\n",
       "      <td>74.4</td>\n",
       "      <td>5.418487</td>\n",
       "      <td>59.355869</td>\n",
       "      <td>89.444131</td>\n",
       "    </tr>\n",
       "    <tr>\n",
       "      <th>6</th>\n",
       "      <td>68.0</td>\n",
       "      <td>71.0</td>\n",
       "      <td>67.0</td>\n",
       "      <td>90.0</td>\n",
       "      <td>65.0</td>\n",
       "      <td>72.2</td>\n",
       "      <td>72.2</td>\n",
       "      <td>4.554119</td>\n",
       "      <td>59.555739</td>\n",
       "      <td>84.844261</td>\n",
       "    </tr>\n",
       "    <tr>\n",
       "      <th>7</th>\n",
       "      <td>89.0</td>\n",
       "      <td>65.0</td>\n",
       "      <td>91.0</td>\n",
       "      <td>64.0</td>\n",
       "      <td>68.0</td>\n",
       "      <td>75.4</td>\n",
       "      <td>75.4</td>\n",
       "      <td>6.004998</td>\n",
       "      <td>58.727453</td>\n",
       "      <td>92.072547</td>\n",
       "    </tr>\n",
       "    <tr>\n",
       "      <th>8</th>\n",
       "      <td>64.0</td>\n",
       "      <td>98.0</td>\n",
       "      <td>59.0</td>\n",
       "      <td>74.0</td>\n",
       "      <td>73.0</td>\n",
       "      <td>73.6</td>\n",
       "      <td>73.6</td>\n",
       "      <td>6.712675</td>\n",
       "      <td>54.962628</td>\n",
       "      <td>92.237372</td>\n",
       "    </tr>\n",
       "    <tr>\n",
       "      <th>9</th>\n",
       "      <td>84.0</td>\n",
       "      <td>91.0</td>\n",
       "      <td>56.0</td>\n",
       "      <td>73.0</td>\n",
       "      <td>69.0</td>\n",
       "      <td>74.6</td>\n",
       "      <td>74.6</td>\n",
       "      <td>6.071244</td>\n",
       "      <td>57.743525</td>\n",
       "      <td>91.456475</td>\n",
       "    </tr>\n",
       "    <tr>\n",
       "      <th>10</th>\n",
       "      <td>59.0</td>\n",
       "      <td>70.0</td>\n",
       "      <td>82.0</td>\n",
       "      <td>89.0</td>\n",
       "      <td>79.0</td>\n",
       "      <td>75.8</td>\n",
       "      <td>75.8</td>\n",
       "      <td>5.190376</td>\n",
       "      <td>61.389207</td>\n",
       "      <td>90.210793</td>\n",
       "    </tr>\n",
       "    <tr>\n",
       "      <th>11</th>\n",
       "      <td>65.0</td>\n",
       "      <td>65.0</td>\n",
       "      <td>73.0</td>\n",
       "      <td>73.0</td>\n",
       "      <td>64.0</td>\n",
       "      <td>68.0</td>\n",
       "      <td>68.0</td>\n",
       "      <td>2.049390</td>\n",
       "      <td>62.309981</td>\n",
       "      <td>73.690019</td>\n",
       "    </tr>\n",
       "    <tr>\n",
       "      <th>12</th>\n",
       "      <td>92.0</td>\n",
       "      <td>82.0</td>\n",
       "      <td>70.0</td>\n",
       "      <td>54.0</td>\n",
       "      <td>69.0</td>\n",
       "      <td>73.4</td>\n",
       "      <td>73.4</td>\n",
       "      <td>6.431174</td>\n",
       "      <td>55.544198</td>\n",
       "      <td>91.255802</td>\n",
       "    </tr>\n",
       "    <tr>\n",
       "      <th>13</th>\n",
       "      <td>98.0</td>\n",
       "      <td>91.0</td>\n",
       "      <td>56.0</td>\n",
       "      <td>84.0</td>\n",
       "      <td>100.0</td>\n",
       "      <td>85.8</td>\n",
       "      <td>85.8</td>\n",
       "      <td>7.964923</td>\n",
       "      <td>63.685828</td>\n",
       "      <td>107.914172</td>\n",
       "    </tr>\n",
       "    <tr>\n",
       "      <th>14</th>\n",
       "      <td>69.0</td>\n",
       "      <td>90.0</td>\n",
       "      <td>83.0</td>\n",
       "      <td>83.0</td>\n",
       "      <td>62.0</td>\n",
       "      <td>77.4</td>\n",
       "      <td>77.4</td>\n",
       "      <td>5.143928</td>\n",
       "      <td>63.118165</td>\n",
       "      <td>91.681835</td>\n",
       "    </tr>\n",
       "    <tr>\n",
       "      <th>15</th>\n",
       "      <td>70.0</td>\n",
       "      <td>98.0</td>\n",
       "      <td>62.0</td>\n",
       "      <td>65.0</td>\n",
       "      <td>74.0</td>\n",
       "      <td>73.8</td>\n",
       "      <td>73.8</td>\n",
       "      <td>6.390618</td>\n",
       "      <td>56.056800</td>\n",
       "      <td>91.543200</td>\n",
       "    </tr>\n",
       "    <tr>\n",
       "      <th>16</th>\n",
       "      <td>80.0</td>\n",
       "      <td>64.0</td>\n",
       "      <td>75.0</td>\n",
       "      <td>62.0</td>\n",
       "      <td>78.0</td>\n",
       "      <td>71.8</td>\n",
       "      <td>71.8</td>\n",
       "      <td>3.693237</td>\n",
       "      <td>61.545930</td>\n",
       "      <td>82.054070</td>\n",
       "    </tr>\n",
       "    <tr>\n",
       "      <th>17</th>\n",
       "      <td>89.0</td>\n",
       "      <td>74.0</td>\n",
       "      <td>85.0</td>\n",
       "      <td>97.0</td>\n",
       "      <td>55.0</td>\n",
       "      <td>80.0</td>\n",
       "      <td>80.0</td>\n",
       "      <td>7.266361</td>\n",
       "      <td>59.825348</td>\n",
       "      <td>100.174652</td>\n",
       "    </tr>\n",
       "    <tr>\n",
       "      <th>18</th>\n",
       "      <td>83.0</td>\n",
       "      <td>73.0</td>\n",
       "      <td>69.0</td>\n",
       "      <td>81.0</td>\n",
       "      <td>68.0</td>\n",
       "      <td>74.8</td>\n",
       "      <td>74.8</td>\n",
       "      <td>3.072458</td>\n",
       "      <td>66.269488</td>\n",
       "      <td>83.330512</td>\n",
       "    </tr>\n",
       "    <tr>\n",
       "      <th>19</th>\n",
       "      <td>62.0</td>\n",
       "      <td>69.0</td>\n",
       "      <td>72.0</td>\n",
       "      <td>56.0</td>\n",
       "      <td>92.0</td>\n",
       "      <td>70.2</td>\n",
       "      <td>70.2</td>\n",
       "      <td>6.118823</td>\n",
       "      <td>53.211423</td>\n",
       "      <td>87.188577</td>\n",
       "    </tr>\n",
       "    <tr>\n",
       "      <th>20</th>\n",
       "      <td>81.0</td>\n",
       "      <td>91.0</td>\n",
       "      <td>76.0</td>\n",
       "      <td>74.0</td>\n",
       "      <td>73.0</td>\n",
       "      <td>79.0</td>\n",
       "      <td>79.0</td>\n",
       "      <td>3.301515</td>\n",
       "      <td>69.833525</td>\n",
       "      <td>88.166475</td>\n",
       "    </tr>\n",
       "    <tr>\n",
       "      <th>21</th>\n",
       "      <td>69.0</td>\n",
       "      <td>76.0</td>\n",
       "      <td>71.0</td>\n",
       "      <td>78.0</td>\n",
       "      <td>67.0</td>\n",
       "      <td>72.2</td>\n",
       "      <td>72.2</td>\n",
       "      <td>2.083267</td>\n",
       "      <td>66.415924</td>\n",
       "      <td>77.984076</td>\n",
       "    </tr>\n",
       "    <tr>\n",
       "      <th>22</th>\n",
       "      <td>72.0</td>\n",
       "      <td>65.0</td>\n",
       "      <td>77.0</td>\n",
       "      <td>82.0</td>\n",
       "      <td>74.0</td>\n",
       "      <td>74.0</td>\n",
       "      <td>74.0</td>\n",
       "      <td>2.810694</td>\n",
       "      <td>66.196263</td>\n",
       "      <td>81.803737</td>\n",
       "    </tr>\n",
       "    <tr>\n",
       "      <th>23</th>\n",
       "      <td>74.0</td>\n",
       "      <td>73.0</td>\n",
       "      <td>100.0</td>\n",
       "      <td>67.0</td>\n",
       "      <td>73.0</td>\n",
       "      <td>77.4</td>\n",
       "      <td>77.4</td>\n",
       "      <td>5.784462</td>\n",
       "      <td>61.339759</td>\n",
       "      <td>93.460241</td>\n",
       "    </tr>\n",
       "    <tr>\n",
       "      <th>24</th>\n",
       "      <td>67.0</td>\n",
       "      <td>72.0</td>\n",
       "      <td>74.0</td>\n",
       "      <td>76.0</td>\n",
       "      <td>82.0</td>\n",
       "      <td>74.2</td>\n",
       "      <td>74.2</td>\n",
       "      <td>2.457641</td>\n",
       "      <td>67.376494</td>\n",
       "      <td>81.023506</td>\n",
       "    </tr>\n",
       "  </tbody>\n",
       "</table>\n",
       "</div>"
      ],
      "text/plain": [
       "      x1    x2     x3    x4     x5  mean  Mean       SEM         LB  \\\n",
       "0   75.0  61.0   66.0  75.0   84.0  72.2  72.2  3.992493  61.115062   \n",
       "1   72.0  81.0   91.0  75.0   91.0  82.0  82.0  3.949684  71.033920   \n",
       "2   64.0  74.0   74.0  71.0   79.0  72.4  72.4  2.461707  65.565206   \n",
       "3   76.0  74.0   69.0  99.0   70.0  77.6  77.6  5.500909  62.327028   \n",
       "4   90.0  74.0   97.0  65.0   77.0  80.6  80.6  5.732364  64.684405   \n",
       "5   91.0  57.0   73.0  74.0   77.0  74.4  74.4  5.418487  59.355869   \n",
       "6   68.0  71.0   67.0  90.0   65.0  72.2  72.2  4.554119  59.555739   \n",
       "7   89.0  65.0   91.0  64.0   68.0  75.4  75.4  6.004998  58.727453   \n",
       "8   64.0  98.0   59.0  74.0   73.0  73.6  73.6  6.712675  54.962628   \n",
       "9   84.0  91.0   56.0  73.0   69.0  74.6  74.6  6.071244  57.743525   \n",
       "10  59.0  70.0   82.0  89.0   79.0  75.8  75.8  5.190376  61.389207   \n",
       "11  65.0  65.0   73.0  73.0   64.0  68.0  68.0  2.049390  62.309981   \n",
       "12  92.0  82.0   70.0  54.0   69.0  73.4  73.4  6.431174  55.544198   \n",
       "13  98.0  91.0   56.0  84.0  100.0  85.8  85.8  7.964923  63.685828   \n",
       "14  69.0  90.0   83.0  83.0   62.0  77.4  77.4  5.143928  63.118165   \n",
       "15  70.0  98.0   62.0  65.0   74.0  73.8  73.8  6.390618  56.056800   \n",
       "16  80.0  64.0   75.0  62.0   78.0  71.8  71.8  3.693237  61.545930   \n",
       "17  89.0  74.0   85.0  97.0   55.0  80.0  80.0  7.266361  59.825348   \n",
       "18  83.0  73.0   69.0  81.0   68.0  74.8  74.8  3.072458  66.269488   \n",
       "19  62.0  69.0   72.0  56.0   92.0  70.2  70.2  6.118823  53.211423   \n",
       "20  81.0  91.0   76.0  74.0   73.0  79.0  79.0  3.301515  69.833525   \n",
       "21  69.0  76.0   71.0  78.0   67.0  72.2  72.2  2.083267  66.415924   \n",
       "22  72.0  65.0   77.0  82.0   74.0  74.0  74.0  2.810694  66.196263   \n",
       "23  74.0  73.0  100.0  67.0   73.0  77.4  77.4  5.784462  61.339759   \n",
       "24  67.0  72.0   74.0  76.0   82.0  74.2  74.2  2.457641  67.376494   \n",
       "\n",
       "            UB  \n",
       "0    83.284938  \n",
       "1    92.966080  \n",
       "2    79.234794  \n",
       "3    92.872972  \n",
       "4    96.515595  \n",
       "5    89.444131  \n",
       "6    84.844261  \n",
       "7    92.072547  \n",
       "8    92.237372  \n",
       "9    91.456475  \n",
       "10   90.210793  \n",
       "11   73.690019  \n",
       "12   91.255802  \n",
       "13  107.914172  \n",
       "14   91.681835  \n",
       "15   91.543200  \n",
       "16   82.054070  \n",
       "17  100.174652  \n",
       "18   83.330512  \n",
       "19   87.188577  \n",
       "20   88.166475  \n",
       "21   77.984076  \n",
       "22   81.803737  \n",
       "23   93.460241  \n",
       "24   81.023506  "
      ]
     },
     "execution_count": 19,
     "metadata": {},
     "output_type": "execute_result"
    }
   ],
   "source": [
    "#Challenge 2.2 Generate a table similar to slide 20 USING THE dBP data for 10 samples each of size 5, \n",
    "\n",
    "\n",
    "# Store in a nice table (Pandas Dataframe will do)\n",
    "import pandas as pd  \n",
    "import random\n",
    "\n",
    "random.seed(4)  #repeatable outcome\n",
    "\n",
    "n = 5\n",
    "\n",
    "iterations = 25   # 9      ###<<<<   change this for challenge 2.3\n",
    "\n",
    "dBP_samples_list = [ random.sample(list(dBP), n) for i in range(iterations) ]\n",
    "\n",
    "column_names = {0:'x1', 1:'x2', 2:'x3', 3:'x4', 4:'x5'}\n",
    "\n",
    "#push data to dataframe\n",
    "dBP_samples_df = pd.DataFrame(dBP_samples_list, dtype = float)\n",
    "\n",
    "#rename columns\n",
    "dBP_samples_df.rename( columns = column_names, inplace=True)\n",
    "\n",
    "#add sample mean column\n",
    "dBP_samples_df['mean'] = dBP_samples_df.mean(axis=1)\n",
    "\n",
    "\n",
    "# Print only Sample, Mean, SEM, LB, and UB values\n",
    "\n",
    "## Apply funcution to dataframe\n",
    "\n",
    "#copy the dataframe\n",
    "dBP_samples_df_slide20 = dBP_samples_df.copy()\n",
    "\n",
    "\n",
    "# Apply over all columns x1:x5\n",
    "ci_column_names = [\"Mean\", \"SEM\",  \"LB\", \"UB\"]\n",
    "\n",
    "##  Next We apply the function to the dataframe\n",
    "## See pandas.DataFrame.apply for examples -- \n",
    "#            https://pandas.pydata.org/pandas-docs/stable/reference/api/pandas.DataFrame.apply.html \n",
    "#            https://thispointer.com/pandas-apply-a-function-to-single-or-selected-columns-or-rows-in-dataframe/\n",
    "c = dBP_samples_df_slide20.iloc[:,:5].apply(mean_confidence_interval, axis=1)\n",
    "\n",
    "dBP_samples_df_slide20[ci_column_names] = pd.DataFrame(list(c.values))       # Take a note of this trick. List is always the way to go\n",
    "\n",
    "print(\"\\n\\n  type(dBP_samples_df_slide20) is : %s\\n--\\n\\nContent:\" % (type(dBP_samples_df_slide20)))\n",
    "dBP_samples_df_slide20"
   ]
  },
  {
   "cell_type": "code",
   "execution_count": 20,
   "metadata": {},
   "outputs": [],
   "source": [
    "#Challenge 2.3 Expand on challenge 2.2 by increasing each of the 10 samples from \n",
    "#              (i) 5 to 15 random dBP values\n",
    "#              (i) 5 to 25 random dBP values\n",
    "#              (i) 5 to 50 random dBP values\n",
    "\n",
    "# This time, Print only Sample_size, Mean, SEM, LB, and UB values, and document any \n",
    "# interesting findings you may observation\n",
    "\n",
    "\n",
    "#iterations = 9      ###<<<<   change this in challenge 2.2 for challenge 2.3"
   ]
  },
  {
   "cell_type": "code",
   "execution_count": 21,
   "metadata": {},
   "outputs": [
    {
     "name": "stdout",
     "output_type": "stream",
     "text": [
      "\n",
      " Number of samples with mean == mean(dBP) = 1\n",
      "---\n",
      "\n"
     ]
    },
    {
     "data": {
      "text/html": [
       "<div>\n",
       "<style scoped>\n",
       "    .dataframe tbody tr th:only-of-type {\n",
       "        vertical-align: middle;\n",
       "    }\n",
       "\n",
       "    .dataframe tbody tr th {\n",
       "        vertical-align: top;\n",
       "    }\n",
       "\n",
       "    .dataframe thead th {\n",
       "        text-align: right;\n",
       "    }\n",
       "</style>\n",
       "<table border=\"1\" class=\"dataframe\">\n",
       "  <thead>\n",
       "    <tr style=\"text-align: right;\">\n",
       "      <th></th>\n",
       "      <th>x1</th>\n",
       "      <th>x2</th>\n",
       "      <th>x3</th>\n",
       "      <th>x4</th>\n",
       "      <th>x5</th>\n",
       "      <th>mean</th>\n",
       "      <th>Mean</th>\n",
       "      <th>SEM</th>\n",
       "      <th>LB</th>\n",
       "      <th>UB</th>\n",
       "    </tr>\n",
       "  </thead>\n",
       "  <tbody>\n",
       "    <tr>\n",
       "      <th>10</th>\n",
       "      <td>59.0</td>\n",
       "      <td>70.0</td>\n",
       "      <td>82.0</td>\n",
       "      <td>89.0</td>\n",
       "      <td>79.0</td>\n",
       "      <td>75.8</td>\n",
       "      <td>75.8</td>\n",
       "      <td>5.190376</td>\n",
       "      <td>61.389207</td>\n",
       "      <td>90.210793</td>\n",
       "    </tr>\n",
       "  </tbody>\n",
       "</table>\n",
       "</div>"
      ],
      "text/plain": [
       "      x1    x2    x3    x4    x5  mean  Mean       SEM         LB         UB\n",
       "10  59.0  70.0  82.0  89.0  79.0  75.8  75.8  5.190376  61.389207  90.210793"
      ]
     },
     "execution_count": 21,
     "metadata": {},
     "output_type": "execute_result"
    }
   ],
   "source": [
    "# Challenge 2.4: Find how many time the mean is included in the sample means in either challenge 2.2 or 2.3\n",
    "\n",
    "dp= 0\n",
    "\n",
    "print(\"\\n Number of samples with mean == mean(dBP) = %d\\n---\\n\" % len(dBP_samples_df_slide20[ round(dBP_samples_df_slide20['Mean'], dp) ==  round(np.mean(dBP), dp) ] ) )\n",
    "\n",
    "dBP_samples_df_slide20[ round(dBP_samples_df_slide20['Mean'], dp) ==  round(np.mean(dBP), dp) ]"
   ]
  },
  {
   "cell_type": "markdown",
   "metadata": {},
   "source": [
    "<hr style=\"border:0.1px solid gray; width: 25%;\" />\n",
    "\n",
    "<b style=\"font-size:40px; color:#822c97\">References</b>\n",
    "\n",
    "* <https://pynative.com/python-random-sample/>\n",
    "    \n",
    "* <https://note.nkmk.me/en/python-random-choice-sample-choices/>\n",
    "\n",
    "    \n",
    "    \n",
    "<p /><p />\n",
    "\n",
    "<hr style=\"border:0.1px solid #822c97; width: 50%;\" />\n",
    "\n",
    "<center><b style=\"font-size:25px; color:##556B2F\">CONGRATULATION!!!<br>YOU HAVE SUCCESSFULLY COMPLETED CODE ALONG <br />TASK 2 FOR MODULE 3 Day 1</b></center>\n",
    "\n",
    "\n"
   ]
  },
  {
   "cell_type": "code",
   "execution_count": null,
   "metadata": {},
   "outputs": [],
   "source": []
  },
  {
   "cell_type": "markdown",
   "metadata": {},
   "source": [
    "<a id=\"slide28\"></a>\n",
    "\n",
    "<hr style=\"color:#FE0000;border:0.5px solid red\" />\n",
    "\n",
    "\n",
    "### 3.  Hypothesis Testing \n",
    "\n",
    "\n",
    "\n",
    "<a id=\"slide33\"></a>\n",
    "\n",
    "#### 3.A  t-test for difference in two independent means\n",
    "\n",
    "<p />\n",
    "\n",
    "We will be using information provided on <b style=\"font-size:15px; color:#FE0000;\"><em>slides 28 through 39</em></b> to complete **Task 3A** for Module 3 Day 2\n",
    "\n",
    "\n",
    "####  Recall: Table on  <b style=\"font-size:15px; color:#FE0000;\"><em> Slide 28</em><b/>\n",
    "<p \\>\n",
    " \n",
    "<center><img src=\"Figures/slide34.PNG\" style=\"float: center; height: 360px\"></center>\n",
    "\n"
   ]
  },
  {
   "cell_type": "code",
   "execution_count": 22,
   "metadata": {},
   "outputs": [
    {
     "name": "stdout",
     "output_type": "stream",
     "text": [
      "   Treatment  Control\n",
      "0         80       84\n",
      "1         88       90\n",
      "2         76       86\n",
      "3         77       77\n",
      "4         84       93\n"
     ]
    },
    {
     "data": {
      "image/png": "[encoded data removed]",
      "text/plain": [
       "<Figure size 432x288 with 1 Axes>"
      ]
     },
     "metadata": {
      "needs_background": "light"
     },
     "output_type": "display_data"
    }
   ],
   "source": [
    "#3a Compute t-test for difference in two independent means shown on slide 34 \n",
    "\n",
    "\n",
    "# Improt libraries\n",
    "import pandas as pd\n",
    "import numpy as np\n",
    "import matplotlib.pyplot as plt\n",
    "import seaborn as sns\n",
    "\n",
    "#Given data\n",
    "Treatment = [80,  88,  76,  77,  84]       # Mean = 81\n",
    "Control   = [84,  90,  86,  77,  93]       # Mean = 86\n",
    "\n",
    "#Generating a Pandas DataFrame for the 2 groups\n",
    "Treatment_series = pd.Series(Treatment) \n",
    "Control_series = pd.Series(Control) \n",
    "  \n",
    "frame = { 'Treatment': Treatment_series, 'Control': Control_series } \n",
    "\n",
    "# Resulting Dataframe\n",
    "data = pd.DataFrame(frame) \n",
    "\n",
    "#------------\n",
    "#Print resulting dataframe\n",
    "print(data) \n",
    "\n",
    "#--------------\n",
    "#Plot a density plot on Treatment and Contril datasets\n",
    "# We plot data on graph\n",
    "\n",
    "import pandas as pd \n",
    "import matplotlib.pyplot as plt \n",
    "  \n",
    "data.plot.bar() \n",
    "plt.show() \n",
    "\n"
   ]
  },
  {
   "cell_type": "code",
   "execution_count": 23,
   "metadata": {},
   "outputs": [
    {
     "name": "stderr",
     "output_type": "stream",
     "text": [
      "C:\\ProgramData\\Anaconda3\\envs\\thesis_tensorflow_cpu_gpu_2_2_0_9_21_2020\\lib\\site-packages\\seaborn\\distributions.py:2557: FutureWarning: `distplot` is a deprecated function and will be removed in a future version. Please adapt your code to use either `displot` (a figure-level function with similar flexibility) or `histplot` (an axes-level function for histograms).\n",
      "  warnings.warn(msg, FutureWarning)\n",
      "C:\\ProgramData\\Anaconda3\\envs\\thesis_tensorflow_cpu_gpu_2_2_0_9_21_2020\\lib\\site-packages\\seaborn\\distributions.py:2557: FutureWarning: `distplot` is a deprecated function and will be removed in a future version. Please adapt your code to use either `displot` (a figure-level function with similar flexibility) or `histplot` (an axes-level function for histograms).\n",
      "  warnings.warn(msg, FutureWarning)\n"
     ]
    },
    {
     "data": {
      "text/plain": [
       "<AxesSubplot:xlabel='Control', ylabel='Density'>"
      ]
     },
     "execution_count": 23,
     "metadata": {},
     "output_type": "execute_result"
    },
    {
     "data": {
      "image/png": "[encoded data removed]",
      "text/plain": [
       "<Figure size 842.4x595.44 with 2 Axes>"
      ]
     },
     "metadata": {
      "needs_background": "light"
     },
     "output_type": "display_data"
    }
   ],
   "source": [
    "#----\n",
    "##// alternatively\n",
    "# Let’s plot the distribution of Treatment and control groups:\n",
    "import seaborn as sns\n",
    "\n",
    "#increase fifure size\n",
    "a4_dims = (11.7, 8.27)\n",
    "\n",
    "\n",
    "#Multiply (2) plots on 1 figure\n",
    "fig, axs = plt.subplots(ncols=2, figsize=a4_dims)\n",
    "\n",
    "sns.distplot(data.Treatment, ax=axs[0])\n",
    "sns.distplot(data.Control, ax=axs[1])\n",
    "\n"
   ]
  },
  {
   "cell_type": "code",
   "execution_count": 24,
   "metadata": {},
   "outputs": [
    {
     "name": "stdout",
     "output_type": "stream",
     "text": [
      "\n",
      "\n",
      "  Treatment data: [80 88 76 77 84]  |  Control data: [84 90 86 77 93] |   t-stat: -1.41421    |   p-value: 0.19502\n",
      "---\n",
      "\n",
      "\n"
     ]
    }
   ],
   "source": [
    "#Compute a 95% 2-Tail z-test for the difference in Population Proportoertions\n",
    "import scipy.stats as ss\n",
    "\n",
    "# At last, we will perform the t-test -- test the sample means\n",
    "\n",
    "t_stat, p_val= ss.ttest_ind(data.Treatment, data.Control)\n",
    "\n",
    "print(\"\\n\\n  Treatment data: %s  |  Control data: %s |   t-stat: %.5f    |   p-value: %.5f\\n---\\n\\n\" \\\n",
    "      % ( data.Treatment.values, data.Control.values, t_stat, p_val) )\n",
    "\n",
    "#----\n",
    "#State the outcome of your test under H0\n"
   ]
  },
  {
   "cell_type": "markdown",
   "metadata": {},
   "source": [
    "Question: So what does all this mean for our $H0/H1$ Testing?  \n",
    "\n",
    "### Checheck your response against instructor's PowerPoint **slide 36**\n",
    "\n",
    "* Here, our p-value is **GREATER THAN the significance level i.e 0.05**. \n",
    "\n",
    "* Hence, we can fail to reject the null hypothesis. \n",
    "\n",
    "* This means `There is no difference between the means of the Treatment and Control groups (i.e., chance)`\n",
    " "
   ]
  },
  {
   "cell_type": "code",
   "execution_count": null,
   "metadata": {},
   "outputs": [],
   "source": []
  },
  {
   "cell_type": "markdown",
   "metadata": {},
   "source": [
    "<a id=\"slide39\"></a>\n",
    "\n",
    "\n",
    "#### 3B.  Diffences in independed proportions ($\\chi^2$)\n",
    "\n",
    "<p />\n",
    "\n",
    "We will be using information provided on <b style=\"font-size:15px; color:#FE0000;\"><em>slide 39</em></b> to complete **Task 3B** for Module 3 Day 2\n",
    "\n",
    "\n",
    "####  Recall: Table on  <b style=\"font-size:15px; color:#FE0000;\"><em> Slide 39</em><b/>\n",
    "<p \\>\n",
    " \n",
    "<center><img src=\"Figures/slide39.PNG\" style=\"float: center; height: 360px\"></center>\n",
    "\n",
    "\n"
   ]
  },
  {
   "cell_type": "code",
   "execution_count": 25,
   "metadata": {},
   "outputs": [
    {
     "name": "stdout",
     "output_type": "stream",
     "text": [
      "\n",
      "z = 2.0014      |    p = 0.0454 (two-sided)\n",
      "---\n",
      "\n",
      "\n"
     ]
    }
   ],
   "source": [
    "import numpy as np\n",
    "from statsmodels.stats.proportion import proportions_ztest\n",
    "\n",
    "#Using the observation on slide 39, compute the z-test of diffences in proportions for the 2 samples\n",
    "\n",
    "#                 A    B\n",
    "count = np.array([84,  72])\n",
    "nobs = np.array([184,  202])\n",
    "\n",
    "#ztest\n",
    "stat, pval = proportions_ztest(count, nobs)\n",
    "print(\"\\nz = %.4f      |    p = %.4f (two-sided)\\n---\\n\\n\" % (stat, pval))"
   ]
  },
  {
   "cell_type": "code",
   "execution_count": null,
   "metadata": {},
   "outputs": [],
   "source": []
  },
  {
   "cell_type": "markdown",
   "metadata": {},
   "source": [
    "<a id=\"slide42\"></a>\n",
    "\n",
    "\n",
    "#### 3.C  Chi Square ($\\chi^2$)\n",
    "\n",
    "<p />\n",
    "\n",
    "We will be using information provided on <b style=\"font-size:15px; color:#FE0000;\"><em>slide 42</em></b> to complete **Task 3C** for Module 3 Day 2\n",
    "\n",
    "\n",
    "####  Recall: Table on  <b style=\"font-size:15px; color:#FE0000;\"><em> Slide 28</em><b/>\n",
    "<p \\>\n",
    " \n",
    "<center><img src=\"Figures/Slide42.PNG\" style=\"float: center; height: 280px\"></center>\n"
   ]
  },
  {
   "cell_type": "code",
   "execution_count": 26,
   "metadata": {},
   "outputs": [
    {
     "data": {
      "text/plain": [
       "4.005452239276572"
      ]
     },
     "execution_count": 26,
     "metadata": {},
     "output_type": "execute_result"
    }
   ],
   "source": [
    "# That is:\n",
    "E1 = 184*156/386; E2 = 184*230/386; E3 = 202*156/386; E4 = 202*230/386\n",
    "chi2 = 1/E1*(84-E1)**2  +  1/E2*(100-E2)**2  +  1/E3*(72-E3)**2  +  1/E4*(130-E4)**2\n",
    "chi2"
   ]
  },
  {
   "cell_type": "code",
   "execution_count": null,
   "metadata": {},
   "outputs": [],
   "source": []
  },
  {
   "cell_type": "code",
   "execution_count": 27,
   "metadata": {},
   "outputs": [
    {
     "name": "stdout",
     "output_type": "stream",
     "text": [
      "\n",
      " Col sums: [156 230]   | Row sums: [184 202]   |   Row and Col sum: 386\n"
     ]
    }
   ],
   "source": [
    "#3c Verify the chi square value computed on slide 42\n",
    "import numpy as np\n",
    "from scipy import stats\n",
    "\n",
    "#data for the contingency table\n",
    "table = np.array([\n",
    "    [ 84, 100],\n",
    "    [ 72, 130]\n",
    "])\n",
    "\n",
    "#table_col_sum = ???\n",
    "#table_row_sum = ???\n",
    "#table_sum = ???\n",
    "\n",
    "table_col_sum = np.sum(table, axis=0)      #array([156, 230])          \n",
    "table_row_sum = np.sum(table, axis=1)      #array([184, 202])\n",
    "table_sum = np.sum(table) \n",
    "\n",
    "\n",
    "print(\"\\n Col sums: %s   | Row sums: %s   |   Row and Col sum: %s\" %\\\n",
    "      (table_col_sum, table_row_sum, table_sum))\n",
    "\n"
   ]
  },
  {
   "cell_type": "code",
   "execution_count": null,
   "metadata": {},
   "outputs": [],
   "source": []
  },
  {
   "cell_type": "code",
   "execution_count": 28,
   "metadata": {},
   "outputs": [
    {
     "name": "stdout",
     "output_type": "stream",
     "text": [
      "[ 74.3626943 109.6373057  81.6373057 120.3626943]\n",
      "\n",
      " Chi Square test statistics: \n",
      "[1.24898193 0.84713557 1.13768651 0.77164824]   |  ChiSq-value: 4.005   | P-value: 0.0454  \n",
      "\n",
      "\n"
     ]
    }
   ],
   "source": [
    "#--\n",
    "#Compute E\n",
    "#                E1           E2           E3           E4\n",
    "#E = [ 74.3626943 109.6373057  81.6373057 120.3626943]\n",
    "E = ([ table_col_sum * table_row_sum[0], table_col_sum * table_row_sum[1] ] / table_sum ).reshape(-1)\n",
    "print(E)\n",
    "\n",
    "#Pupulate array for Chi Sq vaules shown on slide 42\n",
    "ChiSq_array = (table.reshape(-1) - E)**2\n",
    "\n",
    "#Compuite and print Chi Square test statistic\n",
    "#ChiSq = ???\n",
    "\n",
    "ChiSq= ChiSq_array * 1/E\n",
    "\n",
    "#the actual value\n",
    "sum_ChiSq = (np.sum(ChiSq))\n",
    "\n",
    "#P-value from Chi sq test statistic in Python\n",
    "p = 1-stats.chi2.cdf(np.sum(ChiSq), 1)\n",
    "\n",
    "print(\"\\n Chi Square test statistics: \\n%s   |  ChiSq-value: %.3f   | P-value: %.4f  \\n\\n\" % ( ChiSq, sum_ChiSq, p))  \n",
    " \n"
   ]
  },
  {
   "cell_type": "code",
   "execution_count": null,
   "metadata": {},
   "outputs": [],
   "source": []
  },
  {
   "cell_type": "markdown",
   "metadata": {},
   "source": [
    "    \n",
    "<hr style=\"border:0.1px solid gray; width: 25%;\" />\n",
    "\n",
    "<b style=\"font-size:40px; color:#822c97\">References</b>\n",
    "\n",
    "* <https://pynative.com/python-random-sample/>\n",
    "    \n",
    "* <https://note.nkmk.me/en/python-random-choice-sample-choices/>\n",
    "\n",
    "* <https://docs.scipy.org/doc/scipy/reference/generated/scipy.stats.ttest_ind.html>\n",
    "* <https://machinelearningmastery.com/how-to-code-the-students-t-test-from-scratch-in-python/>\n",
    "* <https://towardsdatascience.com/inferential-statistics-series-t-test-using-numpy-2718f8f9bf2f>\n",
    "\n",
    "* [Python code: From Hypothesis Test to Online Experiments with Business cases](https://towardsdatascience.com/python-code-from-hypothesis-test-to-online-experiments-with-buiness-cases-e0597c6d1ec)\n",
    "\n",
    "* [A/B Testing for Data Science using Python – A Must-Read Guide for Data Scientists](https://www.analyticsvidhya.com/blog/2020/10/ab-testing-data-science/)\n",
    "\n",
    "* [Dsc Type 1 And 2 Error Lab](https://learn.co/lessons/dsc-type-1-and-2-error-lab)\n",
    "\n",
    "* [statsmodels.stats.proportion.proportions_ztest](https://www.statsmodels.org/stable/examples/index.html)\n",
    "\n",
    "* [Hypothesis Testing of proportion-based samples](https://sonalake.com/latest/hypothesis-testing-of-proportion-based-samples/)\n",
    "    \n",
    "    \n",
    "<p /><p />\n",
    "\n",
    "<hr style=\"border:0.1px solid #822c97; width: 50%;\" />\n",
    "\n",
    "<center><b style=\"font-size:25px; color:##556B2F\">CONGRATULATION!!!<br>YOU HAVE SUCCESSFULLY COMPLETED CODE ALONG <br />TASK 3 FOR MODULE 3 Day 2</b></center>\n",
    "\n",
    "\n"
   ]
  },
  {
   "cell_type": "markdown",
   "metadata": {},
   "source": [
    "<a id=\"slide49\"></a>\n",
    "\n",
    "\n",
    "#### 4 Statistical Methods\n",
    "\n",
    "<p />\n",
    "\n",
    "We will be using information provided on <b style=\"font-size:15px; color:#FE0000;\"><em>slides 51 through 54</em></b> to complete **Task 4** for Module 3 Day 2\n",
    "\n",
    "\n",
    "####  Recall: Table on  <b style=\"font-size:15px; color:#FE0000;\"><em> Slides 51 through 54</em><b/>\n",
    "<p \\>\n",
    " \n",
    "<center><img src=\"Figures/slide51-54.PNG\" style=\"float: center; height: 640px\"></center>"
   ]
  },
  {
   "cell_type": "code",
   "execution_count": 29,
   "metadata": {},
   "outputs": [
    {
     "name": "stdout",
     "output_type": "stream",
     "text": [
      "   PT  Cholesterol  Weight  Age\n",
      "0   1          354      84   46\n",
      "1   2          190      73   20\n",
      "2   3          405      65   52\n",
      "3   4          263      70   30\n",
      "4   5          451      76   57\n",
      "5   6          302      69   25\n",
      "6   7          288      63   28\n",
      "7   8          385      72   36\n",
      "8   9          402      79   57\n",
      "9  10          365      75   44\n"
     ]
    }
   ],
   "source": [
    "#4.1 use pd.read_csv the patients dataset in \"Data.xls\" to create a Data_df dataframe\n",
    "import pandas as pd\n",
    "\n",
    "# create a HowardData_df dataframe from the \"HowardData.xls\", sheet_name=0\n",
    "Data_df = pd.read_excel(\"Data.xls\", sheet_name=1)\n",
    "print(Data_df.head(n=10))\n",
    "\n"
   ]
  },
  {
   "cell_type": "code",
   "execution_count": 30,
   "metadata": {},
   "outputs": [
    {
     "data": {
      "text/plain": [
       "pandas.core.frame.DataFrame"
      ]
     },
     "execution_count": 30,
     "metadata": {},
     "output_type": "execute_result"
    }
   ],
   "source": [
    "type(Data_df)"
   ]
  },
  {
   "cell_type": "code",
   "execution_count": 31,
   "metadata": {},
   "outputs": [
    {
     "name": "stdout",
     "output_type": "stream",
     "text": [
      "\n",
      "---\n",
      "X = [[46]\n",
      " [20]\n",
      " [52]\n",
      " [30]\n",
      " [57]\n",
      " [25]\n",
      " [28]\n",
      " [36]\n",
      " [57]\n",
      " [44]\n",
      " [24]\n",
      " [31]\n",
      " [52]\n",
      " [23]\n",
      " [60]\n",
      " [48]\n",
      " [34]\n",
      " [51]\n",
      " [50]\n",
      " [34]\n",
      " [46]\n",
      " [23]\n",
      " [37]\n",
      " [40]\n",
      " [30]]\n",
      "\n",
      "Class(X): <class 'numpy.ndarray'>\n",
      "\n",
      "---\n",
      "y = [[354]\n",
      " [190]\n",
      " [405]\n",
      " [263]\n",
      " [451]\n",
      " [302]\n",
      " [288]\n",
      " [385]\n",
      " [402]\n",
      " [365]\n",
      " [209]\n",
      " [290]\n",
      " [346]\n",
      " [254]\n",
      " [395]\n",
      " [434]\n",
      " [220]\n",
      " [374]\n",
      " [308]\n",
      " [220]\n",
      " [311]\n",
      " [181]\n",
      " [274]\n",
      " [303]\n",
      " [244]]\n",
      "\n",
      "Class(X): <class 'numpy.ndarray'>\n"
     ]
    }
   ],
   "source": [
    "#Challenge 4A Fit a linear model to the dataset\n",
    "\n",
    "### Building a Linear Regression Model in sklearn\n",
    "# Create X and y.\n",
    "\n",
    "#For 1 column data\n",
    "X = Data_df['Age'].values.reshape(-1, 1)\n",
    "y = Data_df['Cholesterol'].values.reshape(-1, 1)\n",
    "\n",
    "\n",
    "# Explore X and y\n",
    "print(\"\\n---\\nX = %s\" % X)\n",
    "print(\"\\nClass(X): %s\" % type(X))\n",
    "#-\n",
    "print(\"\\n---\\ny = %s\" %  y)\n",
    "print(\"\\nClass(X): %s\"% type(y))\n"
   ]
  },
  {
   "cell_type": "code",
   "execution_count": 32,
   "metadata": {},
   "outputs": [
    {
     "name": "stdout",
     "output_type": "stream",
     "text": [
      "\n",
      " Shape of X: (25, 1)\n",
      "\n",
      " Shape y: (25, 1)\n",
      "\n",
      "\n"
     ]
    }
   ],
   "source": [
    "print(\"\\n Shape of X: %s\\n\\n Shape y: %s\\n\\n\" % (X.shape, y.shape))"
   ]
  },
  {
   "cell_type": "code",
   "execution_count": 33,
   "metadata": {},
   "outputs": [
    {
     "name": "stdout",
     "output_type": "stream",
     "text": [
      "\n",
      "\n",
      " Type of model generate: <class 'sklearn.linear_model._base.LinearRegression'>\n",
      "----\n",
      "\n",
      "Model type:  LinearRegression()\n",
      "\n",
      "\n",
      "--\n",
      "Model Coeffiecient are:\n",
      "Intecept = 102.6  |   Coeff1 = 5.3\n",
      "\n",
      "---\n",
      "\n",
      "Resulting model:\n",
      "\n",
      " => chol = 102.6 + 5.3 * age\n",
      "\n",
      "\n",
      "---\n",
      "R-Squared score = 0.70   |    r(col/age) = 0.84\n",
      "\n",
      "--\n",
      "\n",
      "MAE: 34.24477959473871\n",
      "MSE: 1737.7749715606108\n",
      "RMSE: 41.68662821050187\n"
     ]
    }
   ],
   "source": [
    "## Challenge 4A Fit a linear model to the dataset  -- Continued\n",
    "\n",
    "#---------------------///  Import, Instanciate, Fit ////---------------------\n",
    "#scikit-learn's Four-Step Modeling Pattern\n",
    "#Step 1: Import the class you plan to use.\n",
    "from sklearn.linear_model import LinearRegression\n",
    "\n",
    "#----\n",
    "#Step 2: \"Instantiate\" the \"estimator.\"\n",
    "#- \"Estimator\" is scikit-learn's term for \"model.\"\n",
    "#- \"Instantiate\" means \"make an instance of.\"    \n",
    "\n",
    "#Make an instance of a LinearRegression object.\n",
    "# Import, instantiate, fit.\n",
    "linreg = LinearRegression()\n",
    "print(\"\\n\\n Type of model generate: %s\\n----\\n\" % type(linreg))\n",
    "\n",
    "#----\n",
    "#Step 3: Fit a LinearRegression model on X and y from the linear_model section of scikit-learn.\n",
    "#        (aka \"model training\")\n",
    "model = linreg.fit(X, y)\n",
    "print(\"Model type: \", model)\n",
    "\n",
    "#----\n",
    "#Step 4: Explore the intercept and coefficients of the linear model\n",
    "#You can search for \"sklearn linear regression\" and explore the attributes section of \n",
    "#the documentation to learn how to do this.\n",
    "\n",
    "# Print the coefficients.  That is: yhat = coef1 * X _ intercept \n",
    "# Compare your computed value to those on slide 53 & 54\n",
    "# chol = 102.6  + 5.5 * age\n",
    "print(\"\\n\\n--\\nModel Coeffiecient are:\\nIntecept = %.1f  |   Coeff1 = %.1f\" % (model.intercept_, model.coef_))\n",
    "\n",
    "print(\"\\n---\\n\\nResulting model:\\n\\n => chol = %.1f + %.1f * age\" % (model.intercept_, model.coef_))\n",
    "\n",
    "#---\n",
    "#Print the R^2\n",
    "print(\"\\n\\n---\\nR-Squared score = %.2f   |    r(col/age) = %.2f\\n\\n--\\n\" % (model.score(X, y), np.sqrt(model.score(X, y))) )\n",
    "\n",
    "\n",
    "#---\n",
    "#Calculate MAE, MSE, and RMSE using imports from sklearn metrics and NumPy.\n",
    "\n",
    "\n",
    "true = y\n",
    "pred = model.predict(X)\n",
    "\n",
    "\n",
    "# Calculate these metrics by hand!\n",
    "from sklearn import metrics\n",
    "import numpy as np\n",
    "print('MAE:', metrics.mean_absolute_error(true, pred))\n",
    "print('MSE:', metrics.mean_squared_error(true, pred))\n",
    "print('RMSE:', np.sqrt(metrics.mean_squared_error(true, pred)))\n",
    "\n",
    "\n",
    "\n",
    "#----------\n",
    "# Note:\n"
   ]
  },
  {
   "cell_type": "code",
   "execution_count": 34,
   "metadata": {},
   "outputs": [
    {
     "data": {
      "text/plain": [
       "[array([[347.32625311],\n",
       "        [208.98866868],\n",
       "        [379.25031106],\n",
       "        [262.19543192],\n",
       "        [405.85369268],\n",
       "        [235.5920503 ],\n",
       "        [251.55407927],\n",
       "        [294.11948987],\n",
       "        [405.85369268],\n",
       "        [336.68490046],\n",
       "        [230.27137398],\n",
       "        [267.51610825],\n",
       "        [379.25031106],\n",
       "        [224.95069765],\n",
       "        [421.81572165],\n",
       "        [357.96760576],\n",
       "        [283.47813722],\n",
       "        [373.92963473],\n",
       "        [368.60895841],\n",
       "        [283.47813722],\n",
       "        [347.32625311],\n",
       "        [224.95069765],\n",
       "        [299.44016619],\n",
       "        [315.40219517],\n",
       "        [262.19543192]]),\n",
       " array([[354],\n",
       "        [190],\n",
       "        [405],\n",
       "        [263],\n",
       "        [451],\n",
       "        [302],\n",
       "        [288],\n",
       "        [385],\n",
       "        [402],\n",
       "        [365],\n",
       "        [209],\n",
       "        [290],\n",
       "        [346],\n",
       "        [254],\n",
       "        [395],\n",
       "        [434],\n",
       "        [220],\n",
       "        [374],\n",
       "        [308],\n",
       "        [220],\n",
       "        [311],\n",
       "        [181],\n",
       "        [274],\n",
       "        [303],\n",
       "        [244]], dtype=int64)]"
      ]
     },
     "execution_count": 34,
     "metadata": {},
     "output_type": "execute_result"
    }
   ],
   "source": [
    "pred = linreg.predict(X)\n",
    "\n",
    "[pred, y]"
   ]
  },
  {
   "cell_type": "code",
   "execution_count": 35,
   "metadata": {},
   "outputs": [
    {
     "name": "stderr",
     "output_type": "stream",
     "text": [
      "<ipython-input-35-8d3bea5f5b41>:35: MatplotlibDeprecationWarning: Adding an axes using the same arguments as a previous axes currently reuses the earlier instance.  In a future version, a new instance will always be created and returned.  Meanwhile, this warning can be suppressed, and the future behavior ensured, by passing a unique label to each axes instance.\n",
      "  ax = plt.axes()\n"
     ]
    },
    {
     "data": {
      "image/png": "[encoded data removed]",
      "text/plain": [
       "<Figure size 432x288 with 1 Axes>"
      ]
     },
     "metadata": {
      "needs_background": "light"
     },
     "output_type": "display_data"
    }
   ],
   "source": [
    "\n",
    "#----\n",
    "##Challenge 4B Plot a linear model to the dataset\n",
    "\n",
    "from matplotlib.font_manager import FontProperties\n",
    "\n",
    "fontP = FontProperties()\n",
    "fontP.set_size('small')\n",
    "\n",
    "\n",
    "fig = plt.scatter(X, y, color=\"darkred\")\n",
    "\n",
    "## Create a range of points. Compute yhat = coeff1 * X + intercep and plot\n",
    "x = np.linspace( min(X), max(X), np.ptp(X,axis=0)[0])     \n",
    "#print(x)\n",
    "# same as: \n",
    "x = np.linspace( 20, 60, 20)     \n",
    "#x\n",
    "#---\n",
    "#Challenge 4 Generate a plot silimar to that on slide 54\n",
    "fig1 = plt.plot(x, model.coef_[0][0] *x + model.intercept_[0], color='black', ls=\"-\", label=\"Fitted values\")\n",
    "fig1 = plt.plot(x, model.coef_[0][0] *x + model.intercept_[0], color='black', ls=\"\", \n",
    "                label=\"chol = 102.6 + 5.3 * age\")\n",
    "fig1 = plt.title(\"Cholesterol levels of a number of patients in age group 20 to 60\")\n",
    "fig1 = plt.xlabel(\"Age(years)\")\n",
    "fig1 = plt.ylabel(\"Cholesterol(mg/100 ml)\")\n",
    "\n",
    "#add legend\n",
    "legend2 = plt.legend(loc=\"lower center\", title=\"\", prop=fontP, bbox_to_anchor=(0.5, -0.34))\n",
    "\n",
    "#l = plt.legend()\n",
    "legend2.get_texts()[1].set_color(\"red\")\n",
    "\n",
    "#Turn on the grid\n",
    "#plt.grid()\n",
    "ax = plt.axes()        \n",
    "ax.yaxis.grid() # horizontal lines\n",
    "#ax.xaxis.grid() # vertical\n"
   ]
  },
  {
   "cell_type": "code",
   "execution_count": null,
   "metadata": {},
   "outputs": [],
   "source": []
  },
  {
   "cell_type": "code",
   "execution_count": 36,
   "metadata": {},
   "outputs": [],
   "source": [
    "####Challenge 4C Generate a plot silimar to that on slide 54\n",
    "\n",
    "\n",
    "\n",
    "\n",
    "## You may use sample code provided here: https://tomholderness.wordpress.com/2013/01/10/confidence_intervals/\n",
    "\n",
    "\n",
    "\n",
    "\n",
    "\n",
    "## *** William Skipped intentionally  ***\n",
    "\n",
    "\n"
   ]
  },
  {
   "cell_type": "code",
   "execution_count": null,
   "metadata": {},
   "outputs": [],
   "source": []
  },
  {
   "cell_type": "markdown",
   "metadata": {},
   "source": [
    "  \n",
    "<hr style=\"border:0.1px solid gray; width: 25%;\" />\n",
    "\n",
    "<b style=\"font-size:40px; color:#822c97\">References</b>\n",
    "\n",
    "* <https://tomholderness.wordpress.com/2013/01/10/confidence_intervals/>\n",
    "\n",
    "<p /><p />\n",
    "\n",
    "<hr style=\"border:0.1px solid #822c97; width: 50%;\" />\n",
    "\n",
    "<center><b style=\"font-size:25px; color:##556B2F\">CONGRATULATION!!!<br>YOU HAVE SUCCESSFULLY COMPLETED CODE ALONG <br />TASK 4 OR MODULE 3 Day 1</b></center>"
   ]
  },
  {
   "cell_type": "code",
   "execution_count": null,
   "metadata": {},
   "outputs": [],
   "source": []
  },
  {
   "cell_type": "markdown",
   "metadata": {},
   "source": [
    "<a id=\"slide66\"></a>\n",
    "\n",
    "<hr style=\"color:#FE0000;border:0.5px solid red\" />\n",
    "\n",
    "\n",
    "### 5 Nonparametric statistics\n",
    "\n",
    "<p />\n",
    "\n",
    "\n",
    "#### 5.A  <b style=\"font-size:15px; color:#FE0000;\"><em>Bootstrap</em></b> – randomly select an observation from sample data <b style=\"font-size:15px; color:#FE0000;\"><em>with replacement</em></b>\n",
    "\n",
    "<p />\n",
    "\n",
    "\n",
    "We will be using information provided on <b style=\"font-size:15px; color:#FE0000;\"><em>slide 68</em></b> to complete **Task 5** for Module 3 Day 2\n",
    "\n",
    "\n",
    "####  Recall: Figure on  <b style=\"font-size:15px; color:#FE0000;\"><em> Slide 68</em><b/>\n",
    "<p \\>\n",
    " \n",
    "<center><img src=\"Figures/slide68.PNG\" style=\"float: center; height: 320px\"></center>"
   ]
  },
  {
   "cell_type": "code",
   "execution_count": null,
   "metadata": {},
   "outputs": [],
   "source": []
  },
  {
   "cell_type": "code",
   "execution_count": 37,
   "metadata": {},
   "outputs": [
    {
     "name": "stdout",
     "output_type": "stream",
     "text": [
      "\n",
      " 1: temp_sample = [2 2 6] \n",
      "--\n",
      "\n",
      "\n",
      " 1: temp_sample = [1 3 9 6 1] \n",
      "--\n",
      "\n",
      "\n",
      "---\n",
      "Bootstrapped dBP Sample_size = 5   | Mean = 75.44   |  95% CI = [70.23 79.53]\n",
      "\n",
      "\n"
     ]
    }
   ],
   "source": [
    "#5a Use bootstrapping to compute the *95%* confidence interval (CI) for the average dBP\n",
    "import numpy as np\n",
    "\n",
    "#Use this sample code to solve problem 5a\n",
    "np.random.seed(123)\n",
    "\n",
    "# Uncomment and run the following line\n",
    "# ?np.random.choice\n",
    "\n",
    "#See what np.random does\n",
    "temp_sample= np.random.choice(a= np.arange(10), size=3, replace=True, p=None)\n",
    "print(\"\\n 1: temp_sample = %s \\n--\\n\" %(temp_sample))\n",
    "\n",
    "temp_sample= np.random.choice(a= np.arange(10), size=5, replace=True, p=None)\n",
    "print(\"\\n 1: temp_sample = %s \\n--\\n\" %(temp_sample))\n",
    "\n",
    "\n",
    "#--\n",
    "#5a.i  \n",
    "# Draw a 10 random samples each of size 5 from the dBP data with replacement and append mean to mean_dBP .\n",
    "\n",
    "#mean_dBP_samples is an empty list, mysample_size=5, replications=10 \n",
    "mean_dBP_samples, mysample_size, replications = [], 5, 10 \n",
    "\n",
    "#Use the for loop to poplutate the mean_dBP_samples data \n",
    "for i in range(replications):\n",
    "    temp_sample = np.random.choice(a=dBP, size=mysample_size, replace=True, p=None)\n",
    "    sample_mean = np.mean(temp_sample)\n",
    "    #append the mean to the mean_dBP_samples\n",
    "    mean_dBP_samples.append(sample_mean)\n",
    "    \n",
    "    \n",
    "#5a.ii\n",
    "# Calculate bootstrapped mean and 95% confidence interval.\n",
    "boot_mean = np.mean(mean_dBP_samples)\n",
    "boot_95_ci = np.percentile(mean_dBP_samples, [2.5, 97.5])\n",
    "print(\"\\n---\\nBootstrapped dBP Sample_size = {}   | Mean = {}   |  95% CI = {}\\n\\n\".format(mysample_size, boot_mean, boot_95_ci))\n",
    "\n",
    "\n",
    "\n",
    "#5a.ii Try with different sample sizes \n",
    "# Trivial -- simply change\n",
    "# #mean_dBP_samples is an empty list, mysample_size=5, replications=10 \n",
    "mean_dBP_samples, mysample_size, replications = [], 15, 10 \n",
    "\n",
    "#Then paset the code in 5a.i here or even better write a function and make a call to \n",
    "#the function with diffrent values \n",
    "\n",
    "\n",
    "#5a.iii Document your obsertations\n",
    "\n",
    "\n"
   ]
  },
  {
   "cell_type": "code",
   "execution_count": null,
   "metadata": {},
   "outputs": [],
   "source": []
  },
  {
   "cell_type": "code",
   "execution_count": 38,
   "metadata": {},
   "outputs": [
    {
     "name": "stdout",
     "output_type": "stream",
     "text": [
      "                            Bootstrapped\n",
      "________________________________________________________________________________________________________\n",
      " Sample Size |  Replications | Actual estimate   |   Sample Estimate  |       95% CI      |  Length CI  |\n",
      "_____________|_______________|___________________|____________________|___________________|_____________|\n",
      "      15     |       10      |   Mean = 76.32    |   Mean = 76.27    |  [72.12       81.37166667]    |   9.3\n",
      "      15     |       10      | Median = 74.00    |   Mean = 73.00    |  [70.225 84.1  ]   |   13.9\n"
     ]
    }
   ],
   "source": [
    "#---\n",
    "#Challenge 5 Modify code to compute the *95%* confidence interval (CI) for the `median` dBP \n",
    "\n",
    "\n",
    "## Median\n",
    "\n",
    "median_dBP_samples, mean_dBP_samples, mysample_size, replications = [], [], 15, 10    #median_dBP_samples & mean_dBP_samples are empty lists, mysample_size=5, replications=1000 \n",
    "\n",
    "for i in range(replications):\n",
    "    temp_sample = np.random.choice(a=dBP, size=mysample_size, replace=True, p=None)\n",
    "    mean_dBP_samples.append(np.mean(temp_sample))       #sample mean\n",
    "    median_dBP_samples.append(np.median(temp_sample))     #sample median\n",
    "    \n",
    "# Calculate bootstrapped statistics and their 95% confidence intervals.\n",
    "est_mean           = np.mean(dBP)\n",
    "boot_mean          = np.mean(mean_dBP_samples)\n",
    "boot_95_mean_ci    = np.percentile(mean_dBP_samples, [2.5, 97.5])\n",
    "mean_ci_length     = boot_95_mean_ci[1] - boot_95_mean_ci[0] \n",
    "\n",
    "est_median         = np.median(dBP)\n",
    "boot_median        = np.median(median_dBP_samples)\n",
    "boot_95_median_ci  = np.percentile(median_dBP_samples, [2.5, 97.5])\n",
    "median_ci_length   = boot_95_median_ci[1] - boot_95_median_ci[0] \n",
    "\n",
    "\n",
    "print(\"                            Bootstrapped\")\n",
    "print(\"________________________________________________________________________________________________________\")\n",
    "print(\" Sample Size |  Replications | Actual estimate   |   Sample Estimate  |       95% CI      |  Length CI  |\")\n",
    "print(\"_____________|_______________|___________________|____________________|___________________|_____________|\")\n",
    "\n",
    "print(f'     {mysample_size:3d}     | {replications:8d}      |   Mean = {est_mean:.2f}    |   Mean = {boot_mean:.2f}    |  {boot_95_mean_ci}    |   {mean_ci_length:.1f}')\n",
    "print(f'     {mysample_size:3d}     | {replications:8d}      | Median = {est_median:.2f}    |   Mean = {boot_median:.2f}    |  {boot_95_median_ci}   |   {median_ci_length:.1f}')\n"
   ]
  },
  {
   "cell_type": "code",
   "execution_count": null,
   "metadata": {},
   "outputs": [],
   "source": []
  },
  {
   "cell_type": "markdown",
   "metadata": {},
   "source": [
    "<a id=\"slide69\"></a>\n",
    "\n",
    "***\n",
    "\n",
    "\n",
    "#### 5.B  <b style=\"font-size:15px; color:#FE0000;\"><em>Jacknife</em></b> – leave-out-one\n",
    "\n",
    "<p />\n",
    "\n",
    "\n",
    "We will be using information provided on <b style=\"font-size:15px; color:#FE0000;\"><em>slide 69</em></b> to complete **Task 5B** for Module 3 Day 2\n",
    "\n",
    "\n",
    "####  Recall: Figure on  <b style=\"font-size:15px; color:#FE0000;\"><em> Slide 69</em><b/>\n",
    "<p \\>\n",
    " \n",
    "<center><img src=\"Figures/slide69.PNG\" style=\"float: center; height: 360px\"></center>"
   ]
  },
  {
   "cell_type": "code",
   "execution_count": 39,
   "metadata": {},
   "outputs": [
    {
     "name": "stdout",
     "output_type": "stream",
     "text": [
      "\n",
      " Original data:\n",
      "[ 73  59  67  68  68  75  97  73  94  68  55  65  42  77  76  74  93  91\n",
      "  58  92  73  73  68  81  73  65  66  70  92  72  72  62  78  86  73  85\n",
      "  67  69  80  72  71  82  57  82  99  89  85  90  84  91  98  84  95  67\n",
      "  74  73  71 100  80  89  75  71  70  65  69  71  65  90  90  77  69  64\n",
      "  80  69  74  81  98  61  79  73  82  88  62  81  78  62  71  54  74  94\n",
      "  73  83  74  72  73  77  64  76  74  67  90  75  91  64  82  56  78  91\n",
      "  73  89  59  83 100  76  79  70  77  85  73  95  70  91  84  87  60  66\n",
      "  63  60  71  90  84  86  92  79  73  63  82  76  80  79  64  88  70  73]\n",
      "\n",
      " Leaving out index 0 | Jacknife estimate: 76.34\n",
      " Jacknife sample data:\n",
      "[ 59  67  68  68  75  97  73  94  68  55  65  42  77  76  74  93  91  58\n",
      "  92  73  73  68  81  73  65  66  70  92  72  72  62  78  86  73  85  67\n",
      "  69  80  72  71  82  57  82  99  89  85  90  84  91  98  84  95  67  74\n",
      "  73  71 100  80  89  75  71  70  65  69  71  65  90  90  77  69  64  80\n",
      "  69  74  81  98  61  79  73  82  88  62  81  78  62  71  54  74  94  73\n",
      "  83  74  72  73  77  64  76  74  67  90  75  91  64  82  56  78  91  73\n",
      "  89  59  83 100  76  79  70  77  85  73  95  70  91  84  87  60  66  63\n",
      "  60  71  90  84  86  92  79  73  63  82  76  80  79  64  88  70  73]\n",
      "\n",
      " Leaving out index 1 | Jacknife estimate: 76.44\n",
      " Jacknife sample data:\n",
      "[ 73  67  68  68  75  97  73  94  68  55  65  42  77  76  74  93  91  58\n",
      "  92  73  73  68  81  73  65  66  70  92  72  72  62  78  86  73  85  67\n",
      "  69  80  72  71  82  57  82  99  89  85  90  84  91  98  84  95  67  74\n",
      "  73  71 100  80  89  75  71  70  65  69  71  65  90  90  77  69  64  80\n",
      "  69  74  81  98  61  79  73  82  88  62  81  78  62  71  54  74  94  73\n",
      "  83  74  72  73  77  64  76  74  67  90  75  91  64  82  56  78  91  73\n",
      "  89  59  83 100  76  79  70  77  85  73  95  70  91  84  87  60  66  63\n",
      "  60  71  90  84  86  92  79  73  63  82  76  80  79  64  88  70  73]\n",
      "\n",
      " Leaving out index 2 | Jacknife estimate: 76.38\n",
      " Jacknife sample data:\n",
      "[ 73  59  68  68  75  97  73  94  68  55  65  42  77  76  74  93  91  58\n",
      "  92  73  73  68  81  73  65  66  70  92  72  72  62  78  86  73  85  67\n",
      "  69  80  72  71  82  57  82  99  89  85  90  84  91  98  84  95  67  74\n",
      "  73  71 100  80  89  75  71  70  65  69  71  65  90  90  77  69  64  80\n",
      "  69  74  81  98  61  79  73  82  88  62  81  78  62  71  54  74  94  73\n",
      "  83  74  72  73  77  64  76  74  67  90  75  91  64  82  56  78  91  73\n",
      "  89  59  83 100  76  79  70  77  85  73  95  70  91  84  87  60  66  63\n",
      "  60  71  90  84  86  92  79  73  63  82  76  80  79  64  88  70  73]\n",
      "\n",
      " Leaving out index 3 | Jacknife estimate: 76.38\n",
      " Jacknife sample data:\n",
      "[ 73  59  67  68  75  97  73  94  68  55  65  42  77  76  74  93  91  58\n",
      "  92  73  73  68  81  73  65  66  70  92  72  72  62  78  86  73  85  67\n",
      "  69  80  72  71  82  57  82  99  89  85  90  84  91  98  84  95  67  74\n",
      "  73  71 100  80  89  75  71  70  65  69  71  65  90  90  77  69  64  80\n",
      "  69  74  81  98  61  79  73  82  88  62  81  78  62  71  54  74  94  73\n",
      "  83  74  72  73  77  64  76  74  67  90  75  91  64  82  56  78  91  73\n",
      "  89  59  83 100  76  79  70  77  85  73  95  70  91  84  87  60  66  63\n",
      "  60  71  90  84  86  92  79  73  63  82  76  80  79  64  88  70  73]\n",
      "\n",
      " Leaving out index 141 | Jacknife estimate: 76.24\n",
      " Jacknife sample data:\n",
      "[ 73  59  67  68  68  75  97  73  94  68  55  65  42  77  76  74  93  91\n",
      "  58  92  73  73  68  81  73  65  66  70  92  72  72  62  78  86  73  85\n",
      "  67  69  80  72  71  82  57  82  99  89  85  90  84  91  98  84  95  67\n",
      "  74  73  71 100  80  89  75  71  70  65  69  71  65  90  90  77  69  64\n",
      "  80  69  74  81  98  61  79  73  82  88  62  81  78  62  71  54  74  94\n",
      "  73  83  74  72  73  77  64  76  74  67  90  75  91  64  82  56  78  91\n",
      "  73  89  59  83 100  76  79  70  77  85  73  95  70  91  84  87  60  66\n",
      "  63  60  71  90  84  86  92  79  73  63  82  76  80  79  64  70  73]\n",
      "\n",
      " Leaving out index 142 | Jacknife estimate: 76.36\n",
      " Jacknife sample data:\n",
      "[ 73  59  67  68  68  75  97  73  94  68  55  65  42  77  76  74  93  91\n",
      "  58  92  73  73  68  81  73  65  66  70  92  72  72  62  78  86  73  85\n",
      "  67  69  80  72  71  82  57  82  99  89  85  90  84  91  98  84  95  67\n",
      "  74  73  71 100  80  89  75  71  70  65  69  71  65  90  90  77  69  64\n",
      "  80  69  74  81  98  61  79  73  82  88  62  81  78  62  71  54  74  94\n",
      "  73  83  74  72  73  77  64  76  74  67  90  75  91  64  82  56  78  91\n",
      "  73  89  59  83 100  76  79  70  77  85  73  95  70  91  84  87  60  66\n",
      "  63  60  71  90  84  86  92  79  73  63  82  76  80  79  64  88  73]\n",
      "\n",
      " Leaving out index 143 | Jacknife estimate: 76.34\n",
      " Jacknife sample data:\n",
      "[ 73  59  67  68  68  75  97  73  94  68  55  65  42  77  76  74  93  91\n",
      "  58  92  73  73  68  81  73  65  66  70  92  72  72  62  78  86  73  85\n",
      "  67  69  80  72  71  82  57  82  99  89  85  90  84  91  98  84  95  67\n",
      "  74  73  71 100  80  89  75  71  70  65  69  71  65  90  90  77  69  64\n",
      "  80  69  74  81  98  61  79  73  82  88  62  81  78  62  71  54  74  94\n",
      "  73  83  74  72  73  77  64  76  74  67  90  75  91  64  82  56  78  91\n",
      "  73  89  59  83 100  76  79  70  77  85  73  95  70  91  84  87  60  66\n",
      "  63  60  71  90  84  86  92  79  73  63  82  76  80  79  64  88  70]\n",
      "\n",
      "\n",
      "-----\n",
      "\n",
      "Finally:\n",
      "\n",
      "The true Jackknife estimate of the mean dBP = 76.32\n",
      "\n"
     ]
    }
   ],
   "source": [
    "np.random.seed(123)\n",
    "\n",
    "# Leave one observation out from dPB data to get the jackknife sample and store the mean value fo each sample\n",
    "mean_dBP_samples, replications = [], len(dBP)   #mean_dBP_samples are empty lists, replications=1000 \n",
    "\n",
    "index = np.arange(replications)                      # array([  0,   1,   2,   3, .... 143])\n",
    "\n",
    "print(f'\\n Original data:\\n{dBP}')\n",
    "\n",
    "for i in range(replications):\n",
    "    jk_sample = dBP[index != i]\n",
    "    mean_dBP_samples.append(np.mean(jk_sample))      #compute statistic\n",
    "    \n",
    "    # for debugging purposes only print out a fee sample\n",
    "    if i < 4 or i > 140:\n",
    "        print(f'\\n Leaving out index {i} | Jacknife estimate: {np.mean(jk_sample):.2f}\\n Jacknife sample data:\\n{jk_sample}')    \n",
    "\n",
    "# The jackknife estimate is the mean of dBP from each sample\n",
    "mean_dBP_jk = np.mean(np.array(mean_dBP_samples))\n",
    "print(f'\\n\\n-----\\n\\nFinally:\\n\\nThe true Jackknife estimate of the mean dBP = {mean_dBP_jk:.2f}\\n')\n"
   ]
  },
  {
   "cell_type": "markdown",
   "metadata": {},
   "source": [
    "<p /><p />\n",
    "\n",
    "***\n",
    "\n",
    "<b style=\"font-size:40px; color:#00FF00\">References</b>\n",
    "\n",
    "* <https://goodboychan.github.io/chans_jupyter/python/datacamp/statistics/modeling/2020/06/22/01-Resampling-methods.html#Bootstrapping>\n",
    "* <https://people.duke.edu/~ccc14/sta-663/ResamplingAndMonteCarloSimulations.html>\n",
    "* <https://machinelearningmastery.com/calculate-bootstrap-confidence-intervals-machine-learning-results-python/>\n",
    "\n",
    "\n",
    "\n",
    "# Additional References\n",
    "\n",
    "* <https://towardsdatascience.com/hypothesis-testing-in-machine-learning-using-python-a0dc89e169ce>\n",
    "\n",
    "* <https://towardsdatascience.com/demystifying-hypothesis-testing-with-simple-python-examples-4997ad3c5294>\n",
    "\n",
    "\n",
    "***\n",
    "   \n",
    "<p /><p />\n",
    "\n",
    "\n",
    "<hr style=\"color:#FE0000;border:0.5px solid red;width:75%\" />\n",
    "\n",
    "<p /><p />\n",
    "\n",
    "\n",
    "<center><b style=\"font-size:30px; color:#013220\">CONGRATULATION!!!<br \\><br \\><br \\><br \\>YOU HAVE SUCCESSFULLY COMPLETED <br \\><br \\>ALL YOUR CODING TASKS FOR <br \\><br \\>MODULE 3</b></center>\n",
    "\n",
    "\n",
    "\n",
    "<hr style=\"color:#FE0000;border:0.5px solid red\" />\n",
    "\n",
    "<p /><p />\n",
    "\n"
   ]
  },
  {
   "cell_type": "code",
   "execution_count": null,
   "metadata": {},
   "outputs": [],
   "source": []
  },
  {
   "cell_type": "code",
   "execution_count": null,
   "metadata": {},
   "outputs": [],
   "source": []
  }
 ],
 "metadata": {
  "anaconda-cloud": {},
  "kernelspec": {
   "display_name": "Python 3",
   "language": "python",
   "name": "python3"
  },
  "language_info": {
   "codemirror_mode": {
    "name": "ipython",
    "version": 3
   },
   "file_extension": ".py",
   "mimetype": "text/x-python",
   "name": "python",
   "nbconvert_exporter": "python",
   "pygments_lexer": "ipython3",
   "version": "3.8.5"
  }
 },
 "nbformat": 4,
 "nbformat_minor": 4
}
