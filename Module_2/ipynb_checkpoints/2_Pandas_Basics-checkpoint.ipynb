{
 "cells": [
  {
   "cell_type": "markdown",
   "metadata": {
    "colab_type": "text",
    "id": "W1vGVWMpb4Wy"
   },
   "source": [
    "# Python Pandas Tutorial: HIDS 501 Fall 2020\n",
    "\n",
    "*Parts of this tuturial have been adapted from:\n",
    "\n",
    "1. https://github.com/LearnDataSci/\n",
    "2. https://github.com/jorisvandenbossche/pandas-tutorial\n",
    "3. https://github.com/jakevdp/PythonDataScienceHandbook\n",
    "\n"
   ]
  },
  {
   "cell_type": "markdown",
   "metadata": {
    "colab_type": "text",
    "id": "NBr5KmWvb8Ty"
   },
   "source": [
    "The *pandas* package is the most important tool at the disposal of Data Scientists and Analysts working in Python today. The powerful machine learning and glamorous visualization tools may get all the attention, but pandas is the backbone of most data projects. \n",
    "\n",
    ">\\[*pandas*\\] is derived from the term \"**pan**el **da**ta\", an econometrics term for data sets that include observations over multiple time periods for the same individuals. — [Wikipedia](https://en.wikipedia.org/wiki/Pandas_%28software%29)"
   ]
  },
  {
   "cell_type": "markdown",
   "metadata": {
    "colab_type": "text",
    "id": "H-Jz0NrfcDuy"
   },
   "source": [
    "## What's Pandas for?\n",
    "\n",
    "Pandas has so many uses that it might make sense to list the things it can't do instead of what it can do. \n",
    "\n",
    "This tool is essentially your data’s home. Through pandas, you get acquainted with your data by cleaning, transforming, and analyzing it. \n",
    "\n",
    "For example, say you want to explore a dataset stored in a CSV on your computer. Pandas will extract the data from that CSV into a DataFrame — a table, basically — then let you do things like:\n",
    "\n",
    "- Calculate statistics and answer questions about the data, like\n",
    "\n",
    "\n",
    "    - What's the average, median, max, or min of each column? \n",
    "    - Does column A correlate with column B?\n",
    "    - What does the distribution of data in column C look like?\n",
    "\n",
    "\n",
    "- Clean the data by doing things like removing missing values and filtering rows or columns by some criteria\n",
    "\n",
    "\n",
    "- Visualize the data with help from Matplotlib. Plot bars, lines, histograms, bubbles, and more. \n",
    "\n",
    "\n",
    "- Store the cleaned, transformed data back into a CSV, other file or database\n",
    "\n",
    "\n",
    "\n"
   ]
  },
  {
   "cell_type": "markdown",
   "metadata": {
    "colab_type": "text",
    "id": "dHC9qwqXb7Sg"
   },
   "source": [
    "\n",
    "Before you jump into the modeling or the complex visualizations you need to have a good understanding of the nature of your dataset and pandas is the best avenue through which to do that."
   ]
  },
  {
   "cell_type": "markdown",
   "metadata": {
    "colab_type": "text",
    "id": "peXc1RAucPE7"
   },
   "source": [
    "## Pandas First Steps\n",
    "\n",
    "### Install and import\n",
    "Pandas is already installed on the Virtual Machine connected to this Colab. But if you are using  Jupyter notebook on your local machine you can run this cell:"
   ]
  },
  {
   "cell_type": "code",
   "execution_count": null,
   "metadata": {
    "colab": {},
    "colab_type": "code",
    "id": "1hXqJfkWckSA"
   },
   "outputs": [],
   "source": [
    "#!pip3 install pandas"
   ]
  },
  {
   "cell_type": "markdown",
   "metadata": {
    "colab_type": "text",
    "id": "FngsviTjdQfE"
   },
   "source": [
    "The `!` at the beginning runs cells as if they were in a terminal.\n",
    "\n",
    "To import pandas we usually import it with a shorter name since it's used so much:"
   ]
  },
  {
   "cell_type": "code",
   "execution_count": null,
   "metadata": {
    "colab": {},
    "colab_type": "code",
    "id": "nHeYwtIRdTOi"
   },
   "outputs": [],
   "source": [
    "import pandas as pd"
   ]
  },
  {
   "cell_type": "code",
   "execution_count": null,
   "metadata": {
    "colab": {},
    "colab_type": "code",
    "id": "-YmCc9FH10Hn"
   },
   "outputs": [],
   "source": [
    "pd.options.display.max_rows = 10"
   ]
  },
  {
   "cell_type": "code",
   "execution_count": null,
   "metadata": {
    "colab": {},
    "colab_type": "code",
    "id": "wwww97-gWIg5"
   },
   "outputs": [],
   "source": [
    "##other imports\n",
    "import numpy as np"
   ]
  },
  {
   "cell_type": "markdown",
   "metadata": {
    "colab_type": "text",
    "id": "Fia91WePwrmJ"
   },
   "source": [
    "**Panda Documentation**\n",
    "\n",
    "https://pandas.pydata.org/docs/reference/index.html"
   ]
  },
  {
   "cell_type": "markdown",
   "metadata": {
    "colab_type": "text",
    "id": "MHQQVUeBdWnL"
   },
   "source": [
    "Now lets start exploring pandas"
   ]
  },
  {
   "cell_type": "markdown",
   "metadata": {
    "colab_type": "text",
    "id": "goELKyffkaOg"
   },
   "source": [
    "### Creating DataFrames from scratch\n",
    "Creating DataFrames right in Python is good to know and quite useful when testing new methods and functions you find in the pandas docs.\n",
    "\n",
    "There are *many* ways to create a DataFrame from scratch, but a great option is to just use a simple `dict`. \n",
    "\n",
    "Lets create a dataset containing patient's information (name, age , demographics, gender)"
   ]
  },
  {
   "cell_type": "code",
   "execution_count": null,
   "metadata": {
    "colab": {},
    "colab_type": "code",
    "id": "qW0HwL3VmZYG"
   },
   "outputs": [],
   "source": [
    "data = {\n",
    "    'firstname': [\"Joan\", \"Ramiro\", \"Gidget\", \"Saul\"],\n",
    "    'lastname': [\"Kon\", \"Koss\", \"Rempel\", \"Wuckert\"],\n",
    "    'age': [25, 62, 16, 37],\n",
    "    'race': ['asian', 'white', 'white', 'black'],\n",
    "    'gender': ['F', 'M', 'F', 'M']\n",
    "}"
   ]
  },
  {
   "cell_type": "markdown",
   "metadata": {
    "colab_type": "text",
    "id": "poExNFSaog6w"
   },
   "source": [
    "And then pass it to the pandas DataFrame constructor:"
   ]
  },
  {
   "cell_type": "code",
   "execution_count": null,
   "metadata": {
    "colab": {},
    "colab_type": "code",
    "id": "75TFvUKNoi9j"
   },
   "outputs": [],
   "source": [
    "df = pd.DataFrame(data)"
   ]
  },
  {
   "cell_type": "code",
   "execution_count": null,
   "metadata": {
    "colab": {
     "base_uri": "https://localhost:8080/",
     "height": 167
    },
    "colab_type": "code",
    "executionInfo": {
     "elapsed": 243,
     "status": "ok",
     "timestamp": 1599737348540,
     "user": {
      "displayName": "Samir Gupta",
      "photoUrl": "",
      "userId": "08477919997854778705"
     },
     "user_tz": 240
    },
    "id": "XxnVq0l1onFL",
    "outputId": "84a00235-a0d5-4895-ec7b-60aa0e07e337"
   },
   "outputs": [
    {
     "data": {
      "text/html": [
       "<div>\n",
       "<style scoped>\n",
       "    .dataframe tbody tr th:only-of-type {\n",
       "        vertical-align: middle;\n",
       "    }\n",
       "\n",
       "    .dataframe tbody tr th {\n",
       "        vertical-align: top;\n",
       "    }\n",
       "\n",
       "    .dataframe thead th {\n",
       "        text-align: right;\n",
       "    }\n",
       "</style>\n",
       "<table border=\"1\" class=\"dataframe\">\n",
       "  <thead>\n",
       "    <tr style=\"text-align: right;\">\n",
       "      <th></th>\n",
       "      <th>firstname</th>\n",
       "      <th>lastname</th>\n",
       "      <th>age</th>\n",
       "      <th>race</th>\n",
       "      <th>gender</th>\n",
       "    </tr>\n",
       "  </thead>\n",
       "  <tbody>\n",
       "    <tr>\n",
       "      <th>0</th>\n",
       "      <td>Joan</td>\n",
       "      <td>Kon</td>\n",
       "      <td>25</td>\n",
       "      <td>asian</td>\n",
       "      <td>F</td>\n",
       "    </tr>\n",
       "    <tr>\n",
       "      <th>1</th>\n",
       "      <td>Ramiro</td>\n",
       "      <td>Koss</td>\n",
       "      <td>62</td>\n",
       "      <td>white</td>\n",
       "      <td>M</td>\n",
       "    </tr>\n",
       "    <tr>\n",
       "      <th>2</th>\n",
       "      <td>Gidget</td>\n",
       "      <td>Rempel</td>\n",
       "      <td>16</td>\n",
       "      <td>white</td>\n",
       "      <td>F</td>\n",
       "    </tr>\n",
       "    <tr>\n",
       "      <th>3</th>\n",
       "      <td>Saul</td>\n",
       "      <td>Wuckert</td>\n",
       "      <td>37</td>\n",
       "      <td>black</td>\n",
       "      <td>M</td>\n",
       "    </tr>\n",
       "  </tbody>\n",
       "</table>\n",
       "</div>"
      ],
      "text/plain": [
       "  firstname lastname  age   race gender\n",
       "0      Joan      Kon   25  asian      F\n",
       "1    Ramiro     Koss   62  white      M\n",
       "2    Gidget   Rempel   16  white      F\n",
       "3      Saul  Wuckert   37  black      M"
      ]
     },
     "execution_count": 21,
     "metadata": {
      "tags": []
     },
     "output_type": "execute_result"
    }
   ],
   "source": [
    "df"
   ]
  },
  {
   "cell_type": "markdown",
   "metadata": {
    "colab_type": "text",
    "id": "KIygwkyLpGCB"
   },
   "source": [
    "**How did that work?**\n",
    "\n",
    "Each *(key, value)* item in `data` corresponds to a *column* in the resulting DataFrame.\n",
    "\n",
    "The **Index** of this DataFrame was given to us on creation as the numbers 0-3, but we could also create our own when we initialize the DataFrame. \n",
    "\n",
    "Let's have MRN (Medical Record Number) as our index: "
   ]
  },
  {
   "cell_type": "code",
   "execution_count": null,
   "metadata": {
    "colab": {
     "base_uri": "https://localhost:8080/",
     "height": 167
    },
    "colab_type": "code",
    "executionInfo": {
     "elapsed": 235,
     "status": "ok",
     "timestamp": 1599737355402,
     "user": {
      "displayName": "Samir Gupta",
      "photoUrl": "",
      "userId": "08477919997854778705"
     },
     "user_tz": 240
    },
    "id": "XmuWzQbwpMoG",
    "outputId": "bf79afdb-aa1b-41df-d389-9ae5a6e19b48"
   },
   "outputs": [
    {
     "data": {
      "text/html": [
       "<div>\n",
       "<style scoped>\n",
       "    .dataframe tbody tr th:only-of-type {\n",
       "        vertical-align: middle;\n",
       "    }\n",
       "\n",
       "    .dataframe tbody tr th {\n",
       "        vertical-align: top;\n",
       "    }\n",
       "\n",
       "    .dataframe thead th {\n",
       "        text-align: right;\n",
       "    }\n",
       "</style>\n",
       "<table border=\"1\" class=\"dataframe\">\n",
       "  <thead>\n",
       "    <tr style=\"text-align: right;\">\n",
       "      <th></th>\n",
       "      <th>firstname</th>\n",
       "      <th>lastname</th>\n",
       "      <th>age</th>\n",
       "      <th>race</th>\n",
       "      <th>gender</th>\n",
       "    </tr>\n",
       "  </thead>\n",
       "  <tbody>\n",
       "    <tr>\n",
       "      <th>MRN953</th>\n",
       "      <td>Joan</td>\n",
       "      <td>Kon</td>\n",
       "      <td>25</td>\n",
       "      <td>asian</td>\n",
       "      <td>F</td>\n",
       "    </tr>\n",
       "    <tr>\n",
       "      <th>MRN245</th>\n",
       "      <td>Ramiro</td>\n",
       "      <td>Koss</td>\n",
       "      <td>62</td>\n",
       "      <td>white</td>\n",
       "      <td>M</td>\n",
       "    </tr>\n",
       "    <tr>\n",
       "      <th>MRN745</th>\n",
       "      <td>Gidget</td>\n",
       "      <td>Rempel</td>\n",
       "      <td>16</td>\n",
       "      <td>white</td>\n",
       "      <td>F</td>\n",
       "    </tr>\n",
       "    <tr>\n",
       "      <th>MRN422</th>\n",
       "      <td>Saul</td>\n",
       "      <td>Wuckert</td>\n",
       "      <td>37</td>\n",
       "      <td>black</td>\n",
       "      <td>M</td>\n",
       "    </tr>\n",
       "  </tbody>\n",
       "</table>\n",
       "</div>"
      ],
      "text/plain": [
       "       firstname lastname  age   race gender\n",
       "MRN953      Joan      Kon   25  asian      F\n",
       "MRN245    Ramiro     Koss   62  white      M\n",
       "MRN745    Gidget   Rempel   16  white      F\n",
       "MRN422      Saul  Wuckert   37  black      M"
      ]
     },
     "execution_count": 22,
     "metadata": {
      "tags": []
     },
     "output_type": "execute_result"
    }
   ],
   "source": [
    "df = pd.DataFrame(data, index = ['MRN953', \"MRN245\", \"MRN745\", \"MRN422\"])\n",
    "\n",
    "df"
   ]
  },
  {
   "cell_type": "code",
   "execution_count": null,
   "metadata": {
    "colab": {
     "base_uri": "https://localhost:8080/",
     "height": 123
    },
    "colab_type": "code",
    "executionInfo": {
     "elapsed": 236,
     "status": "ok",
     "timestamp": 1599737361498,
     "user": {
      "displayName": "Samir Gupta",
      "photoUrl": "",
      "userId": "08477919997854778705"
     },
     "user_tz": 240
    },
    "id": "XTSS5Edqp3R3",
    "outputId": "bd867887-cf39-454c-9528-94f85d2b21dc"
   },
   "outputs": [
    {
     "data": {
      "text/plain": [
       "firstname    Gidget\n",
       "lastname     Rempel\n",
       "age              16\n",
       "race          white\n",
       "gender            F\n",
       "Name: MRN745, dtype: object"
      ]
     },
     "execution_count": 23,
     "metadata": {
      "tags": []
     },
     "output_type": "execute_result"
    }
   ],
   "source": [
    "df.loc['MRN745']"
   ]
  },
  {
   "cell_type": "markdown",
   "metadata": {
    "colab_type": "text",
    "id": "8pzvTFkeqBcE"
   },
   "source": [
    "There's more on locating and extracting data from the DataFrame later, but now you should be able to create a DataFrame with any random data to learn on.\n"
   ]
  },
  {
   "cell_type": "markdown",
   "metadata": {
    "colab_type": "text",
    "id": "5Gq4je64qHpX"
   },
   "source": [
    "## How to read in data\n",
    "\n",
    "It’s quite simple to load data from various file formats into a DataFrame. In the following examples we'll be using MIMIC-III demo dataset (https://mimic.physionet.org/gettingstarted/demo/)\n",
    "\n",
    "I have uploaded these CVS files to my github page and files can be accessed @\n",
    "https://github.com/samirgupta/HIDS-501-Bootcamp2/tree/master/data/mimic-iii-demo\n",
    "\n",
    "Below we assign the data directory of the demo files to a variable, so that we don't have repeat it every time"
   ]
  },
  {
   "cell_type": "code",
   "execution_count": null,
   "metadata": {
    "colab": {},
    "colab_type": "code",
    "id": "KP2VnYimvS1B"
   },
   "outputs": [],
   "source": [
    "mimic_data = \"https://raw.githubusercontent.com/samirgupta/HIDS-501-Bootcamp2/master/data//mimic-iii-demo\""
   ]
  },
  {
   "cell_type": "markdown",
   "metadata": {
    "colab_type": "text",
    "id": "bi7pSt_oxGuR"
   },
   "source": [
    "### Reading data from CSVs\n",
    "\n",
    "With CSV files all you need is a single line to load in the data:"
   ]
  },
  {
   "cell_type": "code",
   "execution_count": null,
   "metadata": {
    "colab": {},
    "colab_type": "code",
    "id": "uYhUr_Cwvgo2"
   },
   "outputs": [],
   "source": [
    "patients_df = pd.read_csv(mimic_data+\"/PATIENTS.csv\")"
   ]
  },
  {
   "cell_type": "code",
   "execution_count": null,
   "metadata": {
    "colab": {
     "base_uri": "https://localhost:8080/",
     "height": 286
    },
    "colab_type": "code",
    "executionInfo": {
     "elapsed": 350,
     "status": "ok",
     "timestamp": 1599755264883,
     "user": {
      "displayName": "Samir Gupta",
      "photoUrl": "",
      "userId": "08477919997854778705"
     },
     "user_tz": 240
    },
    "id": "uwsNvVybvuaG",
    "outputId": "cc36a686-d922-40f8-cbaf-bc6107b4fc84"
   },
   "outputs": [
    {
     "data": {
      "text/html": [
       "<div>\n",
       "<style scoped>\n",
       "    .dataframe tbody tr th:only-of-type {\n",
       "        vertical-align: middle;\n",
       "    }\n",
       "\n",
       "    .dataframe tbody tr th {\n",
       "        vertical-align: top;\n",
       "    }\n",
       "\n",
       "    .dataframe thead th {\n",
       "        text-align: right;\n",
       "    }\n",
       "</style>\n",
       "<table border=\"1\" class=\"dataframe\">\n",
       "  <thead>\n",
       "    <tr style=\"text-align: right;\">\n",
       "      <th></th>\n",
       "      <th>row_id</th>\n",
       "      <th>subject_id</th>\n",
       "      <th>gender</th>\n",
       "      <th>dob</th>\n",
       "      <th>dod</th>\n",
       "      <th>dod_hosp</th>\n",
       "      <th>dod_ssn</th>\n",
       "      <th>expire_flag</th>\n",
       "      <th>age_at_death</th>\n",
       "    </tr>\n",
       "  </thead>\n",
       "  <tbody>\n",
       "    <tr>\n",
       "      <th>0</th>\n",
       "      <td>9467</td>\n",
       "      <td>10006</td>\n",
       "      <td>F</td>\n",
       "      <td>2094-03-05</td>\n",
       "      <td>2165-08-12</td>\n",
       "      <td>2165-08-12 00:00:00</td>\n",
       "      <td>2165-08-12 00:00:00</td>\n",
       "      <td>1</td>\n",
       "      <td>71.484932</td>\n",
       "    </tr>\n",
       "    <tr>\n",
       "      <th>1</th>\n",
       "      <td>9472</td>\n",
       "      <td>10011</td>\n",
       "      <td>F</td>\n",
       "      <td>2090-06-05</td>\n",
       "      <td>2126-08-28</td>\n",
       "      <td>2126-08-28 00:00:00</td>\n",
       "      <td>NaN</td>\n",
       "      <td>1</td>\n",
       "      <td>36.252055</td>\n",
       "    </tr>\n",
       "    <tr>\n",
       "      <th>2</th>\n",
       "      <td>9474</td>\n",
       "      <td>10013</td>\n",
       "      <td>F</td>\n",
       "      <td>2038-09-03</td>\n",
       "      <td>2125-10-07</td>\n",
       "      <td>2125-10-07 00:00:00</td>\n",
       "      <td>2125-10-07 00:00:00</td>\n",
       "      <td>1</td>\n",
       "      <td>87.150685</td>\n",
       "    </tr>\n",
       "    <tr>\n",
       "      <th>...</th>\n",
       "      <td>...</td>\n",
       "      <td>...</td>\n",
       "      <td>...</td>\n",
       "      <td>...</td>\n",
       "      <td>...</td>\n",
       "      <td>...</td>\n",
       "      <td>...</td>\n",
       "      <td>...</td>\n",
       "      <td>...</td>\n",
       "    </tr>\n",
       "    <tr>\n",
       "      <th>97</th>\n",
       "      <td>31867</td>\n",
       "      <td>44212</td>\n",
       "      <td>F</td>\n",
       "      <td>2078-06-16</td>\n",
       "      <td>2124-01-29</td>\n",
       "      <td>NaN</td>\n",
       "      <td>2124-01-29 00:00:00</td>\n",
       "      <td>1</td>\n",
       "      <td>45.649315</td>\n",
       "    </tr>\n",
       "    <tr>\n",
       "      <th>98</th>\n",
       "      <td>31870</td>\n",
       "      <td>44222</td>\n",
       "      <td>M</td>\n",
       "      <td>2107-06-27</td>\n",
       "      <td>2182-08-03</td>\n",
       "      <td>2182-08-03 00:00:00</td>\n",
       "      <td>NaN</td>\n",
       "      <td>1</td>\n",
       "      <td>75.153425</td>\n",
       "    </tr>\n",
       "    <tr>\n",
       "      <th>99</th>\n",
       "      <td>31872</td>\n",
       "      <td>44228</td>\n",
       "      <td>F</td>\n",
       "      <td>2112-10-22</td>\n",
       "      <td>2171-04-14</td>\n",
       "      <td>2171-04-14 00:00:00</td>\n",
       "      <td>NaN</td>\n",
       "      <td>1</td>\n",
       "      <td>58.515068</td>\n",
       "    </tr>\n",
       "  </tbody>\n",
       "</table>\n",
       "<p>100 rows × 9 columns</p>\n",
       "</div>"
      ],
      "text/plain": [
       "    row_id  subject_id gender  ...              dod_ssn expire_flag age_at_death\n",
       "0     9467       10006      F  ...  2165-08-12 00:00:00           1    71.484932\n",
       "1     9472       10011      F  ...                  NaN           1    36.252055\n",
       "2     9474       10013      F  ...  2125-10-07 00:00:00           1    87.150685\n",
       "..     ...         ...    ...  ...                  ...         ...          ...\n",
       "97   31867       44212      F  ...  2124-01-29 00:00:00           1    45.649315\n",
       "98   31870       44222      M  ...                  NaN           1    75.153425\n",
       "99   31872       44228      F  ...                  NaN           1    58.515068\n",
       "\n",
       "[100 rows x 9 columns]"
      ]
     },
     "execution_count": 125,
     "metadata": {
      "tags": []
     },
     "output_type": "execute_result"
    }
   ],
   "source": [
    "patients_df"
   ]
  },
  {
   "cell_type": "markdown",
   "metadata": {
    "colab_type": "text",
    "id": "m_mENN8ZxSdk"
   },
   "source": [
    "### Converting back to a CSV, EXCEL JSON\n",
    "\n",
    "So after extensive work on cleaning your data, you’re now ready to save it as a file of your choice. Similar to the ways we read in data, pandas provides intuitive commands to save it:"
   ]
  },
  {
   "cell_type": "code",
   "execution_count": null,
   "metadata": {
    "colab": {
     "base_uri": "https://localhost:8080/",
     "height": 167
    },
    "colab_type": "code",
    "executionInfo": {
     "elapsed": 277,
     "status": "ok",
     "timestamp": 1599737437806,
     "user": {
      "displayName": "Samir Gupta",
      "photoUrl": "",
      "userId": "08477919997854778705"
     },
     "user_tz": 240
    },
    "id": "3Zovpz-OyBYH",
    "outputId": "34a1ba33-746f-4e48-e16f-47b337c6a06c"
   },
   "outputs": [
    {
     "data": {
      "text/html": [
       "<div>\n",
       "<style scoped>\n",
       "    .dataframe tbody tr th:only-of-type {\n",
       "        vertical-align: middle;\n",
       "    }\n",
       "\n",
       "    .dataframe tbody tr th {\n",
       "        vertical-align: top;\n",
       "    }\n",
       "\n",
       "    .dataframe thead th {\n",
       "        text-align: right;\n",
       "    }\n",
       "</style>\n",
       "<table border=\"1\" class=\"dataframe\">\n",
       "  <thead>\n",
       "    <tr style=\"text-align: right;\">\n",
       "      <th></th>\n",
       "      <th>firstname</th>\n",
       "      <th>lastname</th>\n",
       "      <th>age</th>\n",
       "      <th>race</th>\n",
       "      <th>gender</th>\n",
       "    </tr>\n",
       "  </thead>\n",
       "  <tbody>\n",
       "    <tr>\n",
       "      <th>MRN953</th>\n",
       "      <td>Joan</td>\n",
       "      <td>Kon</td>\n",
       "      <td>25</td>\n",
       "      <td>asian</td>\n",
       "      <td>F</td>\n",
       "    </tr>\n",
       "    <tr>\n",
       "      <th>MRN245</th>\n",
       "      <td>Ramiro</td>\n",
       "      <td>Koss</td>\n",
       "      <td>62</td>\n",
       "      <td>white</td>\n",
       "      <td>M</td>\n",
       "    </tr>\n",
       "    <tr>\n",
       "      <th>MRN745</th>\n",
       "      <td>Gidget</td>\n",
       "      <td>Rempel</td>\n",
       "      <td>16</td>\n",
       "      <td>white</td>\n",
       "      <td>F</td>\n",
       "    </tr>\n",
       "    <tr>\n",
       "      <th>MRN422</th>\n",
       "      <td>Saul</td>\n",
       "      <td>Wuckert</td>\n",
       "      <td>37</td>\n",
       "      <td>black</td>\n",
       "      <td>M</td>\n",
       "    </tr>\n",
       "  </tbody>\n",
       "</table>\n",
       "</div>"
      ],
      "text/plain": [
       "       firstname lastname  age   race gender\n",
       "MRN953      Joan      Kon   25  asian      F\n",
       "MRN245    Ramiro     Koss   62  white      M\n",
       "MRN745    Gidget   Rempel   16  white      F\n",
       "MRN422      Saul  Wuckert   37  black      M"
      ]
     },
     "execution_count": 24,
     "metadata": {
      "tags": []
     },
     "output_type": "execute_result"
    }
   ],
   "source": [
    "df"
   ]
  },
  {
   "cell_type": "code",
   "execution_count": null,
   "metadata": {
    "colab": {},
    "colab_type": "code",
    "id": "nfe2GFooxatz"
   },
   "outputs": [],
   "source": [
    "df.to_csv('patients_sample.csv')\n",
    "\n",
    "df.to_excel('patients_sample.xlsx')\n",
    "\n",
    "df.to_json('patients_sample.json')"
   ]
  },
  {
   "cell_type": "markdown",
   "metadata": {
    "colab_type": "text",
    "id": "sqnIPoLbv7C4"
   },
   "source": [
    "Files in other formats (excel, tab-separated, json etc.) can also read/write by Pandas using different functions.\n",
    "\n",
    "More details: https://pandas.pydata.org/docs/user_guide/io.html"
   ]
  },
  {
   "cell_type": "markdown",
   "metadata": {
    "colab_type": "text",
    "id": "DzxIrnOizBZf"
   },
   "source": [
    "## Exploring Dataframes\n"
   ]
  },
  {
   "cell_type": "markdown",
   "metadata": {
    "colab_type": "text",
    "id": "Wik9o1cazSHc"
   },
   "source": [
    "### Viewing your data\n",
    "\n",
    "The first thing to do when opening a new dataset is print out a few rows to keep as a visual reference. We accomplish this with `.head()`:"
   ]
  },
  {
   "cell_type": "code",
   "execution_count": null,
   "metadata": {
    "colab": {
     "base_uri": "https://localhost:8080/",
     "height": 197
    },
    "colab_type": "code",
    "executionInfo": {
     "elapsed": 283,
     "status": "ok",
     "timestamp": 1599741131326,
     "user": {
      "displayName": "Samir Gupta",
      "photoUrl": "",
      "userId": "08477919997854778705"
     },
     "user_tz": 240
    },
    "id": "bhv0c-HJzVtS",
    "outputId": "97781044-5cc4-44e4-8174-66d74c771e57"
   },
   "outputs": [
    {
     "data": {
      "text/html": [
       "<div>\n",
       "<style scoped>\n",
       "    .dataframe tbody tr th:only-of-type {\n",
       "        vertical-align: middle;\n",
       "    }\n",
       "\n",
       "    .dataframe tbody tr th {\n",
       "        vertical-align: top;\n",
       "    }\n",
       "\n",
       "    .dataframe thead th {\n",
       "        text-align: right;\n",
       "    }\n",
       "</style>\n",
       "<table border=\"1\" class=\"dataframe\">\n",
       "  <thead>\n",
       "    <tr style=\"text-align: right;\">\n",
       "      <th></th>\n",
       "      <th>row_id</th>\n",
       "      <th>subject_id</th>\n",
       "      <th>gender</th>\n",
       "      <th>dob</th>\n",
       "      <th>dod</th>\n",
       "      <th>dod_hosp</th>\n",
       "      <th>dod_ssn</th>\n",
       "      <th>expire_flag</th>\n",
       "    </tr>\n",
       "  </thead>\n",
       "  <tbody>\n",
       "    <tr>\n",
       "      <th>0</th>\n",
       "      <td>9467</td>\n",
       "      <td>10006</td>\n",
       "      <td>F</td>\n",
       "      <td>2094-03-05 00:00:00</td>\n",
       "      <td>2165-08-12 00:00:00</td>\n",
       "      <td>2165-08-12 00:00:00</td>\n",
       "      <td>2165-08-12 00:00:00</td>\n",
       "      <td>1</td>\n",
       "    </tr>\n",
       "    <tr>\n",
       "      <th>1</th>\n",
       "      <td>9472</td>\n",
       "      <td>10011</td>\n",
       "      <td>F</td>\n",
       "      <td>2090-06-05 00:00:00</td>\n",
       "      <td>2126-08-28 00:00:00</td>\n",
       "      <td>2126-08-28 00:00:00</td>\n",
       "      <td>NaN</td>\n",
       "      <td>1</td>\n",
       "    </tr>\n",
       "    <tr>\n",
       "      <th>2</th>\n",
       "      <td>9474</td>\n",
       "      <td>10013</td>\n",
       "      <td>F</td>\n",
       "      <td>2038-09-03 00:00:00</td>\n",
       "      <td>2125-10-07 00:00:00</td>\n",
       "      <td>2125-10-07 00:00:00</td>\n",
       "      <td>2125-10-07 00:00:00</td>\n",
       "      <td>1</td>\n",
       "    </tr>\n",
       "    <tr>\n",
       "      <th>3</th>\n",
       "      <td>9478</td>\n",
       "      <td>10017</td>\n",
       "      <td>F</td>\n",
       "      <td>2075-09-21 00:00:00</td>\n",
       "      <td>2152-09-12 00:00:00</td>\n",
       "      <td>NaN</td>\n",
       "      <td>2152-09-12 00:00:00</td>\n",
       "      <td>1</td>\n",
       "    </tr>\n",
       "    <tr>\n",
       "      <th>4</th>\n",
       "      <td>9479</td>\n",
       "      <td>10019</td>\n",
       "      <td>M</td>\n",
       "      <td>2114-06-20 00:00:00</td>\n",
       "      <td>2163-05-15 00:00:00</td>\n",
       "      <td>2163-05-15 00:00:00</td>\n",
       "      <td>2163-05-15 00:00:00</td>\n",
       "      <td>1</td>\n",
       "    </tr>\n",
       "  </tbody>\n",
       "</table>\n",
       "</div>"
      ],
      "text/plain": [
       "   row_id  subject_id  ...              dod_ssn expire_flag\n",
       "0    9467       10006  ...  2165-08-12 00:00:00           1\n",
       "1    9472       10011  ...                  NaN           1\n",
       "2    9474       10013  ...  2125-10-07 00:00:00           1\n",
       "3    9478       10017  ...  2152-09-12 00:00:00           1\n",
       "4    9479       10019  ...  2163-05-15 00:00:00           1\n",
       "\n",
       "[5 rows x 8 columns]"
      ]
     },
     "execution_count": 32,
     "metadata": {
      "tags": []
     },
     "output_type": "execute_result"
    }
   ],
   "source": [
    "patients_df.head()"
   ]
  },
  {
   "cell_type": "markdown",
   "metadata": {
    "colab_type": "text",
    "id": "ssq9uJa-zeu8"
   },
   "source": [
    "`.head()` outputs the **first** five rows of your DataFrame by default, but we could also pass a number as well: `movies_df.head(10)` would output the top ten rows, for example. \n",
    "\n",
    "To see the **last** five rows use `.tail()`. `tail()` also accepts a number, and in this case we printing the bottom two rows.:"
   ]
  },
  {
   "cell_type": "code",
   "execution_count": null,
   "metadata": {
    "colab": {
     "base_uri": "https://localhost:8080/",
     "height": 107
    },
    "colab_type": "code",
    "executionInfo": {
     "elapsed": 296,
     "status": "ok",
     "timestamp": 1599737846387,
     "user": {
      "displayName": "Samir Gupta",
      "photoUrl": "",
      "userId": "08477919997854778705"
     },
     "user_tz": 240
    },
    "id": "FbC1-VWSzjlA",
    "outputId": "47604bd9-cdf2-4164-d30f-c87af4137b02"
   },
   "outputs": [
    {
     "data": {
      "text/html": [
       "<div>\n",
       "<style scoped>\n",
       "    .dataframe tbody tr th:only-of-type {\n",
       "        vertical-align: middle;\n",
       "    }\n",
       "\n",
       "    .dataframe tbody tr th {\n",
       "        vertical-align: top;\n",
       "    }\n",
       "\n",
       "    .dataframe thead th {\n",
       "        text-align: right;\n",
       "    }\n",
       "</style>\n",
       "<table border=\"1\" class=\"dataframe\">\n",
       "  <thead>\n",
       "    <tr style=\"text-align: right;\">\n",
       "      <th></th>\n",
       "      <th>row_id</th>\n",
       "      <th>subject_id</th>\n",
       "      <th>gender</th>\n",
       "      <th>dob</th>\n",
       "      <th>dod</th>\n",
       "      <th>dod_hosp</th>\n",
       "      <th>dod_ssn</th>\n",
       "      <th>expire_flag</th>\n",
       "    </tr>\n",
       "  </thead>\n",
       "  <tbody>\n",
       "    <tr>\n",
       "      <th>98</th>\n",
       "      <td>31870</td>\n",
       "      <td>44222</td>\n",
       "      <td>M</td>\n",
       "      <td>2107-06-27 00:00:00</td>\n",
       "      <td>2182-08-03 00:00:00</td>\n",
       "      <td>2182-08-03 00:00:00</td>\n",
       "      <td>NaN</td>\n",
       "      <td>1</td>\n",
       "    </tr>\n",
       "    <tr>\n",
       "      <th>99</th>\n",
       "      <td>31872</td>\n",
       "      <td>44228</td>\n",
       "      <td>F</td>\n",
       "      <td>2112-10-22 00:00:00</td>\n",
       "      <td>2171-04-14 00:00:00</td>\n",
       "      <td>2171-04-14 00:00:00</td>\n",
       "      <td>NaN</td>\n",
       "      <td>1</td>\n",
       "    </tr>\n",
       "  </tbody>\n",
       "</table>\n",
       "</div>"
      ],
      "text/plain": [
       "    row_id  subject_id gender  ...             dod_hosp dod_ssn expire_flag\n",
       "98   31870       44222      M  ...  2182-08-03 00:00:00     NaN           1\n",
       "99   31872       44228      F  ...  2171-04-14 00:00:00     NaN           1\n",
       "\n",
       "[2 rows x 8 columns]"
      ]
     },
     "execution_count": 27,
     "metadata": {
      "tags": []
     },
     "output_type": "execute_result"
    }
   ],
   "source": [
    "patients_df.tail(2)"
   ]
  },
  {
   "cell_type": "markdown",
   "metadata": {
    "colab_type": "text",
    "id": "q-fJd21XAP5M"
   },
   "source": [
    "### Getting info about your data\n",
    "\n",
    "`.info()` should be one of the very first commands you run after loading your data:"
   ]
  },
  {
   "cell_type": "code",
   "execution_count": null,
   "metadata": {
    "colab": {
     "base_uri": "https://localhost:8080/",
     "height": 283
    },
    "colab_type": "code",
    "executionInfo": {
     "elapsed": 280,
     "status": "ok",
     "timestamp": 1599741181668,
     "user": {
      "displayName": "Samir Gupta",
      "photoUrl": "",
      "userId": "08477919997854778705"
     },
     "user_tz": 240
    },
    "id": "5sthi48hASM1",
    "outputId": "5553f350-2eaf-4dae-bc26-d7372a2cf9aa"
   },
   "outputs": [
    {
     "name": "stdout",
     "output_type": "stream",
     "text": [
      "<class 'pandas.core.frame.DataFrame'>\n",
      "RangeIndex: 100 entries, 0 to 99\n",
      "Data columns (total 8 columns):\n",
      " #   Column       Non-Null Count  Dtype \n",
      "---  ------       --------------  ----- \n",
      " 0   row_id       100 non-null    int64 \n",
      " 1   subject_id   100 non-null    int64 \n",
      " 2   gender       96 non-null     object\n",
      " 3   dob          100 non-null    object\n",
      " 4   dod          100 non-null    object\n",
      " 5   dod_hosp     70 non-null     object\n",
      " 6   dod_ssn      77 non-null     object\n",
      " 7   expire_flag  100 non-null    int64 \n",
      "dtypes: int64(3), object(5)\n",
      "memory usage: 6.4+ KB\n"
     ]
    }
   ],
   "source": [
    "patients_df.info()"
   ]
  },
  {
   "cell_type": "markdown",
   "metadata": {
    "colab_type": "text",
    "id": "IGgKho58AadL"
   },
   "source": [
    "`.info()` provides the essential details about your dataset, such as the number of rows and columns, the number of non-null values, what type of data is in each column, and how much memory your DataFrame is using. \n",
    "\n",
    "Notice in our patients table we have some obvious missing values in the `gender` and `dod_hosp/ssn` columns. We'll look at how to handle those in a bit\n",
    "\n",
    "Another fast and useful attribute is `.shape`, which outputs just a tuple of (rows, columns):"
   ]
  },
  {
   "cell_type": "code",
   "execution_count": null,
   "metadata": {
    "colab": {
     "base_uri": "https://localhost:8080/",
     "height": 34
    },
    "colab_type": "code",
    "executionInfo": {
     "elapsed": 257,
     "status": "ok",
     "timestamp": 1599741310702,
     "user": {
      "displayName": "Samir Gupta",
      "photoUrl": "",
      "userId": "08477919997854778705"
     },
     "user_tz": 240
    },
    "id": "jVG5OI5gAxk4",
    "outputId": "5f1d905c-8387-4990-f5bc-cf23d0673dbc"
   },
   "outputs": [
    {
     "data": {
      "text/plain": [
       "(100, 8)"
      ]
     },
     "execution_count": 34,
     "metadata": {
      "tags": []
     },
     "output_type": "execute_result"
    }
   ],
   "source": [
    "patients_df.shape"
   ]
  },
  {
   "cell_type": "markdown",
   "metadata": {
    "colab_type": "text",
    "id": "PJJmGh78A7nP"
   },
   "source": [
    "Note that `.shape` has no parentheses and is a simple tuple of format (rows, columns). So we have **X rows** and **Y columns** in our movies DataFrame.\n",
    "\n",
    "You'll be going to `.shape` a lot when cleaning and transforming data. For example, you might filter some rows based on some criteria and then want to know quickly how many rows were removed."
   ]
  },
  {
   "cell_type": "markdown",
   "metadata": {
    "colab_type": "text",
    "id": "1uqpXK21BGqx"
   },
   "source": [
    "`.columns`: returns the columns of the dataframe\n",
    "`.dtypes`: returns the type of the columns\n",
    "\n"
   ]
  },
  {
   "cell_type": "code",
   "execution_count": null,
   "metadata": {
    "colab": {
     "base_uri": "https://localhost:8080/",
     "height": 70
    },
    "colab_type": "code",
    "executionInfo": {
     "elapsed": 296,
     "status": "ok",
     "timestamp": 1599741451538,
     "user": {
      "displayName": "Samir Gupta",
      "photoUrl": "",
      "userId": "08477919997854778705"
     },
     "user_tz": 240
    },
    "id": "yN5Xiy0jBT7D",
    "outputId": "89dd2a7b-cef4-4035-c04f-530e9b021ed6"
   },
   "outputs": [
    {
     "data": {
      "text/plain": [
       "Index(['row_id', 'subject_id', 'gender', 'dob', 'dod', 'dod_hosp', 'dod_ssn',\n",
       "       'expire_flag'],\n",
       "      dtype='object')"
      ]
     },
     "execution_count": 35,
     "metadata": {
      "tags": []
     },
     "output_type": "execute_result"
    }
   ],
   "source": [
    "patients_df.columns"
   ]
  },
  {
   "cell_type": "code",
   "execution_count": null,
   "metadata": {
    "colab": {
     "base_uri": "https://localhost:8080/",
     "height": 176
    },
    "colab_type": "code",
    "executionInfo": {
     "elapsed": 365,
     "status": "ok",
     "timestamp": 1599741460046,
     "user": {
      "displayName": "Samir Gupta",
      "photoUrl": "",
      "userId": "08477919997854778705"
     },
     "user_tz": 240
    },
    "id": "4HD5QT_ZBWTu",
    "outputId": "1fc48ad0-f6c3-42d7-e681-c32acc3524cf"
   },
   "outputs": [
    {
     "data": {
      "text/plain": [
       "row_id          int64\n",
       "subject_id      int64\n",
       "gender         object\n",
       "dob            object\n",
       "dod            object\n",
       "dod_hosp       object\n",
       "dod_ssn        object\n",
       "expire_flag     int64\n",
       "dtype: object"
      ]
     },
     "execution_count": 36,
     "metadata": {
      "tags": []
     },
     "output_type": "execute_result"
    }
   ],
   "source": [
    "patients_df.dtypes"
   ]
  },
  {
   "cell_type": "markdown",
   "metadata": {
    "colab_type": "text",
    "id": "te7g3bRbQgk-"
   },
   "source": [
    "## Handling missing values\n",
    "\n",
    "When exploring data, you’ll most likely encounter missing or null values, which are essentially placeholders for non-existent values. Most commonly you'll see Python's `None` or NumPy's `np.nan`, each of which are handled differently in some situations.\n",
    "\n",
    "There are two options in dealing with nulls: \n",
    "\n",
    "1. Get rid of rows or columns with nulls\n",
    "2. Replace nulls with non-null values, a technique known as **imputation**\n",
    "\n",
    " The first step is to check which cells in our DataFrame are null:"
   ]
  },
  {
   "cell_type": "code",
   "execution_count": null,
   "metadata": {
    "colab": {
     "base_uri": "https://localhost:8080/",
     "height": 406
    },
    "colab_type": "code",
    "executionInfo": {
     "elapsed": 324,
     "status": "ok",
     "timestamp": 1599745509360,
     "user": {
      "displayName": "Samir Gupta",
      "photoUrl": "",
      "userId": "08477919997854778705"
     },
     "user_tz": 240
    },
    "id": "CrZmUXI9QqAI",
    "outputId": "cfdb3cc4-05aa-4f96-b8a9-233fdbcc0a91"
   },
   "outputs": [
    {
     "data": {
      "text/html": [
       "<div>\n",
       "<style scoped>\n",
       "    .dataframe tbody tr th:only-of-type {\n",
       "        vertical-align: middle;\n",
       "    }\n",
       "\n",
       "    .dataframe tbody tr th {\n",
       "        vertical-align: top;\n",
       "    }\n",
       "\n",
       "    .dataframe thead th {\n",
       "        text-align: right;\n",
       "    }\n",
       "</style>\n",
       "<table border=\"1\" class=\"dataframe\">\n",
       "  <thead>\n",
       "    <tr style=\"text-align: right;\">\n",
       "      <th></th>\n",
       "      <th>row_id</th>\n",
       "      <th>subject_id</th>\n",
       "      <th>gender</th>\n",
       "      <th>dob</th>\n",
       "      <th>dod</th>\n",
       "      <th>dod_hosp</th>\n",
       "      <th>dod_ssn</th>\n",
       "      <th>expire_flag</th>\n",
       "    </tr>\n",
       "  </thead>\n",
       "  <tbody>\n",
       "    <tr>\n",
       "      <th>0</th>\n",
       "      <td>False</td>\n",
       "      <td>False</td>\n",
       "      <td>False</td>\n",
       "      <td>False</td>\n",
       "      <td>False</td>\n",
       "      <td>False</td>\n",
       "      <td>False</td>\n",
       "      <td>False</td>\n",
       "    </tr>\n",
       "    <tr>\n",
       "      <th>1</th>\n",
       "      <td>False</td>\n",
       "      <td>False</td>\n",
       "      <td>False</td>\n",
       "      <td>False</td>\n",
       "      <td>False</td>\n",
       "      <td>False</td>\n",
       "      <td>True</td>\n",
       "      <td>False</td>\n",
       "    </tr>\n",
       "    <tr>\n",
       "      <th>2</th>\n",
       "      <td>False</td>\n",
       "      <td>False</td>\n",
       "      <td>False</td>\n",
       "      <td>False</td>\n",
       "      <td>False</td>\n",
       "      <td>False</td>\n",
       "      <td>False</td>\n",
       "      <td>False</td>\n",
       "    </tr>\n",
       "    <tr>\n",
       "      <th>3</th>\n",
       "      <td>False</td>\n",
       "      <td>False</td>\n",
       "      <td>False</td>\n",
       "      <td>False</td>\n",
       "      <td>False</td>\n",
       "      <td>True</td>\n",
       "      <td>False</td>\n",
       "      <td>False</td>\n",
       "    </tr>\n",
       "    <tr>\n",
       "      <th>4</th>\n",
       "      <td>False</td>\n",
       "      <td>False</td>\n",
       "      <td>False</td>\n",
       "      <td>False</td>\n",
       "      <td>False</td>\n",
       "      <td>False</td>\n",
       "      <td>False</td>\n",
       "      <td>False</td>\n",
       "    </tr>\n",
       "    <tr>\n",
       "      <th>...</th>\n",
       "      <td>...</td>\n",
       "      <td>...</td>\n",
       "      <td>...</td>\n",
       "      <td>...</td>\n",
       "      <td>...</td>\n",
       "      <td>...</td>\n",
       "      <td>...</td>\n",
       "      <td>...</td>\n",
       "    </tr>\n",
       "    <tr>\n",
       "      <th>95</th>\n",
       "      <td>False</td>\n",
       "      <td>False</td>\n",
       "      <td>False</td>\n",
       "      <td>False</td>\n",
       "      <td>False</td>\n",
       "      <td>False</td>\n",
       "      <td>False</td>\n",
       "      <td>False</td>\n",
       "    </tr>\n",
       "    <tr>\n",
       "      <th>96</th>\n",
       "      <td>False</td>\n",
       "      <td>False</td>\n",
       "      <td>False</td>\n",
       "      <td>False</td>\n",
       "      <td>False</td>\n",
       "      <td>False</td>\n",
       "      <td>False</td>\n",
       "      <td>False</td>\n",
       "    </tr>\n",
       "    <tr>\n",
       "      <th>97</th>\n",
       "      <td>False</td>\n",
       "      <td>False</td>\n",
       "      <td>True</td>\n",
       "      <td>False</td>\n",
       "      <td>False</td>\n",
       "      <td>True</td>\n",
       "      <td>False</td>\n",
       "      <td>False</td>\n",
       "    </tr>\n",
       "    <tr>\n",
       "      <th>98</th>\n",
       "      <td>False</td>\n",
       "      <td>False</td>\n",
       "      <td>False</td>\n",
       "      <td>False</td>\n",
       "      <td>False</td>\n",
       "      <td>False</td>\n",
       "      <td>True</td>\n",
       "      <td>False</td>\n",
       "    </tr>\n",
       "    <tr>\n",
       "      <th>99</th>\n",
       "      <td>False</td>\n",
       "      <td>False</td>\n",
       "      <td>False</td>\n",
       "      <td>False</td>\n",
       "      <td>False</td>\n",
       "      <td>False</td>\n",
       "      <td>True</td>\n",
       "      <td>False</td>\n",
       "    </tr>\n",
       "  </tbody>\n",
       "</table>\n",
       "<p>100 rows × 8 columns</p>\n",
       "</div>"
      ],
      "text/plain": [
       "    row_id  subject_id  gender    dob    dod  dod_hosp  dod_ssn  expire_flag\n",
       "0    False       False   False  False  False     False    False        False\n",
       "1    False       False   False  False  False     False     True        False\n",
       "2    False       False   False  False  False     False    False        False\n",
       "3    False       False   False  False  False      True    False        False\n",
       "4    False       False   False  False  False     False    False        False\n",
       "..     ...         ...     ...    ...    ...       ...      ...          ...\n",
       "95   False       False   False  False  False     False    False        False\n",
       "96   False       False   False  False  False     False    False        False\n",
       "97   False       False    True  False  False      True    False        False\n",
       "98   False       False   False  False  False     False     True        False\n",
       "99   False       False   False  False  False     False     True        False\n",
       "\n",
       "[100 rows x 8 columns]"
      ]
     },
     "execution_count": 38,
     "metadata": {
      "tags": []
     },
     "output_type": "execute_result"
    }
   ],
   "source": [
    "patients_df.isnull()"
   ]
  },
  {
   "cell_type": "markdown",
   "metadata": {
    "colab_type": "text",
    "id": "h3d-BOl_Q0wY"
   },
   "source": [
    "Notice `isnull()` returns a DataFrame where each cell is either True or False depending on that cell's null status.\n",
    "\n",
    "To count the number of nulls in each column we use an aggregate function for summing: "
   ]
  },
  {
   "cell_type": "code",
   "execution_count": null,
   "metadata": {
    "colab": {
     "base_uri": "https://localhost:8080/",
     "height": 176
    },
    "colab_type": "code",
    "executionInfo": {
     "elapsed": 287,
     "status": "ok",
     "timestamp": 1599745528698,
     "user": {
      "displayName": "Samir Gupta",
      "photoUrl": "",
      "userId": "08477919997854778705"
     },
     "user_tz": 240
    },
    "id": "3QXEpo5KQ2ZW",
    "outputId": "17805866-066d-4e5a-af43-47239b676a24"
   },
   "outputs": [
    {
     "data": {
      "text/plain": [
       "row_id          0\n",
       "subject_id      0\n",
       "gender          4\n",
       "dob             0\n",
       "dod             0\n",
       "dod_hosp       30\n",
       "dod_ssn        23\n",
       "expire_flag     0\n",
       "dtype: int64"
      ]
     },
     "execution_count": 39,
     "metadata": {
      "tags": []
     },
     "output_type": "execute_result"
    }
   ],
   "source": [
    "patients_df.isnull().sum()"
   ]
  },
  {
   "cell_type": "markdown",
   "metadata": {
    "colab_type": "text",
    "id": "iWTBveXdQ92Z"
   },
   "source": [
    "### Removing null values\n",
    "\n",
    "Remove rows or columns with nulls is pretty simple:\n",
    "\n",
    "\n",
    "\n",
    "*   Removing rows with null values\n",
    "\n",
    "\n"
   ]
  },
  {
   "cell_type": "code",
   "execution_count": null,
   "metadata": {
    "colab": {},
    "colab_type": "code",
    "id": "eJQzf3zbROfy"
   },
   "outputs": [],
   "source": [
    "patients_df.dropna()"
   ]
  },
  {
   "cell_type": "code",
   "execution_count": null,
   "metadata": {
    "colab": {
     "base_uri": "https://localhost:8080/",
     "height": 34
    },
    "colab_type": "code",
    "executionInfo": {
     "elapsed": 302,
     "status": "ok",
     "timestamp": 1599745737691,
     "user": {
      "displayName": "Samir Gupta",
      "photoUrl": "",
      "userId": "08477919997854778705"
     },
     "user_tz": 240
    },
    "id": "WSA-t2mURpL4",
    "outputId": "d8af61ce-07bd-46f4-a468-31c7314e7e9c"
   },
   "outputs": [
    {
     "data": {
      "text/plain": [
       "(45, 8)"
      ]
     },
     "execution_count": 42,
     "metadata": {
      "tags": []
     },
     "output_type": "execute_result"
    }
   ],
   "source": [
    "patients_df.dropna().shape"
   ]
  },
  {
   "cell_type": "markdown",
   "metadata": {
    "colab_type": "text",
    "id": "SKamQXuVRvui"
   },
   "source": [
    "*   Removing columns with null values"
   ]
  },
  {
   "cell_type": "code",
   "execution_count": null,
   "metadata": {
    "colab": {},
    "colab_type": "code",
    "id": "DmqbHb8ZR1Xs"
   },
   "outputs": [],
   "source": [
    "patients_df.dropna(axis=1)"
   ]
  },
  {
   "cell_type": "code",
   "execution_count": null,
   "metadata": {
    "colab": {
     "base_uri": "https://localhost:8080/",
     "height": 34
    },
    "colab_type": "code",
    "executionInfo": {
     "elapsed": 357,
     "status": "ok",
     "timestamp": 1599745795967,
     "user": {
      "displayName": "Samir Gupta",
      "photoUrl": "",
      "userId": "08477919997854778705"
     },
     "user_tz": 240
    },
    "id": "r9B2k8BoR45-",
    "outputId": "120245d0-16c3-49e7-9d3c-1a765bc96199"
   },
   "outputs": [
    {
     "data": {
      "text/plain": [
       "(100, 5)"
      ]
     },
     "execution_count": 44,
     "metadata": {
      "tags": []
     },
     "output_type": "execute_result"
    }
   ],
   "source": [
    "patients_df.dropna(axis=1).shape"
   ]
  },
  {
   "cell_type": "markdown",
   "metadata": {
    "colab_type": "text",
    "id": "X_Q4-pqeSBy_"
   },
   "source": [
    "**Intuition side note**: What's with this `axis=1` parameter?"
   ]
  },
  {
   "cell_type": "markdown",
   "metadata": {
    "colab_type": "text",
    "id": "xFSyrNKgSIE6"
   },
   "source": [
    "### Imputation\n",
    "\n",
    "Imputation is a conventional feature engineering technique used to keep valuable data that have null values. \n",
    "\n",
    "There may be instances where dropping every row with a null value removes too big a chunk from your dataset, so instead we can impute that null with another value"
   ]
  },
  {
   "cell_type": "markdown",
   "metadata": {
    "colab_type": "text",
    "id": "UeAtiG7PSQ6n"
   },
   "source": [
    "In our patients tables, lets replace all empty gender values with Female i.e. \"F\""
   ]
  },
  {
   "cell_type": "code",
   "execution_count": null,
   "metadata": {
    "colab": {
     "base_uri": "https://localhost:8080/",
     "height": 230
    },
    "colab_type": "code",
    "executionInfo": {
     "elapsed": 245,
     "status": "ok",
     "timestamp": 1599745990674,
     "user": {
      "displayName": "Samir Gupta",
      "photoUrl": "",
      "userId": "08477919997854778705"
     },
     "user_tz": 240
    },
    "id": "3wfKA6taSOwQ",
    "outputId": "588ef0f0-0d87-4f4f-997c-77ca239e9ab5"
   },
   "outputs": [
    {
     "data": {
      "text/plain": [
       "0     F\n",
       "1     F\n",
       "2     F\n",
       "3     F\n",
       "4     M\n",
       "     ..\n",
       "95    M\n",
       "96    M\n",
       "97    F\n",
       "98    M\n",
       "99    F\n",
       "Name: gender, Length: 100, dtype: object"
      ]
     },
     "execution_count": 46,
     "metadata": {
      "tags": []
     },
     "output_type": "execute_result"
    }
   ],
   "source": [
    "patients_df['gender'].fillna(\"F\")"
   ]
  },
  {
   "cell_type": "markdown",
   "metadata": {
    "colab_type": "text",
    "id": "_Nl6bdcxSxAz"
   },
   "source": [
    "Note this doesn't change the original dataframe. We need to reassign these imputed values back to column."
   ]
  },
  {
   "cell_type": "code",
   "execution_count": null,
   "metadata": {
    "colab": {
     "base_uri": "https://localhost:8080/",
     "height": 34
    },
    "colab_type": "code",
    "executionInfo": {
     "elapsed": 271,
     "status": "ok",
     "timestamp": 1599746111983,
     "user": {
      "displayName": "Samir Gupta",
      "photoUrl": "",
      "userId": "08477919997854778705"
     },
     "user_tz": 240
    },
    "id": "vrWfm_iCTBDT",
    "outputId": "a90403bb-b52c-4dcc-c3b6-7c3432482bd5"
   },
   "outputs": [
    {
     "data": {
      "text/plain": [
       "4"
      ]
     },
     "execution_count": 48,
     "metadata": {
      "tags": []
     },
     "output_type": "execute_result"
    }
   ],
   "source": [
    "patients_df['gender'].isnull().sum()"
   ]
  },
  {
   "cell_type": "code",
   "execution_count": null,
   "metadata": {
    "colab": {},
    "colab_type": "code",
    "id": "uRmw6BAPS-DD"
   },
   "outputs": [],
   "source": [
    "patients_df['gender'] = patients_df['gender'].fillna(\"F\")"
   ]
  },
  {
   "cell_type": "code",
   "execution_count": null,
   "metadata": {
    "colab": {
     "base_uri": "https://localhost:8080/",
     "height": 34
    },
    "colab_type": "code",
    "executionInfo": {
     "elapsed": 271,
     "status": "ok",
     "timestamp": 1599746131996,
     "user": {
      "displayName": "Samir Gupta",
      "photoUrl": "",
      "userId": "08477919997854778705"
     },
     "user_tz": 240
    },
    "id": "gv6e9BllTJqj",
    "outputId": "4df929a2-67b1-4c75-d801-793eec428f12"
   },
   "outputs": [
    {
     "data": {
      "text/plain": [
       "0"
      ]
     },
     "execution_count": 50,
     "metadata": {
      "tags": []
     },
     "output_type": "execute_result"
    }
   ],
   "source": [
    "#After imputation\n",
    "patients_df['gender'].isnull().sum()"
   ]
  },
  {
   "cell_type": "markdown",
   "metadata": {
    "colab_type": "text",
    "id": "JPgmFwEATRVx"
   },
   "source": [
    "There are several ways to impute missing data. More details can be found here\n",
    "https://pandas.pydata.org/pandas-docs/stable/user_guide/missing_data.html\n",
    "\n"
   ]
  },
  {
   "cell_type": "markdown",
   "metadata": {
    "colab_type": "text",
    "id": "T523LeEtTiFZ"
   },
   "source": [
    "## Adding a new column\n",
    "\n",
    "Often you would like to add a new column to your dataframe based on existing columns. Adding new columns can handled using the indexing and assignment. \n",
    "\n",
    "For this exercise let's use a different mimic table (admissions).\n"
   ]
  },
  {
   "cell_type": "code",
   "execution_count": null,
   "metadata": {
    "colab": {},
    "colab_type": "code",
    "id": "sGI6au67fg4p"
   },
   "outputs": [],
   "source": [
    "admissions_df = pd.read_csv(mimic_data+\"/ADMISSIONS.csv\")"
   ]
  },
  {
   "cell_type": "code",
   "execution_count": null,
   "metadata": {
    "colab": {
     "base_uri": "https://localhost:8080/",
     "height": 384
    },
    "colab_type": "code",
    "executionInfo": {
     "elapsed": 356,
     "status": "ok",
     "timestamp": 1599749383508,
     "user": {
      "displayName": "Samir Gupta",
      "photoUrl": "",
      "userId": "08477919997854778705"
     },
     "user_tz": 240
    },
    "id": "XXUbb_h0UhHt",
    "outputId": "de9b4978-bde3-41ea-f898-6929effdf1b5"
   },
   "outputs": [
    {
     "data": {
      "text/html": [
       "<div>\n",
       "<style scoped>\n",
       "    .dataframe tbody tr th:only-of-type {\n",
       "        vertical-align: middle;\n",
       "    }\n",
       "\n",
       "    .dataframe tbody tr th {\n",
       "        vertical-align: top;\n",
       "    }\n",
       "\n",
       "    .dataframe thead th {\n",
       "        text-align: right;\n",
       "    }\n",
       "</style>\n",
       "<table border=\"1\" class=\"dataframe\">\n",
       "  <thead>\n",
       "    <tr style=\"text-align: right;\">\n",
       "      <th></th>\n",
       "      <th>row_id</th>\n",
       "      <th>subject_id</th>\n",
       "      <th>hadm_id</th>\n",
       "      <th>admittime</th>\n",
       "      <th>dischtime</th>\n",
       "      <th>deathtime</th>\n",
       "      <th>admission_type</th>\n",
       "      <th>admission_location</th>\n",
       "      <th>discharge_location</th>\n",
       "      <th>insurance</th>\n",
       "      <th>language</th>\n",
       "      <th>religion</th>\n",
       "      <th>marital_status</th>\n",
       "      <th>ethnicity</th>\n",
       "      <th>edregtime</th>\n",
       "      <th>edouttime</th>\n",
       "      <th>diagnosis</th>\n",
       "      <th>hospital_expire_flag</th>\n",
       "      <th>has_chartevents_data</th>\n",
       "    </tr>\n",
       "  </thead>\n",
       "  <tbody>\n",
       "    <tr>\n",
       "      <th>0</th>\n",
       "      <td>12258</td>\n",
       "      <td>10006</td>\n",
       "      <td>142345</td>\n",
       "      <td>2164-10-23 21:09:00</td>\n",
       "      <td>2164-11-01 17:15:00</td>\n",
       "      <td>NaN</td>\n",
       "      <td>EMERGENCY</td>\n",
       "      <td>EMERGENCY ROOM ADMIT</td>\n",
       "      <td>HOME HEALTH CARE</td>\n",
       "      <td>Medicare</td>\n",
       "      <td>NaN</td>\n",
       "      <td>CATHOLIC</td>\n",
       "      <td>SEPARATED</td>\n",
       "      <td>BLACK/AFRICAN AMERICAN</td>\n",
       "      <td>2164-10-23 16:43:00</td>\n",
       "      <td>2164-10-23 23:00:00</td>\n",
       "      <td>SEPSIS</td>\n",
       "      <td>0</td>\n",
       "      <td>1</td>\n",
       "    </tr>\n",
       "    <tr>\n",
       "      <th>1</th>\n",
       "      <td>12263</td>\n",
       "      <td>10011</td>\n",
       "      <td>105331</td>\n",
       "      <td>2126-08-14 22:32:00</td>\n",
       "      <td>2126-08-28 18:59:00</td>\n",
       "      <td>2126-08-28 18:59:00</td>\n",
       "      <td>EMERGENCY</td>\n",
       "      <td>TRANSFER FROM HOSP/EXTRAM</td>\n",
       "      <td>DEAD/EXPIRED</td>\n",
       "      <td>Private</td>\n",
       "      <td>NaN</td>\n",
       "      <td>CATHOLIC</td>\n",
       "      <td>SINGLE</td>\n",
       "      <td>UNKNOWN/NOT SPECIFIED</td>\n",
       "      <td>NaN</td>\n",
       "      <td>NaN</td>\n",
       "      <td>HEPATITIS B</td>\n",
       "      <td>1</td>\n",
       "      <td>1</td>\n",
       "    </tr>\n",
       "    <tr>\n",
       "      <th>2</th>\n",
       "      <td>12265</td>\n",
       "      <td>10013</td>\n",
       "      <td>165520</td>\n",
       "      <td>2125-10-04 23:36:00</td>\n",
       "      <td>2125-10-07 15:13:00</td>\n",
       "      <td>2125-10-07 15:13:00</td>\n",
       "      <td>EMERGENCY</td>\n",
       "      <td>TRANSFER FROM HOSP/EXTRAM</td>\n",
       "      <td>DEAD/EXPIRED</td>\n",
       "      <td>Medicare</td>\n",
       "      <td>NaN</td>\n",
       "      <td>CATHOLIC</td>\n",
       "      <td>NaN</td>\n",
       "      <td>UNKNOWN/NOT SPECIFIED</td>\n",
       "      <td>NaN</td>\n",
       "      <td>NaN</td>\n",
       "      <td>SEPSIS</td>\n",
       "      <td>1</td>\n",
       "      <td>1</td>\n",
       "    </tr>\n",
       "    <tr>\n",
       "      <th>3</th>\n",
       "      <td>12269</td>\n",
       "      <td>10017</td>\n",
       "      <td>199207</td>\n",
       "      <td>2149-05-26 17:19:00</td>\n",
       "      <td>2149-06-03 18:42:00</td>\n",
       "      <td>NaN</td>\n",
       "      <td>EMERGENCY</td>\n",
       "      <td>EMERGENCY ROOM ADMIT</td>\n",
       "      <td>SNF</td>\n",
       "      <td>Medicare</td>\n",
       "      <td>NaN</td>\n",
       "      <td>CATHOLIC</td>\n",
       "      <td>DIVORCED</td>\n",
       "      <td>WHITE</td>\n",
       "      <td>2149-05-26 12:08:00</td>\n",
       "      <td>2149-05-26 19:45:00</td>\n",
       "      <td>HUMERAL FRACTURE</td>\n",
       "      <td>0</td>\n",
       "      <td>1</td>\n",
       "    </tr>\n",
       "    <tr>\n",
       "      <th>4</th>\n",
       "      <td>12270</td>\n",
       "      <td>10019</td>\n",
       "      <td>177759</td>\n",
       "      <td>2163-05-14 20:43:00</td>\n",
       "      <td>2163-05-15 12:00:00</td>\n",
       "      <td>2163-05-15 12:00:00</td>\n",
       "      <td>EMERGENCY</td>\n",
       "      <td>TRANSFER FROM HOSP/EXTRAM</td>\n",
       "      <td>DEAD/EXPIRED</td>\n",
       "      <td>Medicare</td>\n",
       "      <td>NaN</td>\n",
       "      <td>CATHOLIC</td>\n",
       "      <td>DIVORCED</td>\n",
       "      <td>WHITE</td>\n",
       "      <td>NaN</td>\n",
       "      <td>NaN</td>\n",
       "      <td>ALCOHOLIC HEPATITIS</td>\n",
       "      <td>1</td>\n",
       "      <td>1</td>\n",
       "    </tr>\n",
       "  </tbody>\n",
       "</table>\n",
       "</div>"
      ],
      "text/plain": [
       "   row_id  subject_id  ...  hospital_expire_flag has_chartevents_data\n",
       "0   12258       10006  ...                     0                    1\n",
       "1   12263       10011  ...                     1                    1\n",
       "2   12265       10013  ...                     1                    1\n",
       "3   12269       10017  ...                     0                    1\n",
       "4   12270       10019  ...                     1                    1\n",
       "\n",
       "[5 rows x 19 columns]"
      ]
     },
     "execution_count": 73,
     "metadata": {
      "tags": []
     },
     "output_type": "execute_result"
    }
   ],
   "source": [
    "admissions_df.head()"
   ]
  },
  {
   "cell_type": "code",
   "execution_count": null,
   "metadata": {
    "colab": {
     "base_uri": "https://localhost:8080/",
     "height": 123
    },
    "colab_type": "code",
    "executionInfo": {
     "elapsed": 325,
     "status": "ok",
     "timestamp": 1599749405054,
     "user": {
      "displayName": "Samir Gupta",
      "photoUrl": "",
      "userId": "08477919997854778705"
     },
     "user_tz": 240
    },
    "id": "X0oXj8G7fokH",
    "outputId": "da9047e7-0c84-43b5-df5b-5027774b51bd"
   },
   "outputs": [
    {
     "data": {
      "text/plain": [
       "Index(['row_id', 'subject_id', 'hadm_id', 'admittime', 'dischtime',\n",
       "       'deathtime', 'admission_type', 'admission_location',\n",
       "       'discharge_location', 'insurance', 'language', 'religion',\n",
       "       'marital_status', 'ethnicity', 'edregtime', 'edouttime', 'diagnosis',\n",
       "       'hospital_expire_flag', 'has_chartevents_data'],\n",
       "      dtype='object')"
      ]
     },
     "execution_count": 74,
     "metadata": {
      "tags": []
     },
     "output_type": "execute_result"
    }
   ],
   "source": [
    "admissions_df.columns"
   ]
  },
  {
   "cell_type": "markdown",
   "metadata": {
    "colab_type": "text",
    "id": "xQSpFCMVfxNn"
   },
   "source": [
    "**Adding new column**\n",
    "Let demonstrate this by adding a new column called \"duration_of_stay\" in our admissions dataframe, which indicates the time spent in the hospital"
   ]
  },
  {
   "cell_type": "markdown",
   "metadata": {
    "colab_type": "text",
    "id": "ibGGx5HOUmo9"
   },
   "source": [
    "How would we compute the age at death i.e. which columns would we use?\n",
    "\n",
    "Answer:"
   ]
  },
  {
   "cell_type": "code",
   "execution_count": null,
   "metadata": {
    "colab": {
     "base_uri": "https://localhost:8080/",
     "height": 372
    },
    "colab_type": "code",
    "executionInfo": {
     "elapsed": 266,
     "status": "ok",
     "timestamp": 1599749476755,
     "user": {
      "displayName": "Samir Gupta",
      "photoUrl": "",
      "userId": "08477919997854778705"
     },
     "user_tz": 240
    },
    "id": "0ApsMqbBUvZR",
    "outputId": "1c465cc2-7c39-4a0d-88d4-16bc2c4b6459"
   },
   "outputs": [
    {
     "data": {
      "text/plain": [
       "row_id                   int64\n",
       "subject_id               int64\n",
       "hadm_id                  int64\n",
       "admittime               object\n",
       "dischtime               object\n",
       "deathtime               object\n",
       "admission_type          object\n",
       "admission_location      object\n",
       "discharge_location      object\n",
       "insurance               object\n",
       "language                object\n",
       "religion                object\n",
       "marital_status          object\n",
       "ethnicity               object\n",
       "edregtime               object\n",
       "edouttime               object\n",
       "diagnosis               object\n",
       "hospital_expire_flag     int64\n",
       "has_chartevents_data     int64\n",
       "dtype: object"
      ]
     },
     "execution_count": 75,
     "metadata": {
      "tags": []
     },
     "output_type": "execute_result"
    }
   ],
   "source": [
    "admissions_df.dtypes"
   ]
  },
  {
   "cell_type": "markdown",
   "metadata": {
    "colab_type": "text",
    "id": "5BLaaM5YUz93"
   },
   "source": [
    "Convert the date columns of interest to datetime objects (numpy python objects) thereby simplifying operations (difference between dates/times). "
   ]
  },
  {
   "cell_type": "code",
   "execution_count": null,
   "metadata": {
    "colab": {},
    "colab_type": "code",
    "id": "cyOkaXeVVLPO"
   },
   "outputs": [],
   "source": [
    "admissions_df['admittime'] = pd.to_datetime(admissions_df['admittime'])"
   ]
  },
  {
   "cell_type": "code",
   "execution_count": null,
   "metadata": {
    "colab": {},
    "colab_type": "code",
    "id": "UasitQeLVQTk"
   },
   "outputs": [],
   "source": [
    "admissions_df['dischtime'] = pd.to_datetime(admissions_df['dischtime'])"
   ]
  },
  {
   "cell_type": "code",
   "execution_count": null,
   "metadata": {
    "colab": {
     "base_uri": "https://localhost:8080/",
     "height": 372
    },
    "colab_type": "code",
    "executionInfo": {
     "elapsed": 296,
     "status": "ok",
     "timestamp": 1599749511228,
     "user": {
      "displayName": "Samir Gupta",
      "photoUrl": "",
      "userId": "08477919997854778705"
     },
     "user_tz": 240
    },
    "id": "cXRss4HOVWgf",
    "outputId": "8ca52e15-9334-423b-e775-0282d01a46df"
   },
   "outputs": [
    {
     "data": {
      "text/plain": [
       "row_id                           int64\n",
       "subject_id                       int64\n",
       "hadm_id                          int64\n",
       "admittime               datetime64[ns]\n",
       "dischtime               datetime64[ns]\n",
       "deathtime                       object\n",
       "admission_type                  object\n",
       "admission_location              object\n",
       "discharge_location              object\n",
       "insurance                       object\n",
       "language                        object\n",
       "religion                        object\n",
       "marital_status                  object\n",
       "ethnicity                       object\n",
       "edregtime                       object\n",
       "edouttime                       object\n",
       "diagnosis                       object\n",
       "hospital_expire_flag             int64\n",
       "has_chartevents_data             int64\n",
       "dtype: object"
      ]
     },
     "execution_count": 78,
     "metadata": {
      "tags": []
     },
     "output_type": "execute_result"
    }
   ],
   "source": [
    "admissions_df.dtypes"
   ]
  },
  {
   "cell_type": "markdown",
   "metadata": {
    "colab_type": "text",
    "id": "9fAtX6qYVePm"
   },
   "source": [
    "Compute difference and create new column"
   ]
  },
  {
   "cell_type": "code",
   "execution_count": null,
   "metadata": {
    "colab": {
     "base_uri": "https://localhost:8080/",
     "height": 230
    },
    "colab_type": "code",
    "executionInfo": {
     "elapsed": 259,
     "status": "ok",
     "timestamp": 1599749557444,
     "user": {
      "displayName": "Samir Gupta",
      "photoUrl": "",
      "userId": "08477919997854778705"
     },
     "user_tz": 240
    },
    "id": "4fsfGVHoViS_",
    "outputId": "b9415171-3ac5-47b8-c3d0-d03cb1ffbf74"
   },
   "outputs": [
    {
     "data": {
      "text/plain": [
       "0      8 days 20:06:00\n",
       "1     13 days 20:27:00\n",
       "2      2 days 15:37:00\n",
       "3      8 days 01:23:00\n",
       "4      0 days 15:17:00\n",
       "            ...       \n",
       "124   10 days 01:05:00\n",
       "125    0 days 13:16:00\n",
       "126   36 days 00:17:00\n",
       "127    1 days 06:05:00\n",
       "128    9 days 14:46:00\n",
       "Length: 129, dtype: timedelta64[ns]"
      ]
     },
     "execution_count": 80,
     "metadata": {
      "tags": []
     },
     "output_type": "execute_result"
    }
   ],
   "source": [
    "admissions_df['dischtime'] - admissions_df['admittime']"
   ]
  },
  {
   "cell_type": "code",
   "execution_count": null,
   "metadata": {
    "colab": {},
    "colab_type": "code",
    "id": "Rgee3UY3VoAF"
   },
   "outputs": [],
   "source": [
    "admissions_df['duration_of_stay'] = (admissions_df['dischtime'] - admissions_df['admittime'])/np.timedelta64(1, 'h')"
   ]
  },
  {
   "cell_type": "code",
   "execution_count": null,
   "metadata": {
    "colab": {
     "base_uri": "https://localhost:8080/",
     "height": 384
    },
    "colab_type": "code",
    "executionInfo": {
     "elapsed": 330,
     "status": "ok",
     "timestamp": 1599749597959,
     "user": {
      "displayName": "Samir Gupta",
      "photoUrl": "",
      "userId": "08477919997854778705"
     },
     "user_tz": 240
    },
    "id": "uZXUombcVwMZ",
    "outputId": "09a3b274-a058-49d5-c684-d2fbc77d71bd"
   },
   "outputs": [
    {
     "data": {
      "text/html": [
       "<div>\n",
       "<style scoped>\n",
       "    .dataframe tbody tr th:only-of-type {\n",
       "        vertical-align: middle;\n",
       "    }\n",
       "\n",
       "    .dataframe tbody tr th {\n",
       "        vertical-align: top;\n",
       "    }\n",
       "\n",
       "    .dataframe thead th {\n",
       "        text-align: right;\n",
       "    }\n",
       "</style>\n",
       "<table border=\"1\" class=\"dataframe\">\n",
       "  <thead>\n",
       "    <tr style=\"text-align: right;\">\n",
       "      <th></th>\n",
       "      <th>row_id</th>\n",
       "      <th>subject_id</th>\n",
       "      <th>hadm_id</th>\n",
       "      <th>admittime</th>\n",
       "      <th>dischtime</th>\n",
       "      <th>deathtime</th>\n",
       "      <th>admission_type</th>\n",
       "      <th>admission_location</th>\n",
       "      <th>discharge_location</th>\n",
       "      <th>insurance</th>\n",
       "      <th>language</th>\n",
       "      <th>religion</th>\n",
       "      <th>marital_status</th>\n",
       "      <th>ethnicity</th>\n",
       "      <th>edregtime</th>\n",
       "      <th>edouttime</th>\n",
       "      <th>diagnosis</th>\n",
       "      <th>hospital_expire_flag</th>\n",
       "      <th>has_chartevents_data</th>\n",
       "      <th>duration_of_stay</th>\n",
       "    </tr>\n",
       "  </thead>\n",
       "  <tbody>\n",
       "    <tr>\n",
       "      <th>0</th>\n",
       "      <td>12258</td>\n",
       "      <td>10006</td>\n",
       "      <td>142345</td>\n",
       "      <td>2164-10-23 21:09:00</td>\n",
       "      <td>2164-11-01 17:15:00</td>\n",
       "      <td>NaN</td>\n",
       "      <td>EMERGENCY</td>\n",
       "      <td>EMERGENCY ROOM ADMIT</td>\n",
       "      <td>HOME HEALTH CARE</td>\n",
       "      <td>Medicare</td>\n",
       "      <td>NaN</td>\n",
       "      <td>CATHOLIC</td>\n",
       "      <td>SEPARATED</td>\n",
       "      <td>BLACK/AFRICAN AMERICAN</td>\n",
       "      <td>2164-10-23 16:43:00</td>\n",
       "      <td>2164-10-23 23:00:00</td>\n",
       "      <td>SEPSIS</td>\n",
       "      <td>0</td>\n",
       "      <td>1</td>\n",
       "      <td>212.100000</td>\n",
       "    </tr>\n",
       "    <tr>\n",
       "      <th>1</th>\n",
       "      <td>12263</td>\n",
       "      <td>10011</td>\n",
       "      <td>105331</td>\n",
       "      <td>2126-08-14 22:32:00</td>\n",
       "      <td>2126-08-28 18:59:00</td>\n",
       "      <td>2126-08-28 18:59:00</td>\n",
       "      <td>EMERGENCY</td>\n",
       "      <td>TRANSFER FROM HOSP/EXTRAM</td>\n",
       "      <td>DEAD/EXPIRED</td>\n",
       "      <td>Private</td>\n",
       "      <td>NaN</td>\n",
       "      <td>CATHOLIC</td>\n",
       "      <td>SINGLE</td>\n",
       "      <td>UNKNOWN/NOT SPECIFIED</td>\n",
       "      <td>NaN</td>\n",
       "      <td>NaN</td>\n",
       "      <td>HEPATITIS B</td>\n",
       "      <td>1</td>\n",
       "      <td>1</td>\n",
       "      <td>332.450000</td>\n",
       "    </tr>\n",
       "    <tr>\n",
       "      <th>2</th>\n",
       "      <td>12265</td>\n",
       "      <td>10013</td>\n",
       "      <td>165520</td>\n",
       "      <td>2125-10-04 23:36:00</td>\n",
       "      <td>2125-10-07 15:13:00</td>\n",
       "      <td>2125-10-07 15:13:00</td>\n",
       "      <td>EMERGENCY</td>\n",
       "      <td>TRANSFER FROM HOSP/EXTRAM</td>\n",
       "      <td>DEAD/EXPIRED</td>\n",
       "      <td>Medicare</td>\n",
       "      <td>NaN</td>\n",
       "      <td>CATHOLIC</td>\n",
       "      <td>NaN</td>\n",
       "      <td>UNKNOWN/NOT SPECIFIED</td>\n",
       "      <td>NaN</td>\n",
       "      <td>NaN</td>\n",
       "      <td>SEPSIS</td>\n",
       "      <td>1</td>\n",
       "      <td>1</td>\n",
       "      <td>63.616667</td>\n",
       "    </tr>\n",
       "    <tr>\n",
       "      <th>3</th>\n",
       "      <td>12269</td>\n",
       "      <td>10017</td>\n",
       "      <td>199207</td>\n",
       "      <td>2149-05-26 17:19:00</td>\n",
       "      <td>2149-06-03 18:42:00</td>\n",
       "      <td>NaN</td>\n",
       "      <td>EMERGENCY</td>\n",
       "      <td>EMERGENCY ROOM ADMIT</td>\n",
       "      <td>SNF</td>\n",
       "      <td>Medicare</td>\n",
       "      <td>NaN</td>\n",
       "      <td>CATHOLIC</td>\n",
       "      <td>DIVORCED</td>\n",
       "      <td>WHITE</td>\n",
       "      <td>2149-05-26 12:08:00</td>\n",
       "      <td>2149-05-26 19:45:00</td>\n",
       "      <td>HUMERAL FRACTURE</td>\n",
       "      <td>0</td>\n",
       "      <td>1</td>\n",
       "      <td>193.383333</td>\n",
       "    </tr>\n",
       "    <tr>\n",
       "      <th>4</th>\n",
       "      <td>12270</td>\n",
       "      <td>10019</td>\n",
       "      <td>177759</td>\n",
       "      <td>2163-05-14 20:43:00</td>\n",
       "      <td>2163-05-15 12:00:00</td>\n",
       "      <td>2163-05-15 12:00:00</td>\n",
       "      <td>EMERGENCY</td>\n",
       "      <td>TRANSFER FROM HOSP/EXTRAM</td>\n",
       "      <td>DEAD/EXPIRED</td>\n",
       "      <td>Medicare</td>\n",
       "      <td>NaN</td>\n",
       "      <td>CATHOLIC</td>\n",
       "      <td>DIVORCED</td>\n",
       "      <td>WHITE</td>\n",
       "      <td>NaN</td>\n",
       "      <td>NaN</td>\n",
       "      <td>ALCOHOLIC HEPATITIS</td>\n",
       "      <td>1</td>\n",
       "      <td>1</td>\n",
       "      <td>15.283333</td>\n",
       "    </tr>\n",
       "  </tbody>\n",
       "</table>\n",
       "</div>"
      ],
      "text/plain": [
       "   row_id  subject_id  ...  has_chartevents_data duration_of_stay\n",
       "0   12258       10006  ...                     1       212.100000\n",
       "1   12263       10011  ...                     1       332.450000\n",
       "2   12265       10013  ...                     1        63.616667\n",
       "3   12269       10017  ...                     1       193.383333\n",
       "4   12270       10019  ...                     1        15.283333\n",
       "\n",
       "[5 rows x 20 columns]"
      ]
     },
     "execution_count": 82,
     "metadata": {
      "tags": []
     },
     "output_type": "execute_result"
    }
   ],
   "source": [
    "admissions_df.head()"
   ]
  },
  {
   "cell_type": "markdown",
   "metadata": {
    "colab_type": "text",
    "id": "rZcdu6HuWaYc"
   },
   "source": [
    "## Understanding your variables\n",
    "\n",
    "Using `describe()` on an entire DataFrame we can get a summary of the distribution of continuous variables:"
   ]
  },
  {
   "cell_type": "code",
   "execution_count": null,
   "metadata": {
    "colab": {
     "base_uri": "https://localhost:8080/",
     "height": 287
    },
    "colab_type": "code",
    "executionInfo": {
     "elapsed": 285,
     "status": "ok",
     "timestamp": 1599749616961,
     "user": {
      "displayName": "Samir Gupta",
      "photoUrl": "",
      "userId": "08477919997854778705"
     },
     "user_tz": 240
    },
    "id": "cXNpN7KnWeG8",
    "outputId": "cef872e9-97a2-4478-d793-a94d1c459119"
   },
   "outputs": [
    {
     "data": {
      "text/html": [
       "<div>\n",
       "<style scoped>\n",
       "    .dataframe tbody tr th:only-of-type {\n",
       "        vertical-align: middle;\n",
       "    }\n",
       "\n",
       "    .dataframe tbody tr th {\n",
       "        vertical-align: top;\n",
       "    }\n",
       "\n",
       "    .dataframe thead th {\n",
       "        text-align: right;\n",
       "    }\n",
       "</style>\n",
       "<table border=\"1\" class=\"dataframe\">\n",
       "  <thead>\n",
       "    <tr style=\"text-align: right;\">\n",
       "      <th></th>\n",
       "      <th>row_id</th>\n",
       "      <th>subject_id</th>\n",
       "      <th>hadm_id</th>\n",
       "      <th>hospital_expire_flag</th>\n",
       "      <th>has_chartevents_data</th>\n",
       "      <th>duration_of_stay</th>\n",
       "    </tr>\n",
       "  </thead>\n",
       "  <tbody>\n",
       "    <tr>\n",
       "      <th>count</th>\n",
       "      <td>129.000000</td>\n",
       "      <td>129.000000</td>\n",
       "      <td>129.000000</td>\n",
       "      <td>129.000000</td>\n",
       "      <td>129.000000</td>\n",
       "      <td>129.000000</td>\n",
       "    </tr>\n",
       "    <tr>\n",
       "      <th>mean</th>\n",
       "      <td>28036.441860</td>\n",
       "      <td>28010.410853</td>\n",
       "      <td>152343.441860</td>\n",
       "      <td>0.310078</td>\n",
       "      <td>0.992248</td>\n",
       "      <td>223.975969</td>\n",
       "    </tr>\n",
       "    <tr>\n",
       "      <th>std</th>\n",
       "      <td>14036.548988</td>\n",
       "      <td>16048.502883</td>\n",
       "      <td>27858.788248</td>\n",
       "      <td>0.464328</td>\n",
       "      <td>0.088045</td>\n",
       "      <td>305.290791</td>\n",
       "    </tr>\n",
       "    <tr>\n",
       "      <th>min</th>\n",
       "      <td>12258.000000</td>\n",
       "      <td>10006.000000</td>\n",
       "      <td>100375.000000</td>\n",
       "      <td>0.000000</td>\n",
       "      <td>0.000000</td>\n",
       "      <td>0.916667</td>\n",
       "    </tr>\n",
       "    <tr>\n",
       "      <th>25%</th>\n",
       "      <td>12339.000000</td>\n",
       "      <td>10088.000000</td>\n",
       "      <td>128293.000000</td>\n",
       "      <td>0.000000</td>\n",
       "      <td>1.000000</td>\n",
       "      <td>79.550000</td>\n",
       "    </tr>\n",
       "    <tr>\n",
       "      <th>50%</th>\n",
       "      <td>39869.000000</td>\n",
       "      <td>40310.000000</td>\n",
       "      <td>157235.000000</td>\n",
       "      <td>0.000000</td>\n",
       "      <td>1.000000</td>\n",
       "      <td>159.216667</td>\n",
       "    </tr>\n",
       "    <tr>\n",
       "      <th>75%</th>\n",
       "      <td>40463.000000</td>\n",
       "      <td>42135.000000</td>\n",
       "      <td>174739.000000</td>\n",
       "      <td>1.000000</td>\n",
       "      <td>1.000000</td>\n",
       "      <td>255.483333</td>\n",
       "    </tr>\n",
       "    <tr>\n",
       "      <th>max</th>\n",
       "      <td>41092.000000</td>\n",
       "      <td>44228.000000</td>\n",
       "      <td>199395.000000</td>\n",
       "      <td>1.000000</td>\n",
       "      <td>1.000000</td>\n",
       "      <td>2975.633333</td>\n",
       "    </tr>\n",
       "  </tbody>\n",
       "</table>\n",
       "</div>"
      ],
      "text/plain": [
       "             row_id    subject_id  ...  has_chartevents_data  duration_of_stay\n",
       "count    129.000000    129.000000  ...            129.000000        129.000000\n",
       "mean   28036.441860  28010.410853  ...              0.992248        223.975969\n",
       "std    14036.548988  16048.502883  ...              0.088045        305.290791\n",
       "min    12258.000000  10006.000000  ...              0.000000          0.916667\n",
       "25%    12339.000000  10088.000000  ...              1.000000         79.550000\n",
       "50%    39869.000000  40310.000000  ...              1.000000        159.216667\n",
       "75%    40463.000000  42135.000000  ...              1.000000        255.483333\n",
       "max    41092.000000  44228.000000  ...              1.000000       2975.633333\n",
       "\n",
       "[8 rows x 6 columns]"
      ]
     },
     "execution_count": 83,
     "metadata": {
      "tags": []
     },
     "output_type": "execute_result"
    }
   ],
   "source": [
    "admissions_df.describe()"
   ]
  },
  {
   "cell_type": "code",
   "execution_count": null,
   "metadata": {
    "colab": {
     "base_uri": "https://localhost:8080/",
     "height": 282
    },
    "colab_type": "code",
    "executionInfo": {
     "elapsed": 421,
     "status": "ok",
     "timestamp": 1599749641541,
     "user": {
      "displayName": "Samir Gupta",
      "photoUrl": "",
      "userId": "08477919997854778705"
     },
     "user_tz": 240
    },
    "id": "TpF8c35CXTA3",
    "outputId": "ba145bba-6fe5-4bc9-e12f-4a22964e7d1f"
   },
   "outputs": [
    {
     "data": {
      "text/plain": [
       "<matplotlib.axes._subplots.AxesSubplot at 0x7f4f159d3978>"
      ]
     },
     "execution_count": 84,
     "metadata": {
      "tags": []
     },
     "output_type": "execute_result"
    },
    {
     "data": {
      "image/png": "[encoded data removed]",
      "text/plain": [
       "<Figure size 432x288 with 1 Axes>"
      ]
     },
     "metadata": {
      "needs_background": "light",
      "tags": []
     },
     "output_type": "display_data"
    }
   ],
   "source": [
    "admissions_df['duration_of_stay'].hist()"
   ]
  },
  {
   "cell_type": "markdown",
   "metadata": {
    "colab_type": "text",
    "id": "b3W4zIr0gxDi"
   },
   "source": [
    ".describe()` can also be used on a categorical variable to get the count of rows, unique count of categories, top category, and freq of top category:"
   ]
  },
  {
   "cell_type": "code",
   "execution_count": null,
   "metadata": {
    "colab": {
     "base_uri": "https://localhost:8080/",
     "height": 105
    },
    "colab_type": "code",
    "executionInfo": {
     "elapsed": 308,
     "status": "ok",
     "timestamp": 1599749742449,
     "user": {
      "displayName": "Samir Gupta",
      "photoUrl": "",
      "userId": "08477919997854778705"
     },
     "user_tz": 240
    },
    "id": "LPjvZ2P_gyFd",
    "outputId": "c04babf5-521e-4eb6-b763-5159ab3b2eba"
   },
   "outputs": [
    {
     "data": {
      "text/plain": [
       "count       129\n",
       "unique        9\n",
       "top       WHITE\n",
       "freq         86\n",
       "Name: ethnicity, dtype: object"
      ]
     },
     "execution_count": 85,
     "metadata": {
      "tags": []
     },
     "output_type": "execute_result"
    }
   ],
   "source": [
    "admissions_df['ethnicity'].describe()"
   ]
  },
  {
   "cell_type": "markdown",
   "metadata": {
    "colab_type": "text",
    "id": "Hg06J3DKhFlA"
   },
   "source": [
    "`.value_counts()` can tell us the frequency of all values in a column:"
   ]
  },
  {
   "cell_type": "code",
   "execution_count": null,
   "metadata": {
    "colab": {
     "base_uri": "https://localhost:8080/",
     "height": 194
    },
    "colab_type": "code",
    "executionInfo": {
     "elapsed": 267,
     "status": "ok",
     "timestamp": 1599749796510,
     "user": {
      "displayName": "Samir Gupta",
      "photoUrl": "",
      "userId": "08477919997854778705"
     },
     "user_tz": 240
    },
    "id": "Gc2bY6mmhGaS",
    "outputId": "605b19d1-de1d-4a63-ecb8-97c3fa7fd06d"
   },
   "outputs": [
    {
     "data": {
      "text/plain": [
       "WHITE                                                       86\n",
       "HISPANIC/LATINO - PUERTO RICAN                              15\n",
       "UNKNOWN/NOT SPECIFIED                                       11\n",
       "BLACK/AFRICAN AMERICAN                                       7\n",
       "OTHER                                                        3\n",
       "AMERICAN INDIAN/ALASKA NATIVE FEDERALLY RECOGNIZED TRIBE     2\n",
       "HISPANIC OR LATINO                                           2\n",
       "ASIAN                                                        2\n",
       "UNABLE TO OBTAIN                                             1\n",
       "Name: ethnicity, dtype: int64"
      ]
     },
     "execution_count": 86,
     "metadata": {
      "tags": []
     },
     "output_type": "execute_result"
    }
   ],
   "source": [
    "admissions_df['ethnicity'].value_counts()"
   ]
  },
  {
   "cell_type": "markdown",
   "metadata": {
    "colab_type": "text",
    "id": "VKdzEjIiXnOZ"
   },
   "source": [
    "## Selecting and filtering data"
   ]
  },
  {
   "cell_type": "markdown",
   "metadata": {
    "colab_type": "text",
    "id": "Bg9mKLflho6g"
   },
   "source": [
    "\n",
    "**df[] provides some convenience shortcuts**\n",
    "\n",
    "For a DataFrame, basic indexing selects the columns.\n",
    "\n",
    "Selecting a single column:\n"
   ]
  },
  {
   "cell_type": "code",
   "execution_count": null,
   "metadata": {
    "colab": {
     "base_uri": "https://localhost:8080/",
     "height": 230
    },
    "colab_type": "code",
    "executionInfo": {
     "elapsed": 310,
     "status": "ok",
     "timestamp": 1599749971175,
     "user": {
      "displayName": "Samir Gupta",
      "photoUrl": "",
      "userId": "08477919997854778705"
     },
     "user_tz": 240
    },
    "id": "bDMIXL2WhWzb",
    "outputId": "840521a8-018d-40e6-843e-7fec06b4e861"
   },
   "outputs": [
    {
     "data": {
      "text/plain": [
       "0      10006\n",
       "1      10011\n",
       "2      10013\n",
       "3      10017\n",
       "4      10019\n",
       "       ...  \n",
       "124    44083\n",
       "125    44154\n",
       "126    44212\n",
       "127    44222\n",
       "128    44228\n",
       "Name: subject_id, Length: 129, dtype: int64"
      ]
     },
     "execution_count": 87,
     "metadata": {
      "tags": []
     },
     "output_type": "execute_result"
    }
   ],
   "source": [
    "admissions_df['subject_id']"
   ]
  },
  {
   "cell_type": "markdown",
   "metadata": {
    "colab_type": "text",
    "id": "E7Kpdp6Kh3yv"
   },
   "source": [
    "or multiple columns:"
   ]
  },
  {
   "cell_type": "code",
   "execution_count": null,
   "metadata": {
    "colab": {
     "base_uri": "https://localhost:8080/",
     "height": 406
    },
    "colab_type": "code",
    "executionInfo": {
     "elapsed": 287,
     "status": "ok",
     "timestamp": 1599750009342,
     "user": {
      "displayName": "Samir Gupta",
      "photoUrl": "",
      "userId": "08477919997854778705"
     },
     "user_tz": 240
    },
    "id": "oXen5ohBh66N",
    "outputId": "207dcae1-ba97-4d7e-c4ce-a69edf61366a"
   },
   "outputs": [
    {
     "data": {
      "text/html": [
       "<div>\n",
       "<style scoped>\n",
       "    .dataframe tbody tr th:only-of-type {\n",
       "        vertical-align: middle;\n",
       "    }\n",
       "\n",
       "    .dataframe tbody tr th {\n",
       "        vertical-align: top;\n",
       "    }\n",
       "\n",
       "    .dataframe thead th {\n",
       "        text-align: right;\n",
       "    }\n",
       "</style>\n",
       "<table border=\"1\" class=\"dataframe\">\n",
       "  <thead>\n",
       "    <tr style=\"text-align: right;\">\n",
       "      <th></th>\n",
       "      <th>subject_id</th>\n",
       "      <th>hadm_id</th>\n",
       "    </tr>\n",
       "  </thead>\n",
       "  <tbody>\n",
       "    <tr>\n",
       "      <th>0</th>\n",
       "      <td>10006</td>\n",
       "      <td>142345</td>\n",
       "    </tr>\n",
       "    <tr>\n",
       "      <th>1</th>\n",
       "      <td>10011</td>\n",
       "      <td>105331</td>\n",
       "    </tr>\n",
       "    <tr>\n",
       "      <th>2</th>\n",
       "      <td>10013</td>\n",
       "      <td>165520</td>\n",
       "    </tr>\n",
       "    <tr>\n",
       "      <th>3</th>\n",
       "      <td>10017</td>\n",
       "      <td>199207</td>\n",
       "    </tr>\n",
       "    <tr>\n",
       "      <th>4</th>\n",
       "      <td>10019</td>\n",
       "      <td>177759</td>\n",
       "    </tr>\n",
       "    <tr>\n",
       "      <th>...</th>\n",
       "      <td>...</td>\n",
       "      <td>...</td>\n",
       "    </tr>\n",
       "    <tr>\n",
       "      <th>124</th>\n",
       "      <td>44083</td>\n",
       "      <td>198330</td>\n",
       "    </tr>\n",
       "    <tr>\n",
       "      <th>125</th>\n",
       "      <td>44154</td>\n",
       "      <td>174245</td>\n",
       "    </tr>\n",
       "    <tr>\n",
       "      <th>126</th>\n",
       "      <td>44212</td>\n",
       "      <td>163189</td>\n",
       "    </tr>\n",
       "    <tr>\n",
       "      <th>127</th>\n",
       "      <td>44222</td>\n",
       "      <td>192189</td>\n",
       "    </tr>\n",
       "    <tr>\n",
       "      <th>128</th>\n",
       "      <td>44228</td>\n",
       "      <td>103379</td>\n",
       "    </tr>\n",
       "  </tbody>\n",
       "</table>\n",
       "<p>129 rows × 2 columns</p>\n",
       "</div>"
      ],
      "text/plain": [
       "     subject_id  hadm_id\n",
       "0         10006   142345\n",
       "1         10011   105331\n",
       "2         10013   165520\n",
       "3         10017   199207\n",
       "4         10019   177759\n",
       "..          ...      ...\n",
       "124       44083   198330\n",
       "125       44154   174245\n",
       "126       44212   163189\n",
       "127       44222   192189\n",
       "128       44228   103379\n",
       "\n",
       "[129 rows x 2 columns]"
      ]
     },
     "execution_count": 89,
     "metadata": {
      "tags": []
     },
     "output_type": "execute_result"
    }
   ],
   "source": [
    "admissions_df[['subject_id', 'hadm_id']]"
   ]
  },
  {
   "cell_type": "markdown",
   "metadata": {
    "colab_type": "text",
    "id": "C6h9zz1eiCMt"
   },
   "source": [
    "\n",
    "But, slicing accesses the rows:\n"
   ]
  },
  {
   "cell_type": "code",
   "execution_count": null,
   "metadata": {
    "colab": {
     "base_uri": "https://localhost:8080/",
     "height": 401
    },
    "colab_type": "code",
    "executionInfo": {
     "elapsed": 335,
     "status": "ok",
     "timestamp": 1599750041306,
     "user": {
      "displayName": "Samir Gupta",
      "photoUrl": "",
      "userId": "08477919997854778705"
     },
     "user_tz": 240
    },
    "id": "07ik54Z6iEWd",
    "outputId": "ea67ba99-3955-4f45-eebc-e252124d19a9"
   },
   "outputs": [
    {
     "data": {
      "text/html": [
       "<div>\n",
       "<style scoped>\n",
       "    .dataframe tbody tr th:only-of-type {\n",
       "        vertical-align: middle;\n",
       "    }\n",
       "\n",
       "    .dataframe tbody tr th {\n",
       "        vertical-align: top;\n",
       "    }\n",
       "\n",
       "    .dataframe thead th {\n",
       "        text-align: right;\n",
       "    }\n",
       "</style>\n",
       "<table border=\"1\" class=\"dataframe\">\n",
       "  <thead>\n",
       "    <tr style=\"text-align: right;\">\n",
       "      <th></th>\n",
       "      <th>row_id</th>\n",
       "      <th>subject_id</th>\n",
       "      <th>hadm_id</th>\n",
       "      <th>admittime</th>\n",
       "      <th>dischtime</th>\n",
       "      <th>deathtime</th>\n",
       "      <th>admission_type</th>\n",
       "      <th>admission_location</th>\n",
       "      <th>discharge_location</th>\n",
       "      <th>insurance</th>\n",
       "      <th>language</th>\n",
       "      <th>religion</th>\n",
       "      <th>marital_status</th>\n",
       "      <th>ethnicity</th>\n",
       "      <th>edregtime</th>\n",
       "      <th>edouttime</th>\n",
       "      <th>diagnosis</th>\n",
       "      <th>hospital_expire_flag</th>\n",
       "      <th>has_chartevents_data</th>\n",
       "      <th>duration_of_stay</th>\n",
       "    </tr>\n",
       "  </thead>\n",
       "  <tbody>\n",
       "    <tr>\n",
       "      <th>10</th>\n",
       "      <td>12285</td>\n",
       "      <td>10035</td>\n",
       "      <td>110244</td>\n",
       "      <td>2129-03-03 16:06:00</td>\n",
       "      <td>2129-03-07 18:19:00</td>\n",
       "      <td>NaN</td>\n",
       "      <td>ELECTIVE</td>\n",
       "      <td>PHYS REFERRAL/NORMAL DELI</td>\n",
       "      <td>HOME</td>\n",
       "      <td>Medicare</td>\n",
       "      <td>NaN</td>\n",
       "      <td>NOT SPECIFIED</td>\n",
       "      <td>MARRIED</td>\n",
       "      <td>WHITE</td>\n",
       "      <td>NaN</td>\n",
       "      <td>NaN</td>\n",
       "      <td>RECURRENT LEFT CAROTID STENOSIS,PRE HYDRATION</td>\n",
       "      <td>0</td>\n",
       "      <td>1</td>\n",
       "      <td>98.216667</td>\n",
       "    </tr>\n",
       "    <tr>\n",
       "      <th>11</th>\n",
       "      <td>12286</td>\n",
       "      <td>10036</td>\n",
       "      <td>189483</td>\n",
       "      <td>2185-03-24 16:56:00</td>\n",
       "      <td>2185-03-26 09:15:00</td>\n",
       "      <td>2185-03-26 09:15:00</td>\n",
       "      <td>EMERGENCY</td>\n",
       "      <td>EMERGENCY ROOM ADMIT</td>\n",
       "      <td>DEAD/EXPIRED</td>\n",
       "      <td>Medicare</td>\n",
       "      <td>NaN</td>\n",
       "      <td>JEWISH</td>\n",
       "      <td>MARRIED</td>\n",
       "      <td>WHITE</td>\n",
       "      <td>2185-03-24 12:38:00</td>\n",
       "      <td>2185-03-24 19:14:00</td>\n",
       "      <td>SEPSIS</td>\n",
       "      <td>1</td>\n",
       "      <td>1</td>\n",
       "      <td>40.316667</td>\n",
       "    </tr>\n",
       "    <tr>\n",
       "      <th>12</th>\n",
       "      <td>12288</td>\n",
       "      <td>10038</td>\n",
       "      <td>111115</td>\n",
       "      <td>2144-02-09 17:53:00</td>\n",
       "      <td>2144-02-21 13:30:00</td>\n",
       "      <td>NaN</td>\n",
       "      <td>EMERGENCY</td>\n",
       "      <td>EMERGENCY ROOM ADMIT</td>\n",
       "      <td>SNF</td>\n",
       "      <td>Medicare</td>\n",
       "      <td>ENGL</td>\n",
       "      <td>CATHOLIC</td>\n",
       "      <td>WIDOWED</td>\n",
       "      <td>WHITE</td>\n",
       "      <td>2144-02-09 13:35:00</td>\n",
       "      <td>2144-02-09 20:12:00</td>\n",
       "      <td>FAILURE TO THRIVE</td>\n",
       "      <td>0</td>\n",
       "      <td>1</td>\n",
       "      <td>283.616667</td>\n",
       "    </tr>\n",
       "    <tr>\n",
       "      <th>13</th>\n",
       "      <td>12290</td>\n",
       "      <td>10040</td>\n",
       "      <td>157839</td>\n",
       "      <td>2147-02-23 11:43:00</td>\n",
       "      <td>2147-02-27 16:19:00</td>\n",
       "      <td>NaN</td>\n",
       "      <td>EMERGENCY</td>\n",
       "      <td>TRANSFER FROM HOSP/EXTRAM</td>\n",
       "      <td>REHAB/DISTINCT PART HOSP</td>\n",
       "      <td>Medicare</td>\n",
       "      <td>NaN</td>\n",
       "      <td>UNOBTAINABLE</td>\n",
       "      <td>NaN</td>\n",
       "      <td>UNKNOWN/NOT SPECIFIED</td>\n",
       "      <td>NaN</td>\n",
       "      <td>NaN</td>\n",
       "      <td>PULMONARY EDEMA\\CATH</td>\n",
       "      <td>0</td>\n",
       "      <td>1</td>\n",
       "      <td>100.600000</td>\n",
       "    </tr>\n",
       "    <tr>\n",
       "      <th>14</th>\n",
       "      <td>12292</td>\n",
       "      <td>10042</td>\n",
       "      <td>148562</td>\n",
       "      <td>2147-02-06 12:38:00</td>\n",
       "      <td>2147-02-17 19:00:00</td>\n",
       "      <td>NaN</td>\n",
       "      <td>EMERGENCY</td>\n",
       "      <td>TRANSFER FROM HOSP/EXTRAM</td>\n",
       "      <td>HOME HEALTH CARE</td>\n",
       "      <td>Medicare</td>\n",
       "      <td>NaN</td>\n",
       "      <td>UNOBTAINABLE</td>\n",
       "      <td>NaN</td>\n",
       "      <td>WHITE</td>\n",
       "      <td>NaN</td>\n",
       "      <td>NaN</td>\n",
       "      <td>UNSTABLE ANGINA</td>\n",
       "      <td>0</td>\n",
       "      <td>1</td>\n",
       "      <td>270.366667</td>\n",
       "    </tr>\n",
       "  </tbody>\n",
       "</table>\n",
       "</div>"
      ],
      "text/plain": [
       "    row_id  subject_id  ...  has_chartevents_data duration_of_stay\n",
       "10   12285       10035  ...                     1        98.216667\n",
       "11   12286       10036  ...                     1        40.316667\n",
       "12   12288       10038  ...                     1       283.616667\n",
       "13   12290       10040  ...                     1       100.600000\n",
       "14   12292       10042  ...                     1       270.366667\n",
       "\n",
       "[5 rows x 20 columns]"
      ]
     },
     "execution_count": 90,
     "metadata": {
      "tags": []
     },
     "output_type": "execute_result"
    }
   ],
   "source": [
    "admissions_df[10:15]"
   ]
  },
  {
   "cell_type": "markdown",
   "metadata": {
    "colab_type": "text",
    "id": "C4UOdVTvjBYP"
   },
   "source": [
    "\n",
    "#### Conditional selections\n",
    "Often, you want to select rows based on a certain condition. \n",
    "\n",
    "\n",
    "For example, what if we want to filter our admission DataFrame to show only admissions where patients with ethnicity \"White\" were admitted.\n",
    "\n",
    "This can be done with 'boolean indexing' (like a where clause in SQL) and comparable to numpy.\n",
    "\n",
    "The indexer (or boolean mask) should be 1-dimensional and the same length as the thing being indexed."
   ]
  },
  {
   "cell_type": "code",
   "execution_count": null,
   "metadata": {
    "colab": {
     "base_uri": "https://localhost:8080/",
     "height": 230
    },
    "colab_type": "code",
    "executionInfo": {
     "elapsed": 232,
     "status": "ok",
     "timestamp": 1599753659084,
     "user": {
      "displayName": "Samir Gupta",
      "photoUrl": "",
      "userId": "08477919997854778705"
     },
     "user_tz": 240
    },
    "id": "cZuGr5oQvx9w",
    "outputId": "636c14c5-c631-4da8-c4af-09700dd76ac9"
   },
   "outputs": [
    {
     "data": {
      "text/plain": [
       "0      False\n",
       "1      False\n",
       "2      False\n",
       "3       True\n",
       "4       True\n",
       "       ...  \n",
       "124     True\n",
       "125     True\n",
       "126    False\n",
       "127     True\n",
       "128     True\n",
       "Name: ethnicity, Length: 129, dtype: bool"
      ]
     },
     "execution_count": 91,
     "metadata": {
      "tags": []
     },
     "output_type": "execute_result"
    }
   ],
   "source": [
    "admissions_df['ethnicity'] == \"WHITE\""
   ]
  },
  {
   "cell_type": "code",
   "execution_count": null,
   "metadata": {
    "colab": {
     "base_uri": "https://localhost:8080/",
     "height": 760
    },
    "colab_type": "code",
    "executionInfo": {
     "elapsed": 360,
     "status": "ok",
     "timestamp": 1599753818493,
     "user": {
      "displayName": "Samir Gupta",
      "photoUrl": "",
      "userId": "08477919997854778705"
     },
     "user_tz": 240
    },
    "id": "2rKo4pzBwVz6",
    "outputId": "72d253ac-5cf1-4bbe-ad8c-51642f55e80a"
   },
   "outputs": [
    {
     "data": {
      "text/html": [
       "<div>\n",
       "<style scoped>\n",
       "    .dataframe tbody tr th:only-of-type {\n",
       "        vertical-align: middle;\n",
       "    }\n",
       "\n",
       "    .dataframe tbody tr th {\n",
       "        vertical-align: top;\n",
       "    }\n",
       "\n",
       "    .dataframe thead th {\n",
       "        text-align: right;\n",
       "    }\n",
       "</style>\n",
       "<table border=\"1\" class=\"dataframe\">\n",
       "  <thead>\n",
       "    <tr style=\"text-align: right;\">\n",
       "      <th></th>\n",
       "      <th>row_id</th>\n",
       "      <th>subject_id</th>\n",
       "      <th>hadm_id</th>\n",
       "      <th>admittime</th>\n",
       "      <th>dischtime</th>\n",
       "      <th>deathtime</th>\n",
       "      <th>admission_type</th>\n",
       "      <th>admission_location</th>\n",
       "      <th>discharge_location</th>\n",
       "      <th>insurance</th>\n",
       "      <th>language</th>\n",
       "      <th>religion</th>\n",
       "      <th>marital_status</th>\n",
       "      <th>ethnicity</th>\n",
       "      <th>edregtime</th>\n",
       "      <th>edouttime</th>\n",
       "      <th>diagnosis</th>\n",
       "      <th>hospital_expire_flag</th>\n",
       "      <th>has_chartevents_data</th>\n",
       "      <th>duration_of_stay</th>\n",
       "    </tr>\n",
       "  </thead>\n",
       "  <tbody>\n",
       "    <tr>\n",
       "      <th>3</th>\n",
       "      <td>12269</td>\n",
       "      <td>10017</td>\n",
       "      <td>199207</td>\n",
       "      <td>2149-05-26 17:19:00</td>\n",
       "      <td>2149-06-03 18:42:00</td>\n",
       "      <td>NaN</td>\n",
       "      <td>EMERGENCY</td>\n",
       "      <td>EMERGENCY ROOM ADMIT</td>\n",
       "      <td>SNF</td>\n",
       "      <td>Medicare</td>\n",
       "      <td>NaN</td>\n",
       "      <td>CATHOLIC</td>\n",
       "      <td>DIVORCED</td>\n",
       "      <td>WHITE</td>\n",
       "      <td>2149-05-26 12:08:00</td>\n",
       "      <td>2149-05-26 19:45:00</td>\n",
       "      <td>HUMERAL FRACTURE</td>\n",
       "      <td>0</td>\n",
       "      <td>1</td>\n",
       "      <td>193.383333</td>\n",
       "    </tr>\n",
       "    <tr>\n",
       "      <th>4</th>\n",
       "      <td>12270</td>\n",
       "      <td>10019</td>\n",
       "      <td>177759</td>\n",
       "      <td>2163-05-14 20:43:00</td>\n",
       "      <td>2163-05-15 12:00:00</td>\n",
       "      <td>2163-05-15 12:00:00</td>\n",
       "      <td>EMERGENCY</td>\n",
       "      <td>TRANSFER FROM HOSP/EXTRAM</td>\n",
       "      <td>DEAD/EXPIRED</td>\n",
       "      <td>Medicare</td>\n",
       "      <td>NaN</td>\n",
       "      <td>CATHOLIC</td>\n",
       "      <td>DIVORCED</td>\n",
       "      <td>WHITE</td>\n",
       "      <td>NaN</td>\n",
       "      <td>NaN</td>\n",
       "      <td>ALCOHOLIC HEPATITIS</td>\n",
       "      <td>1</td>\n",
       "      <td>1</td>\n",
       "      <td>15.283333</td>\n",
       "    </tr>\n",
       "    <tr>\n",
       "      <th>5</th>\n",
       "      <td>12277</td>\n",
       "      <td>10026</td>\n",
       "      <td>103770</td>\n",
       "      <td>2195-05-17 07:39:00</td>\n",
       "      <td>2195-05-24 11:45:00</td>\n",
       "      <td>NaN</td>\n",
       "      <td>EMERGENCY</td>\n",
       "      <td>EMERGENCY ROOM ADMIT</td>\n",
       "      <td>REHAB/DISTINCT PART HOSP</td>\n",
       "      <td>Medicare</td>\n",
       "      <td>NaN</td>\n",
       "      <td>OTHER</td>\n",
       "      <td>NaN</td>\n",
       "      <td>WHITE</td>\n",
       "      <td>2195-05-17 01:49:00</td>\n",
       "      <td>2195-05-17 08:29:00</td>\n",
       "      <td>STROKE/TIA</td>\n",
       "      <td>0</td>\n",
       "      <td>1</td>\n",
       "      <td>172.100000</td>\n",
       "    </tr>\n",
       "    <tr>\n",
       "      <th>6</th>\n",
       "      <td>12278</td>\n",
       "      <td>10027</td>\n",
       "      <td>199395</td>\n",
       "      <td>2190-07-13 07:15:00</td>\n",
       "      <td>2190-07-25 14:00:00</td>\n",
       "      <td>NaN</td>\n",
       "      <td>ELECTIVE</td>\n",
       "      <td>PHYS REFERRAL/NORMAL DELI</td>\n",
       "      <td>SNF</td>\n",
       "      <td>Medicare</td>\n",
       "      <td>NaN</td>\n",
       "      <td>CATHOLIC</td>\n",
       "      <td>MARRIED</td>\n",
       "      <td>WHITE</td>\n",
       "      <td>NaN</td>\n",
       "      <td>NaN</td>\n",
       "      <td>MITRAL REGURGITATION;CORONARY ARTERY DISEASE\\...</td>\n",
       "      <td>0</td>\n",
       "      <td>1</td>\n",
       "      <td>294.750000</td>\n",
       "    </tr>\n",
       "    <tr>\n",
       "      <th>7</th>\n",
       "      <td>12280</td>\n",
       "      <td>10029</td>\n",
       "      <td>132349</td>\n",
       "      <td>2139-09-22 10:58:00</td>\n",
       "      <td>2139-10-02 14:29:00</td>\n",
       "      <td>NaN</td>\n",
       "      <td>EMERGENCY</td>\n",
       "      <td>EMERGENCY ROOM ADMIT</td>\n",
       "      <td>SNF</td>\n",
       "      <td>Medicare</td>\n",
       "      <td>NaN</td>\n",
       "      <td>PROTESTANT QUAKER</td>\n",
       "      <td>DIVORCED</td>\n",
       "      <td>WHITE</td>\n",
       "      <td>2139-09-22 06:03:00</td>\n",
       "      <td>2139-09-22 11:50:00</td>\n",
       "      <td>SYNCOPE;TELEMETRY</td>\n",
       "      <td>0</td>\n",
       "      <td>1</td>\n",
       "      <td>243.516667</td>\n",
       "    </tr>\n",
       "    <tr>\n",
       "      <th>...</th>\n",
       "      <td>...</td>\n",
       "      <td>...</td>\n",
       "      <td>...</td>\n",
       "      <td>...</td>\n",
       "      <td>...</td>\n",
       "      <td>...</td>\n",
       "      <td>...</td>\n",
       "      <td>...</td>\n",
       "      <td>...</td>\n",
       "      <td>...</td>\n",
       "      <td>...</td>\n",
       "      <td>...</td>\n",
       "      <td>...</td>\n",
       "      <td>...</td>\n",
       "      <td>...</td>\n",
       "      <td>...</td>\n",
       "      <td>...</td>\n",
       "      <td>...</td>\n",
       "      <td>...</td>\n",
       "      <td>...</td>\n",
       "    </tr>\n",
       "    <tr>\n",
       "      <th>123</th>\n",
       "      <td>41054</td>\n",
       "      <td>44083</td>\n",
       "      <td>131048</td>\n",
       "      <td>2112-05-22 15:37:00</td>\n",
       "      <td>2112-05-25 13:30:00</td>\n",
       "      <td>NaN</td>\n",
       "      <td>EMERGENCY</td>\n",
       "      <td>EMERGENCY ROOM ADMIT</td>\n",
       "      <td>HOME HEALTH CARE</td>\n",
       "      <td>Private</td>\n",
       "      <td>ENGL</td>\n",
       "      <td>CATHOLIC</td>\n",
       "      <td>SINGLE</td>\n",
       "      <td>WHITE</td>\n",
       "      <td>2112-05-22 09:25:00</td>\n",
       "      <td>2112-05-22 17:04:00</td>\n",
       "      <td>SHORTNESS OF BREATH</td>\n",
       "      <td>0</td>\n",
       "      <td>1</td>\n",
       "      <td>69.883333</td>\n",
       "    </tr>\n",
       "    <tr>\n",
       "      <th>124</th>\n",
       "      <td>41055</td>\n",
       "      <td>44083</td>\n",
       "      <td>198330</td>\n",
       "      <td>2112-05-28 15:45:00</td>\n",
       "      <td>2112-06-07 16:50:00</td>\n",
       "      <td>NaN</td>\n",
       "      <td>EMERGENCY</td>\n",
       "      <td>EMERGENCY ROOM ADMIT</td>\n",
       "      <td>HOME</td>\n",
       "      <td>Private</td>\n",
       "      <td>ENGL</td>\n",
       "      <td>CATHOLIC</td>\n",
       "      <td>SINGLE</td>\n",
       "      <td>WHITE</td>\n",
       "      <td>2112-05-28 13:16:00</td>\n",
       "      <td>2112-05-28 17:30:00</td>\n",
       "      <td>PERICARDIAL EFFUSION</td>\n",
       "      <td>0</td>\n",
       "      <td>1</td>\n",
       "      <td>241.083333</td>\n",
       "    </tr>\n",
       "    <tr>\n",
       "      <th>125</th>\n",
       "      <td>41070</td>\n",
       "      <td>44154</td>\n",
       "      <td>174245</td>\n",
       "      <td>2178-05-14 20:29:00</td>\n",
       "      <td>2178-05-15 09:45:00</td>\n",
       "      <td>2178-05-15 09:45:00</td>\n",
       "      <td>EMERGENCY</td>\n",
       "      <td>EMERGENCY ROOM ADMIT</td>\n",
       "      <td>DEAD/EXPIRED</td>\n",
       "      <td>Medicare</td>\n",
       "      <td>ENGL</td>\n",
       "      <td>PROTESTANT QUAKER</td>\n",
       "      <td>MARRIED</td>\n",
       "      <td>WHITE</td>\n",
       "      <td>2178-05-14 17:37:00</td>\n",
       "      <td>2178-05-14 22:08:00</td>\n",
       "      <td>ALTERED MENTAL STATUS</td>\n",
       "      <td>1</td>\n",
       "      <td>1</td>\n",
       "      <td>13.266667</td>\n",
       "    </tr>\n",
       "    <tr>\n",
       "      <th>127</th>\n",
       "      <td>41090</td>\n",
       "      <td>44222</td>\n",
       "      <td>192189</td>\n",
       "      <td>2180-07-19 06:55:00</td>\n",
       "      <td>2180-07-20 13:00:00</td>\n",
       "      <td>NaN</td>\n",
       "      <td>EMERGENCY</td>\n",
       "      <td>EMERGENCY ROOM ADMIT</td>\n",
       "      <td>HOME</td>\n",
       "      <td>Medicare</td>\n",
       "      <td>ENGL</td>\n",
       "      <td>CATHOLIC</td>\n",
       "      <td>SINGLE</td>\n",
       "      <td>WHITE</td>\n",
       "      <td>2180-07-19 04:50:00</td>\n",
       "      <td>2180-07-19 08:23:00</td>\n",
       "      <td>BRADYCARDIA</td>\n",
       "      <td>0</td>\n",
       "      <td>1</td>\n",
       "      <td>30.083333</td>\n",
       "    </tr>\n",
       "    <tr>\n",
       "      <th>128</th>\n",
       "      <td>41092</td>\n",
       "      <td>44228</td>\n",
       "      <td>103379</td>\n",
       "      <td>2170-12-15 03:14:00</td>\n",
       "      <td>2170-12-24 18:00:00</td>\n",
       "      <td>NaN</td>\n",
       "      <td>EMERGENCY</td>\n",
       "      <td>EMERGENCY ROOM ADMIT</td>\n",
       "      <td>HOME HEALTH CARE</td>\n",
       "      <td>Private</td>\n",
       "      <td>ENGL</td>\n",
       "      <td>NOT SPECIFIED</td>\n",
       "      <td>SINGLE</td>\n",
       "      <td>WHITE</td>\n",
       "      <td>2170-12-15 02:22:00</td>\n",
       "      <td>2170-12-15 05:25:00</td>\n",
       "      <td>CHOLANGITIS</td>\n",
       "      <td>0</td>\n",
       "      <td>1</td>\n",
       "      <td>230.766667</td>\n",
       "    </tr>\n",
       "  </tbody>\n",
       "</table>\n",
       "<p>86 rows × 20 columns</p>\n",
       "</div>"
      ],
      "text/plain": [
       "     row_id  subject_id  ...  has_chartevents_data duration_of_stay\n",
       "3     12269       10017  ...                     1       193.383333\n",
       "4     12270       10019  ...                     1        15.283333\n",
       "5     12277       10026  ...                     1       172.100000\n",
       "6     12278       10027  ...                     1       294.750000\n",
       "7     12280       10029  ...                     1       243.516667\n",
       "..      ...         ...  ...                   ...              ...\n",
       "123   41054       44083  ...                     1        69.883333\n",
       "124   41055       44083  ...                     1       241.083333\n",
       "125   41070       44154  ...                     1        13.266667\n",
       "127   41090       44222  ...                     1        30.083333\n",
       "128   41092       44228  ...                     1       230.766667\n",
       "\n",
       "[86 rows x 20 columns]"
      ]
     },
     "execution_count": 94,
     "metadata": {
      "tags": []
     },
     "output_type": "execute_result"
    }
   ],
   "source": [
    "admissions_df[admissions_df['ethnicity'] == \"WHITE\"]"
   ]
  },
  {
   "cell_type": "markdown",
   "metadata": {
    "colab_type": "text",
    "id": "HzD712C6xHW4"
   },
   "source": [
    "Create a new dataframe with the selected row"
   ]
  },
  {
   "cell_type": "code",
   "execution_count": null,
   "metadata": {
    "colab": {},
    "colab_type": "code",
    "id": "D2UiZEUxxBnH"
   },
   "outputs": [],
   "source": [
    "subset_df = admissions_df[admissions_df['ethnicity'] == \"WHITE\"]"
   ]
  },
  {
   "cell_type": "code",
   "execution_count": null,
   "metadata": {
    "colab": {
     "base_uri": "https://localhost:8080/",
     "height": 34
    },
    "colab_type": "code",
    "executionInfo": {
     "elapsed": 233,
     "status": "ok",
     "timestamp": 1599754025337,
     "user": {
      "displayName": "Samir Gupta",
      "photoUrl": "",
      "userId": "08477919997854778705"
     },
     "user_tz": 240
    },
    "id": "3UozTY9GxOMu",
    "outputId": "61e4ad2f-0e08-4ba2-f87b-a9c0f730a604"
   },
   "outputs": [
    {
     "data": {
      "text/plain": [
       "((129, 20), (86, 20))"
      ]
     },
     "execution_count": 97,
     "metadata": {
      "tags": []
     },
     "output_type": "execute_result"
    }
   ],
   "source": [
    "(admissions_df.shape, subset_df.shape)"
   ]
  },
  {
   "cell_type": "markdown",
   "metadata": {
    "colab_type": "text",
    "id": "Un3ejwWZxXfu"
   },
   "source": [
    "**Exercise**:\n",
    "Select all admissions where the duration of stay was more than 1 week (168 hours)"
   ]
  },
  {
   "cell_type": "code",
   "execution_count": null,
   "metadata": {
    "colab": {
     "base_uri": "https://localhost:8080/",
     "height": 384
    },
    "colab_type": "code",
    "executionInfo": {
     "elapsed": 267,
     "status": "ok",
     "timestamp": 1599754261773,
     "user": {
      "displayName": "Samir Gupta",
      "photoUrl": "",
      "userId": "08477919997854778705"
     },
     "user_tz": 240
    },
    "id": "DFcl11IMxfva",
    "outputId": "b6e5da0f-60d9-4e0b-e40f-9a004465e1f0"
   },
   "outputs": [
    {
     "data": {
      "text/html": [
       "<div>\n",
       "<style scoped>\n",
       "    .dataframe tbody tr th:only-of-type {\n",
       "        vertical-align: middle;\n",
       "    }\n",
       "\n",
       "    .dataframe tbody tr th {\n",
       "        vertical-align: top;\n",
       "    }\n",
       "\n",
       "    .dataframe thead th {\n",
       "        text-align: right;\n",
       "    }\n",
       "</style>\n",
       "<table border=\"1\" class=\"dataframe\">\n",
       "  <thead>\n",
       "    <tr style=\"text-align: right;\">\n",
       "      <th></th>\n",
       "      <th>row_id</th>\n",
       "      <th>subject_id</th>\n",
       "      <th>hadm_id</th>\n",
       "      <th>admittime</th>\n",
       "      <th>dischtime</th>\n",
       "      <th>deathtime</th>\n",
       "      <th>admission_type</th>\n",
       "      <th>admission_location</th>\n",
       "      <th>discharge_location</th>\n",
       "      <th>insurance</th>\n",
       "      <th>language</th>\n",
       "      <th>religion</th>\n",
       "      <th>marital_status</th>\n",
       "      <th>ethnicity</th>\n",
       "      <th>edregtime</th>\n",
       "      <th>edouttime</th>\n",
       "      <th>diagnosis</th>\n",
       "      <th>hospital_expire_flag</th>\n",
       "      <th>has_chartevents_data</th>\n",
       "      <th>duration_of_stay</th>\n",
       "    </tr>\n",
       "  </thead>\n",
       "  <tbody>\n",
       "    <tr>\n",
       "      <th>0</th>\n",
       "      <td>12258</td>\n",
       "      <td>10006</td>\n",
       "      <td>142345</td>\n",
       "      <td>2164-10-23 21:09:00</td>\n",
       "      <td>2164-11-01 17:15:00</td>\n",
       "      <td>NaN</td>\n",
       "      <td>EMERGENCY</td>\n",
       "      <td>EMERGENCY ROOM ADMIT</td>\n",
       "      <td>HOME HEALTH CARE</td>\n",
       "      <td>Medicare</td>\n",
       "      <td>NaN</td>\n",
       "      <td>CATHOLIC</td>\n",
       "      <td>SEPARATED</td>\n",
       "      <td>BLACK/AFRICAN AMERICAN</td>\n",
       "      <td>2164-10-23 16:43:00</td>\n",
       "      <td>2164-10-23 23:00:00</td>\n",
       "      <td>SEPSIS</td>\n",
       "      <td>0</td>\n",
       "      <td>1</td>\n",
       "      <td>212.100000</td>\n",
       "    </tr>\n",
       "    <tr>\n",
       "      <th>1</th>\n",
       "      <td>12263</td>\n",
       "      <td>10011</td>\n",
       "      <td>105331</td>\n",
       "      <td>2126-08-14 22:32:00</td>\n",
       "      <td>2126-08-28 18:59:00</td>\n",
       "      <td>2126-08-28 18:59:00</td>\n",
       "      <td>EMERGENCY</td>\n",
       "      <td>TRANSFER FROM HOSP/EXTRAM</td>\n",
       "      <td>DEAD/EXPIRED</td>\n",
       "      <td>Private</td>\n",
       "      <td>NaN</td>\n",
       "      <td>CATHOLIC</td>\n",
       "      <td>SINGLE</td>\n",
       "      <td>UNKNOWN/NOT SPECIFIED</td>\n",
       "      <td>NaN</td>\n",
       "      <td>NaN</td>\n",
       "      <td>HEPATITIS B</td>\n",
       "      <td>1</td>\n",
       "      <td>1</td>\n",
       "      <td>332.450000</td>\n",
       "    </tr>\n",
       "    <tr>\n",
       "      <th>3</th>\n",
       "      <td>12269</td>\n",
       "      <td>10017</td>\n",
       "      <td>199207</td>\n",
       "      <td>2149-05-26 17:19:00</td>\n",
       "      <td>2149-06-03 18:42:00</td>\n",
       "      <td>NaN</td>\n",
       "      <td>EMERGENCY</td>\n",
       "      <td>EMERGENCY ROOM ADMIT</td>\n",
       "      <td>SNF</td>\n",
       "      <td>Medicare</td>\n",
       "      <td>NaN</td>\n",
       "      <td>CATHOLIC</td>\n",
       "      <td>DIVORCED</td>\n",
       "      <td>WHITE</td>\n",
       "      <td>2149-05-26 12:08:00</td>\n",
       "      <td>2149-05-26 19:45:00</td>\n",
       "      <td>HUMERAL FRACTURE</td>\n",
       "      <td>0</td>\n",
       "      <td>1</td>\n",
       "      <td>193.383333</td>\n",
       "    </tr>\n",
       "    <tr>\n",
       "      <th>5</th>\n",
       "      <td>12277</td>\n",
       "      <td>10026</td>\n",
       "      <td>103770</td>\n",
       "      <td>2195-05-17 07:39:00</td>\n",
       "      <td>2195-05-24 11:45:00</td>\n",
       "      <td>NaN</td>\n",
       "      <td>EMERGENCY</td>\n",
       "      <td>EMERGENCY ROOM ADMIT</td>\n",
       "      <td>REHAB/DISTINCT PART HOSP</td>\n",
       "      <td>Medicare</td>\n",
       "      <td>NaN</td>\n",
       "      <td>OTHER</td>\n",
       "      <td>NaN</td>\n",
       "      <td>WHITE</td>\n",
       "      <td>2195-05-17 01:49:00</td>\n",
       "      <td>2195-05-17 08:29:00</td>\n",
       "      <td>STROKE/TIA</td>\n",
       "      <td>0</td>\n",
       "      <td>1</td>\n",
       "      <td>172.100000</td>\n",
       "    </tr>\n",
       "    <tr>\n",
       "      <th>6</th>\n",
       "      <td>12278</td>\n",
       "      <td>10027</td>\n",
       "      <td>199395</td>\n",
       "      <td>2190-07-13 07:15:00</td>\n",
       "      <td>2190-07-25 14:00:00</td>\n",
       "      <td>NaN</td>\n",
       "      <td>ELECTIVE</td>\n",
       "      <td>PHYS REFERRAL/NORMAL DELI</td>\n",
       "      <td>SNF</td>\n",
       "      <td>Medicare</td>\n",
       "      <td>NaN</td>\n",
       "      <td>CATHOLIC</td>\n",
       "      <td>MARRIED</td>\n",
       "      <td>WHITE</td>\n",
       "      <td>NaN</td>\n",
       "      <td>NaN</td>\n",
       "      <td>MITRAL REGURGITATION;CORONARY ARTERY DISEASE\\...</td>\n",
       "      <td>0</td>\n",
       "      <td>1</td>\n",
       "      <td>294.750000</td>\n",
       "    </tr>\n",
       "  </tbody>\n",
       "</table>\n",
       "</div>"
      ],
      "text/plain": [
       "   row_id  subject_id  ...  has_chartevents_data duration_of_stay\n",
       "0   12258       10006  ...                     1       212.100000\n",
       "1   12263       10011  ...                     1       332.450000\n",
       "3   12269       10017  ...                     1       193.383333\n",
       "5   12277       10026  ...                     1       172.100000\n",
       "6   12278       10027  ...                     1       294.750000\n",
       "\n",
       "[5 rows x 20 columns]"
      ]
     },
     "execution_count": 105,
     "metadata": {
      "tags": []
     },
     "output_type": "execute_result"
    }
   ],
   "source": [
    "admissions_df[admissions_df['duration_of_stay'] > 168].head()"
   ]
  },
  {
   "cell_type": "code",
   "execution_count": null,
   "metadata": {
    "colab": {
     "base_uri": "https://localhost:8080/",
     "height": 34
    },
    "colab_type": "code",
    "executionInfo": {
     "elapsed": 309,
     "status": "ok",
     "timestamp": 1599754275209,
     "user": {
      "displayName": "Samir Gupta",
      "photoUrl": "",
      "userId": "08477919997854778705"
     },
     "user_tz": 240
    },
    "id": "00pVlpvayPEX",
    "outputId": "b0222a8f-9f45-4b80-89a7-941f3ee40153"
   },
   "outputs": [
    {
     "data": {
      "text/plain": [
       "(60, 20)"
      ]
     },
     "execution_count": 106,
     "metadata": {
      "tags": []
     },
     "output_type": "execute_result"
    }
   ],
   "source": [
    "admissions_df[admissions_df['duration_of_stay'] > 168].shape"
   ]
  },
  {
   "cell_type": "markdown",
   "metadata": {
    "colab_type": "text",
    "id": "E0-krPYtyXPD"
   },
   "source": [
    "We can make some richer conditionals by using logical operators `|` for \"or\" and `&` for \"and\".\n",
    "\n",
    "Let's filter the the DataFrame to show only admissions with ethnicity `BLACK/AFRICAN AMERICAN ` or `ASIAN`"
   ]
  },
  {
   "cell_type": "code",
   "execution_count": null,
   "metadata": {
    "colab": {},
    "colab_type": "code",
    "id": "XnxFqsHEy2yM"
   },
   "outputs": [],
   "source": [
    "boolean_condition = (admissions_df['ethnicity'] == \"BLACK/AFRICAN AMERICAN\") | (admissions_df['ethnicity'] == \"ASIAN\")"
   ]
  },
  {
   "cell_type": "code",
   "execution_count": null,
   "metadata": {
    "colab": {
     "base_uri": "https://localhost:8080/",
     "height": 123
    },
    "colab_type": "code",
    "executionInfo": {
     "elapsed": 254,
     "status": "ok",
     "timestamp": 1599754531446,
     "user": {
      "displayName": "Samir Gupta",
      "photoUrl": "",
      "userId": "08477919997854778705"
     },
     "user_tz": 240
    },
    "id": "UEB3KOhRzMyy",
    "outputId": "a6fb044e-8603-4c4b-daba-77a9e9548550"
   },
   "outputs": [
    {
     "data": {
      "text/plain": [
       "0     True\n",
       "1    False\n",
       "2    False\n",
       "3    False\n",
       "4    False\n",
       "Name: ethnicity, dtype: bool"
      ]
     },
     "execution_count": 108,
     "metadata": {
      "tags": []
     },
     "output_type": "execute_result"
    }
   ],
   "source": [
    "boolean_condition.head()"
   ]
  },
  {
   "cell_type": "code",
   "execution_count": null,
   "metadata": {
    "colab": {
     "base_uri": "https://localhost:8080/",
     "height": 384
    },
    "colab_type": "code",
    "executionInfo": {
     "elapsed": 227,
     "status": "ok",
     "timestamp": 1599754555865,
     "user": {
      "displayName": "Samir Gupta",
      "photoUrl": "",
      "userId": "08477919997854778705"
     },
     "user_tz": 240
    },
    "id": "FWc5EFPxzQVD",
    "outputId": "3ac3fcf6-12fe-4736-9c4c-56858ddd9a09"
   },
   "outputs": [
    {
     "data": {
      "text/html": [
       "<div>\n",
       "<style scoped>\n",
       "    .dataframe tbody tr th:only-of-type {\n",
       "        vertical-align: middle;\n",
       "    }\n",
       "\n",
       "    .dataframe tbody tr th {\n",
       "        vertical-align: top;\n",
       "    }\n",
       "\n",
       "    .dataframe thead th {\n",
       "        text-align: right;\n",
       "    }\n",
       "</style>\n",
       "<table border=\"1\" class=\"dataframe\">\n",
       "  <thead>\n",
       "    <tr style=\"text-align: right;\">\n",
       "      <th></th>\n",
       "      <th>row_id</th>\n",
       "      <th>subject_id</th>\n",
       "      <th>hadm_id</th>\n",
       "      <th>admittime</th>\n",
       "      <th>dischtime</th>\n",
       "      <th>deathtime</th>\n",
       "      <th>admission_type</th>\n",
       "      <th>admission_location</th>\n",
       "      <th>discharge_location</th>\n",
       "      <th>insurance</th>\n",
       "      <th>language</th>\n",
       "      <th>religion</th>\n",
       "      <th>marital_status</th>\n",
       "      <th>ethnicity</th>\n",
       "      <th>edregtime</th>\n",
       "      <th>edouttime</th>\n",
       "      <th>diagnosis</th>\n",
       "      <th>hospital_expire_flag</th>\n",
       "      <th>has_chartevents_data</th>\n",
       "      <th>duration_of_stay</th>\n",
       "    </tr>\n",
       "  </thead>\n",
       "  <tbody>\n",
       "    <tr>\n",
       "      <th>0</th>\n",
       "      <td>12258</td>\n",
       "      <td>10006</td>\n",
       "      <td>142345</td>\n",
       "      <td>2164-10-23 21:09:00</td>\n",
       "      <td>2164-11-01 17:15:00</td>\n",
       "      <td>NaN</td>\n",
       "      <td>EMERGENCY</td>\n",
       "      <td>EMERGENCY ROOM ADMIT</td>\n",
       "      <td>HOME HEALTH CARE</td>\n",
       "      <td>Medicare</td>\n",
       "      <td>NaN</td>\n",
       "      <td>CATHOLIC</td>\n",
       "      <td>SEPARATED</td>\n",
       "      <td>BLACK/AFRICAN AMERICAN</td>\n",
       "      <td>2164-10-23 16:43:00</td>\n",
       "      <td>2164-10-23 23:00:00</td>\n",
       "      <td>SEPSIS</td>\n",
       "      <td>0</td>\n",
       "      <td>1</td>\n",
       "      <td>212.100000</td>\n",
       "    </tr>\n",
       "    <tr>\n",
       "      <th>28</th>\n",
       "      <td>12326</td>\n",
       "      <td>10076</td>\n",
       "      <td>198503</td>\n",
       "      <td>2107-03-21 21:16:00</td>\n",
       "      <td>2107-03-30 12:00:00</td>\n",
       "      <td>2107-03-30 12:00:00</td>\n",
       "      <td>EMERGENCY</td>\n",
       "      <td>EMERGENCY ROOM ADMIT</td>\n",
       "      <td>DEAD/EXPIRED</td>\n",
       "      <td>Medicare</td>\n",
       "      <td>MAND</td>\n",
       "      <td>NOT SPECIFIED</td>\n",
       "      <td>MARRIED</td>\n",
       "      <td>ASIAN</td>\n",
       "      <td>2107-03-21 17:24:00</td>\n",
       "      <td>2107-03-22 01:12:00</td>\n",
       "      <td>LUNG CANCER;SHORTNESS OF BREATH</td>\n",
       "      <td>1</td>\n",
       "      <td>1</td>\n",
       "      <td>206.733333</td>\n",
       "    </tr>\n",
       "    <tr>\n",
       "      <th>36</th>\n",
       "      <td>12345</td>\n",
       "      <td>10094</td>\n",
       "      <td>168074</td>\n",
       "      <td>2180-02-29 18:54:00</td>\n",
       "      <td>2180-03-10 17:35:00</td>\n",
       "      <td>NaN</td>\n",
       "      <td>EMERGENCY</td>\n",
       "      <td>EMERGENCY ROOM ADMIT</td>\n",
       "      <td>SNF</td>\n",
       "      <td>Medicare</td>\n",
       "      <td>NaN</td>\n",
       "      <td>UNOBTAINABLE</td>\n",
       "      <td>NaN</td>\n",
       "      <td>BLACK/AFRICAN AMERICAN</td>\n",
       "      <td>2180-02-29 12:40:00</td>\n",
       "      <td>2180-02-29 21:53:00</td>\n",
       "      <td>HYPOTENSION;TELEMETRY</td>\n",
       "      <td>0</td>\n",
       "      <td>1</td>\n",
       "      <td>238.683333</td>\n",
       "    </tr>\n",
       "    <tr>\n",
       "      <th>37</th>\n",
       "      <td>12346</td>\n",
       "      <td>10094</td>\n",
       "      <td>122928</td>\n",
       "      <td>2180-03-15 22:35:00</td>\n",
       "      <td>2180-03-20 18:00:00</td>\n",
       "      <td>2180-03-20 18:00:00</td>\n",
       "      <td>EMERGENCY</td>\n",
       "      <td>EMERGENCY ROOM ADMIT</td>\n",
       "      <td>DEAD/EXPIRED</td>\n",
       "      <td>Medicare</td>\n",
       "      <td>NaN</td>\n",
       "      <td>UNOBTAINABLE</td>\n",
       "      <td>NaN</td>\n",
       "      <td>BLACK/AFRICAN AMERICAN</td>\n",
       "      <td>2180-03-15 17:14:00</td>\n",
       "      <td>2180-03-16 00:58:00</td>\n",
       "      <td>SEPSIS;TELEMETRY</td>\n",
       "      <td>1</td>\n",
       "      <td>1</td>\n",
       "      <td>115.416667</td>\n",
       "    </tr>\n",
       "    <tr>\n",
       "      <th>41</th>\n",
       "      <td>12355</td>\n",
       "      <td>10104</td>\n",
       "      <td>177678</td>\n",
       "      <td>2120-08-24 17:39:00</td>\n",
       "      <td>2120-08-31 13:12:00</td>\n",
       "      <td>NaN</td>\n",
       "      <td>EMERGENCY</td>\n",
       "      <td>EMERGENCY ROOM ADMIT</td>\n",
       "      <td>SNF</td>\n",
       "      <td>Medicare</td>\n",
       "      <td>NaN</td>\n",
       "      <td>BUDDHIST</td>\n",
       "      <td>MARRIED</td>\n",
       "      <td>ASIAN</td>\n",
       "      <td>2120-08-24 15:08:00</td>\n",
       "      <td>2120-08-24 23:31:00</td>\n",
       "      <td>HYPONATREMIA;URINARY TRACT INFECTION</td>\n",
       "      <td>0</td>\n",
       "      <td>1</td>\n",
       "      <td>163.550000</td>\n",
       "    </tr>\n",
       "  </tbody>\n",
       "</table>\n",
       "</div>"
      ],
      "text/plain": [
       "    row_id  subject_id  ...  has_chartevents_data duration_of_stay\n",
       "0    12258       10006  ...                     1       212.100000\n",
       "28   12326       10076  ...                     1       206.733333\n",
       "36   12345       10094  ...                     1       238.683333\n",
       "37   12346       10094  ...                     1       115.416667\n",
       "41   12355       10104  ...                     1       163.550000\n",
       "\n",
       "[5 rows x 20 columns]"
      ]
     },
     "execution_count": 110,
     "metadata": {
      "tags": []
     },
     "output_type": "execute_result"
    }
   ],
   "source": [
    "admissions_df[boolean_condition].head()"
   ]
  },
  {
   "cell_type": "code",
   "execution_count": null,
   "metadata": {
    "colab": {
     "base_uri": "https://localhost:8080/",
     "height": 34
    },
    "colab_type": "code",
    "executionInfo": {
     "elapsed": 274,
     "status": "ok",
     "timestamp": 1599754565492,
     "user": {
      "displayName": "Samir Gupta",
      "photoUrl": "",
      "userId": "08477919997854778705"
     },
     "user_tz": 240
    },
    "id": "OXk0mZaizWLN",
    "outputId": "f8784d12-8c48-4a23-818d-26784e73bb86"
   },
   "outputs": [
    {
     "data": {
      "text/plain": [
       "(9, 20)"
      ]
     },
     "execution_count": 111,
     "metadata": {
      "tags": []
     },
     "output_type": "execute_result"
    }
   ],
   "source": [
    "admissions_df[boolean_condition].shape"
   ]
  },
  {
   "cell_type": "markdown",
   "metadata": {
    "colab_type": "text",
    "id": "xmXVw6YwzcWa"
   },
   "source": [
    "**Combining conditions**\n",
    "\n",
    "Lets select rows in admissions where:\n",
    "\n",
    "\n",
    "1.   duration of stay is > 7 days, AND\n",
    "2.   ethniciy = WHITE, AND\n",
    "3.   admission_type = EMERGENCY\n",
    "\n"
   ]
  },
  {
   "cell_type": "code",
   "execution_count": null,
   "metadata": {
    "colab": {},
    "colab_type": "code",
    "id": "W_Ukc_La0hqs"
   },
   "outputs": [],
   "source": [
    "result_df = admissions_df[\n",
    "              (admissions_df['duration_of_stay'] > 168) &\n",
    "              (admissions_df['ethnicity'] == \"WHITE\") &\n",
    "              (admissions_df['admission_type'] == \"EMERGENCY\")]"
   ]
  },
  {
   "cell_type": "code",
   "execution_count": null,
   "metadata": {
    "colab": {
     "base_uri": "https://localhost:8080/",
     "height": 384
    },
    "colab_type": "code",
    "executionInfo": {
     "elapsed": 254,
     "status": "ok",
     "timestamp": 1599754922804,
     "user": {
      "displayName": "Samir Gupta",
      "photoUrl": "",
      "userId": "08477919997854778705"
     },
     "user_tz": 240
    },
    "id": "KuwRfNhE0shU",
    "outputId": "e8b88fd7-0ce7-460d-d521-10d8a2bd9cb6"
   },
   "outputs": [
    {
     "data": {
      "text/html": [
       "<div>\n",
       "<style scoped>\n",
       "    .dataframe tbody tr th:only-of-type {\n",
       "        vertical-align: middle;\n",
       "    }\n",
       "\n",
       "    .dataframe tbody tr th {\n",
       "        vertical-align: top;\n",
       "    }\n",
       "\n",
       "    .dataframe thead th {\n",
       "        text-align: right;\n",
       "    }\n",
       "</style>\n",
       "<table border=\"1\" class=\"dataframe\">\n",
       "  <thead>\n",
       "    <tr style=\"text-align: right;\">\n",
       "      <th></th>\n",
       "      <th>row_id</th>\n",
       "      <th>subject_id</th>\n",
       "      <th>hadm_id</th>\n",
       "      <th>admittime</th>\n",
       "      <th>dischtime</th>\n",
       "      <th>deathtime</th>\n",
       "      <th>admission_type</th>\n",
       "      <th>admission_location</th>\n",
       "      <th>discharge_location</th>\n",
       "      <th>insurance</th>\n",
       "      <th>language</th>\n",
       "      <th>religion</th>\n",
       "      <th>marital_status</th>\n",
       "      <th>ethnicity</th>\n",
       "      <th>edregtime</th>\n",
       "      <th>edouttime</th>\n",
       "      <th>diagnosis</th>\n",
       "      <th>hospital_expire_flag</th>\n",
       "      <th>has_chartevents_data</th>\n",
       "      <th>duration_of_stay</th>\n",
       "    </tr>\n",
       "  </thead>\n",
       "  <tbody>\n",
       "    <tr>\n",
       "      <th>3</th>\n",
       "      <td>12269</td>\n",
       "      <td>10017</td>\n",
       "      <td>199207</td>\n",
       "      <td>2149-05-26 17:19:00</td>\n",
       "      <td>2149-06-03 18:42:00</td>\n",
       "      <td>NaN</td>\n",
       "      <td>EMERGENCY</td>\n",
       "      <td>EMERGENCY ROOM ADMIT</td>\n",
       "      <td>SNF</td>\n",
       "      <td>Medicare</td>\n",
       "      <td>NaN</td>\n",
       "      <td>CATHOLIC</td>\n",
       "      <td>DIVORCED</td>\n",
       "      <td>WHITE</td>\n",
       "      <td>2149-05-26 12:08:00</td>\n",
       "      <td>2149-05-26 19:45:00</td>\n",
       "      <td>HUMERAL FRACTURE</td>\n",
       "      <td>0</td>\n",
       "      <td>1</td>\n",
       "      <td>193.383333</td>\n",
       "    </tr>\n",
       "    <tr>\n",
       "      <th>5</th>\n",
       "      <td>12277</td>\n",
       "      <td>10026</td>\n",
       "      <td>103770</td>\n",
       "      <td>2195-05-17 07:39:00</td>\n",
       "      <td>2195-05-24 11:45:00</td>\n",
       "      <td>NaN</td>\n",
       "      <td>EMERGENCY</td>\n",
       "      <td>EMERGENCY ROOM ADMIT</td>\n",
       "      <td>REHAB/DISTINCT PART HOSP</td>\n",
       "      <td>Medicare</td>\n",
       "      <td>NaN</td>\n",
       "      <td>OTHER</td>\n",
       "      <td>NaN</td>\n",
       "      <td>WHITE</td>\n",
       "      <td>2195-05-17 01:49:00</td>\n",
       "      <td>2195-05-17 08:29:00</td>\n",
       "      <td>STROKE/TIA</td>\n",
       "      <td>0</td>\n",
       "      <td>1</td>\n",
       "      <td>172.100000</td>\n",
       "    </tr>\n",
       "    <tr>\n",
       "      <th>7</th>\n",
       "      <td>12280</td>\n",
       "      <td>10029</td>\n",
       "      <td>132349</td>\n",
       "      <td>2139-09-22 10:58:00</td>\n",
       "      <td>2139-10-02 14:29:00</td>\n",
       "      <td>NaN</td>\n",
       "      <td>EMERGENCY</td>\n",
       "      <td>EMERGENCY ROOM ADMIT</td>\n",
       "      <td>SNF</td>\n",
       "      <td>Medicare</td>\n",
       "      <td>NaN</td>\n",
       "      <td>PROTESTANT QUAKER</td>\n",
       "      <td>DIVORCED</td>\n",
       "      <td>WHITE</td>\n",
       "      <td>2139-09-22 06:03:00</td>\n",
       "      <td>2139-09-22 11:50:00</td>\n",
       "      <td>SYNCOPE;TELEMETRY</td>\n",
       "      <td>0</td>\n",
       "      <td>1</td>\n",
       "      <td>243.516667</td>\n",
       "    </tr>\n",
       "    <tr>\n",
       "      <th>8</th>\n",
       "      <td>12282</td>\n",
       "      <td>10032</td>\n",
       "      <td>140372</td>\n",
       "      <td>2138-04-02 19:52:00</td>\n",
       "      <td>2138-04-15 14:35:00</td>\n",
       "      <td>NaN</td>\n",
       "      <td>EMERGENCY</td>\n",
       "      <td>EMERGENCY ROOM ADMIT</td>\n",
       "      <td>REHAB/DISTINCT PART HOSP</td>\n",
       "      <td>Medicare</td>\n",
       "      <td>NaN</td>\n",
       "      <td>CATHOLIC</td>\n",
       "      <td>WIDOWED</td>\n",
       "      <td>WHITE</td>\n",
       "      <td>2138-04-02 14:56:00</td>\n",
       "      <td>2138-04-02 20:40:00</td>\n",
       "      <td>RIGHT HUMEROUS FRACTURE</td>\n",
       "      <td>0</td>\n",
       "      <td>1</td>\n",
       "      <td>306.716667</td>\n",
       "    </tr>\n",
       "    <tr>\n",
       "      <th>12</th>\n",
       "      <td>12288</td>\n",
       "      <td>10038</td>\n",
       "      <td>111115</td>\n",
       "      <td>2144-02-09 17:53:00</td>\n",
       "      <td>2144-02-21 13:30:00</td>\n",
       "      <td>NaN</td>\n",
       "      <td>EMERGENCY</td>\n",
       "      <td>EMERGENCY ROOM ADMIT</td>\n",
       "      <td>SNF</td>\n",
       "      <td>Medicare</td>\n",
       "      <td>ENGL</td>\n",
       "      <td>CATHOLIC</td>\n",
       "      <td>WIDOWED</td>\n",
       "      <td>WHITE</td>\n",
       "      <td>2144-02-09 13:35:00</td>\n",
       "      <td>2144-02-09 20:12:00</td>\n",
       "      <td>FAILURE TO THRIVE</td>\n",
       "      <td>0</td>\n",
       "      <td>1</td>\n",
       "      <td>283.616667</td>\n",
       "    </tr>\n",
       "  </tbody>\n",
       "</table>\n",
       "</div>"
      ],
      "text/plain": [
       "    row_id  subject_id  ...  has_chartevents_data duration_of_stay\n",
       "3    12269       10017  ...                     1       193.383333\n",
       "5    12277       10026  ...                     1       172.100000\n",
       "7    12280       10029  ...                     1       243.516667\n",
       "8    12282       10032  ...                     1       306.716667\n",
       "12   12288       10038  ...                     1       283.616667\n",
       "\n",
       "[5 rows x 20 columns]"
      ]
     },
     "execution_count": 115,
     "metadata": {
      "tags": []
     },
     "output_type": "execute_result"
    }
   ],
   "source": [
    "result_df.head()"
   ]
  },
  {
   "cell_type": "code",
   "execution_count": null,
   "metadata": {
    "colab": {
     "base_uri": "https://localhost:8080/",
     "height": 34
    },
    "colab_type": "code",
    "executionInfo": {
     "elapsed": 298,
     "status": "ok",
     "timestamp": 1599754939581,
     "user": {
      "displayName": "Samir Gupta",
      "photoUrl": "",
      "userId": "08477919997854778705"
     },
     "user_tz": 240
    },
    "id": "uVLqAnm10vdh",
    "outputId": "5e47da8b-6f0c-49a9-f2f0-b82261ff1245"
   },
   "outputs": [
    {
     "data": {
      "text/plain": [
       "(35, 20)"
      ]
     },
     "execution_count": 117,
     "metadata": {
      "tags": []
     },
     "output_type": "execute_result"
    }
   ],
   "source": [
    "result_df.shape"
   ]
  },
  {
   "cell_type": "markdown",
   "metadata": {
    "colab_type": "text",
    "id": "tf5i05Uf00af"
   },
   "source": [
    "Let's make sure the filtering worked by using the describe functions from earlier"
   ]
  },
  {
   "cell_type": "code",
   "execution_count": null,
   "metadata": {
    "colab": {
     "base_uri": "https://localhost:8080/",
     "height": 287
    },
    "colab_type": "code",
    "executionInfo": {
     "elapsed": 211,
     "status": "ok",
     "timestamp": 1599755038046,
     "user": {
      "displayName": "Samir Gupta",
      "photoUrl": "",
      "userId": "08477919997854778705"
     },
     "user_tz": 240
    },
    "id": "ZUqEoY7b07pT",
    "outputId": "80970c62-f4ec-4901-d88d-e36c99438faa"
   },
   "outputs": [
    {
     "data": {
      "text/html": [
       "<div>\n",
       "<style scoped>\n",
       "    .dataframe tbody tr th:only-of-type {\n",
       "        vertical-align: middle;\n",
       "    }\n",
       "\n",
       "    .dataframe tbody tr th {\n",
       "        vertical-align: top;\n",
       "    }\n",
       "\n",
       "    .dataframe thead th {\n",
       "        text-align: right;\n",
       "    }\n",
       "</style>\n",
       "<table border=\"1\" class=\"dataframe\">\n",
       "  <thead>\n",
       "    <tr style=\"text-align: right;\">\n",
       "      <th></th>\n",
       "      <th>duration_of_stay</th>\n",
       "    </tr>\n",
       "  </thead>\n",
       "  <tbody>\n",
       "    <tr>\n",
       "      <th>count</th>\n",
       "      <td>35.000000</td>\n",
       "    </tr>\n",
       "    <tr>\n",
       "      <th>mean</th>\n",
       "      <td>405.826667</td>\n",
       "    </tr>\n",
       "    <tr>\n",
       "      <th>std</th>\n",
       "      <td>481.072485</td>\n",
       "    </tr>\n",
       "    <tr>\n",
       "      <th>min</th>\n",
       "      <td>168.400000</td>\n",
       "    </tr>\n",
       "    <tr>\n",
       "      <th>25%</th>\n",
       "      <td>222.500000</td>\n",
       "    </tr>\n",
       "    <tr>\n",
       "      <th>50%</th>\n",
       "      <td>270.366667</td>\n",
       "    </tr>\n",
       "    <tr>\n",
       "      <th>75%</th>\n",
       "      <td>394.400000</td>\n",
       "    </tr>\n",
       "    <tr>\n",
       "      <th>max</th>\n",
       "      <td>2975.633333</td>\n",
       "    </tr>\n",
       "  </tbody>\n",
       "</table>\n",
       "</div>"
      ],
      "text/plain": [
       "       duration_of_stay\n",
       "count         35.000000\n",
       "mean         405.826667\n",
       "std          481.072485\n",
       "min          168.400000\n",
       "25%          222.500000\n",
       "50%          270.366667\n",
       "75%          394.400000\n",
       "max         2975.633333"
      ]
     },
     "execution_count": 120,
     "metadata": {
      "tags": []
     },
     "output_type": "execute_result"
    }
   ],
   "source": [
    "result_df[['duration_of_stay']].describe()"
   ]
  },
  {
   "cell_type": "code",
   "execution_count": null,
   "metadata": {
    "colab": {
     "base_uri": "https://localhost:8080/",
     "height": 167
    },
    "colab_type": "code",
    "executionInfo": {
     "elapsed": 318,
     "status": "ok",
     "timestamp": 1599755072317,
     "user": {
      "displayName": "Samir Gupta",
      "photoUrl": "",
      "userId": "08477919997854778705"
     },
     "user_tz": 240
    },
    "id": "t82e6S_L1RCf",
    "outputId": "269141e6-c968-4df1-b3e9-d9d278bae974"
   },
   "outputs": [
    {
     "data": {
      "text/html": [
       "<div>\n",
       "<style scoped>\n",
       "    .dataframe tbody tr th:only-of-type {\n",
       "        vertical-align: middle;\n",
       "    }\n",
       "\n",
       "    .dataframe tbody tr th {\n",
       "        vertical-align: top;\n",
       "    }\n",
       "\n",
       "    .dataframe thead th {\n",
       "        text-align: right;\n",
       "    }\n",
       "</style>\n",
       "<table border=\"1\" class=\"dataframe\">\n",
       "  <thead>\n",
       "    <tr style=\"text-align: right;\">\n",
       "      <th></th>\n",
       "      <th>ethnicity</th>\n",
       "      <th>admission_type</th>\n",
       "    </tr>\n",
       "  </thead>\n",
       "  <tbody>\n",
       "    <tr>\n",
       "      <th>count</th>\n",
       "      <td>35</td>\n",
       "      <td>35</td>\n",
       "    </tr>\n",
       "    <tr>\n",
       "      <th>unique</th>\n",
       "      <td>1</td>\n",
       "      <td>1</td>\n",
       "    </tr>\n",
       "    <tr>\n",
       "      <th>top</th>\n",
       "      <td>WHITE</td>\n",
       "      <td>EMERGENCY</td>\n",
       "    </tr>\n",
       "    <tr>\n",
       "      <th>freq</th>\n",
       "      <td>35</td>\n",
       "      <td>35</td>\n",
       "    </tr>\n",
       "  </tbody>\n",
       "</table>\n",
       "</div>"
      ],
      "text/plain": [
       "       ethnicity admission_type\n",
       "count         35             35\n",
       "unique         1              1\n",
       "top        WHITE      EMERGENCY\n",
       "freq          35             35"
      ]
     },
     "execution_count": 121,
     "metadata": {
      "tags": []
     },
     "output_type": "execute_result"
    }
   ],
   "source": [
    "result_df[['ethnicity', 'admission_type']].describe()"
   ]
  },
  {
   "cell_type": "markdown",
   "metadata": {
    "colab_type": "text",
    "id": "oERK77I81oAS"
   },
   "source": [
    "## Aggregation and Grouping"
   ]
  },
  {
   "cell_type": "markdown",
   "metadata": {
    "colab_type": "text",
    "id": "5StAaPmK9ZOH"
   },
   "source": [
    "An essential piece of analysis of large data is efficient summarization: computing aggregations like sum(), mean(), median(), min(), and max(), in which a single number gives insight into the nature of a potentially large dataset. In this section, we'll explore aggregations in Pandas, from simple operations akin to what we've seen on NumPy arrays, to more sophisticated operations based on the concept of a groupby."
   ]
  },
  {
   "cell_type": "markdown",
   "metadata": {
    "colab_type": "text",
    "id": "uvO0-op8-Dbg"
   },
   "source": [
    "### Simple Aggregation in Pandas\n",
    "\n",
    "The following table summarizes some other built-in Pandas aggregations:\n",
    "\n",
    "| Aggregation              | Description                     |\n",
    "|--------------------------|---------------------------------|\n",
    "| ``count()``              | Total number of items           |\n",
    "| ``first()``, ``last()``  | First and last item             |\n",
    "| ``mean()``, ``median()`` | Mean and median                 |\n",
    "| ``min()``, ``max()``     | Minimum and maximum             |\n",
    "| ``std()``, ``var()``     | Standard deviation and variance |\n",
    "| ``mad()``                | Mean absolute deviation         |\n",
    "| ``prod()``               | Product of all items            |\n",
    "| ``sum()``                | Sum of all items                |\n",
    "\n",
    "\n",
    "Let's compute some aggregates for the duration of stay in the admission dataframe"
   ]
  },
  {
   "cell_type": "code",
   "execution_count": null,
   "metadata": {
    "colab": {
     "base_uri": "https://localhost:8080/",
     "height": 34
    },
    "colab_type": "code",
    "executionInfo": {
     "elapsed": 318,
     "status": "ok",
     "timestamp": 1599757540625,
     "user": {
      "displayName": "Samir Gupta",
      "photoUrl": "",
      "userId": "08477919997854778705"
     },
     "user_tz": 240
    },
    "id": "y2OBxbCJ-V74",
    "outputId": "96fcf2f8-d04a-40fe-84a4-927bd8935190"
   },
   "outputs": [
    {
     "data": {
      "text/plain": [
       "223.97596899224808"
      ]
     },
     "execution_count": 128,
     "metadata": {
      "tags": []
     },
     "output_type": "execute_result"
    }
   ],
   "source": [
    "admissions_df['duration_of_stay'].mean()"
   ]
  },
  {
   "cell_type": "code",
   "execution_count": null,
   "metadata": {
    "colab": {
     "base_uri": "https://localhost:8080/",
     "height": 34
    },
    "colab_type": "code",
    "executionInfo": {
     "elapsed": 267,
     "status": "ok",
     "timestamp": 1599757552376,
     "user": {
      "displayName": "Samir Gupta",
      "photoUrl": "",
      "userId": "08477919997854778705"
     },
     "user_tz": 240
    },
    "id": "xHThB71t-vVi",
    "outputId": "0edf12fd-de6e-43a2-e85b-998b47601342"
   },
   "outputs": [
    {
     "data": {
      "text/plain": [
       "129"
      ]
     },
     "execution_count": 129,
     "metadata": {
      "tags": []
     },
     "output_type": "execute_result"
    }
   ],
   "source": [
    "admissions_df['duration_of_stay'].count()"
   ]
  },
  {
   "cell_type": "code",
   "execution_count": null,
   "metadata": {
    "colab": {
     "base_uri": "https://localhost:8080/",
     "height": 34
    },
    "colab_type": "code",
    "executionInfo": {
     "elapsed": 295,
     "status": "ok",
     "timestamp": 1599757569373,
     "user": {
      "displayName": "Samir Gupta",
      "photoUrl": "",
      "userId": "08477919997854778705"
     },
     "user_tz": 240
    },
    "id": "-9j6AgAI-xnu",
    "outputId": "07c27ba5-4bff-4abe-f8df-6519a35ec192"
   },
   "outputs": [
    {
     "data": {
      "text/plain": [
       "0.9166666666666666"
      ]
     },
     "execution_count": 130,
     "metadata": {
      "tags": []
     },
     "output_type": "execute_result"
    }
   ],
   "source": [
    "admissions_df['duration_of_stay'].min()"
   ]
  },
  {
   "cell_type": "code",
   "execution_count": null,
   "metadata": {
    "colab": {
     "base_uri": "https://localhost:8080/",
     "height": 34
    },
    "colab_type": "code",
    "executionInfo": {
     "elapsed": 293,
     "status": "ok",
     "timestamp": 1599757610677,
     "user": {
      "displayName": "Samir Gupta",
      "photoUrl": "",
      "userId": "08477919997854778705"
     },
     "user_tz": 240
    },
    "id": "_3spYERz-2Iw",
    "outputId": "e9c9fccb-6a54-49ab-c8a5-3712bca8a75f"
   },
   "outputs": [
    {
     "data": {
      "text/plain": [
       "28892.9"
      ]
     },
     "execution_count": 132,
     "metadata": {
      "tags": []
     },
     "output_type": "execute_result"
    }
   ],
   "source": [
    "admissions_df['duration_of_stay'].sum()"
   ]
  },
  {
   "cell_type": "markdown",
   "metadata": {
    "colab_type": "text",
    "id": "Bx7Lgt-__DxM"
   },
   "source": [
    "To go deeper into the data, however, simple aggregates are often not enough.\n",
    "The next level of data summarization is the ``groupby`` operation, which allows you to quickly and efficiently compute aggregates on subsets of data."
   ]
  },
  {
   "cell_type": "markdown",
   "metadata": {
    "colab_type": "text",
    "id": "8Gc4rZkL_E2p"
   },
   "source": [
    "### GroupBy: Split, Apply, Combine\n",
    "\n",
    "Simple aggregations can give you a flavor of your dataset, but often we would prefer to aggregate conditionally on some label or index: this is implemented in the so-called ``groupby`` operation.\n"
   ]
  },
  {
   "cell_type": "markdown",
   "metadata": {
    "colab_type": "text",
    "id": "T4TUpTRB_Sop"
   },
   "source": [
    "**Some 'theory': the groupby operation (split-apply-combine)**\n",
    "\n",
    "The \"group by\" concept: we want to apply the same function on subsets of your dataframe, based on some key to split the dataframe in subsets\n",
    "\n",
    "This operation is also referred to as the \"split-apply-combine\" operation, involving the following steps:\n",
    "\n",
    " *     **Splitting** the data into groups based on some criteria\n",
    " *     **Applying** a function to each group independently\n",
    " *     **Combining** the results into a data structure\n",
    "\n",
    "![splitApplyCombine.png](data:image/png;base64,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)\n"
   ]
  },
  {
   "cell_type": "code",
   "execution_count": null,
   "metadata": {
    "colab": {
     "base_uri": "https://localhost:8080/",
     "height": 286
    },
    "colab_type": "code",
    "executionInfo": {
     "elapsed": 316,
     "status": "ok",
     "timestamp": 1599757909911,
     "user": {
      "displayName": "Samir Gupta",
      "photoUrl": "",
      "userId": "08477919997854778705"
     },
     "user_tz": 240
    },
    "id": "kV7NUgwP_3ZY",
    "outputId": "3a64c1a0-c759-45d7-ed40-8c910fb2e01c"
   },
   "outputs": [
    {
     "data": {
      "text/html": [
       "<div>\n",
       "<style scoped>\n",
       "    .dataframe tbody tr th:only-of-type {\n",
       "        vertical-align: middle;\n",
       "    }\n",
       "\n",
       "    .dataframe tbody tr th {\n",
       "        vertical-align: top;\n",
       "    }\n",
       "\n",
       "    .dataframe thead th {\n",
       "        text-align: right;\n",
       "    }\n",
       "</style>\n",
       "<table border=\"1\" class=\"dataframe\">\n",
       "  <thead>\n",
       "    <tr style=\"text-align: right;\">\n",
       "      <th></th>\n",
       "      <th>key</th>\n",
       "      <th>data</th>\n",
       "    </tr>\n",
       "  </thead>\n",
       "  <tbody>\n",
       "    <tr>\n",
       "      <th>0</th>\n",
       "      <td>A</td>\n",
       "      <td>0</td>\n",
       "    </tr>\n",
       "    <tr>\n",
       "      <th>1</th>\n",
       "      <td>B</td>\n",
       "      <td>5</td>\n",
       "    </tr>\n",
       "    <tr>\n",
       "      <th>2</th>\n",
       "      <td>C</td>\n",
       "      <td>10</td>\n",
       "    </tr>\n",
       "    <tr>\n",
       "      <th>...</th>\n",
       "      <td>...</td>\n",
       "      <td>...</td>\n",
       "    </tr>\n",
       "    <tr>\n",
       "      <th>6</th>\n",
       "      <td>A</td>\n",
       "      <td>10</td>\n",
       "    </tr>\n",
       "    <tr>\n",
       "      <th>7</th>\n",
       "      <td>B</td>\n",
       "      <td>15</td>\n",
       "    </tr>\n",
       "    <tr>\n",
       "      <th>8</th>\n",
       "      <td>C</td>\n",
       "      <td>20</td>\n",
       "    </tr>\n",
       "  </tbody>\n",
       "</table>\n",
       "<p>9 rows × 2 columns</p>\n",
       "</div>"
      ],
      "text/plain": [
       "   key  data\n",
       "0    A     0\n",
       "1    B     5\n",
       "2    C    10\n",
       "..  ..   ...\n",
       "6    A    10\n",
       "7    B    15\n",
       "8    C    20\n",
       "\n",
       "[9 rows x 2 columns]"
      ]
     },
     "execution_count": 133,
     "metadata": {
      "tags": []
     },
     "output_type": "execute_result"
    }
   ],
   "source": [
    "df = pd.DataFrame({'key':['A','B','C','A','B','C','A','B','C'],\n",
    "                   'data': [0, 5, 10, 5, 10, 15, 10, 15, 20]})\n",
    "df"
   ]
  },
  {
   "cell_type": "markdown",
   "metadata": {
    "colab_type": "text",
    "id": "PDYuzoz7AQZ1"
   },
   "source": [
    "\n",
    "\n",
    "Using the filtering and reductions operations we have seen in the previous notebooks, we could do something like:\n",
    "\n",
    "`df[df['key'] == \"A\"].sum()`\n",
    "\n",
    "`df[df['key'] == \"B\"].sum()`\n",
    "...\n",
    "\n",
    "But pandas provides the groupby method to do this:\n"
   ]
  },
  {
   "cell_type": "code",
   "execution_count": null,
   "metadata": {
    "colab": {
     "base_uri": "https://localhost:8080/",
     "height": 167
    },
    "colab_type": "code",
    "executionInfo": {
     "elapsed": 311,
     "status": "ok",
     "timestamp": 1599757971650,
     "user": {
      "displayName": "Samir Gupta",
      "photoUrl": "",
      "userId": "08477919997854778705"
     },
     "user_tz": 240
    },
    "id": "09oiKy6eAVGs",
    "outputId": "51750011-c5e2-4f05-c945-e6e6d6ff7e99"
   },
   "outputs": [
    {
     "data": {
      "text/html": [
       "<div>\n",
       "<style scoped>\n",
       "    .dataframe tbody tr th:only-of-type {\n",
       "        vertical-align: middle;\n",
       "    }\n",
       "\n",
       "    .dataframe tbody tr th {\n",
       "        vertical-align: top;\n",
       "    }\n",
       "\n",
       "    .dataframe thead th {\n",
       "        text-align: right;\n",
       "    }\n",
       "</style>\n",
       "<table border=\"1\" class=\"dataframe\">\n",
       "  <thead>\n",
       "    <tr style=\"text-align: right;\">\n",
       "      <th></th>\n",
       "      <th>data</th>\n",
       "    </tr>\n",
       "    <tr>\n",
       "      <th>key</th>\n",
       "      <th></th>\n",
       "    </tr>\n",
       "  </thead>\n",
       "  <tbody>\n",
       "    <tr>\n",
       "      <th>A</th>\n",
       "      <td>15</td>\n",
       "    </tr>\n",
       "    <tr>\n",
       "      <th>B</th>\n",
       "      <td>30</td>\n",
       "    </tr>\n",
       "    <tr>\n",
       "      <th>C</th>\n",
       "      <td>45</td>\n",
       "    </tr>\n",
       "  </tbody>\n",
       "</table>\n",
       "</div>"
      ],
      "text/plain": [
       "     data\n",
       "key      \n",
       "A      15\n",
       "B      30\n",
       "C      45"
      ]
     },
     "execution_count": 134,
     "metadata": {
      "tags": []
     },
     "output_type": "execute_result"
    }
   ],
   "source": [
    "df.groupby('key').aggregate(np.sum)  # 'sum'"
   ]
  },
  {
   "cell_type": "markdown",
   "metadata": {
    "colab_type": "text",
    "id": "IkyII1D4AYC0"
   },
   "source": [
    "OR"
   ]
  },
  {
   "cell_type": "code",
   "execution_count": null,
   "metadata": {
    "colab": {
     "base_uri": "https://localhost:8080/",
     "height": 167
    },
    "colab_type": "code",
    "executionInfo": {
     "elapsed": 418,
     "status": "ok",
     "timestamp": 1599757988248,
     "user": {
      "displayName": "Samir Gupta",
      "photoUrl": "",
      "userId": "08477919997854778705"
     },
     "user_tz": 240
    },
    "id": "g9d4KlFrAZbO",
    "outputId": "e29826dc-b876-4bc1-d5ad-25ba9baca5ee"
   },
   "outputs": [
    {
     "data": {
      "text/html": [
       "<div>\n",
       "<style scoped>\n",
       "    .dataframe tbody tr th:only-of-type {\n",
       "        vertical-align: middle;\n",
       "    }\n",
       "\n",
       "    .dataframe tbody tr th {\n",
       "        vertical-align: top;\n",
       "    }\n",
       "\n",
       "    .dataframe thead th {\n",
       "        text-align: right;\n",
       "    }\n",
       "</style>\n",
       "<table border=\"1\" class=\"dataframe\">\n",
       "  <thead>\n",
       "    <tr style=\"text-align: right;\">\n",
       "      <th></th>\n",
       "      <th>data</th>\n",
       "    </tr>\n",
       "    <tr>\n",
       "      <th>key</th>\n",
       "      <th></th>\n",
       "    </tr>\n",
       "  </thead>\n",
       "  <tbody>\n",
       "    <tr>\n",
       "      <th>A</th>\n",
       "      <td>15</td>\n",
       "    </tr>\n",
       "    <tr>\n",
       "      <th>B</th>\n",
       "      <td>30</td>\n",
       "    </tr>\n",
       "    <tr>\n",
       "      <th>C</th>\n",
       "      <td>45</td>\n",
       "    </tr>\n",
       "  </tbody>\n",
       "</table>\n",
       "</div>"
      ],
      "text/plain": [
       "     data\n",
       "key      \n",
       "A      15\n",
       "B      30\n",
       "C      45"
      ]
     },
     "execution_count": 135,
     "metadata": {
      "tags": []
     },
     "output_type": "execute_result"
    }
   ],
   "source": [
    "df.groupby('key').sum()"
   ]
  },
  {
   "cell_type": "code",
   "execution_count": null,
   "metadata": {
    "colab": {
     "base_uri": "https://localhost:8080/",
     "height": 167
    },
    "colab_type": "code",
    "executionInfo": {
     "elapsed": 303,
     "status": "ok",
     "timestamp": 1599758000546,
     "user": {
      "displayName": "Samir Gupta",
      "photoUrl": "",
      "userId": "08477919997854778705"
     },
     "user_tz": 240
    },
    "id": "td8zD3bYAc-o",
    "outputId": "ca6d0d67-d23c-43fa-ea29-15a12b536897"
   },
   "outputs": [
    {
     "data": {
      "text/html": [
       "<div>\n",
       "<style scoped>\n",
       "    .dataframe tbody tr th:only-of-type {\n",
       "        vertical-align: middle;\n",
       "    }\n",
       "\n",
       "    .dataframe tbody tr th {\n",
       "        vertical-align: top;\n",
       "    }\n",
       "\n",
       "    .dataframe thead th {\n",
       "        text-align: right;\n",
       "    }\n",
       "</style>\n",
       "<table border=\"1\" class=\"dataframe\">\n",
       "  <thead>\n",
       "    <tr style=\"text-align: right;\">\n",
       "      <th></th>\n",
       "      <th>data</th>\n",
       "    </tr>\n",
       "    <tr>\n",
       "      <th>key</th>\n",
       "      <th></th>\n",
       "    </tr>\n",
       "  </thead>\n",
       "  <tbody>\n",
       "    <tr>\n",
       "      <th>A</th>\n",
       "      <td>0</td>\n",
       "    </tr>\n",
       "    <tr>\n",
       "      <th>B</th>\n",
       "      <td>5</td>\n",
       "    </tr>\n",
       "    <tr>\n",
       "      <th>C</th>\n",
       "      <td>10</td>\n",
       "    </tr>\n",
       "  </tbody>\n",
       "</table>\n",
       "</div>"
      ],
      "text/plain": [
       "     data\n",
       "key      \n",
       "A       0\n",
       "B       5\n",
       "C      10"
      ]
     },
     "execution_count": 136,
     "metadata": {
      "tags": []
     },
     "output_type": "execute_result"
    }
   ],
   "source": [
    "df.groupby('key').first()"
   ]
  },
  {
   "cell_type": "markdown",
   "metadata": {
    "colab_type": "text",
    "id": "t7Ydp_teAfth"
   },
   "source": [
    "**Exercise**: Create a dataframe with median `duration_of_stay` for each `admission_type` in the admissions table"
   ]
  },
  {
   "cell_type": "code",
   "execution_count": null,
   "metadata": {
    "colab": {},
    "colab_type": "code",
    "id": "go2Q6LB_Azra"
   },
   "outputs": [],
   "source": [
    "grouped_df = admissions_df[['ethnicity', \"duration_of_stay\"]].groupby('ethnicity').median()"
   ]
  },
  {
   "cell_type": "code",
   "execution_count": null,
   "metadata": {
    "colab": {
     "base_uri": "https://localhost:8080/",
     "height": 316
    },
    "colab_type": "code",
    "executionInfo": {
     "elapsed": 272,
     "status": "ok",
     "timestamp": 1599758225746,
     "user": {
      "displayName": "Samir Gupta",
      "photoUrl": "",
      "userId": "08477919997854778705"
     },
     "user_tz": 240
    },
    "id": "1uEMCPVDBLxy",
    "outputId": "b5b5920b-4889-4087-f946-cea467a87272"
   },
   "outputs": [
    {
     "data": {
      "text/html": [
       "<div>\n",
       "<style scoped>\n",
       "    .dataframe tbody tr th:only-of-type {\n",
       "        vertical-align: middle;\n",
       "    }\n",
       "\n",
       "    .dataframe tbody tr th {\n",
       "        vertical-align: top;\n",
       "    }\n",
       "\n",
       "    .dataframe thead th {\n",
       "        text-align: right;\n",
       "    }\n",
       "</style>\n",
       "<table border=\"1\" class=\"dataframe\">\n",
       "  <thead>\n",
       "    <tr style=\"text-align: right;\">\n",
       "      <th></th>\n",
       "      <th>duration_of_stay</th>\n",
       "    </tr>\n",
       "    <tr>\n",
       "      <th>ethnicity</th>\n",
       "      <th></th>\n",
       "    </tr>\n",
       "  </thead>\n",
       "  <tbody>\n",
       "    <tr>\n",
       "      <th>AMERICAN INDIAN/ALASKA NATIVE FEDERALLY RECOGNIZED TRIBE</th>\n",
       "      <td>404.241667</td>\n",
       "    </tr>\n",
       "    <tr>\n",
       "      <th>ASIAN</th>\n",
       "      <td>185.141667</td>\n",
       "    </tr>\n",
       "    <tr>\n",
       "      <th>BLACK/AFRICAN AMERICAN</th>\n",
       "      <td>212.100000</td>\n",
       "    </tr>\n",
       "    <tr>\n",
       "      <th>...</th>\n",
       "      <td>...</td>\n",
       "    </tr>\n",
       "    <tr>\n",
       "      <th>UNABLE TO OBTAIN</th>\n",
       "      <td>318.050000</td>\n",
       "    </tr>\n",
       "    <tr>\n",
       "      <th>UNKNOWN/NOT SPECIFIED</th>\n",
       "      <td>163.933333</td>\n",
       "    </tr>\n",
       "    <tr>\n",
       "      <th>WHITE</th>\n",
       "      <td>153.725000</td>\n",
       "    </tr>\n",
       "  </tbody>\n",
       "</table>\n",
       "<p>9 rows × 1 columns</p>\n",
       "</div>"
      ],
      "text/plain": [
       "                                                    duration_of_stay\n",
       "ethnicity                                                           \n",
       "AMERICAN INDIAN/ALASKA NATIVE FEDERALLY RECOGNI...        404.241667\n",
       "ASIAN                                                     185.141667\n",
       "BLACK/AFRICAN AMERICAN                                    212.100000\n",
       "...                                                              ...\n",
       "UNABLE TO OBTAIN                                          318.050000\n",
       "UNKNOWN/NOT SPECIFIED                                     163.933333\n",
       "WHITE                                                     153.725000\n",
       "\n",
       "[9 rows x 1 columns]"
      ]
     },
     "execution_count": 140,
     "metadata": {
      "tags": []
     },
     "output_type": "execute_result"
    }
   ],
   "source": [
    "grouped_df"
   ]
  },
  {
   "cell_type": "code",
   "execution_count": null,
   "metadata": {
    "colab": {},
    "colab_type": "code",
    "id": "CrRD3uJ_BWYi"
   },
   "outputs": [],
   "source": [
    "result_df = grouped_df.reset_index()"
   ]
  },
  {
   "cell_type": "code",
   "execution_count": null,
   "metadata": {
    "colab": {
     "base_uri": "https://localhost:8080/",
     "height": 317
    },
    "colab_type": "code",
    "executionInfo": {
     "elapsed": 268,
     "status": "ok",
     "timestamp": 1599758325114,
     "user": {
      "displayName": "Samir Gupta",
      "photoUrl": "",
      "userId": "08477919997854778705"
     },
     "user_tz": 240
    },
    "id": "TJY5VNBvBh0n",
    "outputId": "0cf7d0c4-e6e4-4c77-e66a-07941e663588"
   },
   "outputs": [
    {
     "data": {
      "text/html": [
       "<div>\n",
       "<style scoped>\n",
       "    .dataframe tbody tr th:only-of-type {\n",
       "        vertical-align: middle;\n",
       "    }\n",
       "\n",
       "    .dataframe tbody tr th {\n",
       "        vertical-align: top;\n",
       "    }\n",
       "\n",
       "    .dataframe thead th {\n",
       "        text-align: right;\n",
       "    }\n",
       "</style>\n",
       "<table border=\"1\" class=\"dataframe\">\n",
       "  <thead>\n",
       "    <tr style=\"text-align: right;\">\n",
       "      <th></th>\n",
       "      <th>ethnicity</th>\n",
       "      <th>duration_of_stay</th>\n",
       "    </tr>\n",
       "  </thead>\n",
       "  <tbody>\n",
       "    <tr>\n",
       "      <th>0</th>\n",
       "      <td>AMERICAN INDIAN/ALASKA NATIVE FEDERALLY RECOGN...</td>\n",
       "      <td>404.241667</td>\n",
       "    </tr>\n",
       "    <tr>\n",
       "      <th>1</th>\n",
       "      <td>ASIAN</td>\n",
       "      <td>185.141667</td>\n",
       "    </tr>\n",
       "    <tr>\n",
       "      <th>2</th>\n",
       "      <td>BLACK/AFRICAN AMERICAN</td>\n",
       "      <td>212.100000</td>\n",
       "    </tr>\n",
       "    <tr>\n",
       "      <th>3</th>\n",
       "      <td>HISPANIC OR LATINO</td>\n",
       "      <td>403.158333</td>\n",
       "    </tr>\n",
       "    <tr>\n",
       "      <th>4</th>\n",
       "      <td>HISPANIC/LATINO - PUERTO RICAN</td>\n",
       "      <td>97.933333</td>\n",
       "    </tr>\n",
       "    <tr>\n",
       "      <th>5</th>\n",
       "      <td>OTHER</td>\n",
       "      <td>16.516667</td>\n",
       "    </tr>\n",
       "    <tr>\n",
       "      <th>6</th>\n",
       "      <td>UNABLE TO OBTAIN</td>\n",
       "      <td>318.050000</td>\n",
       "    </tr>\n",
       "    <tr>\n",
       "      <th>7</th>\n",
       "      <td>UNKNOWN/NOT SPECIFIED</td>\n",
       "      <td>163.933333</td>\n",
       "    </tr>\n",
       "    <tr>\n",
       "      <th>8</th>\n",
       "      <td>WHITE</td>\n",
       "      <td>153.725000</td>\n",
       "    </tr>\n",
       "  </tbody>\n",
       "</table>\n",
       "</div>"
      ],
      "text/plain": [
       "                                           ethnicity  duration_of_stay\n",
       "0  AMERICAN INDIAN/ALASKA NATIVE FEDERALLY RECOGN...        404.241667\n",
       "1                                              ASIAN        185.141667\n",
       "2                             BLACK/AFRICAN AMERICAN        212.100000\n",
       "3                                 HISPANIC OR LATINO        403.158333\n",
       "4                     HISPANIC/LATINO - PUERTO RICAN         97.933333\n",
       "5                                              OTHER         16.516667\n",
       "6                                   UNABLE TO OBTAIN        318.050000\n",
       "7                              UNKNOWN/NOT SPECIFIED        163.933333\n",
       "8                                              WHITE        153.725000"
      ]
     },
     "execution_count": 147,
     "metadata": {
      "tags": []
     },
     "output_type": "execute_result"
    }
   ],
   "source": [
    "result_df"
   ]
  },
  {
   "cell_type": "markdown",
   "metadata": {
    "colab_type": "text",
    "id": "SCYcIxRqC146"
   },
   "source": [
    "Another syntax to group and aggregate and create a new column for the aggregate"
   ]
  },
  {
   "cell_type": "code",
   "execution_count": null,
   "metadata": {
    "colab": {
     "base_uri": "https://localhost:8080/",
     "height": 317
    },
    "colab_type": "code",
    "executionInfo": {
     "elapsed": 304,
     "status": "ok",
     "timestamp": 1599758619649,
     "user": {
      "displayName": "Samir Gupta",
      "photoUrl": "",
      "userId": "08477919997854778705"
     },
     "user_tz": 240
    },
    "id": "LTqhYQbTCKvd",
    "outputId": "41541e91-428a-405f-d87f-119ac5e7965f"
   },
   "outputs": [
    {
     "data": {
      "text/html": [
       "<div>\n",
       "<style scoped>\n",
       "    .dataframe tbody tr th:only-of-type {\n",
       "        vertical-align: middle;\n",
       "    }\n",
       "\n",
       "    .dataframe tbody tr th {\n",
       "        vertical-align: top;\n",
       "    }\n",
       "\n",
       "    .dataframe thead th {\n",
       "        text-align: right;\n",
       "    }\n",
       "</style>\n",
       "<table border=\"1\" class=\"dataframe\">\n",
       "  <thead>\n",
       "    <tr style=\"text-align: right;\">\n",
       "      <th></th>\n",
       "      <th>ethnicity</th>\n",
       "      <th>median_dos</th>\n",
       "    </tr>\n",
       "  </thead>\n",
       "  <tbody>\n",
       "    <tr>\n",
       "      <th>0</th>\n",
       "      <td>AMERICAN INDIAN/ALASKA NATIVE FEDERALLY RECOGN...</td>\n",
       "      <td>404.241667</td>\n",
       "    </tr>\n",
       "    <tr>\n",
       "      <th>1</th>\n",
       "      <td>ASIAN</td>\n",
       "      <td>185.141667</td>\n",
       "    </tr>\n",
       "    <tr>\n",
       "      <th>2</th>\n",
       "      <td>BLACK/AFRICAN AMERICAN</td>\n",
       "      <td>212.100000</td>\n",
       "    </tr>\n",
       "    <tr>\n",
       "      <th>3</th>\n",
       "      <td>HISPANIC OR LATINO</td>\n",
       "      <td>403.158333</td>\n",
       "    </tr>\n",
       "    <tr>\n",
       "      <th>4</th>\n",
       "      <td>HISPANIC/LATINO - PUERTO RICAN</td>\n",
       "      <td>97.933333</td>\n",
       "    </tr>\n",
       "    <tr>\n",
       "      <th>5</th>\n",
       "      <td>OTHER</td>\n",
       "      <td>16.516667</td>\n",
       "    </tr>\n",
       "    <tr>\n",
       "      <th>6</th>\n",
       "      <td>UNABLE TO OBTAIN</td>\n",
       "      <td>318.050000</td>\n",
       "    </tr>\n",
       "    <tr>\n",
       "      <th>7</th>\n",
       "      <td>UNKNOWN/NOT SPECIFIED</td>\n",
       "      <td>163.933333</td>\n",
       "    </tr>\n",
       "    <tr>\n",
       "      <th>8</th>\n",
       "      <td>WHITE</td>\n",
       "      <td>153.725000</td>\n",
       "    </tr>\n",
       "  </tbody>\n",
       "</table>\n",
       "</div>"
      ],
      "text/plain": [
       "                                           ethnicity  median_dos\n",
       "0  AMERICAN INDIAN/ALASKA NATIVE FEDERALLY RECOGN...  404.241667\n",
       "1                                              ASIAN  185.141667\n",
       "2                             BLACK/AFRICAN AMERICAN  212.100000\n",
       "3                                 HISPANIC OR LATINO  403.158333\n",
       "4                     HISPANIC/LATINO - PUERTO RICAN   97.933333\n",
       "5                                              OTHER   16.516667\n",
       "6                                   UNABLE TO OBTAIN  318.050000\n",
       "7                              UNKNOWN/NOT SPECIFIED  163.933333\n",
       "8                                              WHITE  153.725000"
      ]
     },
     "execution_count": 152,
     "metadata": {
      "tags": []
     },
     "output_type": "execute_result"
    }
   ],
   "source": [
    "admissions_df.groupby(\n",
    "    \"ethnicity\",\n",
    "    ).agg(\n",
    "        median_dos = (\"duration_of_stay\", \"median\")\n",
    "    ).reset_index()"
   ]
  },
  {
   "cell_type": "markdown",
   "metadata": {
    "colab_type": "text",
    "id": "DV-xegKvJVVz"
   },
   "source": [
    "## Reshaping Data\n",
    "\n",
    "We have seen how the ``GroupBy`` abstraction lets us explore relationships within a dataset.\n",
    "A *pivot table* is a similar operation that is commonly seen in spreadsheets and other programs that operate on tabular data.\n",
    "The pivot table takes simple column-wise data as input, and groups the entries into a two-dimensional table that provides a multidimensional summarization of the data.\n",
    "The difference between pivot tables and ``GroupBy`` can sometimes cause confusion; it helps me to think of pivot tables as essentially a *multidimensional* version of ``GroupBy`` aggregation.\n",
    "That is, you split-apply-combine, but both the split and the combine happen across not a one-dimensional index, but across a two-dimensional grid.\n",
    "\n"
   ]
  },
  {
   "cell_type": "markdown",
   "metadata": {
    "colab_type": "text",
    "id": "Vj5Ur91mJbBh"
   },
   "source": [
    "\n",
    "\n",
    "People who know Excel, probably know the **Pivot** functionality:\n",
    "\n",
    "\n",
    "![pivot_excel.png](data:image/png;base64,iVBORw0KGgoAAAANSUhEUgAAA4kAAAF4CAIAAAB2HSuXAAAAA3NCSVQICAjb4U/gAAAAEHRFWHRTb2Z0d2FyZQBTaHV0dGVyY4LQCQAAIABJREFUeNrsvX9sG9eW53kYJLsNtNHA+AH2k5GYofhDWZn2g4DuQcdM04LEpyFlJ9HAWElJ28M1HIqI0Biq84ay16uWYI3abYuzgYh+kVeiDW9NvImshmeVKFax9SjB4Qud3sYA6sS08PhLbCqBFAt4fj2Gvd07tsL9o34Xq/hDIiVW8XxgJKrLW7fuOXWr6lvn/ihNNpsFBEEQBEEQBKkCXkAXIAiCIAiCIKhNEQRBEARBEETAi6Ltp0+folMQBEEQBEGQXQHjpgiCIAiCIAhqUwRBEARBEARBbYogCIIgCIKgNkUQBEEQBEEQ1KYIgiAIgiAIalMEQRAEQRAEQW2KIAiCIAiCoDZFEARBEARBENSmCIIgCIIgCGpTBEEQBEEQBEFtiiAIgiAIgqA2RRAEQRAEQRDUpgiCIAiCIAhqUwRBEARBEARBbYogCIIgCIKgNkUQBEEQBEEQ1KYIgiAIgiAIalMEQRAEQRAEQW2KIAiCIAiCIAAAL+b/+fHjx+gjBNl1/uAP/gCdgCAIgtQCGDdFEARBEARBUJsiCIIgCIIgCGpTBEEQBEEQBLWpBL/97W9V7Fx1W4d+Q8MRBEEQRG3adHNzU8XOVbd16Dc0HEEQBEFQm6LUQImGhiMIgiAIalN8GKN16Dc0HEEQBEHUp035g+qy2ayKnatu69BvaDiCIAiCKF6b/va3v81kMuzmzgaKFj848MHiDh6vOsNgi/0HOPoXq7CGu+k3gXd22j0YN0UQBEGQHdWmImG60w/jxSB0Q3AH1Ua1So1TN9doIsaxtwJp1KacLh0zRtY4RltQmyIIgiCISrVprjDd4YfxYhDaLrXtpDitfqmhs70JCdSmAADpwFtjxsja5y5d7YlyBEEQBKk5bSopTHf2YbwYBLv99+z2HRSnipAarxl11Val3fBbOpR40+/S1Z7hCIIgCFJ72lROmO7ow3gxCPYWAGjZQXFa9VIjHfAk7C7UpgDpUMJo09Wg4QiCIAhSa9o0jzDdyYcxI013VJxWq9S4eYqe6mMZes3eUn31wzWkEARBEAS16S4I0x18GHPSdCfFafXPhVqzBw9U32Qo1KYIgiAIgtp0F4QpADx//nxnpOlNNlZ44MCpmzd3RpzukHXboWX05muzoSoTp7vgN50eqsANCmgwCIIgCKJQbVqMMN0xFoO/uchfGShy8TfBRTz3CF+k218buoqNAkEQBEFUqU2LF6Y7EihaDP7mTcE8F53tzR0RpwoIg6UDYyLnVAG74reW0YhxTDTAIZ1Oq99wBEEQBFG5Ni0pYroTD+Mcabpj4rRapQZvfIMH/J9X3UT9XfKbzvX5Wl/Cwvss1J+FasJwBEEQBKkiXtxFYQo7M/mjZfTzFgkZMlp551bn1JaW0bW10apulLvot911Ds6FQhAEQZByxk2raowpgiAIgiAIojjKGTf9yU9+8pOf/KSkXZ6pOlD0DMNg6Dc0HEEQBEFK4YXdPfzms2cqdq66rUO/oeEIgiAIojZtqu7JHzi1Bf2GhiMIgiBISWiy2Sx/++nTp/zNf/zHf8xms5ubm9Qsjc3NTWqT+pv9Q7TJPmKpP6j/Ur9SvZZUfAifxAhSJH/6p3+KTkAQBEFqgQLjTffu3VvRw8/Ozl5J/Bc8DQhCkfIFJdNFL40IgiAIolZeQBcgCIIgCIIgqE0RBEEQBEEQBLUpgiAIgiAIgtoUQRAEQRAEQfJQvrX304G3ruo/H23ZThlm+7XPWl9e/MTuWpL49aQzOGr+PvDhe5fXAQCgaSj17uu833k/MUWlF3ptwZWcQ0Dgw/cur7cGfF6J6kZ9emKBl63Y6hWLuNogKvCkMzhqFiXmq2rBAiV237j1tu9GVLZKEp6UKr814H1HB5E+rqjclHIi5ZlythlxZp5zqPK32ajwdoMgCIIgO6VNF/sP+GN/2OApS2EttjPmpRxxU3fmfbNYpvAe+a0Bn9f1QdAm1A261gvnvxFKDY4Fl5fZ1/kGwFeuyqsHutoiaSig1Q5fL8LrQicUrqqcOGOU5df93ou3GU+GPujyNN2g8hfnSVax1Z/3jrvevXb+h/cury/477/zWStXlNn+Tsu+lxc/qYgwlfFM+dtMQaqtUSEIgiCImihHn/5i/4Ggfe0zz2vlqtS+Lk9Tjqpr69Lx9NaoGdILvbxY1ILLa++Pgq71wvk6/n4vuz4YOlklzm4aoqudJ6zY9EaL+fUWANhnOVFXhiN+1voyRH16VpgCwPoNm9fOqMniPUmxcvnmrTS8bPtZPQBEg58uRr+GI62UGvMchvTGLf9ShbyX1zPlbDMFqaZGhSAIgiCoTcW0jK5trytfokjbGTN/mxcA++8vvHpi/3eL0Vt9ObGu2/OcbOLx+qhXWNruUH/e9kp64+ur+UJ0dJ7+T74GCUO2eMR+2dBdfYmeBACAnx7UAaQfUrss+B++0mJ+53wdQNMbLfteTocqFDQt7JmytpmCVEmjQhAEQRDUpjuDMAzGD4Dt+YnFZn69BVYlNND6anrjezh8jBEN3wc+tOs/+Rr2dY3Z63fbJJ1+47v0xle382SpO2bb97Ju46vbS18tCgypzBHrjhXtSU7whd59HeDrIBMcjX4TScPLrrf+/fkjsBitWNC0GM+Up80UpKoaFYIgCIKgNq043wc+9C1ufK9jw2BUACzqe3vhezZT+mFaat90auO79IYwbelifxR0reOBplJr8rLrg2DKx/0TTQkqUV0d1Jlf10lXm8b8M4sOYPHbBYCF4MbLulK69VveZevJdDcXccSiPcm44oMu3catt4UjBK5GAQztLvPr8G2FgqYFPVPuNlOQrTcqBEEQBEEUpk0BYMF/H3RMGOxkW5cOvg/MCzqmdft1Ujvq9ACQEx67TfQGNqDl3WslDiv8PvChXe/l/vGFztaQqTZF/YnDkN6gQ5K3v/0a4GVXW2uRJS9+wtaTEY7rq+no12nuiPXnvZzODjExv+I8+X3gQ7v+w1tpANjIce88lV6xoGlRnilzmynIVhsVgiAIgiDK06YQDX5Kh8HoANin7LToJ7+NhKJfL8JBiU5Y2UjhymWfb3EDbKfOmH/8f3fHpPUvZatN0XTate9l3b7XRyn5SC11ZH5jG3Nu0ql9r+j2sSWsXPbZ9V5GYuavkqQn12/0LXwP1OhSQfpqOvr14sZqhYKmRXpm+20m9lDi3cO8/xWA71M/QDU2KgRBEARBbbpT0GGwzz4QB8D+hx//8YuHr7SYc0f71Z8/1aWD70PfSE42WnCFvtPt6/rLn5t2yaIVmWrTnDzyOgjCn/b+KAC8bm/axhHvg27f6+/LDotcKdWT9OjSoqO5ZaFoz2y3zUQffpcz0YoK2X6XkFsxapcbFYIgCIKgNt0pqPWJFkEQAGN+uhTYAF3reMrJiqTWgG/ctQ/SC5dkFp4EWLq4/U757VmUW+16c92/Mtf9K4BW+77vRQswUX3lLUdat3HE96hhkSmZSeUle5IaXZobOq0gJXhmu21m6atFEIwiPekcd+17Ge5/LDufbLcbFYIgCIKojBeruG4L/ofvfGYWjxoEAKp7+gv7tc9avSmfl0nM+aKPpFbbHxzdtbV/ZKsdpRZgWvhS0C2+/mVoo8tlfud83UJ+u4CaC/Uu/Tf/w0W3CfvtpqHUu12f+bq43Bu33qYzlOzJ2/O33jd3udpaL+/MqvKFPPNFOdvMgsubPu8dd8k4syobFYIgCIKoCk02m+VvP336lL/5+PHjih5+dnb2SuK/4GlAEIqULyiZLrowEQRBEEStvIAuQBAEQRAEQVCbIgiCIAiCIAhqUwRBEARBEKQq2f25UCv/6W/xNCAIjQ9dgCAIgqA2lefRo0fZbHZzc3NzcxMANjc3qU3qb/YP0ebz58+p3ak/qP9Svz6j8jx7xqYjCMLy4MEDyfRXX30VnYMgCIKgNoW9e/dW9PCzs7OxWAxPA4JQmEzSy/jvyjz9PXv24BlBEARRK0+ePFGkNkUQpJYRrTH34MGDQ4cOoVt2nRo/EWg+mo83ge27TqPRVG1VcS4UgiAIgiAIgtoUQRAEQRAEQVCbIoiY8GA3kUE3IAiCIIhatGk6cPwAw1uB9HY0wmBYldKnIQdlG5ohuhuG1HGqMkR3g+vW0qU29qRkiO5Cpys8JGM+t69wD7l0BEEQBEH4lGUuVDpwFX65tqajthb7D/Qvro22oHM5rMOx2DCtvWF42Fq1ErpA7bgMWueUKtZXyBDd5+BKLHC9O312yqmlErXOqZhTkGnwbrNVkBCKNUGrVGltqd5YzEr93U1oqTLl0qsf0ZpWb/2fv8CrGUEQRKF8/r/877WjTXWuURe31fL+xWAoDS06bAVI1UvTu6Spd0oLeUOZ4esp27CTr0Cvw9le03XJ0gJTVkbgXnEM3s2AUyubrgBwPiyCIIhqUMotvRLjTdOJ35RFNrCdoOxQwAwxSGQkOkdFowUzxCC3h2Qhq78epNKIQXHP6+COjjsUVCZTmtX8oQJMX7QgJ98pvG5qLpl39FOnuhsaXLduudgc4nLCg4IMfE/JFp6p9p5src5U+BSF9GetImUqKSwzd0mTzcovHMi7Gfl0BEEQBEF2QpsuBqHPtf2gaSajuxKj6E2dYxUPee4c0OkBcBUSPHKF9H+kn4/FYlNOpw3GeQoufD1l2+l4FlcZbWlWhwfH9fN0ZrYjnpdz3kG2DTFZ21K9Mbbgtu4cV9y8ORWLBbq6AjG6Kjk1sQ4LM/AUsmzhJZ2sXcE6bFto6Cbkh0iLmkR48JyMMgUAMOkFv2j1pvzpCIIgCIKIKPPa++nAW5ZE39poGYrSWtlIk9VmCmUAtAAQB8cVRhlYz14Yvx4Gq3VbhdhM43czTmozHALb8A6fAX5lSrXapBOLpLiplzdq8sqF7uthsGqJcWC7lAGsw/NpplNZePTCrpOQ/8UVXsTJ2i11ejGmJbrblpYg7MwZa5shQvqzw9xWd8g2NSynTDMp0DlLSEcQBGDkj/+s1F0G/u6X6DcEQW1aDIv9B0795mJkbbRsA00zRHfbpSUAAOgKUALB5GjmlEERHbKShQg0nfWsI0SPCiTGwTa146dALDCLttp6Vt/d0BAKxHiKShigo7NmUiabQBtpdZCixWauvM3vOgnhJVt46Sdrl9A6e7vItH6hYQhiF/nyNHyd1J91su64Dlfyz2OLpzNg1RafjiAIALxz8kTxmT+9/QV6DEHUTRnXkPrCvrb2uatcwjRDdDdwHcJdZS1EJOCa9SlqVGDKcXbnw3qCypRmtdY5FYvZQtsZzCnqbC6z/5VF88VYa0jgyXAozsnr8PVLty61sWtK0UNv+flzuuozKdBp5dMVT/15bzDlC6Z8wZSzdYcPGrLXS/3aGvANnRQmme3XAk0yhTUN8cs56WTMybHopFNcLEBrgMkjfYi6MwGq8KYhrljmn2yVtozwKHnLrz/vPGPekbN10nntfF3hbD/+mC3+Hz62EUT1lCVuutjvgV+ufVgGWZpJg74ZgBKK80zvdCYdh7yFa/WmtODRH4fm4gvRNuvJ6+FmfUrfvMs9r6VZTWEdjsXOEoNExurUAsRT/M73cCiuPwsA+riwO511cxlqoi298GqGH+EMh+KOs1q+o3nBY4n1tqg5Tk52jATjfrl0hXPSeQFu2vXrO3vUptO2+7364IrMr29AFOxNcHtJkNxiO2NeuhHNlWi21+H+x4zkHbfd79UTKzyp90a/9+Lt4urV8u7QySWZzEsX9Ut0mQG46FqqxLkIju679bb3YhSfaQiCKJ9yxE3TKXjTVpZ4afj6JTagFE+x09SvkwX20+rg0vUwk717PM7EqYorROvsBVfbzs+CkpJGxVudCYczPDFOc8vFW73ABb1OLW0fF+ALD7aR+matrDTLWxMuA995xRVehWQIIszbGOfFSSGTBkdplljPOsg2xhes++XTFU2rHT69vL7TRzXvfyX9cEVWoh2BX32yCEdEQdzvFjcOnsiN3tUd0298Tb3Umu0X9CG7jS95ly7qP4HRYuPB3wU+WX3fu0PBSLFP7Nfef9ir991QrjD9MZst/h8+thEEtWkx2jRxc8hygE/Jn4ailxoa18/TkSit84p+nOo8PQdnewsNVbQOzzPZ21K9VxxQYiFWW1eXbfen6ZRktVabPkf3L4/rmTlHpgu/+nmITWW8yfdPQ8O4fl5m5XfrWQfZ1tDQ0E2AdE24DBlJ5+crvCrROnUhqod+6VJbW6qXV/fMXbK4nvcM0c04ROucCoArx/2y6UomnYKDOVKsNSDQZ2zfcf155xkz0+kcstfzxgPI9fnyBgx4mUK8wc9aX255V67PutUOX00/+3UQ3hD1v6e+XbX9XKwyT7ZZUt+uUjt6Dkf8ueHMpY8D+944WaQ/frhhCx0ckx5pUFHqT+yP9MkFkiXcWK7zVX/eecZcdyZEjyIYOll8lbm9iurxRxCk1tBkha+hT58+5W8+fvy4ooefnZ1tbm7edS9kiMG7zcPKj2WpxY6dJzzI/y7ULmIySb+RiC7MnWHPnj2i+4Pea+c2moZSttW3BeG61oD3oJ9LqT/vPPYFcSMK9ee9464Nn55YAKg/773Q+vzlf7xrdy0B1J0JnYK+nJjfSWfQ/q3dtSQ+kNl+zfPwPelucbbHXNh1brYPnfjmYqLtmnH+PS7QW3cm9PNV268OBn72peubY4GffemSknfUvpfX4aRzCAhRl31rwAkuYkGYjXeUujPiYivRp597lMJuZM/Lds5X/XnnBdu+CH3umoZSR77SEws5FRC6nfJqUyssLUSZBvPw17//P3e0F2/x38zM4Tx9BNkaKV+Q038azZMnT6qzni/gqYIMcU5J3dAIUh0sXdTfhLFip/V83U8Ll5XLoe/qH/lowbR+4+rGwYYcvfV+1sdpuKWLb9+X6pQXyaAjEKR2Wfoqp1sfbs9H+KHTk22W0K8Wyu6S28Sn+g9KiSBWlC25sYTztQ9CNxldW0qMOUoLUwBYCG4cBIDNH39k/126PMr++4u/+CvvufPec+f5GfDKQxDVU+PaNEN0NzS0kXJrfCK1gnV4CpvAFli/YfPag0fkZs3z2FiNsX//sLr4MO+on58eTN8XCMfoQ9D/NP8BWu3w1W1W8eR068P6jasaNrFyg2UXXB+uvv/vWqvi7GzFjaWcr43IF5wPVxIbJVTNbL9GDRgYNQMAZLPcv37vfwCAf366+bvfPfqX//7f/ul3v/urS5f4GRAEQW2qbrTOKfFXjpRtDnboIzvObcJ+df/pXQ4WNr3RYvayKyiNml+350Rzb8+v2u31AGC2v5Ga54m29VU4fExqGlP9icOQKFXCrt/o23gntGMDT2UrX7XUn/cGx+CS3mvXe+39UQAA0XQn7y9+QanSf/rd78Y/Ghf9ilccgqA2RRAEKUDsIRjrACCdEgTPdPp9Wyruh1XdYUHo0bwfUj/k2+PkkVcCH9opuaP32vUf3hKVAACw/mXq8OnOl/7Ec3j1C4HiXAhudHlyRyY0nbbd//g2beArYrHb9IZOJvobDb53df+F8z/dGd/LVL4oN5bpfJVE3TH9/V5mSYR64z4AYdyU+veX//EvAeCjX47n/oQgiOopsL7po0ePstns5ubm5uYmAGxublKb1N/sH6LN58+fU7tTf1D/pX59RuV59oxNRxCE5cGDB5Lpr776apXVtPXkwYXbq/TfnsOr/iAArCRg3NN0w7UEAPXnve/oNiJbKXv9xlVNMNC0wE7i+ezw6tvBfJWx74v41wUyNLT/9ElYEM5eWrkcgsC7LRASrwN6m/DZfcEA2HkzqK59djjyto+eYxT9JqL74Nr5H7h5TqF34apXdjWr28SnAZ9Xt/DlDpyJ20Sv0RsM7e/lrYFVb65biRZ2Y5nOV4no9ukAVgDAbD9tA/g7AMmVof76rz/CFaMQBLWpBHv37q3o4WdnZ+UmJqtDZxw6dAgbGfpt+4bvyjz9vKSNXcEUHWb7up9Z9Z3SSal3AQAWP+kNHTm2Hb1FlQMbt97Ov3hn0xu6+x8LM6x8cf8VT84i/LD0cerIsS8kZsovuLwLJ53MEQEg6tP7+P3+N2wfQuiDoAs4k/Muy7/g+uSN0P6dORcrl332hDOY8rEp3wc+fC9ahBvLdb7kednFOQ0WP7G7lm70bVxL+bwAkF7ovbpxuklGmyIIUrPs/hpSPT09qLEQ9FsVatMCa0ghSDkY+eM/O27/efH57wR/hWtIIcjWUMoaUi/iqUIQBEF2kSzGTREE4YFzoRAEQRAEQZBqAeOmSM1Aui1xb8RjQE8gSFUx97chdAKCIGXWpunAW5ah/0r9ferm2mjLNuSDGyYmHCqWR5r2SXarZy6rYluriqTfYuy7BzCp6eO5nUkFADg6lmB0Kz9ZcI74P8icPi6L8Ge5dASpcXDwKIIgIsrTp69zfb5Gc/P5qeOBNDpWWpdqZjqyPP6tJohu2Rlh6gQiO9dzdCyRzbLKMOn3AcGejIFlo5ukfjB4IkzqHLRb/EmuKPNYgt1DWpguD1C/JhpH2D3l0qufB0KwLSEIgigXpdzPy96n3/LhzWB/GkCHbUCsTEcaE1lhh7LdjrOed0Ka3pk2D0QMQIrSDZ4JD7fl8I7N3EmCQ9jl75iYm3EnAKjUxDKYPPkPNBdxMKUTne47SfAYZNMVAC40gSAIohqUcksv/1yodAqMZRGmSb9FQ8ELP7n9SS6dCXMB6RZEopJ+Ny9gJVkI6abS/G43KTyouyIxraR/ppGQVSOCKiWF9dYIg2y8H7iaSyXuipnVicFU1CcdE8tSS2gm49BoLF4Ddzj4x4XpO0n5dARBEARBKq5NF/stCburHNo0mTARbG+rk1VS004n0w87B+1ucouFjDQmstlsxOPpgBGeSiN9yx2ViGcl70yDKW+5XJUMAKSb7QHOZgeWjYw85XcNZ7NeIyNjnVzXdMeMZffMrFYcEx0zGstHMU2+TOQMDOQ4hXQbha6abJd8ZaAxC2WssdGcPx1BEARBEBFl6tNPB45bhpYAALpurrWUpUiDg400OTrMM3S3ahQ62fCjwzs24iPB4dhWIR3mkTtJD7VJzkDHRGUcbc4ffONXKekfAbYHGMAxkYhTfcCkb7ozwf1gMBgAgLwDBG/uucPbOUN3GO+GmdWrTrNGv8V4716W9EhMRKJF/wR/m5245BAUQ2dK+i1GCyQEs/7levwLjARAap2RP/6zUnfB+UMIgqA2LYTOdWeN+i7dYv+BA8FtTdUXKgZ6VnTPHCUJzJ3HOTFQVF+tRCFg5sUwOTGX9I9Ax058Tpo3W5+ds82rUmLZ3CGQMgYTLCcAIA5862nz4tN97X19grQe0wQYqsDM6sLgGeiZjjfOaNwgmMVEujXt0bFEdsLAzxvJephfNTMSE+sNnsjcsoWV+8wrRjxnwGredASheOfkieIzf3r7C/QYgiAqpuzjTVtG125CcLEculTD9d73lLUQYQzTcLxxmRoVuNzprdDaPqIRho4Jasb22FHpKkkjPR5SMHNcMH98581UAMcnsh0zvEG5Fs1MBz2SQhLHRHYOZiSHjuT0zOckJJbBZJBPVzgnncGUj/nnPWMuZ8nXztcVk7H+vLOk45aaf+f48cds8f92qY6tAWeruu8OgibtCwaaFNmWdgyz/Zqsi5qGQvb6bZRdBe5tGiq6MWzVRu/QybwHLcehldpQq+y7UOzEk+Sd5U5uucl4NP9uooc/I+KKLMRwvHHaF0wGlxuPV0wwOLyd0z6yuLzGxqhQDNFeMTZS4VOx6s1N3DUzFUI0ngQAIN1OILa+1miOwhTPcSJnoo3GPOmK5+t+r11P/Qsd/EztwgWpAXhN2mt3LaFDCtBik9Q99edtryv+LeXIV3peYwjCjtzfli7SR/zk68VPimqHJ505AlcVlF2bpgNvnQL7Fnv0SV8f+7iPMpIr6fdNF5JdJuhjlF/Sbxn5hz96qZRCDJ4BcBjvV3R6kMFDNI5oilrY0uAZ4M/yIt3G6cbjBjqdKyE5RyYBwNEhWoGTTt8dM6uSpN9P8jZGotTQiKTUGIncfS3t0OEoLt3h7ZxmF0kl3e3M5Cq5dBWx9HEADuIMry3zYzZb/D90F1IdfLe4cfBEbhdH3TH9xtcKXuW8aej9h716YoGfdntpAc+34rTpYv8BFkuibwuDTelFkEYaE3QUi5JyGo1Go3GCd6DQQ88xkWCyG5cHiHf/+VlphTg6eno6KtzRbfBEsgPLRg2HEwjpoB3PHI1mpJGN/TomeCU4E0ZDTiIvfZfMrEIMHtOMRqPRtE/e6zMalwdodyaWJ/v4p4Ode0+tvMU2J95a/Rap9KTfwuxp8ETmoJ09b+zZlUtXKfXnveK+fkE3fd2ZANffV3RPcd2ZEN3JJezxl0k3268xnWJScQWu70ydUYfKIuHz+vPOM2YunfVqa0Aw3oPXwyhXCHVqvGfOdwhPjaDZ7CiybamQCWZVmJ+H1Lertp+Lr9+TbZbUt6tFu0jewxLNaUduX0dW+4Irsr+KKl/CtSC4N4b+nW7b99XWgC84an59lD263E1SgZRlLlTL6Nra6LZ1mydf0gSdNuERargJ6ewOT/GFALX6qHcnZq5z87xFtk54CjokTwlSibtpZtVBOYh0W+JebmipzMmQ/0HmpIianszOskdTBSed47aHvZeZv/Uhu36JkYDeM2/7btz+9rvATwHWAQDMP7O0HAZzcCUKAHUH4eGXRemDn672ee1RVu74bkQBACxjpyJ0et2Z0AdDCe/F2wBm+7UxuKT3rrDyKEbnZwSTbfVt78UoqsytabWC56JpKOVsvU0sbKUQW4Q+NU1DIXv9bUYlnGw7GCRWdkWYyrQl6bYnMEG+I1gp5hfghxtXj1w7X7dweZ0TlO9nP7X9cDCwvzgzAcz2a5/t/1TvpVpLvbmOulGU1pzK9951zJZEksudAAAgAElEQVRdvZwvh7DypVwL/Huj2X7ts8Pf9Zdyj829r7q8CyedQ0BQDQ/MTZKVqd24qcJJ+p3TNTAGs0bMRHYO6n09mPIF7d/abdRDtO7M+1kfN0Bq6eLb9w+eqANY+gqOUM/p+hP7I/33oYG6mf7sYOqbop640aUF5j67ENw4SO0O+767yt5/12/0LbxibwKA1hNwycZFPhb893N6HjdWq+quvfnjj+y/S5dH2X9/8Rd/5T133nvuPD/DrtdW5lxA6CZzLpY+Dux74+R2C/kqffgYE3RstcNXt3ewSTPhLvm2JN32hCYozPytcHs+wg+dnmyzhH61UIKZ0Oo5HHmb050r0fWtNKcykt7IOx5BeH5LuBaE98Zo8FJgo3jFLHNfLaZRKZMXoaahFpg6OpaIGNBM1eOYiDgAKR9f9zNBSi5u/NOD6fs3BLfLh+D5KcB6OrXv9ElYuF13TP/wy8sPTwea4PZS/Yn9q1+slxDB+qz1ZfrQjMSMCY71HQBA3UFbq9cljFgtPqSjtrTCeHgt5Xujnw507T78QaT93v8w6vtP//x081/++38DgH/63e+uXr1abaNMpc5FhHcqVxIbWyoEvkvwT9P9oRN1EF0Hs/0d+Pa9HWvSPE0g35Yk257YBGWZvyXWb1zVDJ2Ehdu0hv7UtQ5QV7SZdQfh/pcSUr705lQRmoZS774ubBvi81vstZBzbywB2ftqMY0KtanykO06RzMRpEiiwU/Be8a8lD9WtPLFfThRB3v+4H9MfbMC61+BsxWWAB5+WVz8sv68d9x2v5fqWj3pHCoQ+VjotQVX8tb5PX2wNeALjkZ9emL3ZzlkhStDeX/xiwsD/9s//e53ADD+0Xj2x6pSpqWdi9IKEQm+b1Y9P6uHdTixP+IP7o61BdtSjqgSmKB084vh9vxqwF5/O7hitr+Rmr9Ympk/PairKmPWV+HUMXrEEQAsXdQvUYacljpHZbkWqurCrBawTx9BkG3C6+j8YVV3WBBlMu+H1A/0g1b/s/p/o/v/vlgHgHQKDpqb3tA/LO6pX3dMf5+VCPXGfUz6PkG/1ckjr6R+AFhfhf3FPO8WXF772w/fqIZJA9ms+N9f/se/BICPfjme+9PuUHcQHqbznQsZaZcSRLx0+n1QQiHrX6YOnz5Zd0xf7DtMBZSKXFuSbHsqM79YL32ZOny686U/8RwWdoMUY+YPq7BPV2V3M4unyCVFS7oWfliF/fUSjaEY5O+rW6xM1VMgbvro0aNsNru5ubm5uQkAm5ub1Cb1N/uHaPP58+fU7tQf1H+pX59ReZ49Y9Pj8bhan9gvvfSSiq1Dv1XC8AcPHkj+9Oqrr1ZzzaPfrI79vPXyf16A9RtXNcFA04KLGbP/2eHVt4PMA6ztwvvZT20AACtfPDw9ZoOrvmIPodunA1gBALP9tA2AWdT39VF2kkTT0Ch8ql8HgIUgBEP2NBfuqms9+dLC7VXI3WzY/0o1OFByZai//uuPqmfFqJNtXfDtjbznQpKVBIx7mm646ODTO7qNSCmFrFwOQeqDg/3e3ZoGlKctSbY9lZlfJCuXQxB4twVC4vmFhc1cv3FVw/Ow6FLdlbtZ8FLKGwztLypeXsK1sP5l6tR44CG9XulJp7cFvi42Gp7nvgqvGOnZYyVdmArXpnv37q3o4WdnZ1GKIQjLoUOHJNOfPn1a1fVe/zK0/zQ15uw20Wv0BlPvAgDAxq23ubmiKwl4WX9/gZWzsG9VZrjny64Pgi5mY/ETu2vpRt/GtZTPCwDphd6rG2z/2q23v32DSoeNW2/76MJvE3ZwBlOs8N249TZfBK+njd5gah9QpdnWd99/Vbxqaf1577hrH6QXem1L9GNS+lzIwG8Pi5/0ho4cK62Qpa8Wj8AuDguWbUsybU9l5hfL0sepI8e+WBIrqmLMFHhYdKnultT22RP8kw7fBz5877aUZCzlWli57PMFfFxjCOw7XUo7lL6v3p6PhD4IuuD7wIfvlXRhVjmarPCeKHoEPn78uNLatLm5GRUJglCYTKbq0aZ79uwR3R/0Xjueo7Iz8sd/dtz+8+Lz3wn+auDvflkjzjHbh058c/Hyeo22jRo3Hyk7KR8Xq9VoNE+ePKnOeuJ4UwRBkF0mWwo15Je6M2OHS1jJAc1HEHWA2hRBEASpNurPe4OpDyzFrBWK5iOIyngRXYDUIuHB7vTZKacWPYFUA3N/G0InCFm57LNfRvMRBLVpOVj84MAXJ9Y+bNmyZBiE4WGrGrVQrmE7YGyGGLzbPFy8BJPLnyG6r+umVHJiMkR326UlgFsNl6ArEOOsYqxkMvDpCsTEPwj2FRcu/lkuHUFqZ/AogiDILmjTdCAYa8qeQL8iVSxMz8GVWOC6OG4aHmyYXGmq7wEArXMq5hQrdkpOmi7M54m2ZojutlRvLGal/u4mtFRmufTqR7Sm1V+d+jfYhBAEQRSK3DKFqtam6cBVeP8Xh67i6UeqVpreJU29U1oIC5PDgw0hW+wmDA5K7BO+nrINOwEAMinQOfMXHpiiY6Ja5xXH4N0MOLWy6QpAvKbVA9lVrhAEQZAqF6ZKuYGXcS5UOnAV3neV7wMPGaK7gaKbyDBJg0SGSx8Ms8qCzcJmy1vI6q8HqTRicDAsPOggv6Qd1ExsRbma5rErPNggdgK/CLFR3RLpkkeU3u30eEIt16ZWJ7lGk3VYtp89Q4T0Z4vqg8/cJU02K/9YQN7NyKcjCIIgCFI5bbrY7ymrMoVMRnclRtGbOseKJ/LcOaDTA+AaDG+tkP6P9POxWGzK6bTBOE+Yha+nbLsRzwoPtqV6Y2xN27rzC+Tw4Lh+ns5NSyq6q5rGFuou4LGCR+RnGPn9a+Lhl4rFOmxbaOgm0kWfGmGTuOXKp+dNekHj0epN+dMRBEEQBKmINk0H3graP3eV9aO4WquVeZ5bbaYULQTi4LjCKAXr2QvxUHi7hdhMXAwrHAJbxWapsKqGxXWLVtDEOAS4sJ11eN6RKhBXM+mECjp8F67whjBaz7IlSHqs4BGFGbTOKxeaVNPmrRdjV4C8tXTperjwG5IwaGodZuT8vIPM0fOZFOikXmzk0hEEQRAEqYg2TQeugn+0pfyVYzuVGREHYHI0c095mf7ZgoUIlB0n4zLEeAWlKXQFYiICXYx2MQmPq9VBKp82tZ7Vjws66DNp8lIbX/a2XbpFlyDpsYJHzMmgLrTO3q6mC/qFhqH88jR8ndQ3a6VLmAqYcnrm42np0yaXjiDqhHRb/Ek0H81H0GO7pk0Xrw7dHLIcYDh18+apAwcO9C9uX5dyfdFdZS1E2MOqbdanqFGBKcdZhegxrXMqFrOFeCNITRfmRcoX1ykqRPPFWGso37CQcCjuaJaNeOb0zOck0AFTuXSFk/RbNDzc5K7UYBcOixQ+Le2T9/qM4laR9Ft421z7EZ5DuXRVmc+/ePiqRHhRKdEB2zJf+We/XB7je0jGE6RbI3k5qcR5ZdCmLaNrfG6eOnVzbW1ta3HUTBoo3Zi5m3Kwi/Vk0vECUk348M+kqPxFFqJt1pPXw5m7KX3z7ggGrV40NoFxg4xdNNbhWGxeHyIyhQOtRR+RywCCUF9mZUmjzhtDnpBmfmmaqzDFc5zCoTh1GmXSFY95LMF9SHPCUTA0UPINs8AuBk+k8GErEeNAQZzvQesEIjvXc3QsIWgVpFvjnOZnMy4PUC0n0TjC6hO5dHWZn/T7gGCvnIFlI69B8S+qXWjcu2q+0s9+GT1m8EQYB81Bu4Qnkv6Z6FHZ27HiWk5FtGkZCV+/xD7u4yl2Xv31Qk8CrQ7YwYMZons8zki64grROnvB1bY7s6DY43Pxu/BgG92TLGNXJhzOiOSq1QYu4Zx+Lk8pR+Tr9TbeOgiuKVDHV7wzBMEbCkGM51GfmTTk+ZHoduWMALGedXBeCw+6oJdqUnLpCKK2R+2dafOAxyAR4pnpyEYGzLxsc8zz0+AhOpfvJPOlq8x8g2eCl8nhHYM4bWZiGUwGtZ99OfOVfvbL5zEBjok583JCrEx94GUdqvyWU73alB4UOq6fp3uitc4r+nFq6OQ5ONtbaFypdXieyd6W6r3igBILsdq6unZzfCWv/g0N43o22CtjlzZ9js1LT3SyDsd6U7whp+fSWu1Wjsip16kAMLO3QrZ5tcyF0jp1IWr08dKltrZUr/wa+Jm7pCguylt1q6Et1ctbIoGZtc/3GteY5dPVGQhw+5PinjnSrdG0T0628/rweH1QvI4stz9JujUajcZisYh24XbgRdncTGESBxUWKC5FEIqQrUwRhiA8DCaz9ONVEMlJ3pk2dzj4e8H0naR8usrMF5NYjtbS2ZczX/Fnv3weE91S49BozFGmHoO6XVP2b5ZCy+joVhSD8EM8OUnDdNqwUyiwhqWzW53FFwL0bOzhCqvP4bxpEh6Qt0s6s3U4FhvO2b1Ij0nkF5ZnHVZJk6fMCg+KvwslcUaGC7ZSiVMkcRbypauRaaezk8hmDUCPicpOOCay2Q63GyboZxTdk5U10HEVi98Yoe61086RzgT3A28X0sTsQLot/mREdG+WOCgAQLTPCHPZ7AR1TMv0PfNANuugtvzHIx5D/soUMgTJ0SEdbo0lPlbgkWsWPmyNjeZ43nSVmS8MK87AwATbmCfbNZMAAHB0LBFRmv7YpvlKP/sV8RjpNi53ZD38BCd4IwYAUSxV0S0nlxcAyRDnyN0aaoogyiXaZ5QafB+FToK5NTq8Y9GZnOE05B0geHdPh5ftvePvK4owOBxMuqMjp49L/qA9TC+hwTNgvmfmb1GFFFcZaUMQqadtloDpyXt9Pll3yfU/qqFfsgjzeST9Fs1MB/ei45hgRgwmOqeNCozMb8N81fVKb8tjbI9NO8zxXoSTfstMh5TyVHzLQW0qkqXdDQ1tJLcCKFIjWIen8JxvF5nB9+bO49ytU6rTKhmf5qlajUZj7JtkxKY5z+OJu11P5tZF5qD8UIyxsUcYmClQmYKGINIYPAM9R8caZ+SnC0fjyZLSVWY+9Ybm1micQMj0dxs8kTmzIvu0t26+Ks5+mTzGTYbqmGFf/ZN+HxCFumyU23JQm3JonVOxWAxVCoLsmqoVaFtzrnjkdKmTmd0717MjlUG2xfGJbMeMpD4xNop0Ph0yk0tXmfnABAyz2bx9rznuULf5qjr7ZfSYYyI7BzMkAJC+vkneizQ98F1iF0W3HNSmCILsTpjABDl98gVI3lnuZAdRJePRXa0MUjySoTDxLBdyJtpozJOuMvOBdMvHS1WlzUoyX31nv2we41Qqn7menjnpN2k1qPoCc6EePXqUzWY3Nzc3NzcBYHNzk9qk/mb/EG0+f/6c2p36g/ov9eszKs+zZ2w6giAsDx48kEx/9dVX1XHfdRgAwNEBGoufN2A/SZLAjSeV2gWiywkAAwAk/b5pgIGy1ar4ykjUChG9Q/j9CY/HwWyMRDsJKT85vJ0jRreJeqyS7nYYoGaiyaWry/xkHPijReSKsrTDQBZqyHyln/0KeazUlqDEllO6Nt27d29FDz87O2symdTa7h48eHDo0CF8XqHftm/406dPq1Br9hk1fcxGwcmhDm/niFHTR2WcyIJbo9Hwd3bk34VotGg07VTeAbOvjGY4iquMtCGoUAUYPCYfdZoAJo09c9kJg0y+yBzjc76/5dJVZX5iebKvb7KPl0I3paTfYuy7R6f1zClubMk2zVf62S+jx0g3b1B9ES1B6S1HAk02m83zCHz8+HGltWlPT49a2x1qU/SborXpnj17RPcHbNJIUZBuS9xbu8odza9l86vYY6IbuEajefLkSXW6BMebIgiCIAiCINXCi+gCBEEQpJw4JiIONB/NR9BjWwTjpkjtQbrxc5MIgiAIomptmg4cP8DRv7gN1eBW57dXeB/s1kgvSbYTNXDjh22SfoumffJen1F8FpJ+C29b4tvsedO3vyOCIAiCIFDGuOmhi5E1htEWdGwughW+C06j24JIL7CLwRPZjdl7VfW2QX85fa7n6FhCcBZIt+bd/4ufzbg8QH8ArnGEDbLKpW9/x6rlgRCcCIUgCKJQDh06xL+f14A2TSdAr8MTj1Q3yTvT5oHcuZCkWzPTkf37i2ZeNvYTxgYPwXxfXS5dUP6WdqzqexmfKr+dIQiCIHliDfz7eQ1o04oICbYTlBd+cvuTEp2jovGDSb+bF7CSLIR0U2l+t7jn1b2jMS1Ji0g3+zkyptq8IQFshXmG/Ot/bRHtImd4PjfyChSXIvKvTGWKMGRXkfkkumNCEFBO3pk2dzj4e1GfK5FL3/6OCIIgCIKUXZvePEUPNn0rkC6PakuY6I9nZweWnaywmXZyH9WG9kLdxbKFjDQmstlsxOPpgBGeaCJ9yx07vSpbrkWOCfZzZFl6RWY2SzbbMWPJMeTv/z4i2kXa8DwHBQCAaJ9xpoPqee6cdlrYjuhE5zRTSL7KFDJk13FMdMxoLB/FNPmziT7qzn6cWC59+zsiCIIgCFJWbdoyyow1jbw5aymLPDVwXw10dJiZL15HoZNgRI7DOxadIbdbSIeZi2GRM9BRsRGZ0T6j1FSowhaRd4DgKTuHl+0S5u9bjOGFD9rDdD0bPAPme2b+FlVIcZUp4tTsmjrNEs//ZuJen0+2enLfIi74jeIt74ggCIIgSJm1KYfO9fnN12ZDZYmdsl3E3Ne7zPwP8cp00RYsBMw8qcCpq6R/pILSVDAXiteFXNCiZHyap2o1Go2xb5IRm+Y8mkfK8EIH5cf3jI09wmhfgcqUfmp2CYNnoOfoWOOM/IT5aDxZUvr2d0QQNVDjq7Oh+bg2H3qvWrUpAOiMr5VHl3JdxD1lLUTYw2o43rhMjQpc7vRW5fq3ghn+fG1rzhWPZfReiZVRGMcnsh0zkuo0p8edjnvKpW9/R4XfUnd5cTSkOpBenY2/eB7v2ctPFi/lpszmVJL5wutHxgGKupa2YD535yhi8b5au3ZEi06yHlHfhbOT2nQbk/aTcaDkVvLOcmeC6TtOxqP5dxM9/BPLVP4iCzEcb5z2BZPB5cbj1SgYDCbI6ZMv5MaSvFfhylQzkvFM8VQlcibaaMyTvv0dFa1L6QHKzABkQHFao8JUanW2pN/HDU7PDiwbmWemwRNhUuegXSBbZDqYVGU+b8eZ6FFBOUpcbK5085N+i4aaK5EV7KDUtfbK7j3eBUK5Y6xnzOtQ3YWzk9o0HXjrFNi3uMAp6etjA0pRRgMl/b7pwoqJHT+Y9FtG/uGPXiqlEINnABzG+x2eqpKmrG5ydIjaYHKOLNR1XIr3SqL4yuQXgLt0E/DzX9BHop2SbyMOb+c0exsl3e1Arzsll779HZWqTEcaE6K7oMOBn96rRWkqvTobGDwTHv74qTHIvRk4JuZ4I+IV2aewVfOTfh94B8yCchS42Fzp5pO+aS56onTzK+Q9kTTKnaWtggun4to0HXiL/SaUJdG3hbX36Xj0SGOCnXxDNI5Q0Wmn4OqVUUwTCSa7cXmAePefn5VWiKOjp6ejwg9V/lyowisqObyd00Y6o2MiO7DM29mZMBry7gKlea80cVpcZSQN2W0MHtMMNQL3Xp/RuDwgt3aAwROZg3bKPq5NyqUn/RbGutJ2VPrb/kwjIXtLFazUJl4GTdgWpJYkK7Ro2u6v/oYIowNF3WSYHi1RW2F6y2rM/KTfB17+FaTUxeZKNp+ckXo9r9G19orwXtI/0ygx3lD5F04+NNlslr/99OlT/ubjx48revjZ2dmenp5d90LS775zfKLssSz8jk6V+o10W+LeSPXFLvMYLrowd4Y9e/aI7g9cDZN+i88UkVXZSb/bOR3tZNd0oL5vQGcn3ZqRRipsQvfiMTJ/Zc1Qf4Du5OJ2pc+WsEzhSSTdbpiYwJjt7kG6NSONY+ZpkL+yJE+SoGUAkG528ubRsUREMR0MJZvPtl8uOec5VKEH026bn/S77xzvWDbSJ7pnLqt08yvrPemb25YuHNEjRqPRPHnypDqd8gIgSb9zujqHmiJI9WLO/87OX1Ms6R+BOe7m6phI0N11pG+6kxdGNtQfgKLXKdux1d+QYnBMZAmYnpRbnS3pt2hmOrhTzS0jwm8Z1JrIWWZRZaNyRhyWZn7Sb5npyNEPCu6WLcn8xHKUWZmbP7C0dtfay+s9UdBUbRcOalM5WWrRaIzTnYQHpWlN3QoieMLL/uYv7oLnLXCWWDYLpSM9py4Zh9whv8UumrZjq78hRSK3Ohvp1micQAiGJnNzOjpmpKcVGzyRObOSOnWLNj/p9wEhGeRX8mJzpZz9e2ZuQJXBQ3ROU6Kshtfak13ZkPQJI2cqvHBQm0o2iEi1fLIIQRR16QgHg9Fv7YkxdtKxuYihUNLjD4tdNK36V3+rSYSrs1ERs3w3WcdEdg6kv9ShxA+oFTaf9PVN8t6+6K86u0lVLDZX3Nk/KryQqRGX6l5rbwveAwAgZ2Rm7KruwkFtiiBIGXB4mWhHYYyNos+E0aP4jY0SS5IVv06Z4XjjtG8x+n8v45CcaoOOgJFuccSsJBQrTvKaz/W+0utP98xRr1+qWWyuwNkXf6qQvhuod629LXmvkDRV5YXD48X8Pz969CibzW5ubm5ubgLA5uYmtUn9zf4h2nz+/Dm1O/UH9V/q12dUnmfP2PR4PK7WNvbSSy+p2Dr0WyUMf/DggeRPr776arXV1uAhGi0aS7yICSsGzwBo3CQ3F8o43ZjwAIBnADQWP1NCkiTB4TA4OviJXLpMuYeTc1mUprtL0u9PeDzsKpUj0U7CADJjNnL3tbTDQLbodJWZL3rfGzG6TdR1QrrbYUARLbtk8wVXOHc3UKj5lfEeo9rlW5AKLpxtaNO9e/dW9PCzs7N4X0cQlqqap19YnUayJrdGo2FTjo4lIpJBMsdEIm7RaNrZXLTwdExkgS2B2VuQmK9UavU3wP783W8JJh9zdieNPXPZCQMVvpns65vs42WkTz1vUjE3T5t6rBr77uWmq8z8fFfUHNPy87R6xZvvmEjELUZNn8gnyjS/Mt4DAEjemQaTh59ZZRdOPnZ/Danm5ma8tSMIhclkqh5tmm8NqWqJOdTIKjMKoVpXZ0Pz0Xz0HuAaUgiCIDugTHH1NwRBEPXxIroAQRDlyVKLse/e0bFEBKVpFeGYiDjQfDQfQe9tF4ybIjVMeLCbyKAbFAiu/oYgCILatAgW+w/Q9C9uSSc08BkM58mbIQYVpSlEthU2sOrJEN0NQ4q3wHVr6VKb+FxkiG7+Nn8zQ3QXOoNcFuHPcukIgiAIgvApV59+OvCWZfbNyNqabhuFdAViw1ZVutk6HIsNUyJ1EIar1siCteMyaJ1TMWUL03NwJRa43p0+O+XUCt4iJlea6nukNwFMF+YF+XOKbUv1xmJW6u9uQktllkuvfkRrWlXVRCgEQRCkeA4dOiS3TKFKteni1dk3I5+7dHjuEUVI07ukqXdKC2Gx9G4I2WI3YXBQahMAMinQOfMXG5iitb3WecUxeDcDTq1sujLuZSKpivIUQRBEiSjoBl6ePv3FIPRVTJjy+lHleknZQYMZYpBY/fUglbbywrxwOCFvJEChfYlB8bEqM4hAcNCMfMUykl3C3FABKlGUk288z4tcMu/op051NzS4bt1ysTnE5YQHBRn4HpEtPFOlPdlaneRKTdZhQeBetFmU4rVZ+UcB8m5GPh1BEARBkMpo03QKjPvn/pwZbfrni+WrH933SmMLcdKHPMf+MO8g29ixj2T/R/r5WCw25az/8fdki83omEJ7U+e4Mtl9nTYY5ym78PWUrVJxLu6gWvmKccYGwEXLvPDguH6ezsxqKGm3hAfbUr0xtuC27hyTb96cisUCXV2BGF2VnJpYh4UZeApZtnCpalcF1mHbQkM3kS55R0qbi4Q/i0kvaCRavSl/OoIgCIIgFdGmid/M/q//R2NkbW1tbW0t0jj2ViC9lXLY5z4bZgvfhSs8HWQ960jRAae4qZf9Qeu8ciEWopRPHBxXCqtIrdXK5LHaTClaZfD3tdpMXGwrHAJbpcaICitcRMXOXojTtoJJJ7ZU0i0ZYhwCXATQOjzPuVHWXdI1kXp7KKpwfrWrQ51ejF0B8tbSpesl1Mo6zGjweQfZJpanmRTopHwpl44gCIIgSGW0KTz/r4Y+drSpzuV/c/bqVmKnVEyOFwjMpMlLbfy57W2XbtEqSRiJ4vXRmoqUAWxvs+sWSO3L6eAMMV45aZpbYYmKmRzN2lxbrWf14+K+ckm3ZFImYf21OmDEZj53SblIQnjJFi5d7epB6+ztarqgX9jKggNa51TAlNMzH09La3i5dARRLaTb4k+iyWg+gq7bNW364h/+T/zRpjr9a2UTbhfmY0IKjAAU9Z7Kiy6ut7lLRtg161PUaMGU42wFpSn/oDIVk9dHsZgttJ3BnLLuKq0mSqb5Yqw1tBUH5vTM5yTQAVO5dMXfTt1kMWllJul3l3QXl8uf9FsqXteaJem3aNon7/UZNRqNwMuM15N+i0aMxA8KOkPSJvPN4auPYtJVbD7/F6GRcum1eLEAkG6JplAjriuLNm2xv5bgd+KnU2Asy8woXnxPTFzwQzgUlxJZIlGQScWp/99NOdiVgDLpuNzRm/Xk9XDmbkrfvENCosiKCbAOx2Lz+hDdvSzpFq1e1J2eSUMBCV98TbZQeBWylcBmjsIUz3FiWqVcOoKo9FnrBCI713N0LJHNZiccvCetc5r6k/p2AkdirGfMS2U0jyXY5AmHok1O+n1AsMYMLBtp0SCXXiPmQ9JvMS4P0Ge+cYRVrXLptXixQNJv0Yw0JkRNoXZcV564aYsdTrFjTBf7LbNGW3lm7Vtt4BJOtQ+H6a1b3Nya8KALeqVGTWp1wA4nzBDd43GTWNlmiOvyrxhaZy+42io3Cyqf5M5bMZErWNEt4xats5c/Eyk82EbKyW1Oo8nUJEfElQFcbuEAACAASURBVFB49ZAhiDBvYzzuKLXKGaLblTPSw3rWQbYxvuC1Srl0BFHh0/bOtHkg94NdpFsz05GNDJil9iF9yx3ULollMBlUYjIYPBO8VId3DOLJfOk1Yn7yzrR5jhFbBg/RuXwnb3rtXSwAQPqmOxM5H76rIdeV6btQLaORN2ct1DT9MWMZVzq1Dsd6U7whp+fSWuqpbrrwq5+H6MRx/bxMT791eF4/Tg9VTfVecTBy6gqTeg7O9pryaeOuLtvOrZRffMUAQKtNn2MdwMw5knELzw8NDeN6ueXjrWcdZFtDQ0M3AdI14TJkJJ2cr/BqQuvUhaiBtEuX2tpSvcVVmf9VqLZULzO8JEN0Mw7ROqcC4MptlXLpao8I5HbnicZV8TrcpbqveEUU030leUTp3X52LYoqsjIYTJLy0zEhGwZM+mcavQ71mSwmsRwtKV2l5ifvTJs7HPzdYfpOUj69Bi8WAHIGJDRrLbmuXN+FAp3r8zXXNmXosJw8jQ3naIthJwDk/ECnC1KmYlyS1SmVOiyzL2SIkP7scDn9LTZSfNBiKsaUIczLkP0TCX/JZM4xmZ9LoibCDNy+RRUud353B6pVhQfF34WSqCm7Ke1wcROTdL98uloh3cblgWzWwehOiz83CCDIPtKYyGYNQiHpBIJJI90Wv5EuYdrp7KR/IN0aN0mJnoJH5GdI+i3Ge+Y5VJIVwDHR4dZY4mPmYpuKb7ljwsNuTrZrJgEA4OhY3iajOJPJGRiYMBRKrwXzzY1G/i/GRnM8b3rtXSzJODQeJ92adqot9MwxL3a147oXAJEPk51TQPc0guwWk+3i6Sz0rRSS/hGY48JkjolEwU4ms6gvk7wDBO/Z7PCyJUShk2B+cHjHojNkMUcUZjB4iLGjeAYr9sDNEjA9ea/PV3hShiho6phgh6B2ThuVM2yugMlJv0Uz05EbOBan14L5cuMWFDmeoUKuSyxHp53saFN2AGktuQ61qYws7W5oaCOLWSoVUTDW4Sk8w1unZy4rYq6HuVcKupgADCZYTuS7QXsbR4STUePTfUa+7DX2TdIlmDuPG3gFm4s7Yk4GpJIYPAM9R8caZwrNGSZ9043HDdIlRObMSuqZlDOZdGs0TiByhjTIpavf/Ghc2iy59Fq8WO6ZB9hXc4OH6JympGvtuA61qSRa55T460fKqPYwSi1EobfnSDbbMcMbQcqfsKysacsIw/GJbMdMPnVKzkQ7j8tGfIyNZoWbTAUMs1lx77xcei2Yn2MWHfWTS6/Ni+WooJOefgWvJdehNkUQpNwYG6medu5ZHIdGY+7NVTQLxDGRzSYaZ/zJwoHWoo/IZQBBaCGxfA/P046QJ6STX5oq9wlLm0y6peOicum1Yb54og45E2005kmvxYvF0WEW3P7ou1ktua7AXKhHjx5ls9nNzc3NzU0A2NzcpDapv9k/RJvPnz+ndqf+oP5L/fqMyvPsGZuOIAjLgwcPJNNfffVVJZlh8AwAO0kJgHQbpxsTHuom2ucjPRMOKqgyEjV3AgAkSRIcDgMjV48DgKMDhNOZeHlKOSKb4XjjtNFtojOQ7vZJ6OnABld+kn5/wuNhl2MciXYScictGQd5aZr0W9phIKtgk+XMy2u2+s0Hh7dzhL0USXc7DFATHuXSa/FiEdz+uLtZDbmugDbdu3dvRQ8/OztrMpnU2u4ePHhw6NAhfFih37Zv+NOnT5Vli2MiEbdoNO0AIJhyzE/vmUt0ztwBADAY4xZN+z0mL3W7nciCW6PRMCUeHUtEHFs4IqdeI3NseT1zibGoD6+1iryXmHzMaZg09sxlJ2TV551pMHlEgszYx8SzucnJCjU5sTzZ1zfZx8tINUu59BoxX3gp8i9rufRavFgcE4m4xajpE93Nasd1mmw2m+cR+Pjx40pr056eHtRYCPqtCrXpnj17RPcHbNJIsZBuS9yrlFWQ0GQ0vxZcJ7qBazSaJ0+eVKdLcLwpgiAIgiAIUi28iC5AEARByoxjIuJAk9F8BF23FTBuitQMou9lIgiCIAiiSm2aDrx1QMyfL25FOQi+MJN3yWbeZ7iVJo+KthEpJ0m/RdM+ea/PKPe9dpkvsJNu4VmS/pB7ERkK7oggCIIgSHm0qc71+RqfyMVTF/99y1ZKEnxmRn3rbJNujWamg7+W+L/VBLEJ7owwdQKRnes5OpbgNa2k3wcEezIGlo05qjHpn4keFZRjXB4QfUZOdCDJDAV3rFoeCMGJUAiCIArl0KFD/Pu5yrWpiMWrCbtLh40gV5mONCZEittut6NjdkCa3pk2D0hMgTR4JnipDu+YcHF2SPp94B0wC8phv8hu8BA5n4iXy1Bwx6q+l/Gp8tsZgiAIkifWwL+f15I2TQeCxvdbylokr99VrpeUF59y+5NUv7nFnxQPMOSNBCi0r98tPtb2BhEk/TONhEd+lWlBtYVGC4Nskt6QSqyoOcqC+eR6AUTfKEr6feDln7LknWnBF9nF3+KQzVBwRwRBEARBKqRNyx40pXtjaTpmOKE27WR/SHROc92x086RxkS2wIeKkwkTwXblOnllMvt6OmCEp95I33LHdtYeS96ZLvD1OUG1STfbA5zNDiwbGav5XcPZrNeYLOSiCpmjNBwTHTMay0cxTb5M5Azwgquk2ylUpgAAZuF34HI/dy2XoeCOCIIgCIJUQJtuN2g62S6eJkTeAYInMh1etjc0ah5gfzB4iDHmY9pR6CQKyy4D9+1D3odr+fs6OsxcbIucgY5tDn815/+8Lf/QSf8IzHGd/46JBG016ZvuTHA/GAyG/C6qoDnKU6dZ4vnfTNzr85Eyr0CamQ7WtUm/ZaYj5+Wm4Net5TIo9rPYCIIgCKJsbbp4ddZo207QlD8Xivrgdny6z8if2G7sm6SFpFDr8XptzUXKALYfvH0SpPblRF7SP1JmLcfN1mfDvbxDJ5bNwsMZTLCckPk8cR4X7Zg5ysDgGeg5OtY4I54nT7o1GicQWZ4y9QEhORUvGi/QEy+XoeCOCKJyanMFN1y3Dp2AXtptbboY/M2btnJPgjKPJbJCCszfLxCf5HQp2w8+1yO9r+F44zI1WnC507tNLScaYeiYoMYijB0tpdqi8ZAFXVQ5cxTM8YlsxwxvUK5FM9MhHABC+vomeXK/fXKynXqJyOmJF8dD5TIU3FGZd1JNDspeHSvpt+D6XpVzrXAFN/7qbTLNR7x8mwqs5n7gb/M3hX5RQXOUc4JEfEbkgFq6Fotf4jDPhSPn0prXppWQpnTAUIqo4AdyJiol7kSigBF3yTvLnQlGjiTjUbmjH2+c9gWTweXG49sWEg5v57SvyAZjbGQGKDBNNA6NRgBjo4Q38rioguYoHDqMSboF8VLhiwPDXE/PHKX3xVOYchqdXIaCOyoR1k20g6p03TfSXeA+zWUweCIqXLmuKp67uSu4GTwRwWWWGOsZE7wyi5ZvU4fVtIJwTgs0Gn9TGGtQenOUcwLp5lZTnIN2Fay1VwEvSS9xKHfhyLkUtSmkU1D+qCk4OkReTs6R9NZkO/vQId3tILVGEBhMwA4wTPotI//wRy+JlG3S75uWV3OeAXAY75dl2pDBQzSOaIpqMQbPAHDGAek2TjceN9DpXAm0K/K4qILmKOza95O8jZEoNTRCcoxEoRcMdtKdVKOTy1BwRwRR7dUns4Kb8A1BNDtTvHybWqymFESEsUy0CSobmy7jBOGECm4+hZLX2qvABVJoiUP+hSPrUtSmkA7Ngr4Cq5o6JrIDy7zxlM6E0cC8XXbM0IkjjQmZF0zHRKJxhB6HuTxAvPvPzzidSJWX/w7o6OjpKdfYTIMnIrRF45QZ1sivtkYz0sjGeAXeYFwh66LKmqMgDB7TDNU9f6/PaFxmJtEllieFQ3ULvjoYPJE5aBc3uqTfwuwpnUE+XZ1vAqIF0eTWa5PsvRP3S4ly8s+Q5Dpr/KNbLOyQDCqHuBzSLcjAX1lNvnD8wFeJV1/hFdyS/plGftA0Z/k21VjtmBDEQkWbNXPqxbNFqL6/Gl1rb2tLHIovHGmXojYF0Lk+H93msqaOCTmhxotg07LC4JnwGNgfuNGCwlcNRhEy/SPcr2xqxGNgjpu7b849sxxSO9eY/NUWLYbFlcCfnC/nogqboxgoB1GdJry3S9E4Xcl1x0TNUrLRRXhbEhnypqsRwYJosuu1cSO+2W4C6gMVov5M6dXi5NZZ4x09EuFGHEQ8htyaOCaEGXgKWb5wiWoj+S++jhmNxR+XzSAKmkou36Y+q+VgV6tRQbesnBOEI/KS8Sg9yqo219orqqkIlzjMvXDkXIraVJ0BIOe0isZmqswcpGoRruNWxHptXnYJOIllNiRXi5NdZy3fKnLSNZG6UooqnF9tpMCrIQHTk9IruAnfmKWXb1Of1YWjF4nOaaPy5amUEwzHO6PtvNlfzmkwA9TyWnsFmopoiUOJC0fOpahNVShLLRqNcbqYpVLRHAXdASI4znMnEAtMifXazPyhvmyvlsPbOCLuK5dcLU5unTVpeZu3JrnkKVy62khB5FZwA9LHe2OWX75NZVYXtW9kzqyGPu1cJxg8EW7QmhOIATMtSmt4rb2ilziUvHDkXYraVHUNJaKm3leVmYNUuTTlq0mZ9drytdSOme0M5pRdjq20miAVQLiCGwAAORPl5L7s8m1qs7pI1NSnLXICN2gt4gFqHRp1rrW3HS9JLXEoeeHIuhS1KYIgiJQgLG69NgGOiWw20ThD92dKrhYnt85aWWqyhcKR4uEHx4RPWNnl21RmdbGoTptJOiF5h17WUJVr7W3dS9JLHMpKU0mXKpkX8//86NGjbDa7ubm5ubkJAJubm9Qm9Tf7h2jz+fPn1O7UH9R/qV+fUXmePWPT4/G4WtvYSy+9pGLr0G+VMPzBgweSP7366qtKvdMuJwAMwKzXNpBPPpIk0GNCE8tROE6lTra7O+hbNOluh4GsAQA8A6Bxk8ydm3QbpxsTHtk7PVWmTE24DGwAoujCkcJvJ35/wuNh12wciXYSBp7o71TnEPh8VhdbgqUdBrIqdwK9oil1dTm8nSNGt4m68LhrvTYvkLzXRr4fBS5Vrzbdu3dvRQ8/OzuLN28EYTl06JBk+tOnTxVpj8FDNFo0mnYAODqWGDD78mY2xi2a9ntAZY4IVotrZ1Lpm7hjIhGnC6bSpUesOLydI0ZNHxwdS0Qka8LLQHB7FVc4UlQLMPkYV04ae+ayE5w0vTMNJk+tWZ1fjxr77tEbPXNKDxnLOoF0MwO+j44leK4xeCJzbo1GI7rWa/ICSSxP9vVN9vEycjciiQtHzqXKRZPNZvM8Ah8/flxpbdrc3Iz3bwShMJlM1aNN9+zZI7o/PHjwQE49Vyqo4L5zfAKlofIh3Za4t+ZEfm1ajU6oVi+JbuAajebJkyfV6Q8cb4ogCIIgCIJUCy+iCxAEQZDK4piIONBqPPUIeqkoMG6K1AzhwW4ig25QFBKfN0MQBEFQmxbFYv8Bmv7FrSqHBj6D4Tx5M8SgwlRGeDDXIKm0MlOqo+TyZ4juite1wo7obnDdWrrUJmhaGaKbbXB83VpMukwT5bIIf5ZLRxAEQRCET3n69NOBt07BzbW1FurvtwK6z1260ovpCsSGrXhOkAoI03NwJRa43p0+O+XUcsnX4UospmXfjQbDsWGrfDoAgOnCPK8EiQO1pXpjMSv1dzehpTLLpVc/ojWtHjyff/DNPLYoBEEQRfKgprRp4rWboy3U3zpX32tvhdKurYhTBKmENL1LmnqntCCOV2qdw05uy3r2QuhuBqxa2XSATAp0zvwHCkxZmdKvOAbvZsCplU1XAKJZ+W95f4HtCUEQRKGkfH+uiHoqYLwprx9VrpeU7XbNEIPE6q8HqbSVF+aFAwx5HdaF9iUGxceq8CACnpVcncOy9ecGQEh2UBfTnSx5ROndTo8nlHwxanWmok5BKl5SuqQ0tVn5xwXybkY+HUEQBEGQCmnTFjucYoaZLvafgr6yBU3p3lgaW4hTUeQ59od5B9k2xKgusv8j/XwsFpty1v/4e7LFZnRMob2pc1yZ7L5OG4zzBFv4espWyThXeLAt1Rtja9RWYM5OeHBcP0/npjubi3JUAFyMOi14RH6Gkd+/dmlJwa3cOmxbaOgm0vnPQQh6pc6xMP2WK5+eN+kFBWj1pvzpCIIgCIJURJtCy2jEOEZNhRozRpju/VJhn/tshC98F67wRuZZzzpSdMApbuplf9A6r1yIhSjRFQfHlcIqUmu1MnmsNlOKVhn8fa02ExfbCofAtu2BsHzrKFy3GAE+DgFupK11eJ41Uw6TTmhjHkfxjTp7IR4KF3NEYQat88qFJkW3c+vF2BUgby1duh6WeQVqCNlyBzuL063DjJyfd5A5ej6TAp1U05NLRxAEQRCkQtp0sf+AB/xra2tra2t+8Gx1qn5XIMYybAWATJq81MZXc22XbtFCUhiJ4vXamoqUAWyPNaMQRfty8i5DjJdBmgqso8OYXYx2MQnL1+oglU+bWs/qxwUd9Pkc5WjW5vip4BFzMigfrbO3q+mCfqFhSChPw4MNDefgSs40PLl0prSpgCmnZz6elj5tcukIoiqahkL2evQAmo+gf7ZJOeZCpQNjcJOdmK9zfX6z/61AuqUs/fr5p0VL7aAvIneG6G4jHfPUVOzw4KDkvtpmfepuBpxwN+U466w2nTUVc4YHGxpczNoGJTuqRmm+GNMNDoatlOLMEN1tK72x2LBEA5FKF54EvSmdP4GZOiWXrpK7berd17nX1E/srjIP/6g/7z2d8F28LX/Qchy6/rzz2BfEjSheIlvFbL/2WevLAK+nWnnnou5M6IMundQ5OukMjpoBACDq0xMLOeW1BnxvBL3C8640DzApfL7u9168Dbyf+ObLu0upDUDqXJfsFhVfINRJ//mq7T+LjZW+QLZ+QdWgNq2gBKOieVKSKy74IRyK688WVA+ZVByaASBzN+VglVwmHQdpFa1t1pPXw836lL65skJCq49fD4OVi89l0qBvlq8/jXU4FjtLDBIZqzOPo0o7IpcBmLnp1O8rSxr1LLwQT2fAqoXw4Dm4EruY4zW5dLGAFStMao6Tk31FYFqlXLryOekMjoJP773IpTS1AlT+trh0Ub9Ei9QAXCzm+X3SOQSEkoSO4p67Y3BJ/8np0P6PbcEVQexioVeUQuUfBZ/eu0D9HbKnRXnM9jd0G4r3QDT4nj7Iy1R3JvCzL2kFtv9TSfMl3aXkBlB/3jtuu9+rJ7jELbhFtRdI01DK9kr64WrurdX+rV1P0H8XbCF58iuUcvTp62xv/uYU142/2H/qN2/ayiNkrDZwCaeqh8P01i12Wg+EB13S01i0OmAHGGaI7vG4ia9sqdTrpLyCc/aCq62ys6DY43A99OHBNlLfrJWvP+cEdg55HkeVdES+Lm/jO3gKsopt5BmC4A1/IMbj1DCHTBoczRKnVi5dVGa3K2ekh/Wsg/Mar1XKpSucpqH3H/aKXtBvL6kq1IEUR/2Jw99dlXwW/vQgPJRIb9j/XT/TcqLBT9OHj5lBIFY88PHVDVV4gC8g2g4GgytUZp75l0L7GfNl3KVg85tO2+4XUNuF3aLWC6RpKHXkK73v07RGmF535v2sj33lvk30FmghefIrlrLETXWuzyOBtw4cOAUAAH94MfJ52ebpW4djMNjQ0MCeywvz1DqRpgu/+nmoocElSJTYfT7dTefqCsw7QncpZXZFT6c2XZjvNV3Po427umAHxl3y6wlNXPe8TP216e4GqiE2XZif0uZ1VIlH5NTrVIAtryswfyF+XbGNXOvUXWdMvdXWFYgNayldf+vSpVuX+HeKC/NTTq1cOmSI7jZ2vQLuQxH0CJEpp1bgNf4ZkEtX9N32/JHVPmJF9lfnsS++PfjZu6/Dxq23fTeiXFfU94EP37u8zuSZhzE6ne7UY2Mtrn0AAOn7vlCpFWP2pQ8NrQGftwUAfMFR6uiQWxlkO6wkNsratNrAT6w0ONXlgboz9ocfuwCg7pjt4VeX+fvChRN1N6LrKmwAJ4/AVWKlVt1SyD90/09r7i/pjbRgdzjdAJBnxFGp+asfTTYriIc9ffqUv/n48eOKHn52dra5ublqvZMhBu82D+MwTpUQHhR+F6oaMZmkl5cSXZg7w549e0T3B73Xzj5RJMdI8bTpBdu+SJ+PHsFpbmqFpYUoAEBrwHvQ77sRFeWhQgjEAjD9U9Tbl9l+7bPW7/rlxh3m9Onz94WmoZRt9W3fjaiwT1+mMjjedDu0Bv7qndT/853tX3K6LJmRwYK+SJnTDQAnndeM8+9dXlfcMAwZD3AtkzGn7kzgZ1+6eHnM9qET31y8vC7vLqWaz3tHFb9/luIWFV8g1E9OcPE7oMR31/rz3gtw8z3ZFpInfw4pHzecQqPRPHnypDr99QIg8sr0nKinG0EQ6Tf1HPZB6CYn9aK0FgSAheDGwYbcPEsfB/b9/+3db0wbaYLn8cejnlf3Li+6d5BuHIJtWo7nRaS5kba9YhHhEEV20j6NRNhRen0jBqzhjdGcTOYiRCsIRU3QtbA0TYu4o5W12bvEo5bopqEQR1CGFRmp3+R2G3xtbOJ2ZkVP94u8iBTdC7B8L8pVripX2eZfsOH7eRG5ys9TruepAn5+nqrK3/xCmOenNpZux2ofkzPWFU9vvfvVj//uR+ZS1juDQ3k08N9vC/dfN19+7xemkaFId0ukuyUytPKTmdJNyk9vvfvd329PLW1PLf3muyHtkPm6P+n+twYdybbpAfXM7P7un4qxrMLEvV13NWrzm1ve9k93Pn9XadSHz38T+ZXvAN1yin9ALH37x5W3IrFL2g/FzU7x50pnSIXyDYtsahNL+1pbu+RaHpWKhtE2zqMMjsul95WcsT31vvqb989pY8LwdX+ilLmj/XX6fv2LUhl12uuvfpz96qAXrZbV3fhOtPyVRUGLncFhPftg5U/ZR8+7S+eA8d2pKe260l8El6bFbeWv7LC4uR28rCSVsLg98PQU9sAvuvzb/1oKXs1vXai+KV13NXDz3/jzx+rkifj2H4e/8ocvHaZbTvEPiOnoD213Kr9Rl6bF7Y+/F+lvK5whtZRvMG8IWHAGH6SCdANg+83+ubj+t76lZxvat/mnQnnek5o7n6dKpdV7dSPPhDKLd5LqamdOnz8ORJpjwcufWjzFJrv9/Y+VDPqbwpT+ZvaR4Ce/+9GjdNe1Dt+1bf3Vd1NLdxrvgTjlPXC5+831qJYV/vI8+5ahQutblklC7a6GPgEMvwfExnf68byDdcsp/gExRc/uD7RfWcHnX4jKZ0gt5RsJ46YADuBR1DgEUsmP/raldK/uBfebFQv/5bkwDJ80t7xZ80795XnzTww3FvjeEtt/OcTO4GDe/LHVgF9zi3he4YreT+Pd6nxld0uke2TjTyOR7kZ9UqO+By79TfNXf9zQf68zDIhe7n7TEOBq7K5GaL75mhnDz+MBu+UU/4DY//787o8btZ8htuUbSZVx0xcvXhQKhXw+n8/nhRD5fF5ZVF5rL0yLe3t7SnXlhfKv8u6uUmZ3V1sPQLO5uWm5/vz58/W2qxtLt7cjSytv1XTHRvObzUI8E0L4ut/rFCJdoei3f9y+PhP7rnhzzC+CkQ7xp6Ua9+nbf/zYsRS79Ei7F+qznzx/t1j5P7p/JMS3+9wZ1OTC77qbP1gqhkhf9983f3V7o7xMJCJWupVDvPLWjP4w3Xlz/d1vT20P+N4SK//6zPi97pPPgs/VW8EiYqW7Unc1cvM//TexHflVSr3fUffzeLBuOcU/IMqvu+KNgLqg+auV3/7448gzUeMZYlv+dGXTc+fOHevHz8/P292YfDpyxsWLF/nDRb8dvuEncp9+Nc8+mOpOB5e2p7Q1/x778NefWkXG4e8/2Z6KCCGyj4Y+/v69apudik0tbf9SCCFW/+dQ7M33at+nT+ND7kixrvoMKSGE+HR5feW3SwPi32Mf/no/O4PazoTv3lO6VIi//mxjSn3Quu55Xob/w+bZB1NDv7M6TKeuB4QQF/7uJyK9ZPpe9+uR4JJ2EnY+FRW7q5Gb//TWu2998tnUtbIDXXu3nOIfEJPL3eJ/DXyrhFT1UvjvH74bubUhqpwhNuUb2Mk/Q2pwcJCMBfqtDrNppWdIAeUuvV/+/0LRAzQftfTP63lmVqM8Q4p7oQAAAE7SxtItnq9MNgUAHKmntzrpAZoP+ufQuE8fZ48c8kczdAMAAKc5m66ONBWNrB40MDj0QnKFsploqMHCRSbqr7l1x7cHJ/Cx9Xggeu4+GXabj0Im6teW9UdLH2ONR9GyN0tFjG/brQcAAEefTVdHmpa6dxT3xfWrseyBNjO4WCiZlU5ZV/um0/tonRzad4SpUsUVXj+JTj1AQ441mAZFvLA4+M502nAU5JDjl/9cKjUl4tqhGk26dS3QH8Xy3sxE/e7kqPJu2juhxVq79fVv04jfmADQuBrl9/lRXG+ajU2L+593FJc67qxvj6xkxUAzZwHqS2Yh4RtddwnZHJ8dc4HCl4FQSE3xs+HSu1Jkem4hIySXECKdFJ5w5e0vrkvqVuK9oYWMCLts1zcA03MDPv+v/4NHT9TJH5izfCBoPs3nl8Dp7rqjGTd9260Pos0tIp09ul3UzaPazZLqxqdC0YxycYA/mjFfV6i7EqBa3WjI/FnHcxFBJhqKZszTvXLI4ei5e7dHt3tWnaDb4Z/9zG+qYtdA2w81btC8FVM/2uxMDQ05US6P5f/FIc1WHFBOJ2u8eTKzkPAFJP3HicRCxn49AAA4pmz6tSGLZpObm9tHFE6Lk7BFgblSwkkEtTfSvYnStGsiOOFNFwqF9UrjUpm0J65N2QZ121TrhgNiQhem5Klk4LjGuXQNWRQ9IVkIabZQWBxUrnBYD7sqdoKyw19+uW6qYt3ACh8qhBBiZKuelwAAHIVJREFUY9g9F1D7NOjXJqLTvQl1IzUdEZuGnDhpNjDn8H+UcuyjjjwnRkv7rgRtu6zt87r1i26vr/J6AABwDNm0ufPnX1/X7oDKxsKyONh/9aT93S8NvC2IuC7USJHeZHHAacM3qr3hCsenN+aUfLUheuPVU5BLktQyUsCXLP6nhfq6UsBXGtuS50Tg0Fdqbgy7re6iMXxoRGuHPhzZd4JtY60bWP1DBxeLI4iu8KjviU+/pGyktp2xbkg9kGYL8b0/zD4Znqpl9zJRv2MuUBpUlWbVUJ7uTbjN8TSdFB6ro2G3HgAAlDmS55s2D3y+Hrva1HRdCCF+emv9v138WBzkatPBRdPcamYrMdwzPGws5JkVLvNIlG6y1ldjDMhE/e7hJ2ogK68rRXrnilcLRidEYP3QveSbTluNHfp6r7is2lFLJ1RsrFUDq32ovlfd3kHjaF+1I1KtIfXCFR4dTGx55xwhUWkuXw45ejam04VZ6/AfXl9M+hcyYcMh3dgqXphq/i5gs77+ORwOAQBAo2VTJZ7uDBRfZ2Mj7qN6wKxNoKtQoTxPWce2RG+6UHAJIWT1Fhhz3r3iTS5kRFgsJHsj4ZM8SLadYNtYmwaeyBGpU1dmC55QSJYs06l6X/1spS24vb6tyivUW6fs1te7uv3v7AAAp9gxPHs/u5J2dx7NTfoujyibji7aMLwhz21YxTTTdX3qTS2ZhWSvFrAyW3Z3uriueBNTS5mlpPfKSWaxCp1gm71ra+Dr2Zl6trFldUuSHAqKePXnbZVN1ZvvcVLPSrv1AADg2LNpNnbF/3+7j+z5UVJA9BhvEV+Ui0t3S3fwyKEe/e0qhrCgXVeYifon/s9/+qEp2WaiUwn7IBYeFZL7q8DJDBNqualCJ9hGrdoaeLRHZH8B8CRkolFZtzCx0Wv1rSOzJXqrfhvJRP09ZRchSxHdXXm6s9JuPQAAOJ5sWvpPocLi9zsfdhxhFJotjCZL9xA5gmm38lfdN50OzBVXTnjTNoNc0mzaO6EUcidH47/8f7tK5oyra4MiMuqrlMQGBwNH9Lx6/b1Q1Z+oJEV6E+5iQdtOsKsiam7gER6RGhpy0lxhz5zD4VD+Xyh3ctT64oR08q7+UFk+yMvhTo6qI6uZqF8t4QqvL4qe8rPSbj0AADBxFAoF/fKrV6/0iy9fvjzWj5+fnx8cHKzb3slEQwtXZg88xsUjguu03+SQfytSh1fNVmi46QcTAIDT6gd0QYVkGkyc7KWmAAAAZ8sbdIF1LPW7h5+8M51eJ5qeQtLsOrPqAACQTRuHK7xeCNMNAAAArxdz+gAAAKgXVe6F+uabbwqFQj6fz+fzQoh8Pq8sKq+1F6bFvb09pbryQvlXeXdXKbO7q61vb2/nMACK3d1dy/Xnz5+ncwAAZ0GVOf1z584d68fPz89zDAAN9+kDAM445vQBAABANgUAAADIpgAAACCbAnVpbawvnqMbAABo/GyajV0dWdUvNSl0K2uXi/eNrR1TesjFx040fayNtZaxbWxDyMX7Wt9fa/wfgFy8r3Xg4dPbXaYjUjpixuOUi/dVPn52BapWBAAAh8umqyNNw1/og6k/Pbyzs7Ozs7Punr4ayx5gkw9nLBNkLj7zsLG7uW08pYhduxYrvhxvq7vdXBurkptKBZzBB6lbbQ1+9ufifTfEZCp27dLNZf0RWRtrXelUj5gY0L4X5eJ9XdtDyvrllpny70t2BapWBAAAh8umqyNNS907n4XfVqPpyvzb9+90KAvNA9Gfp1f2H049fa3PHpf/1c49ftba5+FY4aij6WPZMxR0WnwVEjEtp7aNL0vbylmZeyx7tDecwUl1vWGDVgWqVgQAAIfMph13dtQkqkbTbt1yc4uYP0A4vXD5gnzPPHK3dk++cPmClhvUmVHdmNRY/Pm/jOnXlUrpJ1DrcVa1bOdtGpiz3HnzxLOppH54TtclpdW6T79+va+1deDhwwGthHk7a2OGAvrLJGw3nqvrmWxns803Hk+L01BMbOeKCbOzzbBeNmRMuwJVKwIAgMNm0zJvu5v1i83utw+UFoJDwjivn4vPiNLYVi7XPFmcax3avqEVlEc+allOpVIPgk7j/Gkq1e8sFpJv3BCT2jRtHSUl487bNNBq59fGZlqWzRcI6EouS3LX+2pRXZcMbXf1lXXd/fsPSlccPAg6y/ekbdxYQJeQbTder31e1Dbe+ai1L172JWpr23AKZre2srnyzCqcLZ6KobZUoGpFAABwpNk0mxYtzUcTF/ol/dDp2j1Z6i8NOTnb2tQ/8m2dHjVBbAlpUgtLa/dkabl0LafT6Swr09Z/c2ulXoKSYedraKB+5z3N5gnpLc+QlhudwcmbqZU18yS1fpba9OmG/GS5J+Vq3Hhd9bnudLuVmhTyw6e3deecs13aKgXpXPyGLDxCCJHbFs3OShuzK1C1IgAAOOJsKsTX29mj2ZAzOCS0ELO2IswXBGqzxAOl+6N0GS2XFVK7RRDw6NfaTuaeBHPAtGig9c639bfMmOfKzbPRxVBlmFIuzVJbxtvKXW0RvGw3Xr99bjrhrl262fKo9NgBZ/DBcstM8VqEG2JyyFPMlsXh0wpfNGwKVK0IAACONJuWTeEfZiC1rb9lpXjt5UpLf5spLJVmia9ZBbLc9lZjHQFDmrRpoG2qepBKda4c5mJO02TzQfek8bXfSl1eKXWjM/igeJHCg6DIihansJiJN4+H2hWoWhEAABx1NjXd+7S69LX74HP8zvYW+d76D9fvyS2GIdDc421pWZ2yzmUtQ6izRWw37BhVLQ0sS/LjqdRyMcybr5RcW9lqcQrhbDFNp+eKaeso9uQAG69blsObucfbymlovoWp2Lu6rrApULUiAAA44mwqOn7z83m/+sj91ZHrYnjgENefOoNDYvnmctl8fil65eL3ZNuqA7qbxdfWGiqpVm9gKTOVmqYbLH5YulJybWxA6UFncEh/J9LaWJcp9FulM5s9KYtv+9h43X0ViMf1T3GY2Sq/GiQX7+t61lk8Ddv6JblLbarWu/rvCTYFqlYEAABFbxzVhpoHPr8/0tTUJIQQP721/nnH4TbX1n9h5XF7mzkGTbb0tbYOCCEu3Vwe8tyzrjqeEmOtra1CKOUeNM4T4mtroFrYme1rHXiqtlIJO56b//s/ryhb0Le9bXw5W9ywst46G7X1SzNdrbfFpZvLDyz3RFdgUtfhNW28Hru7+Z663w+7rsVS4041PqqX2F66uZy6VbpTLfggpp5apd7Nxfu6ZGWU2bqAsF0PAABMHIVCQb/86tUr/eLLly+P9ePn5+fb29s5DEckFx973D7OmNw+rY31ZfvrJFF7PNa3jJl+MAEAOK1+QBcAAACgTrxBF+Csaxtnkh0AALIpjpwzOB6kFwAAQONiTh8AAAD1osq46YsXLwqFQj6fz+fzQoh8Pq8sKq+1F6bFvb09pbryQvlXeXdXKbO7q60HoNnc3LRcf/78eToHAEA2FefOnTvWj5+fn7e7Mfl05IyLFy9yktFvh2849+kDAM4I5vQBAABANgUAAADIpgAAACCbAidKDvmjGboBAIDTm02zsasjq7aL+5SJ+kPyMaWKTDRUH6lEDjl0bNuLo5aJ+h09d58Muw3dnon6tYNRdoaVjpXuOJVq2Bw8uwJVKwIAgMNl09WRpuEvbBcP5O6EZYLMRCfunoK+lkMOx1ygoPNfHEucgq8nmAZFvLA4+M50ulAozErq6ikR1w7GaNJtDK0T3nTxrVIFvzs5qqxLeyfKvy/ZFahaEQAAHC6bro40LXXvfBZ+23LxgHyDvuRC+V/tzELSN+hr/GQ64U1rKUfR3d3NKfgaoulCwjcadpWtd4VndWulyLTYKp598lSiN71urpJZSPgW1SPoCsd7zWerXYGqFQEAwCGzacednTsdtosH5Q14E1PmGU95KuENeNW//trMqG5MKhTNKPOv6jrdVO1+pmOPMx5F57xxi3hk1wRdC4yDbJZNs1pp2GY0ZJ5gDp2hoTuXp6ZvNunkhnrKzQmLLJtZSPgCkn6zImHImHYFqlYEAACHzabHxB0eFROmLDYhRsNudSntiWtTsEGtYCKozL+uh13G+dNCIeLOqGWC6gTuouh5zek0s5AQHlelEoYmyCFdC0aTbl3mLm9accK6KDDnt+iWcMDQrfJUMhB2nZ2zXJoNzDn8H6UclQqVAmlmS3jdVleb+rxuw9nqNWdeuwJVKwIAgLrMpkJIkV790Kk8leiNlIacXJKkRiop4EumlZcborc0JilPJXrTpalzl8tVVkaKTG/MveahU1M6MdPvXiY6IRZLLZBm08U5YMumyQsirpt9liLahLGhyQFfaahOnhMB6Wyd59JsIb73h9knw1OWxz0T9TvmAmrXppMbaqzXXx+aTlb5fmFXoGpFAABQt9lUuMKjQguOFpOr2vx1T+n+KF/pT39mS/ResQgCPv3aGid5j43FmJyuCemkzxgdXR6RTNs0LbOVGHbr7/13D99VM7tum7rMmolOnLloWjyxBt+Z9s6Zr+iQQw5HUMQNlwI/8Y1qed8Vjqtflza2qszE2xWoWhEAANRrNhVCinjnohmhXKQZkUy5tDQzP6jlTt2YZOmiwbrKRcYrDKVZZURu+h2rJtixaZpvOl0wKqYs4zZdV7xJ5eLHZG9EOrMn/JXZQmBOd1Gu3zEXKF5JofOOseuUrzJlM/Hm8VC7AlUrAgCAes6mwnXFm5iShTyV8BrGCTMLydLd05kty6Tm9gp12LC+8nZvYqrGywjcXtMVB5kt4XXbNK04plprry5llpLeK2c9FxWHMeWQeby0eLBKl4vo+998C5M8t2H8RmFXoGpFAABQ19lUmdcPWdwsvaFmhkx0KmFbtad0O1BmUc7USZPi3glHTQ+2dIVH9TdrySG3ktGtmyYF9CsrNdkVHhWS+6szdRdU8WSJ6p/WMLGhXBphd/mHqU+1/hdSpDehPQNVDvWUnZ92BapWBAAAdZ1NhZAiXuE1Tz0r+c7hcDgcQREZtblmVJotjCbVSzCDaXe9pABXeF23Y0oj4rOSdRPSakMdjgmvNlZs2TTDyspNlgKDg2fwUlNX2DOnXKH8ZNjtTqqXkqaTd42X6pa+Okiz6d6Eu6z/XeH1RdGjrS4evEzUr9a0LmC/HgAAmDgKhYJ++dWrV/rFly9fHuvHz8/PDw4OntbO3dzcvHjxYv3sTyYaWrgyW/9DdsfVb3LIvxVZr+P2V2i46QcTAIDT6gd0wVmRiQYTXGoKAADq2ht0wZmIpX738JN3ptPrZzqaSrPrTKYDAEA2xUlzhdcLYboBAADUPeb0AQAAUC+q3Av1zTffFAqFfD6fz+eFEPl8XllUXmsvTIt7e3tKdeWF8q/y7q5SZndXW9/e3s5hABS7u7uW68+fP0/nAADOgipz+ufOnTvWj5+fn+cYABru0wcAnHHM6QMAAIBsCgAAAJBNAQAAQDYFTtTaWF88RzcAAHB6s2k2dnVkVXt9pUl1NZbd/8Zy8b6xtWNKFbn42AmnkrWx8sZZrTti+224XflKB6ch5OJ9rQMPn97uam1tLbUkF+9rVRnPsNI7xnbbrT98RQAAcLhsujrSNPxFKaV+LH6/oxpO+7XMuh8PZ2yC0cxDDhUOE0xviMlU7Nqlm8upVGq8TV19T0ymVEPbXWpqzMX7uraHlNXLLTNaarVbr/+gg1UEAACHy6arI01L3Tufhd8uLjcP3Blo1t7t+M0tsb3/oVNPX+uzx+V/tXOPn7X2eThWOGg0fSx7hoLOsvXO4LhubVv/TZHNqeVjaoB1Biel7ccV1xs+6EAVAQDAIbNpx52dOx32b2fTXx9kqxcuX5DvmWc81+7JFy5fUP/6azOjujGpsfjzfxnTr9NN1eomUOt6VlW3y6VRNdOlDLoJ97Wx8gZat9q24ZafaF3tvZl0I5/kzuaavtnktre0hNnZpq8u5Mc5+/WGaHqgigAA4LDZtLLVJTGsG0bdR4oIDokZ03V/M6I05pXLNU9qU7A3tILyyEcty6lU6kHQaZw/TaX6ncVC8o0b6gRuTAzUWTpdG9Pt8tB2V5VJ37WxmZblYunicFxx2rqoc6W0BeuGV/1EfYGJ//DJ7acNfJa3jXc+au2LVx7JX1vRTjRPi2GQ1dlSzLZ26zUHrggAAI4rm2ZjV5uWuisNqlaOEf2Sfuh07Z4s9ZeGnJxtbeof+bZOz3YxTm0JaVKLr2v3ZGl5XKvidDrLyrT139xaee3h9OFAq8nAw1L+jpV2uW18ueqkr6fZOEW99lhMPihNULf1a1uwbHjVTzQWcAYnb15q6PO87VZqUsgPn96+Z3ncc/G+1pVONeZvi2anVSGb9VULVK0IAACOJ5uujjQ1hUV058DJVChDp1pw1I1l6WOEIdkZk1ouK6R2iyDg0a+tcZL3aF2LpUxi19TsYpjyFcLZLLZzFQN8y4zxcoWsfLtLH3u7bj8sbsGy4VU/saxA43MGh65dutnyqPV9YzxdG2ttvSEmU6WoLray1r1vt/7wFQEAwFFn02zsStMX3Ts7nx9oMt+UvFbiOSFELr7S0t9myqWlCeprWu7UzZiqFw2ebs7gg1Sqc0V3Bann5rIp+Y63cXqXa7+VuryipfpcvK/1UWfxYhCtc80z7sVxT7v1h68IAACOOpuujoTF73c+7DiSjTnbW+R76z9cvye3GIZAc4+3pWU1RuSyliHU2VJ5yLEuk2aL6RKDXFa0OMvDjil3t42nUstKjK820FrzJ+q60TDUl3v21HF6zvriMOba2A0xmbplzvDmW5XWVraUo2Gz/vAVAQDAEWfT7Lb4eWfzke2VMzgklm8ul83ni61t7eb8e7Jt1YHSjT25tbX6T6rO4JD+7qy1sa5iKHc2C+0CyVy8b2bLY26UGlfbOvWtrtpw20/Ufz3QHvcp1sYGHohCw57kuXhc/7SGmS3lMge7yz9EW79Uavza2IB6HtqtP3xFAABQ9MYRZdP0/fffv/++bs1Pb60fZna/rf/CyuP2NnOimmzpa20dEEJcurk85LlnXXU8JcZaW1uFUMo9aIC57bbx5WyxZco+F7OLfv212LK08lgIIZzObF/rwFO1rLOs1TU03O4TS339IKZt71ps+ebWvYY9yZ3B5ntqUx92XYulxp1Krn94+/bD27qCaj/oG6/vSOv1uXhfl6wM6O+vIgAAKOMoFAzjYa9evdIvvnz58lg/fn5+vr29ncOA12FtrC/b/6C+hyw9Huvb9Ew/mAAAnFY/oAsAAABQJ96gC3BWtI0zmQ4AQJ1j3BQAAABkUwAAAMCoypz+ixcvCoVCPp/P5/NCiHw+rywqr7UXpsW9vT2luvJC+Vd5d1cps7urrQeg2dzctFx//vx5OgcAQDYV586dO9aPn5+ft7sx+XTkjIsXL3KS0W+Hbzj36QMAzgjm9AEAAEA2BQAAAMimAAAAIJsC9UEO+aMZugEAgFOXTbOxqyOr2ssmlbpufzJRf0g+pjCRiYZOOIxkon6Hjm1Lj3cPTuBj600m6nf03H0y7DYfBf35pz9axjOv9I5NX9oVqFoRAAAcLpuujjQNf6EtNQ98vlN0f+/6lVj2IJu8O2GZIDPRibuN39W+6XRBMytVKS2H9h1hqlRxhderf+zRO0BDjjWYBkW8sDj4znTacBTkkOOX/1wqNSXi2qEaTbrVFmSifndyVFmd9k6Uf1+yK1C1IgAAOFw2XR1pWure+Sz8tsV7HR/ev5g+SDb1DfqSC+V/tTMLSd+gj2OFQ0fThYRvNOwqj8+OuUDhy1s+LcXP6gpJkWmxlVGrL6p51hWO95rPVrsCVSsCAIBDZtOOOzt3OuzezG4Ld/NBtuoNeBNT5lE2eSrhDXjVv/7azKhuTCoUzcgh/TrdlKxu0K4eZ1Uz0VA0Y94xOeRw9Ny926NrklWLdA3/2c/8pip2HWX7ocYNmrdiGOmz3ZkaGnKiXB7LrzjSbMUB5XRyQ0ueAUm/NZEwZEy7AlUrAgCAw2bTClZH/OnugQNlU+EOj4oJ0/V9E2I07FaX0p64NtUa1AomghPedKFQWA+7jPOnhULEnVHLBNWJ2kXRU0fzzOU7Js0WCouDg4uFYpOKM9FFgTl/WcO//HLdVMW6oyp8qBBCiI1h91xAmXnuTQT9WkemexPBUu633ZlqDTlx0mxgzuH/KOXYRx15TqhjrT6v23C2es1R165A1YoAAOCos2k2dkW5E+r67n37IdXq6SHSqx86lacSvZHSkJNLktSEIwV8yXQxUYneuJZ85KlEb7o0DOZyucrKSJHpjbnXHk43ht1Wt0JV3zF5QcR1yU6KaFPChoYbWHdU9Q8dVKeeXeFR3xOffknZSG07czI9XFs6LcT3/jD7ZHiqlt3LRP2OuUCxE9JJ4amYr+0KVK0IAACOPps2DywU74X6+dJBb9UvxiChxRrdmJU+LjgcDoejp3R/lK/0pz+zJXqvWAQBn36tzdzu8dLfC6WbQq66Y5mthC7VOhwO9/BdNWz6KmQeq46q9qH68T23d9A42ldlZ06+h2s/wwbfmfbOVbm0Qw45HEER1x+rja0qM/F2BapWBAAAR51NSzru7NwXSwcOp0KKeOeiGSFEJjrnjUimuFWaNx60SlTqxYGnieEOf3229ZWHx4oddaw702CuzBYCc3bpVBkvNV2IUDYTbx4PtStQtSIAADjObHporivexJQs5KmE1zAEmllI9qbVuJDZsgyhbq8om8FubC7PvltUS0e9tp2pZ9bjmXLINF6qtd1wC5M8t2H8bmBXoGpFAABwnNk0G7t6XXR3HGILrvComAuVz+eLDTUYZaJTCduqPaX7czKLcqPOpmq5SQroW1SpUaWoVb2jDqj2nakSAE9CJhrVP7ZhYsPy8g+7y0KEFOlNaM86lUM9ZeenXYGqFQEAwBFn09UR7X+FavKnh3fudBxue1LEK4zz+UIIVzjunVAucwyKyKjNFY3SbGE0qV4TGUy76yUF6O+Fqv5EJSnSm3AXCxpaZN+oUhVRU0cd8MjUtjOWDTlprrBnTrkC98mw250ctX52QDp513hNrbbvrvD6ouhR1k141TvuMlG/WsK6gP16AABg4igUCvrlV69e6Rdfvnx5rB8/Pz8/ODh4Wjt3c3Pz4sWLnGR1129yyL8VWa+/scsKDTf9YAIAcFr9gC4ATpz0D59L//A5/QAAwBt0Ac5eEpxdZ1YdAACyKQBzTma4FACAusqmDoeDw4Azq/u9z7TXPp/PdP03AABkU4MXL14UCoV8Pp/P54UQ+XxeWVReay9Mi3t7e0p15YXyr/LurlJmd1dbD5xlS//0rn5xc3PTstj58+fpKwAA2VScO3fuWD9+fn7+FA8UcZ8+/XZUDec+fQDAGcF9+gAAACCbAgAAAGRTAAAAkE0BAACA48um2djVkdWytau/bfrtKl0LAACAfXKYbpPndmAAAACcFOb0AQAAQDYFAAAAyKYAAAAgmwIAAABkUwAAAJBNAQAAALIpAAAAyKYAAAAA2RQAAABkUwAAAIBsCgAAALIpAAAAQDYFAAAA2RQAAAAgmwIAAIBsCgAAAJBNAQAAQDYFAAAAyKYAAAAA2RQAAABkUwAAAIBsCgAAALIpAAAAQDYFAAAA2RQAAAAgmwIAAKAxvWFa/vrrr+kUAAAAnAhHoVCgFwAAAFAPmNMHAAAA2RQAAAAgmwIAAIBsCgAAAJBNAQAAQDYFAAAAavf/AUHKFxWPOdL7AAAAAElFTkSuQmCC)"
   ]
  },
  {
   "cell_type": "code",
   "execution_count": null,
   "metadata": {
    "colab": {},
    "colab_type": "code",
    "id": "TxA5D7JvJqv1"
   },
   "outputs": [],
   "source": [
    "df = pd.DataFrame({'Month': [\"January\", \"January\", \"January\", \"January\", \n",
    "                                  \"February\", \"February\", \"February\", \"February\", \n",
    "                                  \"March\", \"March\", \"March\", \"March\"],\n",
    "                   'Category': [\"Transportation\", \"Grocery\", \"Household\", \"Entertainment\",\n",
    "                                \"Transportation\", \"Grocery\", \"Household\", \"Entertainment\",\n",
    "                                \"Transportation\", \"Grocery\", \"Household\", \"Entertainment\"],\n",
    "                   'Amount': [74., 235., 175., 100., 115., 240., 225., 125., 90., 260., 200., 120.]})"
   ]
  },
  {
   "cell_type": "code",
   "execution_count": null,
   "metadata": {
    "colab": {
     "base_uri": "https://localhost:8080/",
     "height": 406
    },
    "colab_type": "code",
    "executionInfo": {
     "elapsed": 291,
     "status": "ok",
     "timestamp": 1599760434589,
     "user": {
      "displayName": "Samir Gupta",
      "photoUrl": "",
      "userId": "08477919997854778705"
     },
     "user_tz": 240
    },
    "id": "imKrN-SQJvTA",
    "outputId": "0357cb0d-a238-47dd-d4a9-799022c6e6b7"
   },
   "outputs": [
    {
     "data": {
      "text/html": [
       "<div>\n",
       "<style scoped>\n",
       "    .dataframe tbody tr th:only-of-type {\n",
       "        vertical-align: middle;\n",
       "    }\n",
       "\n",
       "    .dataframe tbody tr th {\n",
       "        vertical-align: top;\n",
       "    }\n",
       "\n",
       "    .dataframe thead th {\n",
       "        text-align: right;\n",
       "    }\n",
       "</style>\n",
       "<table border=\"1\" class=\"dataframe\">\n",
       "  <thead>\n",
       "    <tr style=\"text-align: right;\">\n",
       "      <th></th>\n",
       "      <th>Month</th>\n",
       "      <th>Category</th>\n",
       "      <th>Amount</th>\n",
       "    </tr>\n",
       "  </thead>\n",
       "  <tbody>\n",
       "    <tr>\n",
       "      <th>0</th>\n",
       "      <td>January</td>\n",
       "      <td>Transportation</td>\n",
       "      <td>74.0</td>\n",
       "    </tr>\n",
       "    <tr>\n",
       "      <th>1</th>\n",
       "      <td>January</td>\n",
       "      <td>Grocery</td>\n",
       "      <td>235.0</td>\n",
       "    </tr>\n",
       "    <tr>\n",
       "      <th>2</th>\n",
       "      <td>January</td>\n",
       "      <td>Household</td>\n",
       "      <td>175.0</td>\n",
       "    </tr>\n",
       "    <tr>\n",
       "      <th>3</th>\n",
       "      <td>January</td>\n",
       "      <td>Entertainment</td>\n",
       "      <td>100.0</td>\n",
       "    </tr>\n",
       "    <tr>\n",
       "      <th>4</th>\n",
       "      <td>February</td>\n",
       "      <td>Transportation</td>\n",
       "      <td>115.0</td>\n",
       "    </tr>\n",
       "    <tr>\n",
       "      <th>...</th>\n",
       "      <td>...</td>\n",
       "      <td>...</td>\n",
       "      <td>...</td>\n",
       "    </tr>\n",
       "    <tr>\n",
       "      <th>7</th>\n",
       "      <td>February</td>\n",
       "      <td>Entertainment</td>\n",
       "      <td>125.0</td>\n",
       "    </tr>\n",
       "    <tr>\n",
       "      <th>8</th>\n",
       "      <td>March</td>\n",
       "      <td>Transportation</td>\n",
       "      <td>90.0</td>\n",
       "    </tr>\n",
       "    <tr>\n",
       "      <th>9</th>\n",
       "      <td>March</td>\n",
       "      <td>Grocery</td>\n",
       "      <td>260.0</td>\n",
       "    </tr>\n",
       "    <tr>\n",
       "      <th>10</th>\n",
       "      <td>March</td>\n",
       "      <td>Household</td>\n",
       "      <td>200.0</td>\n",
       "    </tr>\n",
       "    <tr>\n",
       "      <th>11</th>\n",
       "      <td>March</td>\n",
       "      <td>Entertainment</td>\n",
       "      <td>120.0</td>\n",
       "    </tr>\n",
       "  </tbody>\n",
       "</table>\n",
       "<p>12 rows × 3 columns</p>\n",
       "</div>"
      ],
      "text/plain": [
       "       Month        Category  Amount\n",
       "0    January  Transportation    74.0\n",
       "1    January         Grocery   235.0\n",
       "2    January       Household   175.0\n",
       "3    January   Entertainment   100.0\n",
       "4   February  Transportation   115.0\n",
       "..       ...             ...     ...\n",
       "7   February   Entertainment   125.0\n",
       "8      March  Transportation    90.0\n",
       "9      March         Grocery   260.0\n",
       "10     March       Household   200.0\n",
       "11     March   Entertainment   120.0\n",
       "\n",
       "[12 rows x 3 columns]"
      ]
     },
     "execution_count": 154,
     "metadata": {
      "tags": []
     },
     "output_type": "execute_result"
    }
   ],
   "source": [
    "df"
   ]
  },
  {
   "cell_type": "code",
   "execution_count": null,
   "metadata": {
    "colab": {
     "base_uri": "https://localhost:8080/",
     "height": 197
    },
    "colab_type": "code",
    "executionInfo": {
     "elapsed": 269,
     "status": "ok",
     "timestamp": 1599760486290,
     "user": {
      "displayName": "Samir Gupta",
      "photoUrl": "",
      "userId": "08477919997854778705"
     },
     "user_tz": 240
    },
    "id": "HqXXoQ-cJw0r",
    "outputId": "4bc90ee1-836a-46ae-d6fb-3215bca1b378"
   },
   "outputs": [
    {
     "data": {
      "text/html": [
       "<div>\n",
       "<style scoped>\n",
       "    .dataframe tbody tr th:only-of-type {\n",
       "        vertical-align: middle;\n",
       "    }\n",
       "\n",
       "    .dataframe tbody tr th {\n",
       "        vertical-align: top;\n",
       "    }\n",
       "\n",
       "    .dataframe thead th {\n",
       "        text-align: right;\n",
       "    }\n",
       "</style>\n",
       "<table border=\"1\" class=\"dataframe\">\n",
       "  <thead>\n",
       "    <tr style=\"text-align: right;\">\n",
       "      <th>Month</th>\n",
       "      <th>February</th>\n",
       "      <th>January</th>\n",
       "      <th>March</th>\n",
       "    </tr>\n",
       "    <tr>\n",
       "      <th>Category</th>\n",
       "      <th></th>\n",
       "      <th></th>\n",
       "      <th></th>\n",
       "    </tr>\n",
       "  </thead>\n",
       "  <tbody>\n",
       "    <tr>\n",
       "      <th>Entertainment</th>\n",
       "      <td>125.0</td>\n",
       "      <td>100.0</td>\n",
       "      <td>120.0</td>\n",
       "    </tr>\n",
       "    <tr>\n",
       "      <th>Grocery</th>\n",
       "      <td>240.0</td>\n",
       "      <td>235.0</td>\n",
       "      <td>260.0</td>\n",
       "    </tr>\n",
       "    <tr>\n",
       "      <th>Household</th>\n",
       "      <td>225.0</td>\n",
       "      <td>175.0</td>\n",
       "      <td>200.0</td>\n",
       "    </tr>\n",
       "    <tr>\n",
       "      <th>Transportation</th>\n",
       "      <td>115.0</td>\n",
       "      <td>74.0</td>\n",
       "      <td>90.0</td>\n",
       "    </tr>\n",
       "  </tbody>\n",
       "</table>\n",
       "</div>"
      ],
      "text/plain": [
       "Month           February  January  March\n",
       "Category                                \n",
       "Entertainment      125.0    100.0  120.0\n",
       "Grocery            240.0    235.0  260.0\n",
       "Household          225.0    175.0  200.0\n",
       "Transportation     115.0     74.0   90.0"
      ]
     },
     "execution_count": 157,
     "metadata": {
      "tags": []
     },
     "output_type": "execute_result"
    }
   ],
   "source": [
    "df.pivot_table(index=\"Category\", columns=\"Month\", values=\"Amount\")"
   ]
  },
  {
   "cell_type": "markdown",
   "metadata": {
    "colab_type": "text",
    "id": "rKgSMtgCJ-wn"
   },
   "source": [
    "Let's explore an application of pivot_table in the mimic dataset. For this we will use the diagnoses table: `DIAGNOSES_ICD`"
   ]
  },
  {
   "cell_type": "code",
   "execution_count": null,
   "metadata": {
    "colab": {},
    "colab_type": "code",
    "id": "cTrPhhXOKTBx"
   },
   "outputs": [],
   "source": [
    "diagnoses_df = pd.read_csv(mimic_data+\"/DIAGNOSES_ICD.csv\")"
   ]
  },
  {
   "cell_type": "code",
   "execution_count": null,
   "metadata": {
    "colab": {
     "base_uri": "https://localhost:8080/",
     "height": 197
    },
    "colab_type": "code",
    "executionInfo": {
     "elapsed": 267,
     "status": "ok",
     "timestamp": 1599761788117,
     "user": {
      "displayName": "Samir Gupta",
      "photoUrl": "",
      "userId": "08477919997854778705"
     },
     "user_tz": 240
    },
    "id": "Hzx6vi0jO5W7",
    "outputId": "c5615ae4-9517-4802-a02c-8d6fbab8d5f0"
   },
   "outputs": [
    {
     "data": {
      "text/html": [
       "<div>\n",
       "<style scoped>\n",
       "    .dataframe tbody tr th:only-of-type {\n",
       "        vertical-align: middle;\n",
       "    }\n",
       "\n",
       "    .dataframe tbody tr th {\n",
       "        vertical-align: top;\n",
       "    }\n",
       "\n",
       "    .dataframe thead th {\n",
       "        text-align: right;\n",
       "    }\n",
       "</style>\n",
       "<table border=\"1\" class=\"dataframe\">\n",
       "  <thead>\n",
       "    <tr style=\"text-align: right;\">\n",
       "      <th></th>\n",
       "      <th>row_id</th>\n",
       "      <th>subject_id</th>\n",
       "      <th>hadm_id</th>\n",
       "      <th>seq_num</th>\n",
       "      <th>icd9_code</th>\n",
       "    </tr>\n",
       "  </thead>\n",
       "  <tbody>\n",
       "    <tr>\n",
       "      <th>0</th>\n",
       "      <td>112344</td>\n",
       "      <td>10006</td>\n",
       "      <td>142345</td>\n",
       "      <td>1</td>\n",
       "      <td>99591</td>\n",
       "    </tr>\n",
       "    <tr>\n",
       "      <th>1</th>\n",
       "      <td>112345</td>\n",
       "      <td>10006</td>\n",
       "      <td>142345</td>\n",
       "      <td>2</td>\n",
       "      <td>99662</td>\n",
       "    </tr>\n",
       "    <tr>\n",
       "      <th>2</th>\n",
       "      <td>112346</td>\n",
       "      <td>10006</td>\n",
       "      <td>142345</td>\n",
       "      <td>3</td>\n",
       "      <td>5672</td>\n",
       "    </tr>\n",
       "    <tr>\n",
       "      <th>3</th>\n",
       "      <td>112347</td>\n",
       "      <td>10006</td>\n",
       "      <td>142345</td>\n",
       "      <td>4</td>\n",
       "      <td>40391</td>\n",
       "    </tr>\n",
       "    <tr>\n",
       "      <th>4</th>\n",
       "      <td>112348</td>\n",
       "      <td>10006</td>\n",
       "      <td>142345</td>\n",
       "      <td>5</td>\n",
       "      <td>42731</td>\n",
       "    </tr>\n",
       "  </tbody>\n",
       "</table>\n",
       "</div>"
      ],
      "text/plain": [
       "   row_id  subject_id  hadm_id  seq_num icd9_code\n",
       "0  112344       10006   142345        1     99591\n",
       "1  112345       10006   142345        2     99662\n",
       "2  112346       10006   142345        3      5672\n",
       "3  112347       10006   142345        4     40391\n",
       "4  112348       10006   142345        5     42731"
      ]
     },
     "execution_count": 160,
     "metadata": {
      "tags": []
     },
     "output_type": "execute_result"
    }
   ],
   "source": [
    "diagnoses_df.head()"
   ]
  },
  {
   "cell_type": "markdown",
   "metadata": {
    "colab_type": "text",
    "id": "pSzjTX9jPGob"
   },
   "source": [
    "How many icd9_codes are there in this dataset?"
   ]
  },
  {
   "cell_type": "code",
   "execution_count": null,
   "metadata": {
    "colab": {
     "base_uri": "https://localhost:8080/",
     "height": 105
    },
    "colab_type": "code",
    "executionInfo": {
     "elapsed": 253,
     "status": "ok",
     "timestamp": 1599761897886,
     "user": {
      "displayName": "Samir Gupta",
      "photoUrl": "",
      "userId": "08477919997854778705"
     },
     "user_tz": 240
    },
    "id": "SvONrQEFPE_3",
    "outputId": "c98a9d2c-e0ac-424f-90aa-ace3762ab6c1"
   },
   "outputs": [
    {
     "data": {
      "text/plain": [
       "count     1761\n",
       "unique     581\n",
       "top       4019\n",
       "freq        53\n",
       "Name: icd9_code, dtype: object"
      ]
     },
     "execution_count": 162,
     "metadata": {
      "tags": []
     },
     "output_type": "execute_result"
    }
   ],
   "source": [
    "diagnoses_df['icd9_code'].describe()"
   ]
  },
  {
   "cell_type": "code",
   "execution_count": null,
   "metadata": {
    "colab": {
     "base_uri": "https://localhost:8080/",
     "height": 34
    },
    "colab_type": "code",
    "executionInfo": {
     "elapsed": 306,
     "status": "ok",
     "timestamp": 1599761980921,
     "user": {
      "displayName": "Samir Gupta",
      "photoUrl": "",
      "userId": "08477919997854778705"
     },
     "user_tz": 240
    },
    "id": "DJAAA4GtPhqS",
    "outputId": "d73b539b-08bb-4d42-844b-baa3ce10ef25"
   },
   "outputs": [
    {
     "data": {
      "text/plain": [
       "581"
      ]
     },
     "execution_count": 164,
     "metadata": {
      "tags": []
     },
     "output_type": "execute_result"
    }
   ],
   "source": [
    "len(diagnoses_df['icd9_code'].unique())"
   ]
  },
  {
   "cell_type": "markdown",
   "metadata": {
    "colab_type": "text",
    "id": "LXLypkIzPt1f"
   },
   "source": [
    "**Exercise**:\n",
    "Create diagnoses features and the times they occured for each patient.\n",
    "\n",
    "In other words, create a dataframe the columns are all icd9_codes and rows are patients (subject_id). The values represent the number of times a particular icd_code was diagnosed for each patient.\n",
    "\n",
    "This is useful when computing feature vectors for machine learning models."
   ]
  },
  {
   "cell_type": "markdown",
   "metadata": {
    "colab_type": "text",
    "id": "YtRaydy4Qmwh"
   },
   "source": [
    "**Step 1**: Compute icd9_counts for each patients using group_by"
   ]
  },
  {
   "cell_type": "code",
   "execution_count": null,
   "metadata": {
    "colab": {},
    "colab_type": "code",
    "id": "pzqOep2lQk25"
   },
   "outputs": [],
   "source": [
    "diagnoses_grouped = diagnoses_df.groupby(\n",
    "    [\"subject_id\", \"icd9_code\"]\n",
    "    ).agg(\n",
    "        icd9_count = (\"icd9_code\", \"count\")\n",
    "        #{\"valuenum\": \"mean\"}\n",
    "    ).reset_index()"
   ]
  },
  {
   "cell_type": "code",
   "execution_count": null,
   "metadata": {
    "colab": {
     "base_uri": "https://localhost:8080/",
     "height": 197
    },
    "colab_type": "code",
    "executionInfo": {
     "elapsed": 343,
     "status": "ok",
     "timestamp": 1599762292402,
     "user": {
      "displayName": "Samir Gupta",
      "photoUrl": "",
      "userId": "08477919997854778705"
     },
     "user_tz": 240
    },
    "id": "GNOtlqGyQ0oI",
    "outputId": "051029e0-953e-4464-b952-97994017e4f2"
   },
   "outputs": [
    {
     "data": {
      "text/html": [
       "<div>\n",
       "<style scoped>\n",
       "    .dataframe tbody tr th:only-of-type {\n",
       "        vertical-align: middle;\n",
       "    }\n",
       "\n",
       "    .dataframe tbody tr th {\n",
       "        vertical-align: top;\n",
       "    }\n",
       "\n",
       "    .dataframe thead th {\n",
       "        text-align: right;\n",
       "    }\n",
       "</style>\n",
       "<table border=\"1\" class=\"dataframe\">\n",
       "  <thead>\n",
       "    <tr style=\"text-align: right;\">\n",
       "      <th></th>\n",
       "      <th>subject_id</th>\n",
       "      <th>icd9_code</th>\n",
       "      <th>icd9_count</th>\n",
       "    </tr>\n",
       "  </thead>\n",
       "  <tbody>\n",
       "    <tr>\n",
       "      <th>0</th>\n",
       "      <td>10006</td>\n",
       "      <td>03819</td>\n",
       "      <td>1</td>\n",
       "    </tr>\n",
       "    <tr>\n",
       "      <th>1</th>\n",
       "      <td>10006</td>\n",
       "      <td>25000</td>\n",
       "      <td>1</td>\n",
       "    </tr>\n",
       "    <tr>\n",
       "      <th>2</th>\n",
       "      <td>10006</td>\n",
       "      <td>2749</td>\n",
       "      <td>1</td>\n",
       "    </tr>\n",
       "    <tr>\n",
       "      <th>3</th>\n",
       "      <td>10006</td>\n",
       "      <td>28529</td>\n",
       "      <td>1</td>\n",
       "    </tr>\n",
       "    <tr>\n",
       "      <th>4</th>\n",
       "      <td>10006</td>\n",
       "      <td>2874</td>\n",
       "      <td>1</td>\n",
       "    </tr>\n",
       "  </tbody>\n",
       "</table>\n",
       "</div>"
      ],
      "text/plain": [
       "   subject_id icd9_code  icd9_count\n",
       "0       10006     03819           1\n",
       "1       10006     25000           1\n",
       "2       10006      2749           1\n",
       "3       10006     28529           1\n",
       "4       10006      2874           1"
      ]
     },
     "execution_count": 166,
     "metadata": {
      "tags": []
     },
     "output_type": "execute_result"
    }
   ],
   "source": [
    "diagnoses_grouped.head()"
   ]
  },
  {
   "cell_type": "code",
   "execution_count": null,
   "metadata": {
    "colab": {
     "base_uri": "https://localhost:8080/",
     "height": 176
    },
    "colab_type": "code",
    "executionInfo": {
     "elapsed": 261,
     "status": "ok",
     "timestamp": 1599762345898,
     "user": {
      "displayName": "Samir Gupta",
      "photoUrl": "",
      "userId": "08477919997854778705"
     },
     "user_tz": 240
    },
    "id": "D3RqKStDQ6Q_",
    "outputId": "5289b0ae-6ef8-4e92-aa39-6128be0ee220"
   },
   "outputs": [
    {
     "data": {
      "text/plain": [
       "count    1489.000000\n",
       "mean        1.182673\n",
       "std         0.978366\n",
       "min         1.000000\n",
       "25%         1.000000\n",
       "50%         1.000000\n",
       "75%         1.000000\n",
       "max        13.000000\n",
       "Name: icd9_count, dtype: float64"
      ]
     },
     "execution_count": 169,
     "metadata": {
      "tags": []
     },
     "output_type": "execute_result"
    }
   ],
   "source": [
    "diagnoses_grouped['icd9_count'].describe()"
   ]
  },
  {
   "cell_type": "code",
   "execution_count": null,
   "metadata": {
    "colab": {
     "base_uri": "https://localhost:8080/",
     "height": 456
    },
    "colab_type": "code",
    "executionInfo": {
     "elapsed": 351,
     "status": "ok",
     "timestamp": 1599762399859,
     "user": {
      "displayName": "Samir Gupta",
      "photoUrl": "",
      "userId": "08477919997854778705"
     },
     "user_tz": 240
    },
    "id": "POYqwW16RGBK",
    "outputId": "466ee416-cc76-42f7-f5ae-9d97cc4ee353"
   },
   "outputs": [
    {
     "data": {
      "text/html": [
       "<div>\n",
       "<style scoped>\n",
       "    .dataframe tbody tr th:only-of-type {\n",
       "        vertical-align: middle;\n",
       "    }\n",
       "\n",
       "    .dataframe tbody tr th {\n",
       "        vertical-align: top;\n",
       "    }\n",
       "\n",
       "    .dataframe thead th {\n",
       "        text-align: right;\n",
       "    }\n",
       "</style>\n",
       "<table border=\"1\" class=\"dataframe\">\n",
       "  <thead>\n",
       "    <tr style=\"text-align: right;\">\n",
       "      <th>icd9_code</th>\n",
       "      <th>00845</th>\n",
       "      <th>0380</th>\n",
       "      <th>03811</th>\n",
       "      <th>03812</th>\n",
       "      <th>03819</th>\n",
       "      <th>0383</th>\n",
       "      <th>03840</th>\n",
       "      <th>03842</th>\n",
       "      <th>03843</th>\n",
       "      <th>03849</th>\n",
       "      <th>0388</th>\n",
       "      <th>0389</th>\n",
       "      <th>04102</th>\n",
       "      <th>04104</th>\n",
       "      <th>04111</th>\n",
       "      <th>04112</th>\n",
       "      <th>0413</th>\n",
       "      <th>0414</th>\n",
       "      <th>0416</th>\n",
       "      <th>0417</th>\n",
       "      <th>04182</th>\n",
       "      <th>0543</th>\n",
       "      <th>07030</th>\n",
       "      <th>07032</th>\n",
       "      <th>07044</th>\n",
       "      <th>07054</th>\n",
       "      <th>07070</th>\n",
       "      <th>1120</th>\n",
       "      <th>1122</th>\n",
       "      <th>1124</th>\n",
       "      <th>1179</th>\n",
       "      <th>1508</th>\n",
       "      <th>1510</th>\n",
       "      <th>1539</th>\n",
       "      <th>1541</th>\n",
       "      <th>1561</th>\n",
       "      <th>1570</th>\n",
       "      <th>1622</th>\n",
       "      <th>1623</th>\n",
       "      <th>1625</th>\n",
       "      <th>...</th>\n",
       "      <th>V1301</th>\n",
       "      <th>V1302</th>\n",
       "      <th>V153</th>\n",
       "      <th>V1581</th>\n",
       "      <th>V1582</th>\n",
       "      <th>V1588</th>\n",
       "      <th>V420</th>\n",
       "      <th>V425</th>\n",
       "      <th>V4281</th>\n",
       "      <th>V433</th>\n",
       "      <th>V440</th>\n",
       "      <th>V441</th>\n",
       "      <th>V442</th>\n",
       "      <th>V444</th>\n",
       "      <th>V446</th>\n",
       "      <th>V4501</th>\n",
       "      <th>V4502</th>\n",
       "      <th>V4511</th>\n",
       "      <th>V452</th>\n",
       "      <th>V4571</th>\n",
       "      <th>V4572</th>\n",
       "      <th>V4581</th>\n",
       "      <th>V4582</th>\n",
       "      <th>V4611</th>\n",
       "      <th>V462</th>\n",
       "      <th>V4983</th>\n",
       "      <th>V4984</th>\n",
       "      <th>V4986</th>\n",
       "      <th>V5411</th>\n",
       "      <th>V5413</th>\n",
       "      <th>V5419</th>\n",
       "      <th>V550</th>\n",
       "      <th>V551</th>\n",
       "      <th>V5861</th>\n",
       "      <th>V5865</th>\n",
       "      <th>V5867</th>\n",
       "      <th>V600</th>\n",
       "      <th>V667</th>\n",
       "      <th>V8741</th>\n",
       "      <th>V8801</th>\n",
       "    </tr>\n",
       "    <tr>\n",
       "      <th>subject_id</th>\n",
       "      <th></th>\n",
       "      <th></th>\n",
       "      <th></th>\n",
       "      <th></th>\n",
       "      <th></th>\n",
       "      <th></th>\n",
       "      <th></th>\n",
       "      <th></th>\n",
       "      <th></th>\n",
       "      <th></th>\n",
       "      <th></th>\n",
       "      <th></th>\n",
       "      <th></th>\n",
       "      <th></th>\n",
       "      <th></th>\n",
       "      <th></th>\n",
       "      <th></th>\n",
       "      <th></th>\n",
       "      <th></th>\n",
       "      <th></th>\n",
       "      <th></th>\n",
       "      <th></th>\n",
       "      <th></th>\n",
       "      <th></th>\n",
       "      <th></th>\n",
       "      <th></th>\n",
       "      <th></th>\n",
       "      <th></th>\n",
       "      <th></th>\n",
       "      <th></th>\n",
       "      <th></th>\n",
       "      <th></th>\n",
       "      <th></th>\n",
       "      <th></th>\n",
       "      <th></th>\n",
       "      <th></th>\n",
       "      <th></th>\n",
       "      <th></th>\n",
       "      <th></th>\n",
       "      <th></th>\n",
       "      <th></th>\n",
       "      <th></th>\n",
       "      <th></th>\n",
       "      <th></th>\n",
       "      <th></th>\n",
       "      <th></th>\n",
       "      <th></th>\n",
       "      <th></th>\n",
       "      <th></th>\n",
       "      <th></th>\n",
       "      <th></th>\n",
       "      <th></th>\n",
       "      <th></th>\n",
       "      <th></th>\n",
       "      <th></th>\n",
       "      <th></th>\n",
       "      <th></th>\n",
       "      <th></th>\n",
       "      <th></th>\n",
       "      <th></th>\n",
       "      <th></th>\n",
       "      <th></th>\n",
       "      <th></th>\n",
       "      <th></th>\n",
       "      <th></th>\n",
       "      <th></th>\n",
       "      <th></th>\n",
       "      <th></th>\n",
       "      <th></th>\n",
       "      <th></th>\n",
       "      <th></th>\n",
       "      <th></th>\n",
       "      <th></th>\n",
       "      <th></th>\n",
       "      <th></th>\n",
       "      <th></th>\n",
       "      <th></th>\n",
       "      <th></th>\n",
       "      <th></th>\n",
       "      <th></th>\n",
       "      <th></th>\n",
       "    </tr>\n",
       "  </thead>\n",
       "  <tbody>\n",
       "    <tr>\n",
       "      <th>10006</th>\n",
       "      <td>NaN</td>\n",
       "      <td>NaN</td>\n",
       "      <td>NaN</td>\n",
       "      <td>NaN</td>\n",
       "      <td>1.0</td>\n",
       "      <td>NaN</td>\n",
       "      <td>NaN</td>\n",
       "      <td>NaN</td>\n",
       "      <td>NaN</td>\n",
       "      <td>NaN</td>\n",
       "      <td>NaN</td>\n",
       "      <td>NaN</td>\n",
       "      <td>NaN</td>\n",
       "      <td>NaN</td>\n",
       "      <td>NaN</td>\n",
       "      <td>NaN</td>\n",
       "      <td>NaN</td>\n",
       "      <td>NaN</td>\n",
       "      <td>NaN</td>\n",
       "      <td>NaN</td>\n",
       "      <td>NaN</td>\n",
       "      <td>NaN</td>\n",
       "      <td>NaN</td>\n",
       "      <td>NaN</td>\n",
       "      <td>NaN</td>\n",
       "      <td>NaN</td>\n",
       "      <td>NaN</td>\n",
       "      <td>NaN</td>\n",
       "      <td>NaN</td>\n",
       "      <td>NaN</td>\n",
       "      <td>NaN</td>\n",
       "      <td>NaN</td>\n",
       "      <td>NaN</td>\n",
       "      <td>NaN</td>\n",
       "      <td>NaN</td>\n",
       "      <td>NaN</td>\n",
       "      <td>NaN</td>\n",
       "      <td>NaN</td>\n",
       "      <td>NaN</td>\n",
       "      <td>NaN</td>\n",
       "      <td>...</td>\n",
       "      <td>NaN</td>\n",
       "      <td>NaN</td>\n",
       "      <td>NaN</td>\n",
       "      <td>NaN</td>\n",
       "      <td>NaN</td>\n",
       "      <td>NaN</td>\n",
       "      <td>NaN</td>\n",
       "      <td>NaN</td>\n",
       "      <td>NaN</td>\n",
       "      <td>NaN</td>\n",
       "      <td>NaN</td>\n",
       "      <td>NaN</td>\n",
       "      <td>NaN</td>\n",
       "      <td>NaN</td>\n",
       "      <td>NaN</td>\n",
       "      <td>NaN</td>\n",
       "      <td>NaN</td>\n",
       "      <td>NaN</td>\n",
       "      <td>NaN</td>\n",
       "      <td>NaN</td>\n",
       "      <td>NaN</td>\n",
       "      <td>NaN</td>\n",
       "      <td>NaN</td>\n",
       "      <td>NaN</td>\n",
       "      <td>NaN</td>\n",
       "      <td>NaN</td>\n",
       "      <td>NaN</td>\n",
       "      <td>NaN</td>\n",
       "      <td>NaN</td>\n",
       "      <td>NaN</td>\n",
       "      <td>NaN</td>\n",
       "      <td>NaN</td>\n",
       "      <td>NaN</td>\n",
       "      <td>NaN</td>\n",
       "      <td>NaN</td>\n",
       "      <td>1.0</td>\n",
       "      <td>NaN</td>\n",
       "      <td>NaN</td>\n",
       "      <td>NaN</td>\n",
       "      <td>NaN</td>\n",
       "    </tr>\n",
       "    <tr>\n",
       "      <th>10011</th>\n",
       "      <td>NaN</td>\n",
       "      <td>NaN</td>\n",
       "      <td>NaN</td>\n",
       "      <td>NaN</td>\n",
       "      <td>NaN</td>\n",
       "      <td>NaN</td>\n",
       "      <td>NaN</td>\n",
       "      <td>NaN</td>\n",
       "      <td>NaN</td>\n",
       "      <td>NaN</td>\n",
       "      <td>NaN</td>\n",
       "      <td>NaN</td>\n",
       "      <td>NaN</td>\n",
       "      <td>NaN</td>\n",
       "      <td>NaN</td>\n",
       "      <td>NaN</td>\n",
       "      <td>NaN</td>\n",
       "      <td>NaN</td>\n",
       "      <td>NaN</td>\n",
       "      <td>NaN</td>\n",
       "      <td>NaN</td>\n",
       "      <td>NaN</td>\n",
       "      <td>1.0</td>\n",
       "      <td>NaN</td>\n",
       "      <td>NaN</td>\n",
       "      <td>1.0</td>\n",
       "      <td>NaN</td>\n",
       "      <td>NaN</td>\n",
       "      <td>NaN</td>\n",
       "      <td>NaN</td>\n",
       "      <td>NaN</td>\n",
       "      <td>NaN</td>\n",
       "      <td>NaN</td>\n",
       "      <td>NaN</td>\n",
       "      <td>NaN</td>\n",
       "      <td>NaN</td>\n",
       "      <td>NaN</td>\n",
       "      <td>NaN</td>\n",
       "      <td>NaN</td>\n",
       "      <td>NaN</td>\n",
       "      <td>...</td>\n",
       "      <td>NaN</td>\n",
       "      <td>NaN</td>\n",
       "      <td>NaN</td>\n",
       "      <td>NaN</td>\n",
       "      <td>NaN</td>\n",
       "      <td>NaN</td>\n",
       "      <td>NaN</td>\n",
       "      <td>NaN</td>\n",
       "      <td>NaN</td>\n",
       "      <td>NaN</td>\n",
       "      <td>NaN</td>\n",
       "      <td>NaN</td>\n",
       "      <td>NaN</td>\n",
       "      <td>NaN</td>\n",
       "      <td>NaN</td>\n",
       "      <td>NaN</td>\n",
       "      <td>NaN</td>\n",
       "      <td>NaN</td>\n",
       "      <td>NaN</td>\n",
       "      <td>NaN</td>\n",
       "      <td>NaN</td>\n",
       "      <td>NaN</td>\n",
       "      <td>NaN</td>\n",
       "      <td>NaN</td>\n",
       "      <td>NaN</td>\n",
       "      <td>NaN</td>\n",
       "      <td>NaN</td>\n",
       "      <td>NaN</td>\n",
       "      <td>NaN</td>\n",
       "      <td>NaN</td>\n",
       "      <td>NaN</td>\n",
       "      <td>NaN</td>\n",
       "      <td>NaN</td>\n",
       "      <td>NaN</td>\n",
       "      <td>NaN</td>\n",
       "      <td>NaN</td>\n",
       "      <td>NaN</td>\n",
       "      <td>NaN</td>\n",
       "      <td>NaN</td>\n",
       "      <td>NaN</td>\n",
       "    </tr>\n",
       "    <tr>\n",
       "      <th>10013</th>\n",
       "      <td>NaN</td>\n",
       "      <td>NaN</td>\n",
       "      <td>NaN</td>\n",
       "      <td>NaN</td>\n",
       "      <td>NaN</td>\n",
       "      <td>NaN</td>\n",
       "      <td>NaN</td>\n",
       "      <td>NaN</td>\n",
       "      <td>NaN</td>\n",
       "      <td>NaN</td>\n",
       "      <td>NaN</td>\n",
       "      <td>1.0</td>\n",
       "      <td>NaN</td>\n",
       "      <td>NaN</td>\n",
       "      <td>NaN</td>\n",
       "      <td>NaN</td>\n",
       "      <td>NaN</td>\n",
       "      <td>NaN</td>\n",
       "      <td>NaN</td>\n",
       "      <td>NaN</td>\n",
       "      <td>NaN</td>\n",
       "      <td>NaN</td>\n",
       "      <td>NaN</td>\n",
       "      <td>NaN</td>\n",
       "      <td>NaN</td>\n",
       "      <td>NaN</td>\n",
       "      <td>NaN</td>\n",
       "      <td>NaN</td>\n",
       "      <td>NaN</td>\n",
       "      <td>NaN</td>\n",
       "      <td>NaN</td>\n",
       "      <td>NaN</td>\n",
       "      <td>NaN</td>\n",
       "      <td>NaN</td>\n",
       "      <td>NaN</td>\n",
       "      <td>NaN</td>\n",
       "      <td>NaN</td>\n",
       "      <td>NaN</td>\n",
       "      <td>NaN</td>\n",
       "      <td>NaN</td>\n",
       "      <td>...</td>\n",
       "      <td>NaN</td>\n",
       "      <td>NaN</td>\n",
       "      <td>NaN</td>\n",
       "      <td>NaN</td>\n",
       "      <td>NaN</td>\n",
       "      <td>NaN</td>\n",
       "      <td>NaN</td>\n",
       "      <td>NaN</td>\n",
       "      <td>NaN</td>\n",
       "      <td>NaN</td>\n",
       "      <td>NaN</td>\n",
       "      <td>NaN</td>\n",
       "      <td>NaN</td>\n",
       "      <td>NaN</td>\n",
       "      <td>NaN</td>\n",
       "      <td>NaN</td>\n",
       "      <td>NaN</td>\n",
       "      <td>NaN</td>\n",
       "      <td>NaN</td>\n",
       "      <td>NaN</td>\n",
       "      <td>NaN</td>\n",
       "      <td>NaN</td>\n",
       "      <td>NaN</td>\n",
       "      <td>NaN</td>\n",
       "      <td>NaN</td>\n",
       "      <td>NaN</td>\n",
       "      <td>NaN</td>\n",
       "      <td>NaN</td>\n",
       "      <td>NaN</td>\n",
       "      <td>NaN</td>\n",
       "      <td>NaN</td>\n",
       "      <td>NaN</td>\n",
       "      <td>NaN</td>\n",
       "      <td>NaN</td>\n",
       "      <td>NaN</td>\n",
       "      <td>NaN</td>\n",
       "      <td>NaN</td>\n",
       "      <td>NaN</td>\n",
       "      <td>NaN</td>\n",
       "      <td>NaN</td>\n",
       "    </tr>\n",
       "    <tr>\n",
       "      <th>10017</th>\n",
       "      <td>NaN</td>\n",
       "      <td>NaN</td>\n",
       "      <td>NaN</td>\n",
       "      <td>NaN</td>\n",
       "      <td>NaN</td>\n",
       "      <td>NaN</td>\n",
       "      <td>NaN</td>\n",
       "      <td>NaN</td>\n",
       "      <td>NaN</td>\n",
       "      <td>NaN</td>\n",
       "      <td>NaN</td>\n",
       "      <td>NaN</td>\n",
       "      <td>NaN</td>\n",
       "      <td>NaN</td>\n",
       "      <td>NaN</td>\n",
       "      <td>NaN</td>\n",
       "      <td>NaN</td>\n",
       "      <td>NaN</td>\n",
       "      <td>NaN</td>\n",
       "      <td>NaN</td>\n",
       "      <td>NaN</td>\n",
       "      <td>NaN</td>\n",
       "      <td>NaN</td>\n",
       "      <td>NaN</td>\n",
       "      <td>NaN</td>\n",
       "      <td>NaN</td>\n",
       "      <td>NaN</td>\n",
       "      <td>NaN</td>\n",
       "      <td>NaN</td>\n",
       "      <td>NaN</td>\n",
       "      <td>NaN</td>\n",
       "      <td>NaN</td>\n",
       "      <td>NaN</td>\n",
       "      <td>NaN</td>\n",
       "      <td>NaN</td>\n",
       "      <td>NaN</td>\n",
       "      <td>NaN</td>\n",
       "      <td>NaN</td>\n",
       "      <td>NaN</td>\n",
       "      <td>NaN</td>\n",
       "      <td>...</td>\n",
       "      <td>NaN</td>\n",
       "      <td>NaN</td>\n",
       "      <td>NaN</td>\n",
       "      <td>NaN</td>\n",
       "      <td>NaN</td>\n",
       "      <td>NaN</td>\n",
       "      <td>NaN</td>\n",
       "      <td>NaN</td>\n",
       "      <td>NaN</td>\n",
       "      <td>NaN</td>\n",
       "      <td>NaN</td>\n",
       "      <td>NaN</td>\n",
       "      <td>NaN</td>\n",
       "      <td>NaN</td>\n",
       "      <td>NaN</td>\n",
       "      <td>NaN</td>\n",
       "      <td>NaN</td>\n",
       "      <td>NaN</td>\n",
       "      <td>NaN</td>\n",
       "      <td>NaN</td>\n",
       "      <td>NaN</td>\n",
       "      <td>NaN</td>\n",
       "      <td>NaN</td>\n",
       "      <td>NaN</td>\n",
       "      <td>NaN</td>\n",
       "      <td>NaN</td>\n",
       "      <td>NaN</td>\n",
       "      <td>NaN</td>\n",
       "      <td>NaN</td>\n",
       "      <td>NaN</td>\n",
       "      <td>NaN</td>\n",
       "      <td>NaN</td>\n",
       "      <td>NaN</td>\n",
       "      <td>NaN</td>\n",
       "      <td>NaN</td>\n",
       "      <td>NaN</td>\n",
       "      <td>NaN</td>\n",
       "      <td>NaN</td>\n",
       "      <td>NaN</td>\n",
       "      <td>NaN</td>\n",
       "    </tr>\n",
       "    <tr>\n",
       "      <th>10019</th>\n",
       "      <td>NaN</td>\n",
       "      <td>NaN</td>\n",
       "      <td>NaN</td>\n",
       "      <td>NaN</td>\n",
       "      <td>NaN</td>\n",
       "      <td>NaN</td>\n",
       "      <td>NaN</td>\n",
       "      <td>NaN</td>\n",
       "      <td>NaN</td>\n",
       "      <td>NaN</td>\n",
       "      <td>NaN</td>\n",
       "      <td>1.0</td>\n",
       "      <td>NaN</td>\n",
       "      <td>NaN</td>\n",
       "      <td>NaN</td>\n",
       "      <td>NaN</td>\n",
       "      <td>NaN</td>\n",
       "      <td>NaN</td>\n",
       "      <td>NaN</td>\n",
       "      <td>NaN</td>\n",
       "      <td>NaN</td>\n",
       "      <td>NaN</td>\n",
       "      <td>NaN</td>\n",
       "      <td>NaN</td>\n",
       "      <td>NaN</td>\n",
       "      <td>NaN</td>\n",
       "      <td>NaN</td>\n",
       "      <td>NaN</td>\n",
       "      <td>NaN</td>\n",
       "      <td>NaN</td>\n",
       "      <td>NaN</td>\n",
       "      <td>NaN</td>\n",
       "      <td>NaN</td>\n",
       "      <td>NaN</td>\n",
       "      <td>NaN</td>\n",
       "      <td>NaN</td>\n",
       "      <td>NaN</td>\n",
       "      <td>NaN</td>\n",
       "      <td>NaN</td>\n",
       "      <td>NaN</td>\n",
       "      <td>...</td>\n",
       "      <td>NaN</td>\n",
       "      <td>NaN</td>\n",
       "      <td>NaN</td>\n",
       "      <td>NaN</td>\n",
       "      <td>NaN</td>\n",
       "      <td>NaN</td>\n",
       "      <td>NaN</td>\n",
       "      <td>NaN</td>\n",
       "      <td>NaN</td>\n",
       "      <td>NaN</td>\n",
       "      <td>NaN</td>\n",
       "      <td>NaN</td>\n",
       "      <td>NaN</td>\n",
       "      <td>NaN</td>\n",
       "      <td>NaN</td>\n",
       "      <td>NaN</td>\n",
       "      <td>NaN</td>\n",
       "      <td>NaN</td>\n",
       "      <td>NaN</td>\n",
       "      <td>NaN</td>\n",
       "      <td>NaN</td>\n",
       "      <td>NaN</td>\n",
       "      <td>NaN</td>\n",
       "      <td>NaN</td>\n",
       "      <td>NaN</td>\n",
       "      <td>NaN</td>\n",
       "      <td>NaN</td>\n",
       "      <td>NaN</td>\n",
       "      <td>NaN</td>\n",
       "      <td>NaN</td>\n",
       "      <td>NaN</td>\n",
       "      <td>NaN</td>\n",
       "      <td>NaN</td>\n",
       "      <td>NaN</td>\n",
       "      <td>NaN</td>\n",
       "      <td>NaN</td>\n",
       "      <td>NaN</td>\n",
       "      <td>NaN</td>\n",
       "      <td>NaN</td>\n",
       "      <td>NaN</td>\n",
       "    </tr>\n",
       "    <tr>\n",
       "      <th>...</th>\n",
       "      <td>...</td>\n",
       "      <td>...</td>\n",
       "      <td>...</td>\n",
       "      <td>...</td>\n",
       "      <td>...</td>\n",
       "      <td>...</td>\n",
       "      <td>...</td>\n",
       "      <td>...</td>\n",
       "      <td>...</td>\n",
       "      <td>...</td>\n",
       "      <td>...</td>\n",
       "      <td>...</td>\n",
       "      <td>...</td>\n",
       "      <td>...</td>\n",
       "      <td>...</td>\n",
       "      <td>...</td>\n",
       "      <td>...</td>\n",
       "      <td>...</td>\n",
       "      <td>...</td>\n",
       "      <td>...</td>\n",
       "      <td>...</td>\n",
       "      <td>...</td>\n",
       "      <td>...</td>\n",
       "      <td>...</td>\n",
       "      <td>...</td>\n",
       "      <td>...</td>\n",
       "      <td>...</td>\n",
       "      <td>...</td>\n",
       "      <td>...</td>\n",
       "      <td>...</td>\n",
       "      <td>...</td>\n",
       "      <td>...</td>\n",
       "      <td>...</td>\n",
       "      <td>...</td>\n",
       "      <td>...</td>\n",
       "      <td>...</td>\n",
       "      <td>...</td>\n",
       "      <td>...</td>\n",
       "      <td>...</td>\n",
       "      <td>...</td>\n",
       "      <td>...</td>\n",
       "      <td>...</td>\n",
       "      <td>...</td>\n",
       "      <td>...</td>\n",
       "      <td>...</td>\n",
       "      <td>...</td>\n",
       "      <td>...</td>\n",
       "      <td>...</td>\n",
       "      <td>...</td>\n",
       "      <td>...</td>\n",
       "      <td>...</td>\n",
       "      <td>...</td>\n",
       "      <td>...</td>\n",
       "      <td>...</td>\n",
       "      <td>...</td>\n",
       "      <td>...</td>\n",
       "      <td>...</td>\n",
       "      <td>...</td>\n",
       "      <td>...</td>\n",
       "      <td>...</td>\n",
       "      <td>...</td>\n",
       "      <td>...</td>\n",
       "      <td>...</td>\n",
       "      <td>...</td>\n",
       "      <td>...</td>\n",
       "      <td>...</td>\n",
       "      <td>...</td>\n",
       "      <td>...</td>\n",
       "      <td>...</td>\n",
       "      <td>...</td>\n",
       "      <td>...</td>\n",
       "      <td>...</td>\n",
       "      <td>...</td>\n",
       "      <td>...</td>\n",
       "      <td>...</td>\n",
       "      <td>...</td>\n",
       "      <td>...</td>\n",
       "      <td>...</td>\n",
       "      <td>...</td>\n",
       "      <td>...</td>\n",
       "      <td>...</td>\n",
       "    </tr>\n",
       "    <tr>\n",
       "      <th>44083</th>\n",
       "      <td>NaN</td>\n",
       "      <td>NaN</td>\n",
       "      <td>NaN</td>\n",
       "      <td>NaN</td>\n",
       "      <td>NaN</td>\n",
       "      <td>NaN</td>\n",
       "      <td>NaN</td>\n",
       "      <td>NaN</td>\n",
       "      <td>NaN</td>\n",
       "      <td>NaN</td>\n",
       "      <td>NaN</td>\n",
       "      <td>NaN</td>\n",
       "      <td>NaN</td>\n",
       "      <td>NaN</td>\n",
       "      <td>NaN</td>\n",
       "      <td>NaN</td>\n",
       "      <td>NaN</td>\n",
       "      <td>NaN</td>\n",
       "      <td>NaN</td>\n",
       "      <td>NaN</td>\n",
       "      <td>NaN</td>\n",
       "      <td>NaN</td>\n",
       "      <td>NaN</td>\n",
       "      <td>NaN</td>\n",
       "      <td>NaN</td>\n",
       "      <td>NaN</td>\n",
       "      <td>NaN</td>\n",
       "      <td>NaN</td>\n",
       "      <td>NaN</td>\n",
       "      <td>NaN</td>\n",
       "      <td>NaN</td>\n",
       "      <td>NaN</td>\n",
       "      <td>1.0</td>\n",
       "      <td>NaN</td>\n",
       "      <td>NaN</td>\n",
       "      <td>NaN</td>\n",
       "      <td>NaN</td>\n",
       "      <td>NaN</td>\n",
       "      <td>NaN</td>\n",
       "      <td>NaN</td>\n",
       "      <td>...</td>\n",
       "      <td>NaN</td>\n",
       "      <td>NaN</td>\n",
       "      <td>NaN</td>\n",
       "      <td>NaN</td>\n",
       "      <td>NaN</td>\n",
       "      <td>NaN</td>\n",
       "      <td>NaN</td>\n",
       "      <td>NaN</td>\n",
       "      <td>NaN</td>\n",
       "      <td>NaN</td>\n",
       "      <td>NaN</td>\n",
       "      <td>NaN</td>\n",
       "      <td>NaN</td>\n",
       "      <td>NaN</td>\n",
       "      <td>NaN</td>\n",
       "      <td>NaN</td>\n",
       "      <td>NaN</td>\n",
       "      <td>NaN</td>\n",
       "      <td>NaN</td>\n",
       "      <td>NaN</td>\n",
       "      <td>NaN</td>\n",
       "      <td>NaN</td>\n",
       "      <td>NaN</td>\n",
       "      <td>NaN</td>\n",
       "      <td>NaN</td>\n",
       "      <td>NaN</td>\n",
       "      <td>NaN</td>\n",
       "      <td>NaN</td>\n",
       "      <td>NaN</td>\n",
       "      <td>NaN</td>\n",
       "      <td>NaN</td>\n",
       "      <td>NaN</td>\n",
       "      <td>NaN</td>\n",
       "      <td>NaN</td>\n",
       "      <td>NaN</td>\n",
       "      <td>NaN</td>\n",
       "      <td>NaN</td>\n",
       "      <td>NaN</td>\n",
       "      <td>NaN</td>\n",
       "      <td>NaN</td>\n",
       "    </tr>\n",
       "    <tr>\n",
       "      <th>44154</th>\n",
       "      <td>NaN</td>\n",
       "      <td>NaN</td>\n",
       "      <td>NaN</td>\n",
       "      <td>NaN</td>\n",
       "      <td>NaN</td>\n",
       "      <td>NaN</td>\n",
       "      <td>NaN</td>\n",
       "      <td>NaN</td>\n",
       "      <td>NaN</td>\n",
       "      <td>NaN</td>\n",
       "      <td>NaN</td>\n",
       "      <td>1.0</td>\n",
       "      <td>NaN</td>\n",
       "      <td>NaN</td>\n",
       "      <td>NaN</td>\n",
       "      <td>NaN</td>\n",
       "      <td>NaN</td>\n",
       "      <td>NaN</td>\n",
       "      <td>NaN</td>\n",
       "      <td>NaN</td>\n",
       "      <td>NaN</td>\n",
       "      <td>NaN</td>\n",
       "      <td>NaN</td>\n",
       "      <td>NaN</td>\n",
       "      <td>NaN</td>\n",
       "      <td>NaN</td>\n",
       "      <td>NaN</td>\n",
       "      <td>NaN</td>\n",
       "      <td>NaN</td>\n",
       "      <td>NaN</td>\n",
       "      <td>NaN</td>\n",
       "      <td>NaN</td>\n",
       "      <td>NaN</td>\n",
       "      <td>NaN</td>\n",
       "      <td>NaN</td>\n",
       "      <td>NaN</td>\n",
       "      <td>NaN</td>\n",
       "      <td>NaN</td>\n",
       "      <td>NaN</td>\n",
       "      <td>NaN</td>\n",
       "      <td>...</td>\n",
       "      <td>NaN</td>\n",
       "      <td>NaN</td>\n",
       "      <td>NaN</td>\n",
       "      <td>NaN</td>\n",
       "      <td>NaN</td>\n",
       "      <td>NaN</td>\n",
       "      <td>NaN</td>\n",
       "      <td>NaN</td>\n",
       "      <td>NaN</td>\n",
       "      <td>NaN</td>\n",
       "      <td>NaN</td>\n",
       "      <td>NaN</td>\n",
       "      <td>NaN</td>\n",
       "      <td>NaN</td>\n",
       "      <td>NaN</td>\n",
       "      <td>NaN</td>\n",
       "      <td>NaN</td>\n",
       "      <td>NaN</td>\n",
       "      <td>NaN</td>\n",
       "      <td>NaN</td>\n",
       "      <td>NaN</td>\n",
       "      <td>NaN</td>\n",
       "      <td>NaN</td>\n",
       "      <td>NaN</td>\n",
       "      <td>NaN</td>\n",
       "      <td>NaN</td>\n",
       "      <td>NaN</td>\n",
       "      <td>NaN</td>\n",
       "      <td>NaN</td>\n",
       "      <td>NaN</td>\n",
       "      <td>NaN</td>\n",
       "      <td>NaN</td>\n",
       "      <td>NaN</td>\n",
       "      <td>NaN</td>\n",
       "      <td>NaN</td>\n",
       "      <td>NaN</td>\n",
       "      <td>NaN</td>\n",
       "      <td>NaN</td>\n",
       "      <td>NaN</td>\n",
       "      <td>NaN</td>\n",
       "    </tr>\n",
       "    <tr>\n",
       "      <th>44212</th>\n",
       "      <td>NaN</td>\n",
       "      <td>NaN</td>\n",
       "      <td>1.0</td>\n",
       "      <td>NaN</td>\n",
       "      <td>NaN</td>\n",
       "      <td>NaN</td>\n",
       "      <td>NaN</td>\n",
       "      <td>NaN</td>\n",
       "      <td>NaN</td>\n",
       "      <td>NaN</td>\n",
       "      <td>NaN</td>\n",
       "      <td>NaN</td>\n",
       "      <td>NaN</td>\n",
       "      <td>NaN</td>\n",
       "      <td>NaN</td>\n",
       "      <td>NaN</td>\n",
       "      <td>NaN</td>\n",
       "      <td>1.0</td>\n",
       "      <td>NaN</td>\n",
       "      <td>NaN</td>\n",
       "      <td>NaN</td>\n",
       "      <td>NaN</td>\n",
       "      <td>NaN</td>\n",
       "      <td>NaN</td>\n",
       "      <td>NaN</td>\n",
       "      <td>NaN</td>\n",
       "      <td>NaN</td>\n",
       "      <td>NaN</td>\n",
       "      <td>NaN</td>\n",
       "      <td>NaN</td>\n",
       "      <td>NaN</td>\n",
       "      <td>NaN</td>\n",
       "      <td>NaN</td>\n",
       "      <td>NaN</td>\n",
       "      <td>NaN</td>\n",
       "      <td>NaN</td>\n",
       "      <td>NaN</td>\n",
       "      <td>NaN</td>\n",
       "      <td>NaN</td>\n",
       "      <td>NaN</td>\n",
       "      <td>...</td>\n",
       "      <td>NaN</td>\n",
       "      <td>NaN</td>\n",
       "      <td>NaN</td>\n",
       "      <td>NaN</td>\n",
       "      <td>NaN</td>\n",
       "      <td>NaN</td>\n",
       "      <td>NaN</td>\n",
       "      <td>NaN</td>\n",
       "      <td>NaN</td>\n",
       "      <td>NaN</td>\n",
       "      <td>NaN</td>\n",
       "      <td>NaN</td>\n",
       "      <td>NaN</td>\n",
       "      <td>NaN</td>\n",
       "      <td>NaN</td>\n",
       "      <td>NaN</td>\n",
       "      <td>NaN</td>\n",
       "      <td>NaN</td>\n",
       "      <td>NaN</td>\n",
       "      <td>NaN</td>\n",
       "      <td>NaN</td>\n",
       "      <td>NaN</td>\n",
       "      <td>NaN</td>\n",
       "      <td>NaN</td>\n",
       "      <td>NaN</td>\n",
       "      <td>NaN</td>\n",
       "      <td>NaN</td>\n",
       "      <td>NaN</td>\n",
       "      <td>NaN</td>\n",
       "      <td>NaN</td>\n",
       "      <td>NaN</td>\n",
       "      <td>NaN</td>\n",
       "      <td>NaN</td>\n",
       "      <td>NaN</td>\n",
       "      <td>NaN</td>\n",
       "      <td>NaN</td>\n",
       "      <td>NaN</td>\n",
       "      <td>NaN</td>\n",
       "      <td>NaN</td>\n",
       "      <td>NaN</td>\n",
       "    </tr>\n",
       "    <tr>\n",
       "      <th>44222</th>\n",
       "      <td>NaN</td>\n",
       "      <td>NaN</td>\n",
       "      <td>NaN</td>\n",
       "      <td>NaN</td>\n",
       "      <td>NaN</td>\n",
       "      <td>NaN</td>\n",
       "      <td>NaN</td>\n",
       "      <td>NaN</td>\n",
       "      <td>NaN</td>\n",
       "      <td>NaN</td>\n",
       "      <td>NaN</td>\n",
       "      <td>NaN</td>\n",
       "      <td>NaN</td>\n",
       "      <td>NaN</td>\n",
       "      <td>NaN</td>\n",
       "      <td>NaN</td>\n",
       "      <td>NaN</td>\n",
       "      <td>NaN</td>\n",
       "      <td>NaN</td>\n",
       "      <td>NaN</td>\n",
       "      <td>NaN</td>\n",
       "      <td>NaN</td>\n",
       "      <td>NaN</td>\n",
       "      <td>NaN</td>\n",
       "      <td>NaN</td>\n",
       "      <td>NaN</td>\n",
       "      <td>NaN</td>\n",
       "      <td>NaN</td>\n",
       "      <td>NaN</td>\n",
       "      <td>NaN</td>\n",
       "      <td>NaN</td>\n",
       "      <td>NaN</td>\n",
       "      <td>NaN</td>\n",
       "      <td>NaN</td>\n",
       "      <td>NaN</td>\n",
       "      <td>NaN</td>\n",
       "      <td>NaN</td>\n",
       "      <td>NaN</td>\n",
       "      <td>NaN</td>\n",
       "      <td>NaN</td>\n",
       "      <td>...</td>\n",
       "      <td>NaN</td>\n",
       "      <td>NaN</td>\n",
       "      <td>NaN</td>\n",
       "      <td>NaN</td>\n",
       "      <td>NaN</td>\n",
       "      <td>NaN</td>\n",
       "      <td>NaN</td>\n",
       "      <td>NaN</td>\n",
       "      <td>NaN</td>\n",
       "      <td>NaN</td>\n",
       "      <td>NaN</td>\n",
       "      <td>NaN</td>\n",
       "      <td>NaN</td>\n",
       "      <td>NaN</td>\n",
       "      <td>NaN</td>\n",
       "      <td>NaN</td>\n",
       "      <td>NaN</td>\n",
       "      <td>NaN</td>\n",
       "      <td>NaN</td>\n",
       "      <td>NaN</td>\n",
       "      <td>NaN</td>\n",
       "      <td>NaN</td>\n",
       "      <td>NaN</td>\n",
       "      <td>NaN</td>\n",
       "      <td>NaN</td>\n",
       "      <td>NaN</td>\n",
       "      <td>NaN</td>\n",
       "      <td>NaN</td>\n",
       "      <td>NaN</td>\n",
       "      <td>NaN</td>\n",
       "      <td>NaN</td>\n",
       "      <td>NaN</td>\n",
       "      <td>NaN</td>\n",
       "      <td>NaN</td>\n",
       "      <td>NaN</td>\n",
       "      <td>NaN</td>\n",
       "      <td>NaN</td>\n",
       "      <td>NaN</td>\n",
       "      <td>NaN</td>\n",
       "      <td>NaN</td>\n",
       "    </tr>\n",
       "    <tr>\n",
       "      <th>44228</th>\n",
       "      <td>1.0</td>\n",
       "      <td>NaN</td>\n",
       "      <td>NaN</td>\n",
       "      <td>NaN</td>\n",
       "      <td>NaN</td>\n",
       "      <td>NaN</td>\n",
       "      <td>NaN</td>\n",
       "      <td>1.0</td>\n",
       "      <td>NaN</td>\n",
       "      <td>NaN</td>\n",
       "      <td>NaN</td>\n",
       "      <td>NaN</td>\n",
       "      <td>NaN</td>\n",
       "      <td>NaN</td>\n",
       "      <td>NaN</td>\n",
       "      <td>NaN</td>\n",
       "      <td>NaN</td>\n",
       "      <td>NaN</td>\n",
       "      <td>NaN</td>\n",
       "      <td>NaN</td>\n",
       "      <td>NaN</td>\n",
       "      <td>NaN</td>\n",
       "      <td>NaN</td>\n",
       "      <td>NaN</td>\n",
       "      <td>NaN</td>\n",
       "      <td>NaN</td>\n",
       "      <td>NaN</td>\n",
       "      <td>NaN</td>\n",
       "      <td>NaN</td>\n",
       "      <td>NaN</td>\n",
       "      <td>NaN</td>\n",
       "      <td>NaN</td>\n",
       "      <td>NaN</td>\n",
       "      <td>NaN</td>\n",
       "      <td>NaN</td>\n",
       "      <td>1.0</td>\n",
       "      <td>NaN</td>\n",
       "      <td>NaN</td>\n",
       "      <td>NaN</td>\n",
       "      <td>NaN</td>\n",
       "      <td>...</td>\n",
       "      <td>NaN</td>\n",
       "      <td>NaN</td>\n",
       "      <td>NaN</td>\n",
       "      <td>NaN</td>\n",
       "      <td>NaN</td>\n",
       "      <td>NaN</td>\n",
       "      <td>NaN</td>\n",
       "      <td>NaN</td>\n",
       "      <td>NaN</td>\n",
       "      <td>NaN</td>\n",
       "      <td>NaN</td>\n",
       "      <td>NaN</td>\n",
       "      <td>NaN</td>\n",
       "      <td>NaN</td>\n",
       "      <td>NaN</td>\n",
       "      <td>NaN</td>\n",
       "      <td>NaN</td>\n",
       "      <td>NaN</td>\n",
       "      <td>NaN</td>\n",
       "      <td>NaN</td>\n",
       "      <td>NaN</td>\n",
       "      <td>NaN</td>\n",
       "      <td>NaN</td>\n",
       "      <td>NaN</td>\n",
       "      <td>NaN</td>\n",
       "      <td>NaN</td>\n",
       "      <td>NaN</td>\n",
       "      <td>NaN</td>\n",
       "      <td>NaN</td>\n",
       "      <td>NaN</td>\n",
       "      <td>NaN</td>\n",
       "      <td>NaN</td>\n",
       "      <td>NaN</td>\n",
       "      <td>NaN</td>\n",
       "      <td>NaN</td>\n",
       "      <td>NaN</td>\n",
       "      <td>NaN</td>\n",
       "      <td>NaN</td>\n",
       "      <td>NaN</td>\n",
       "      <td>NaN</td>\n",
       "    </tr>\n",
       "  </tbody>\n",
       "</table>\n",
       "<p>100 rows × 581 columns</p>\n",
       "</div>"
      ],
      "text/plain": [
       "icd9_code   00845  0380  03811  03812  03819  ...  V5867  V600  V667  V8741  V8801\n",
       "subject_id                                    ...                                 \n",
       "10006         NaN   NaN    NaN    NaN    1.0  ...    1.0   NaN   NaN    NaN    NaN\n",
       "10011         NaN   NaN    NaN    NaN    NaN  ...    NaN   NaN   NaN    NaN    NaN\n",
       "10013         NaN   NaN    NaN    NaN    NaN  ...    NaN   NaN   NaN    NaN    NaN\n",
       "10017         NaN   NaN    NaN    NaN    NaN  ...    NaN   NaN   NaN    NaN    NaN\n",
       "10019         NaN   NaN    NaN    NaN    NaN  ...    NaN   NaN   NaN    NaN    NaN\n",
       "...           ...   ...    ...    ...    ...  ...    ...   ...   ...    ...    ...\n",
       "44083         NaN   NaN    NaN    NaN    NaN  ...    NaN   NaN   NaN    NaN    NaN\n",
       "44154         NaN   NaN    NaN    NaN    NaN  ...    NaN   NaN   NaN    NaN    NaN\n",
       "44212         NaN   NaN    1.0    NaN    NaN  ...    NaN   NaN   NaN    NaN    NaN\n",
       "44222         NaN   NaN    NaN    NaN    NaN  ...    NaN   NaN   NaN    NaN    NaN\n",
       "44228         1.0   NaN    NaN    NaN    NaN  ...    NaN   NaN   NaN    NaN    NaN\n",
       "\n",
       "[100 rows x 581 columns]"
      ]
     },
     "execution_count": 171,
     "metadata": {
      "tags": []
     },
     "output_type": "execute_result"
    }
   ],
   "source": [
    "pd.pivot_table(diagnoses_grouped, \n",
    "               index = [\"subject_id\"], \n",
    "               columns = \"icd9_code\", values = \"icd9_count\")"
   ]
  },
  {
   "cell_type": "code",
   "execution_count": null,
   "metadata": {
    "colab": {
     "base_uri": "https://localhost:8080/",
     "height": 456
    },
    "colab_type": "code",
    "executionInfo": {
     "elapsed": 347,
     "status": "ok",
     "timestamp": 1599762433285,
     "user": {
      "displayName": "Samir Gupta",
      "photoUrl": "",
      "userId": "08477919997854778705"
     },
     "user_tz": 240
    },
    "id": "1RNzeFJrRS3U",
    "outputId": "104bad9e-7c55-4264-ba3e-c6beda5f34b4"
   },
   "outputs": [
    {
     "data": {
      "text/html": [
       "<div>\n",
       "<style scoped>\n",
       "    .dataframe tbody tr th:only-of-type {\n",
       "        vertical-align: middle;\n",
       "    }\n",
       "\n",
       "    .dataframe tbody tr th {\n",
       "        vertical-align: top;\n",
       "    }\n",
       "\n",
       "    .dataframe thead th {\n",
       "        text-align: right;\n",
       "    }\n",
       "</style>\n",
       "<table border=\"1\" class=\"dataframe\">\n",
       "  <thead>\n",
       "    <tr style=\"text-align: right;\">\n",
       "      <th>icd9_code</th>\n",
       "      <th>00845</th>\n",
       "      <th>0380</th>\n",
       "      <th>03811</th>\n",
       "      <th>03812</th>\n",
       "      <th>03819</th>\n",
       "      <th>0383</th>\n",
       "      <th>03840</th>\n",
       "      <th>03842</th>\n",
       "      <th>03843</th>\n",
       "      <th>03849</th>\n",
       "      <th>0388</th>\n",
       "      <th>0389</th>\n",
       "      <th>04102</th>\n",
       "      <th>04104</th>\n",
       "      <th>04111</th>\n",
       "      <th>04112</th>\n",
       "      <th>0413</th>\n",
       "      <th>0414</th>\n",
       "      <th>0416</th>\n",
       "      <th>0417</th>\n",
       "      <th>04182</th>\n",
       "      <th>0543</th>\n",
       "      <th>07030</th>\n",
       "      <th>07032</th>\n",
       "      <th>07044</th>\n",
       "      <th>07054</th>\n",
       "      <th>07070</th>\n",
       "      <th>1120</th>\n",
       "      <th>1122</th>\n",
       "      <th>1124</th>\n",
       "      <th>1179</th>\n",
       "      <th>1508</th>\n",
       "      <th>1510</th>\n",
       "      <th>1539</th>\n",
       "      <th>1541</th>\n",
       "      <th>1561</th>\n",
       "      <th>1570</th>\n",
       "      <th>1622</th>\n",
       "      <th>1623</th>\n",
       "      <th>1625</th>\n",
       "      <th>...</th>\n",
       "      <th>V1301</th>\n",
       "      <th>V1302</th>\n",
       "      <th>V153</th>\n",
       "      <th>V1581</th>\n",
       "      <th>V1582</th>\n",
       "      <th>V1588</th>\n",
       "      <th>V420</th>\n",
       "      <th>V425</th>\n",
       "      <th>V4281</th>\n",
       "      <th>V433</th>\n",
       "      <th>V440</th>\n",
       "      <th>V441</th>\n",
       "      <th>V442</th>\n",
       "      <th>V444</th>\n",
       "      <th>V446</th>\n",
       "      <th>V4501</th>\n",
       "      <th>V4502</th>\n",
       "      <th>V4511</th>\n",
       "      <th>V452</th>\n",
       "      <th>V4571</th>\n",
       "      <th>V4572</th>\n",
       "      <th>V4581</th>\n",
       "      <th>V4582</th>\n",
       "      <th>V4611</th>\n",
       "      <th>V462</th>\n",
       "      <th>V4983</th>\n",
       "      <th>V4984</th>\n",
       "      <th>V4986</th>\n",
       "      <th>V5411</th>\n",
       "      <th>V5413</th>\n",
       "      <th>V5419</th>\n",
       "      <th>V550</th>\n",
       "      <th>V551</th>\n",
       "      <th>V5861</th>\n",
       "      <th>V5865</th>\n",
       "      <th>V5867</th>\n",
       "      <th>V600</th>\n",
       "      <th>V667</th>\n",
       "      <th>V8741</th>\n",
       "      <th>V8801</th>\n",
       "    </tr>\n",
       "    <tr>\n",
       "      <th>subject_id</th>\n",
       "      <th></th>\n",
       "      <th></th>\n",
       "      <th></th>\n",
       "      <th></th>\n",
       "      <th></th>\n",
       "      <th></th>\n",
       "      <th></th>\n",
       "      <th></th>\n",
       "      <th></th>\n",
       "      <th></th>\n",
       "      <th></th>\n",
       "      <th></th>\n",
       "      <th></th>\n",
       "      <th></th>\n",
       "      <th></th>\n",
       "      <th></th>\n",
       "      <th></th>\n",
       "      <th></th>\n",
       "      <th></th>\n",
       "      <th></th>\n",
       "      <th></th>\n",
       "      <th></th>\n",
       "      <th></th>\n",
       "      <th></th>\n",
       "      <th></th>\n",
       "      <th></th>\n",
       "      <th></th>\n",
       "      <th></th>\n",
       "      <th></th>\n",
       "      <th></th>\n",
       "      <th></th>\n",
       "      <th></th>\n",
       "      <th></th>\n",
       "      <th></th>\n",
       "      <th></th>\n",
       "      <th></th>\n",
       "      <th></th>\n",
       "      <th></th>\n",
       "      <th></th>\n",
       "      <th></th>\n",
       "      <th></th>\n",
       "      <th></th>\n",
       "      <th></th>\n",
       "      <th></th>\n",
       "      <th></th>\n",
       "      <th></th>\n",
       "      <th></th>\n",
       "      <th></th>\n",
       "      <th></th>\n",
       "      <th></th>\n",
       "      <th></th>\n",
       "      <th></th>\n",
       "      <th></th>\n",
       "      <th></th>\n",
       "      <th></th>\n",
       "      <th></th>\n",
       "      <th></th>\n",
       "      <th></th>\n",
       "      <th></th>\n",
       "      <th></th>\n",
       "      <th></th>\n",
       "      <th></th>\n",
       "      <th></th>\n",
       "      <th></th>\n",
       "      <th></th>\n",
       "      <th></th>\n",
       "      <th></th>\n",
       "      <th></th>\n",
       "      <th></th>\n",
       "      <th></th>\n",
       "      <th></th>\n",
       "      <th></th>\n",
       "      <th></th>\n",
       "      <th></th>\n",
       "      <th></th>\n",
       "      <th></th>\n",
       "      <th></th>\n",
       "      <th></th>\n",
       "      <th></th>\n",
       "      <th></th>\n",
       "      <th></th>\n",
       "    </tr>\n",
       "  </thead>\n",
       "  <tbody>\n",
       "    <tr>\n",
       "      <th>10006</th>\n",
       "      <td>0.0</td>\n",
       "      <td>0.0</td>\n",
       "      <td>0.0</td>\n",
       "      <td>0.0</td>\n",
       "      <td>1.0</td>\n",
       "      <td>0.0</td>\n",
       "      <td>0.0</td>\n",
       "      <td>0.0</td>\n",
       "      <td>0.0</td>\n",
       "      <td>0.0</td>\n",
       "      <td>0.0</td>\n",
       "      <td>0.0</td>\n",
       "      <td>0.0</td>\n",
       "      <td>0.0</td>\n",
       "      <td>0.0</td>\n",
       "      <td>0.0</td>\n",
       "      <td>0.0</td>\n",
       "      <td>0.0</td>\n",
       "      <td>0.0</td>\n",
       "      <td>0.0</td>\n",
       "      <td>0.0</td>\n",
       "      <td>0.0</td>\n",
       "      <td>0.0</td>\n",
       "      <td>0.0</td>\n",
       "      <td>0.0</td>\n",
       "      <td>0.0</td>\n",
       "      <td>0.0</td>\n",
       "      <td>0.0</td>\n",
       "      <td>0.0</td>\n",
       "      <td>0.0</td>\n",
       "      <td>0.0</td>\n",
       "      <td>0.0</td>\n",
       "      <td>0.0</td>\n",
       "      <td>0.0</td>\n",
       "      <td>0.0</td>\n",
       "      <td>0.0</td>\n",
       "      <td>0.0</td>\n",
       "      <td>0.0</td>\n",
       "      <td>0.0</td>\n",
       "      <td>0.0</td>\n",
       "      <td>...</td>\n",
       "      <td>0.0</td>\n",
       "      <td>0.0</td>\n",
       "      <td>0.0</td>\n",
       "      <td>0.0</td>\n",
       "      <td>0.0</td>\n",
       "      <td>0.0</td>\n",
       "      <td>0.0</td>\n",
       "      <td>0.0</td>\n",
       "      <td>0.0</td>\n",
       "      <td>0.0</td>\n",
       "      <td>0.0</td>\n",
       "      <td>0.0</td>\n",
       "      <td>0.0</td>\n",
       "      <td>0.0</td>\n",
       "      <td>0.0</td>\n",
       "      <td>0.0</td>\n",
       "      <td>0.0</td>\n",
       "      <td>0.0</td>\n",
       "      <td>0.0</td>\n",
       "      <td>0.0</td>\n",
       "      <td>0.0</td>\n",
       "      <td>0.0</td>\n",
       "      <td>0.0</td>\n",
       "      <td>0.0</td>\n",
       "      <td>0.0</td>\n",
       "      <td>0.0</td>\n",
       "      <td>0.0</td>\n",
       "      <td>0.0</td>\n",
       "      <td>0.0</td>\n",
       "      <td>0.0</td>\n",
       "      <td>0.0</td>\n",
       "      <td>0.0</td>\n",
       "      <td>0.0</td>\n",
       "      <td>0.0</td>\n",
       "      <td>0.0</td>\n",
       "      <td>1.0</td>\n",
       "      <td>0.0</td>\n",
       "      <td>0.0</td>\n",
       "      <td>0.0</td>\n",
       "      <td>0.0</td>\n",
       "    </tr>\n",
       "    <tr>\n",
       "      <th>10011</th>\n",
       "      <td>0.0</td>\n",
       "      <td>0.0</td>\n",
       "      <td>0.0</td>\n",
       "      <td>0.0</td>\n",
       "      <td>0.0</td>\n",
       "      <td>0.0</td>\n",
       "      <td>0.0</td>\n",
       "      <td>0.0</td>\n",
       "      <td>0.0</td>\n",
       "      <td>0.0</td>\n",
       "      <td>0.0</td>\n",
       "      <td>0.0</td>\n",
       "      <td>0.0</td>\n",
       "      <td>0.0</td>\n",
       "      <td>0.0</td>\n",
       "      <td>0.0</td>\n",
       "      <td>0.0</td>\n",
       "      <td>0.0</td>\n",
       "      <td>0.0</td>\n",
       "      <td>0.0</td>\n",
       "      <td>0.0</td>\n",
       "      <td>0.0</td>\n",
       "      <td>1.0</td>\n",
       "      <td>0.0</td>\n",
       "      <td>0.0</td>\n",
       "      <td>1.0</td>\n",
       "      <td>0.0</td>\n",
       "      <td>0.0</td>\n",
       "      <td>0.0</td>\n",
       "      <td>0.0</td>\n",
       "      <td>0.0</td>\n",
       "      <td>0.0</td>\n",
       "      <td>0.0</td>\n",
       "      <td>0.0</td>\n",
       "      <td>0.0</td>\n",
       "      <td>0.0</td>\n",
       "      <td>0.0</td>\n",
       "      <td>0.0</td>\n",
       "      <td>0.0</td>\n",
       "      <td>0.0</td>\n",
       "      <td>...</td>\n",
       "      <td>0.0</td>\n",
       "      <td>0.0</td>\n",
       "      <td>0.0</td>\n",
       "      <td>0.0</td>\n",
       "      <td>0.0</td>\n",
       "      <td>0.0</td>\n",
       "      <td>0.0</td>\n",
       "      <td>0.0</td>\n",
       "      <td>0.0</td>\n",
       "      <td>0.0</td>\n",
       "      <td>0.0</td>\n",
       "      <td>0.0</td>\n",
       "      <td>0.0</td>\n",
       "      <td>0.0</td>\n",
       "      <td>0.0</td>\n",
       "      <td>0.0</td>\n",
       "      <td>0.0</td>\n",
       "      <td>0.0</td>\n",
       "      <td>0.0</td>\n",
       "      <td>0.0</td>\n",
       "      <td>0.0</td>\n",
       "      <td>0.0</td>\n",
       "      <td>0.0</td>\n",
       "      <td>0.0</td>\n",
       "      <td>0.0</td>\n",
       "      <td>0.0</td>\n",
       "      <td>0.0</td>\n",
       "      <td>0.0</td>\n",
       "      <td>0.0</td>\n",
       "      <td>0.0</td>\n",
       "      <td>0.0</td>\n",
       "      <td>0.0</td>\n",
       "      <td>0.0</td>\n",
       "      <td>0.0</td>\n",
       "      <td>0.0</td>\n",
       "      <td>0.0</td>\n",
       "      <td>0.0</td>\n",
       "      <td>0.0</td>\n",
       "      <td>0.0</td>\n",
       "      <td>0.0</td>\n",
       "    </tr>\n",
       "    <tr>\n",
       "      <th>10013</th>\n",
       "      <td>0.0</td>\n",
       "      <td>0.0</td>\n",
       "      <td>0.0</td>\n",
       "      <td>0.0</td>\n",
       "      <td>0.0</td>\n",
       "      <td>0.0</td>\n",
       "      <td>0.0</td>\n",
       "      <td>0.0</td>\n",
       "      <td>0.0</td>\n",
       "      <td>0.0</td>\n",
       "      <td>0.0</td>\n",
       "      <td>1.0</td>\n",
       "      <td>0.0</td>\n",
       "      <td>0.0</td>\n",
       "      <td>0.0</td>\n",
       "      <td>0.0</td>\n",
       "      <td>0.0</td>\n",
       "      <td>0.0</td>\n",
       "      <td>0.0</td>\n",
       "      <td>0.0</td>\n",
       "      <td>0.0</td>\n",
       "      <td>0.0</td>\n",
       "      <td>0.0</td>\n",
       "      <td>0.0</td>\n",
       "      <td>0.0</td>\n",
       "      <td>0.0</td>\n",
       "      <td>0.0</td>\n",
       "      <td>0.0</td>\n",
       "      <td>0.0</td>\n",
       "      <td>0.0</td>\n",
       "      <td>0.0</td>\n",
       "      <td>0.0</td>\n",
       "      <td>0.0</td>\n",
       "      <td>0.0</td>\n",
       "      <td>0.0</td>\n",
       "      <td>0.0</td>\n",
       "      <td>0.0</td>\n",
       "      <td>0.0</td>\n",
       "      <td>0.0</td>\n",
       "      <td>0.0</td>\n",
       "      <td>...</td>\n",
       "      <td>0.0</td>\n",
       "      <td>0.0</td>\n",
       "      <td>0.0</td>\n",
       "      <td>0.0</td>\n",
       "      <td>0.0</td>\n",
       "      <td>0.0</td>\n",
       "      <td>0.0</td>\n",
       "      <td>0.0</td>\n",
       "      <td>0.0</td>\n",
       "      <td>0.0</td>\n",
       "      <td>0.0</td>\n",
       "      <td>0.0</td>\n",
       "      <td>0.0</td>\n",
       "      <td>0.0</td>\n",
       "      <td>0.0</td>\n",
       "      <td>0.0</td>\n",
       "      <td>0.0</td>\n",
       "      <td>0.0</td>\n",
       "      <td>0.0</td>\n",
       "      <td>0.0</td>\n",
       "      <td>0.0</td>\n",
       "      <td>0.0</td>\n",
       "      <td>0.0</td>\n",
       "      <td>0.0</td>\n",
       "      <td>0.0</td>\n",
       "      <td>0.0</td>\n",
       "      <td>0.0</td>\n",
       "      <td>0.0</td>\n",
       "      <td>0.0</td>\n",
       "      <td>0.0</td>\n",
       "      <td>0.0</td>\n",
       "      <td>0.0</td>\n",
       "      <td>0.0</td>\n",
       "      <td>0.0</td>\n",
       "      <td>0.0</td>\n",
       "      <td>0.0</td>\n",
       "      <td>0.0</td>\n",
       "      <td>0.0</td>\n",
       "      <td>0.0</td>\n",
       "      <td>0.0</td>\n",
       "    </tr>\n",
       "    <tr>\n",
       "      <th>10017</th>\n",
       "      <td>0.0</td>\n",
       "      <td>0.0</td>\n",
       "      <td>0.0</td>\n",
       "      <td>0.0</td>\n",
       "      <td>0.0</td>\n",
       "      <td>0.0</td>\n",
       "      <td>0.0</td>\n",
       "      <td>0.0</td>\n",
       "      <td>0.0</td>\n",
       "      <td>0.0</td>\n",
       "      <td>0.0</td>\n",
       "      <td>0.0</td>\n",
       "      <td>0.0</td>\n",
       "      <td>0.0</td>\n",
       "      <td>0.0</td>\n",
       "      <td>0.0</td>\n",
       "      <td>0.0</td>\n",
       "      <td>0.0</td>\n",
       "      <td>0.0</td>\n",
       "      <td>0.0</td>\n",
       "      <td>0.0</td>\n",
       "      <td>0.0</td>\n",
       "      <td>0.0</td>\n",
       "      <td>0.0</td>\n",
       "      <td>0.0</td>\n",
       "      <td>0.0</td>\n",
       "      <td>0.0</td>\n",
       "      <td>0.0</td>\n",
       "      <td>0.0</td>\n",
       "      <td>0.0</td>\n",
       "      <td>0.0</td>\n",
       "      <td>0.0</td>\n",
       "      <td>0.0</td>\n",
       "      <td>0.0</td>\n",
       "      <td>0.0</td>\n",
       "      <td>0.0</td>\n",
       "      <td>0.0</td>\n",
       "      <td>0.0</td>\n",
       "      <td>0.0</td>\n",
       "      <td>0.0</td>\n",
       "      <td>...</td>\n",
       "      <td>0.0</td>\n",
       "      <td>0.0</td>\n",
       "      <td>0.0</td>\n",
       "      <td>0.0</td>\n",
       "      <td>0.0</td>\n",
       "      <td>0.0</td>\n",
       "      <td>0.0</td>\n",
       "      <td>0.0</td>\n",
       "      <td>0.0</td>\n",
       "      <td>0.0</td>\n",
       "      <td>0.0</td>\n",
       "      <td>0.0</td>\n",
       "      <td>0.0</td>\n",
       "      <td>0.0</td>\n",
       "      <td>0.0</td>\n",
       "      <td>0.0</td>\n",
       "      <td>0.0</td>\n",
       "      <td>0.0</td>\n",
       "      <td>0.0</td>\n",
       "      <td>0.0</td>\n",
       "      <td>0.0</td>\n",
       "      <td>0.0</td>\n",
       "      <td>0.0</td>\n",
       "      <td>0.0</td>\n",
       "      <td>0.0</td>\n",
       "      <td>0.0</td>\n",
       "      <td>0.0</td>\n",
       "      <td>0.0</td>\n",
       "      <td>0.0</td>\n",
       "      <td>0.0</td>\n",
       "      <td>0.0</td>\n",
       "      <td>0.0</td>\n",
       "      <td>0.0</td>\n",
       "      <td>0.0</td>\n",
       "      <td>0.0</td>\n",
       "      <td>0.0</td>\n",
       "      <td>0.0</td>\n",
       "      <td>0.0</td>\n",
       "      <td>0.0</td>\n",
       "      <td>0.0</td>\n",
       "    </tr>\n",
       "    <tr>\n",
       "      <th>10019</th>\n",
       "      <td>0.0</td>\n",
       "      <td>0.0</td>\n",
       "      <td>0.0</td>\n",
       "      <td>0.0</td>\n",
       "      <td>0.0</td>\n",
       "      <td>0.0</td>\n",
       "      <td>0.0</td>\n",
       "      <td>0.0</td>\n",
       "      <td>0.0</td>\n",
       "      <td>0.0</td>\n",
       "      <td>0.0</td>\n",
       "      <td>1.0</td>\n",
       "      <td>0.0</td>\n",
       "      <td>0.0</td>\n",
       "      <td>0.0</td>\n",
       "      <td>0.0</td>\n",
       "      <td>0.0</td>\n",
       "      <td>0.0</td>\n",
       "      <td>0.0</td>\n",
       "      <td>0.0</td>\n",
       "      <td>0.0</td>\n",
       "      <td>0.0</td>\n",
       "      <td>0.0</td>\n",
       "      <td>0.0</td>\n",
       "      <td>0.0</td>\n",
       "      <td>0.0</td>\n",
       "      <td>0.0</td>\n",
       "      <td>0.0</td>\n",
       "      <td>0.0</td>\n",
       "      <td>0.0</td>\n",
       "      <td>0.0</td>\n",
       "      <td>0.0</td>\n",
       "      <td>0.0</td>\n",
       "      <td>0.0</td>\n",
       "      <td>0.0</td>\n",
       "      <td>0.0</td>\n",
       "      <td>0.0</td>\n",
       "      <td>0.0</td>\n",
       "      <td>0.0</td>\n",
       "      <td>0.0</td>\n",
       "      <td>...</td>\n",
       "      <td>0.0</td>\n",
       "      <td>0.0</td>\n",
       "      <td>0.0</td>\n",
       "      <td>0.0</td>\n",
       "      <td>0.0</td>\n",
       "      <td>0.0</td>\n",
       "      <td>0.0</td>\n",
       "      <td>0.0</td>\n",
       "      <td>0.0</td>\n",
       "      <td>0.0</td>\n",
       "      <td>0.0</td>\n",
       "      <td>0.0</td>\n",
       "      <td>0.0</td>\n",
       "      <td>0.0</td>\n",
       "      <td>0.0</td>\n",
       "      <td>0.0</td>\n",
       "      <td>0.0</td>\n",
       "      <td>0.0</td>\n",
       "      <td>0.0</td>\n",
       "      <td>0.0</td>\n",
       "      <td>0.0</td>\n",
       "      <td>0.0</td>\n",
       "      <td>0.0</td>\n",
       "      <td>0.0</td>\n",
       "      <td>0.0</td>\n",
       "      <td>0.0</td>\n",
       "      <td>0.0</td>\n",
       "      <td>0.0</td>\n",
       "      <td>0.0</td>\n",
       "      <td>0.0</td>\n",
       "      <td>0.0</td>\n",
       "      <td>0.0</td>\n",
       "      <td>0.0</td>\n",
       "      <td>0.0</td>\n",
       "      <td>0.0</td>\n",
       "      <td>0.0</td>\n",
       "      <td>0.0</td>\n",
       "      <td>0.0</td>\n",
       "      <td>0.0</td>\n",
       "      <td>0.0</td>\n",
       "    </tr>\n",
       "    <tr>\n",
       "      <th>...</th>\n",
       "      <td>...</td>\n",
       "      <td>...</td>\n",
       "      <td>...</td>\n",
       "      <td>...</td>\n",
       "      <td>...</td>\n",
       "      <td>...</td>\n",
       "      <td>...</td>\n",
       "      <td>...</td>\n",
       "      <td>...</td>\n",
       "      <td>...</td>\n",
       "      <td>...</td>\n",
       "      <td>...</td>\n",
       "      <td>...</td>\n",
       "      <td>...</td>\n",
       "      <td>...</td>\n",
       "      <td>...</td>\n",
       "      <td>...</td>\n",
       "      <td>...</td>\n",
       "      <td>...</td>\n",
       "      <td>...</td>\n",
       "      <td>...</td>\n",
       "      <td>...</td>\n",
       "      <td>...</td>\n",
       "      <td>...</td>\n",
       "      <td>...</td>\n",
       "      <td>...</td>\n",
       "      <td>...</td>\n",
       "      <td>...</td>\n",
       "      <td>...</td>\n",
       "      <td>...</td>\n",
       "      <td>...</td>\n",
       "      <td>...</td>\n",
       "      <td>...</td>\n",
       "      <td>...</td>\n",
       "      <td>...</td>\n",
       "      <td>...</td>\n",
       "      <td>...</td>\n",
       "      <td>...</td>\n",
       "      <td>...</td>\n",
       "      <td>...</td>\n",
       "      <td>...</td>\n",
       "      <td>...</td>\n",
       "      <td>...</td>\n",
       "      <td>...</td>\n",
       "      <td>...</td>\n",
       "      <td>...</td>\n",
       "      <td>...</td>\n",
       "      <td>...</td>\n",
       "      <td>...</td>\n",
       "      <td>...</td>\n",
       "      <td>...</td>\n",
       "      <td>...</td>\n",
       "      <td>...</td>\n",
       "      <td>...</td>\n",
       "      <td>...</td>\n",
       "      <td>...</td>\n",
       "      <td>...</td>\n",
       "      <td>...</td>\n",
       "      <td>...</td>\n",
       "      <td>...</td>\n",
       "      <td>...</td>\n",
       "      <td>...</td>\n",
       "      <td>...</td>\n",
       "      <td>...</td>\n",
       "      <td>...</td>\n",
       "      <td>...</td>\n",
       "      <td>...</td>\n",
       "      <td>...</td>\n",
       "      <td>...</td>\n",
       "      <td>...</td>\n",
       "      <td>...</td>\n",
       "      <td>...</td>\n",
       "      <td>...</td>\n",
       "      <td>...</td>\n",
       "      <td>...</td>\n",
       "      <td>...</td>\n",
       "      <td>...</td>\n",
       "      <td>...</td>\n",
       "      <td>...</td>\n",
       "      <td>...</td>\n",
       "      <td>...</td>\n",
       "    </tr>\n",
       "    <tr>\n",
       "      <th>44083</th>\n",
       "      <td>0.0</td>\n",
       "      <td>0.0</td>\n",
       "      <td>0.0</td>\n",
       "      <td>0.0</td>\n",
       "      <td>0.0</td>\n",
       "      <td>0.0</td>\n",
       "      <td>0.0</td>\n",
       "      <td>0.0</td>\n",
       "      <td>0.0</td>\n",
       "      <td>0.0</td>\n",
       "      <td>0.0</td>\n",
       "      <td>0.0</td>\n",
       "      <td>0.0</td>\n",
       "      <td>0.0</td>\n",
       "      <td>0.0</td>\n",
       "      <td>0.0</td>\n",
       "      <td>0.0</td>\n",
       "      <td>0.0</td>\n",
       "      <td>0.0</td>\n",
       "      <td>0.0</td>\n",
       "      <td>0.0</td>\n",
       "      <td>0.0</td>\n",
       "      <td>0.0</td>\n",
       "      <td>0.0</td>\n",
       "      <td>0.0</td>\n",
       "      <td>0.0</td>\n",
       "      <td>0.0</td>\n",
       "      <td>0.0</td>\n",
       "      <td>0.0</td>\n",
       "      <td>0.0</td>\n",
       "      <td>0.0</td>\n",
       "      <td>0.0</td>\n",
       "      <td>1.0</td>\n",
       "      <td>0.0</td>\n",
       "      <td>0.0</td>\n",
       "      <td>0.0</td>\n",
       "      <td>0.0</td>\n",
       "      <td>0.0</td>\n",
       "      <td>0.0</td>\n",
       "      <td>0.0</td>\n",
       "      <td>...</td>\n",
       "      <td>0.0</td>\n",
       "      <td>0.0</td>\n",
       "      <td>0.0</td>\n",
       "      <td>0.0</td>\n",
       "      <td>0.0</td>\n",
       "      <td>0.0</td>\n",
       "      <td>0.0</td>\n",
       "      <td>0.0</td>\n",
       "      <td>0.0</td>\n",
       "      <td>0.0</td>\n",
       "      <td>0.0</td>\n",
       "      <td>0.0</td>\n",
       "      <td>0.0</td>\n",
       "      <td>0.0</td>\n",
       "      <td>0.0</td>\n",
       "      <td>0.0</td>\n",
       "      <td>0.0</td>\n",
       "      <td>0.0</td>\n",
       "      <td>0.0</td>\n",
       "      <td>0.0</td>\n",
       "      <td>0.0</td>\n",
       "      <td>0.0</td>\n",
       "      <td>0.0</td>\n",
       "      <td>0.0</td>\n",
       "      <td>0.0</td>\n",
       "      <td>0.0</td>\n",
       "      <td>0.0</td>\n",
       "      <td>0.0</td>\n",
       "      <td>0.0</td>\n",
       "      <td>0.0</td>\n",
       "      <td>0.0</td>\n",
       "      <td>0.0</td>\n",
       "      <td>0.0</td>\n",
       "      <td>0.0</td>\n",
       "      <td>0.0</td>\n",
       "      <td>0.0</td>\n",
       "      <td>0.0</td>\n",
       "      <td>0.0</td>\n",
       "      <td>0.0</td>\n",
       "      <td>0.0</td>\n",
       "    </tr>\n",
       "    <tr>\n",
       "      <th>44154</th>\n",
       "      <td>0.0</td>\n",
       "      <td>0.0</td>\n",
       "      <td>0.0</td>\n",
       "      <td>0.0</td>\n",
       "      <td>0.0</td>\n",
       "      <td>0.0</td>\n",
       "      <td>0.0</td>\n",
       "      <td>0.0</td>\n",
       "      <td>0.0</td>\n",
       "      <td>0.0</td>\n",
       "      <td>0.0</td>\n",
       "      <td>1.0</td>\n",
       "      <td>0.0</td>\n",
       "      <td>0.0</td>\n",
       "      <td>0.0</td>\n",
       "      <td>0.0</td>\n",
       "      <td>0.0</td>\n",
       "      <td>0.0</td>\n",
       "      <td>0.0</td>\n",
       "      <td>0.0</td>\n",
       "      <td>0.0</td>\n",
       "      <td>0.0</td>\n",
       "      <td>0.0</td>\n",
       "      <td>0.0</td>\n",
       "      <td>0.0</td>\n",
       "      <td>0.0</td>\n",
       "      <td>0.0</td>\n",
       "      <td>0.0</td>\n",
       "      <td>0.0</td>\n",
       "      <td>0.0</td>\n",
       "      <td>0.0</td>\n",
       "      <td>0.0</td>\n",
       "      <td>0.0</td>\n",
       "      <td>0.0</td>\n",
       "      <td>0.0</td>\n",
       "      <td>0.0</td>\n",
       "      <td>0.0</td>\n",
       "      <td>0.0</td>\n",
       "      <td>0.0</td>\n",
       "      <td>0.0</td>\n",
       "      <td>...</td>\n",
       "      <td>0.0</td>\n",
       "      <td>0.0</td>\n",
       "      <td>0.0</td>\n",
       "      <td>0.0</td>\n",
       "      <td>0.0</td>\n",
       "      <td>0.0</td>\n",
       "      <td>0.0</td>\n",
       "      <td>0.0</td>\n",
       "      <td>0.0</td>\n",
       "      <td>0.0</td>\n",
       "      <td>0.0</td>\n",
       "      <td>0.0</td>\n",
       "      <td>0.0</td>\n",
       "      <td>0.0</td>\n",
       "      <td>0.0</td>\n",
       "      <td>0.0</td>\n",
       "      <td>0.0</td>\n",
       "      <td>0.0</td>\n",
       "      <td>0.0</td>\n",
       "      <td>0.0</td>\n",
       "      <td>0.0</td>\n",
       "      <td>0.0</td>\n",
       "      <td>0.0</td>\n",
       "      <td>0.0</td>\n",
       "      <td>0.0</td>\n",
       "      <td>0.0</td>\n",
       "      <td>0.0</td>\n",
       "      <td>0.0</td>\n",
       "      <td>0.0</td>\n",
       "      <td>0.0</td>\n",
       "      <td>0.0</td>\n",
       "      <td>0.0</td>\n",
       "      <td>0.0</td>\n",
       "      <td>0.0</td>\n",
       "      <td>0.0</td>\n",
       "      <td>0.0</td>\n",
       "      <td>0.0</td>\n",
       "      <td>0.0</td>\n",
       "      <td>0.0</td>\n",
       "      <td>0.0</td>\n",
       "    </tr>\n",
       "    <tr>\n",
       "      <th>44212</th>\n",
       "      <td>0.0</td>\n",
       "      <td>0.0</td>\n",
       "      <td>1.0</td>\n",
       "      <td>0.0</td>\n",
       "      <td>0.0</td>\n",
       "      <td>0.0</td>\n",
       "      <td>0.0</td>\n",
       "      <td>0.0</td>\n",
       "      <td>0.0</td>\n",
       "      <td>0.0</td>\n",
       "      <td>0.0</td>\n",
       "      <td>0.0</td>\n",
       "      <td>0.0</td>\n",
       "      <td>0.0</td>\n",
       "      <td>0.0</td>\n",
       "      <td>0.0</td>\n",
       "      <td>0.0</td>\n",
       "      <td>1.0</td>\n",
       "      <td>0.0</td>\n",
       "      <td>0.0</td>\n",
       "      <td>0.0</td>\n",
       "      <td>0.0</td>\n",
       "      <td>0.0</td>\n",
       "      <td>0.0</td>\n",
       "      <td>0.0</td>\n",
       "      <td>0.0</td>\n",
       "      <td>0.0</td>\n",
       "      <td>0.0</td>\n",
       "      <td>0.0</td>\n",
       "      <td>0.0</td>\n",
       "      <td>0.0</td>\n",
       "      <td>0.0</td>\n",
       "      <td>0.0</td>\n",
       "      <td>0.0</td>\n",
       "      <td>0.0</td>\n",
       "      <td>0.0</td>\n",
       "      <td>0.0</td>\n",
       "      <td>0.0</td>\n",
       "      <td>0.0</td>\n",
       "      <td>0.0</td>\n",
       "      <td>...</td>\n",
       "      <td>0.0</td>\n",
       "      <td>0.0</td>\n",
       "      <td>0.0</td>\n",
       "      <td>0.0</td>\n",
       "      <td>0.0</td>\n",
       "      <td>0.0</td>\n",
       "      <td>0.0</td>\n",
       "      <td>0.0</td>\n",
       "      <td>0.0</td>\n",
       "      <td>0.0</td>\n",
       "      <td>0.0</td>\n",
       "      <td>0.0</td>\n",
       "      <td>0.0</td>\n",
       "      <td>0.0</td>\n",
       "      <td>0.0</td>\n",
       "      <td>0.0</td>\n",
       "      <td>0.0</td>\n",
       "      <td>0.0</td>\n",
       "      <td>0.0</td>\n",
       "      <td>0.0</td>\n",
       "      <td>0.0</td>\n",
       "      <td>0.0</td>\n",
       "      <td>0.0</td>\n",
       "      <td>0.0</td>\n",
       "      <td>0.0</td>\n",
       "      <td>0.0</td>\n",
       "      <td>0.0</td>\n",
       "      <td>0.0</td>\n",
       "      <td>0.0</td>\n",
       "      <td>0.0</td>\n",
       "      <td>0.0</td>\n",
       "      <td>0.0</td>\n",
       "      <td>0.0</td>\n",
       "      <td>0.0</td>\n",
       "      <td>0.0</td>\n",
       "      <td>0.0</td>\n",
       "      <td>0.0</td>\n",
       "      <td>0.0</td>\n",
       "      <td>0.0</td>\n",
       "      <td>0.0</td>\n",
       "    </tr>\n",
       "    <tr>\n",
       "      <th>44222</th>\n",
       "      <td>0.0</td>\n",
       "      <td>0.0</td>\n",
       "      <td>0.0</td>\n",
       "      <td>0.0</td>\n",
       "      <td>0.0</td>\n",
       "      <td>0.0</td>\n",
       "      <td>0.0</td>\n",
       "      <td>0.0</td>\n",
       "      <td>0.0</td>\n",
       "      <td>0.0</td>\n",
       "      <td>0.0</td>\n",
       "      <td>0.0</td>\n",
       "      <td>0.0</td>\n",
       "      <td>0.0</td>\n",
       "      <td>0.0</td>\n",
       "      <td>0.0</td>\n",
       "      <td>0.0</td>\n",
       "      <td>0.0</td>\n",
       "      <td>0.0</td>\n",
       "      <td>0.0</td>\n",
       "      <td>0.0</td>\n",
       "      <td>0.0</td>\n",
       "      <td>0.0</td>\n",
       "      <td>0.0</td>\n",
       "      <td>0.0</td>\n",
       "      <td>0.0</td>\n",
       "      <td>0.0</td>\n",
       "      <td>0.0</td>\n",
       "      <td>0.0</td>\n",
       "      <td>0.0</td>\n",
       "      <td>0.0</td>\n",
       "      <td>0.0</td>\n",
       "      <td>0.0</td>\n",
       "      <td>0.0</td>\n",
       "      <td>0.0</td>\n",
       "      <td>0.0</td>\n",
       "      <td>0.0</td>\n",
       "      <td>0.0</td>\n",
       "      <td>0.0</td>\n",
       "      <td>0.0</td>\n",
       "      <td>...</td>\n",
       "      <td>0.0</td>\n",
       "      <td>0.0</td>\n",
       "      <td>0.0</td>\n",
       "      <td>0.0</td>\n",
       "      <td>0.0</td>\n",
       "      <td>0.0</td>\n",
       "      <td>0.0</td>\n",
       "      <td>0.0</td>\n",
       "      <td>0.0</td>\n",
       "      <td>0.0</td>\n",
       "      <td>0.0</td>\n",
       "      <td>0.0</td>\n",
       "      <td>0.0</td>\n",
       "      <td>0.0</td>\n",
       "      <td>0.0</td>\n",
       "      <td>0.0</td>\n",
       "      <td>0.0</td>\n",
       "      <td>0.0</td>\n",
       "      <td>0.0</td>\n",
       "      <td>0.0</td>\n",
       "      <td>0.0</td>\n",
       "      <td>0.0</td>\n",
       "      <td>0.0</td>\n",
       "      <td>0.0</td>\n",
       "      <td>0.0</td>\n",
       "      <td>0.0</td>\n",
       "      <td>0.0</td>\n",
       "      <td>0.0</td>\n",
       "      <td>0.0</td>\n",
       "      <td>0.0</td>\n",
       "      <td>0.0</td>\n",
       "      <td>0.0</td>\n",
       "      <td>0.0</td>\n",
       "      <td>0.0</td>\n",
       "      <td>0.0</td>\n",
       "      <td>0.0</td>\n",
       "      <td>0.0</td>\n",
       "      <td>0.0</td>\n",
       "      <td>0.0</td>\n",
       "      <td>0.0</td>\n",
       "    </tr>\n",
       "    <tr>\n",
       "      <th>44228</th>\n",
       "      <td>1.0</td>\n",
       "      <td>0.0</td>\n",
       "      <td>0.0</td>\n",
       "      <td>0.0</td>\n",
       "      <td>0.0</td>\n",
       "      <td>0.0</td>\n",
       "      <td>0.0</td>\n",
       "      <td>1.0</td>\n",
       "      <td>0.0</td>\n",
       "      <td>0.0</td>\n",
       "      <td>0.0</td>\n",
       "      <td>0.0</td>\n",
       "      <td>0.0</td>\n",
       "      <td>0.0</td>\n",
       "      <td>0.0</td>\n",
       "      <td>0.0</td>\n",
       "      <td>0.0</td>\n",
       "      <td>0.0</td>\n",
       "      <td>0.0</td>\n",
       "      <td>0.0</td>\n",
       "      <td>0.0</td>\n",
       "      <td>0.0</td>\n",
       "      <td>0.0</td>\n",
       "      <td>0.0</td>\n",
       "      <td>0.0</td>\n",
       "      <td>0.0</td>\n",
       "      <td>0.0</td>\n",
       "      <td>0.0</td>\n",
       "      <td>0.0</td>\n",
       "      <td>0.0</td>\n",
       "      <td>0.0</td>\n",
       "      <td>0.0</td>\n",
       "      <td>0.0</td>\n",
       "      <td>0.0</td>\n",
       "      <td>0.0</td>\n",
       "      <td>1.0</td>\n",
       "      <td>0.0</td>\n",
       "      <td>0.0</td>\n",
       "      <td>0.0</td>\n",
       "      <td>0.0</td>\n",
       "      <td>...</td>\n",
       "      <td>0.0</td>\n",
       "      <td>0.0</td>\n",
       "      <td>0.0</td>\n",
       "      <td>0.0</td>\n",
       "      <td>0.0</td>\n",
       "      <td>0.0</td>\n",
       "      <td>0.0</td>\n",
       "      <td>0.0</td>\n",
       "      <td>0.0</td>\n",
       "      <td>0.0</td>\n",
       "      <td>0.0</td>\n",
       "      <td>0.0</td>\n",
       "      <td>0.0</td>\n",
       "      <td>0.0</td>\n",
       "      <td>0.0</td>\n",
       "      <td>0.0</td>\n",
       "      <td>0.0</td>\n",
       "      <td>0.0</td>\n",
       "      <td>0.0</td>\n",
       "      <td>0.0</td>\n",
       "      <td>0.0</td>\n",
       "      <td>0.0</td>\n",
       "      <td>0.0</td>\n",
       "      <td>0.0</td>\n",
       "      <td>0.0</td>\n",
       "      <td>0.0</td>\n",
       "      <td>0.0</td>\n",
       "      <td>0.0</td>\n",
       "      <td>0.0</td>\n",
       "      <td>0.0</td>\n",
       "      <td>0.0</td>\n",
       "      <td>0.0</td>\n",
       "      <td>0.0</td>\n",
       "      <td>0.0</td>\n",
       "      <td>0.0</td>\n",
       "      <td>0.0</td>\n",
       "      <td>0.0</td>\n",
       "      <td>0.0</td>\n",
       "      <td>0.0</td>\n",
       "      <td>0.0</td>\n",
       "    </tr>\n",
       "  </tbody>\n",
       "</table>\n",
       "<p>100 rows × 581 columns</p>\n",
       "</div>"
      ],
      "text/plain": [
       "icd9_code   00845  0380  03811  03812  03819  ...  V5867  V600  V667  V8741  V8801\n",
       "subject_id                                    ...                                 \n",
       "10006         0.0   0.0    0.0    0.0    1.0  ...    1.0   0.0   0.0    0.0    0.0\n",
       "10011         0.0   0.0    0.0    0.0    0.0  ...    0.0   0.0   0.0    0.0    0.0\n",
       "10013         0.0   0.0    0.0    0.0    0.0  ...    0.0   0.0   0.0    0.0    0.0\n",
       "10017         0.0   0.0    0.0    0.0    0.0  ...    0.0   0.0   0.0    0.0    0.0\n",
       "10019         0.0   0.0    0.0    0.0    0.0  ...    0.0   0.0   0.0    0.0    0.0\n",
       "...           ...   ...    ...    ...    ...  ...    ...   ...   ...    ...    ...\n",
       "44083         0.0   0.0    0.0    0.0    0.0  ...    0.0   0.0   0.0    0.0    0.0\n",
       "44154         0.0   0.0    0.0    0.0    0.0  ...    0.0   0.0   0.0    0.0    0.0\n",
       "44212         0.0   0.0    1.0    0.0    0.0  ...    0.0   0.0   0.0    0.0    0.0\n",
       "44222         0.0   0.0    0.0    0.0    0.0  ...    0.0   0.0   0.0    0.0    0.0\n",
       "44228         1.0   0.0    0.0    0.0    0.0  ...    0.0   0.0   0.0    0.0    0.0\n",
       "\n",
       "[100 rows x 581 columns]"
      ]
     },
     "execution_count": 172,
     "metadata": {
      "tags": []
     },
     "output_type": "execute_result"
    }
   ],
   "source": [
    "pd.pivot_table(diagnoses_grouped, \n",
    "               index = [\"subject_id\"], \n",
    "               columns = \"icd9_code\", values = \"icd9_count\").fillna(0)"
   ]
  },
  {
   "cell_type": "code",
   "execution_count": null,
   "metadata": {
    "colab": {},
    "colab_type": "code",
    "id": "YPFBfoUzRSus"
   },
   "outputs": [],
   "source": [
    "diagnoses_features = pd.pivot_table(diagnoses_grouped, \n",
    "               index = [\"subject_id\"], \n",
    "               columns = \"icd9_code\", values = \"icd9_count\").fillna(0).reset_index()"
   ]
  },
  {
   "cell_type": "code",
   "execution_count": null,
   "metadata": {
    "colab": {
     "base_uri": "https://localhost:8080/",
     "height": 246
    },
    "colab_type": "code",
    "executionInfo": {
     "elapsed": 371,
     "status": "ok",
     "timestamp": 1599762473998,
     "user": {
      "displayName": "Samir Gupta",
      "photoUrl": "",
      "userId": "08477919997854778705"
     },
     "user_tz": 240
    },
    "id": "4T66XcBNRgBl",
    "outputId": "c4123422-21d2-49f2-acbf-7b09dce9dea6"
   },
   "outputs": [
    {
     "data": {
      "text/html": [
       "<div>\n",
       "<style scoped>\n",
       "    .dataframe tbody tr th:only-of-type {\n",
       "        vertical-align: middle;\n",
       "    }\n",
       "\n",
       "    .dataframe tbody tr th {\n",
       "        vertical-align: top;\n",
       "    }\n",
       "\n",
       "    .dataframe thead th {\n",
       "        text-align: right;\n",
       "    }\n",
       "</style>\n",
       "<table border=\"1\" class=\"dataframe\">\n",
       "  <thead>\n",
       "    <tr style=\"text-align: right;\">\n",
       "      <th>icd9_code</th>\n",
       "      <th>subject_id</th>\n",
       "      <th>00845</th>\n",
       "      <th>0380</th>\n",
       "      <th>03811</th>\n",
       "      <th>03812</th>\n",
       "      <th>03819</th>\n",
       "      <th>0383</th>\n",
       "      <th>03840</th>\n",
       "      <th>03842</th>\n",
       "      <th>03843</th>\n",
       "      <th>03849</th>\n",
       "      <th>0388</th>\n",
       "      <th>0389</th>\n",
       "      <th>04102</th>\n",
       "      <th>04104</th>\n",
       "      <th>04111</th>\n",
       "      <th>04112</th>\n",
       "      <th>0413</th>\n",
       "      <th>0414</th>\n",
       "      <th>0416</th>\n",
       "      <th>0417</th>\n",
       "      <th>04182</th>\n",
       "      <th>0543</th>\n",
       "      <th>07030</th>\n",
       "      <th>07032</th>\n",
       "      <th>07044</th>\n",
       "      <th>07054</th>\n",
       "      <th>07070</th>\n",
       "      <th>1120</th>\n",
       "      <th>1122</th>\n",
       "      <th>1124</th>\n",
       "      <th>1179</th>\n",
       "      <th>1508</th>\n",
       "      <th>1510</th>\n",
       "      <th>1539</th>\n",
       "      <th>1541</th>\n",
       "      <th>1561</th>\n",
       "      <th>1570</th>\n",
       "      <th>1622</th>\n",
       "      <th>1623</th>\n",
       "      <th>...</th>\n",
       "      <th>V1301</th>\n",
       "      <th>V1302</th>\n",
       "      <th>V153</th>\n",
       "      <th>V1581</th>\n",
       "      <th>V1582</th>\n",
       "      <th>V1588</th>\n",
       "      <th>V420</th>\n",
       "      <th>V425</th>\n",
       "      <th>V4281</th>\n",
       "      <th>V433</th>\n",
       "      <th>V440</th>\n",
       "      <th>V441</th>\n",
       "      <th>V442</th>\n",
       "      <th>V444</th>\n",
       "      <th>V446</th>\n",
       "      <th>V4501</th>\n",
       "      <th>V4502</th>\n",
       "      <th>V4511</th>\n",
       "      <th>V452</th>\n",
       "      <th>V4571</th>\n",
       "      <th>V4572</th>\n",
       "      <th>V4581</th>\n",
       "      <th>V4582</th>\n",
       "      <th>V4611</th>\n",
       "      <th>V462</th>\n",
       "      <th>V4983</th>\n",
       "      <th>V4984</th>\n",
       "      <th>V4986</th>\n",
       "      <th>V5411</th>\n",
       "      <th>V5413</th>\n",
       "      <th>V5419</th>\n",
       "      <th>V550</th>\n",
       "      <th>V551</th>\n",
       "      <th>V5861</th>\n",
       "      <th>V5865</th>\n",
       "      <th>V5867</th>\n",
       "      <th>V600</th>\n",
       "      <th>V667</th>\n",
       "      <th>V8741</th>\n",
       "      <th>V8801</th>\n",
       "    </tr>\n",
       "  </thead>\n",
       "  <tbody>\n",
       "    <tr>\n",
       "      <th>0</th>\n",
       "      <td>10006</td>\n",
       "      <td>0.0</td>\n",
       "      <td>0.0</td>\n",
       "      <td>0.0</td>\n",
       "      <td>0.0</td>\n",
       "      <td>1.0</td>\n",
       "      <td>0.0</td>\n",
       "      <td>0.0</td>\n",
       "      <td>0.0</td>\n",
       "      <td>0.0</td>\n",
       "      <td>0.0</td>\n",
       "      <td>0.0</td>\n",
       "      <td>0.0</td>\n",
       "      <td>0.0</td>\n",
       "      <td>0.0</td>\n",
       "      <td>0.0</td>\n",
       "      <td>0.0</td>\n",
       "      <td>0.0</td>\n",
       "      <td>0.0</td>\n",
       "      <td>0.0</td>\n",
       "      <td>0.0</td>\n",
       "      <td>0.0</td>\n",
       "      <td>0.0</td>\n",
       "      <td>0.0</td>\n",
       "      <td>0.0</td>\n",
       "      <td>0.0</td>\n",
       "      <td>0.0</td>\n",
       "      <td>0.0</td>\n",
       "      <td>0.0</td>\n",
       "      <td>0.0</td>\n",
       "      <td>0.0</td>\n",
       "      <td>0.0</td>\n",
       "      <td>0.0</td>\n",
       "      <td>0.0</td>\n",
       "      <td>0.0</td>\n",
       "      <td>0.0</td>\n",
       "      <td>0.0</td>\n",
       "      <td>0.0</td>\n",
       "      <td>0.0</td>\n",
       "      <td>0.0</td>\n",
       "      <td>...</td>\n",
       "      <td>0.0</td>\n",
       "      <td>0.0</td>\n",
       "      <td>0.0</td>\n",
       "      <td>0.0</td>\n",
       "      <td>0.0</td>\n",
       "      <td>0.0</td>\n",
       "      <td>0.0</td>\n",
       "      <td>0.0</td>\n",
       "      <td>0.0</td>\n",
       "      <td>0.0</td>\n",
       "      <td>0.0</td>\n",
       "      <td>0.0</td>\n",
       "      <td>0.0</td>\n",
       "      <td>0.0</td>\n",
       "      <td>0.0</td>\n",
       "      <td>0.0</td>\n",
       "      <td>0.0</td>\n",
       "      <td>0.0</td>\n",
       "      <td>0.0</td>\n",
       "      <td>0.0</td>\n",
       "      <td>0.0</td>\n",
       "      <td>0.0</td>\n",
       "      <td>0.0</td>\n",
       "      <td>0.0</td>\n",
       "      <td>0.0</td>\n",
       "      <td>0.0</td>\n",
       "      <td>0.0</td>\n",
       "      <td>0.0</td>\n",
       "      <td>0.0</td>\n",
       "      <td>0.0</td>\n",
       "      <td>0.0</td>\n",
       "      <td>0.0</td>\n",
       "      <td>0.0</td>\n",
       "      <td>0.0</td>\n",
       "      <td>0.0</td>\n",
       "      <td>1.0</td>\n",
       "      <td>0.0</td>\n",
       "      <td>0.0</td>\n",
       "      <td>0.0</td>\n",
       "      <td>0.0</td>\n",
       "    </tr>\n",
       "    <tr>\n",
       "      <th>1</th>\n",
       "      <td>10011</td>\n",
       "      <td>0.0</td>\n",
       "      <td>0.0</td>\n",
       "      <td>0.0</td>\n",
       "      <td>0.0</td>\n",
       "      <td>0.0</td>\n",
       "      <td>0.0</td>\n",
       "      <td>0.0</td>\n",
       "      <td>0.0</td>\n",
       "      <td>0.0</td>\n",
       "      <td>0.0</td>\n",
       "      <td>0.0</td>\n",
       "      <td>0.0</td>\n",
       "      <td>0.0</td>\n",
       "      <td>0.0</td>\n",
       "      <td>0.0</td>\n",
       "      <td>0.0</td>\n",
       "      <td>0.0</td>\n",
       "      <td>0.0</td>\n",
       "      <td>0.0</td>\n",
       "      <td>0.0</td>\n",
       "      <td>0.0</td>\n",
       "      <td>0.0</td>\n",
       "      <td>1.0</td>\n",
       "      <td>0.0</td>\n",
       "      <td>0.0</td>\n",
       "      <td>1.0</td>\n",
       "      <td>0.0</td>\n",
       "      <td>0.0</td>\n",
       "      <td>0.0</td>\n",
       "      <td>0.0</td>\n",
       "      <td>0.0</td>\n",
       "      <td>0.0</td>\n",
       "      <td>0.0</td>\n",
       "      <td>0.0</td>\n",
       "      <td>0.0</td>\n",
       "      <td>0.0</td>\n",
       "      <td>0.0</td>\n",
       "      <td>0.0</td>\n",
       "      <td>0.0</td>\n",
       "      <td>...</td>\n",
       "      <td>0.0</td>\n",
       "      <td>0.0</td>\n",
       "      <td>0.0</td>\n",
       "      <td>0.0</td>\n",
       "      <td>0.0</td>\n",
       "      <td>0.0</td>\n",
       "      <td>0.0</td>\n",
       "      <td>0.0</td>\n",
       "      <td>0.0</td>\n",
       "      <td>0.0</td>\n",
       "      <td>0.0</td>\n",
       "      <td>0.0</td>\n",
       "      <td>0.0</td>\n",
       "      <td>0.0</td>\n",
       "      <td>0.0</td>\n",
       "      <td>0.0</td>\n",
       "      <td>0.0</td>\n",
       "      <td>0.0</td>\n",
       "      <td>0.0</td>\n",
       "      <td>0.0</td>\n",
       "      <td>0.0</td>\n",
       "      <td>0.0</td>\n",
       "      <td>0.0</td>\n",
       "      <td>0.0</td>\n",
       "      <td>0.0</td>\n",
       "      <td>0.0</td>\n",
       "      <td>0.0</td>\n",
       "      <td>0.0</td>\n",
       "      <td>0.0</td>\n",
       "      <td>0.0</td>\n",
       "      <td>0.0</td>\n",
       "      <td>0.0</td>\n",
       "      <td>0.0</td>\n",
       "      <td>0.0</td>\n",
       "      <td>0.0</td>\n",
       "      <td>0.0</td>\n",
       "      <td>0.0</td>\n",
       "      <td>0.0</td>\n",
       "      <td>0.0</td>\n",
       "      <td>0.0</td>\n",
       "    </tr>\n",
       "    <tr>\n",
       "      <th>2</th>\n",
       "      <td>10013</td>\n",
       "      <td>0.0</td>\n",
       "      <td>0.0</td>\n",
       "      <td>0.0</td>\n",
       "      <td>0.0</td>\n",
       "      <td>0.0</td>\n",
       "      <td>0.0</td>\n",
       "      <td>0.0</td>\n",
       "      <td>0.0</td>\n",
       "      <td>0.0</td>\n",
       "      <td>0.0</td>\n",
       "      <td>0.0</td>\n",
       "      <td>1.0</td>\n",
       "      <td>0.0</td>\n",
       "      <td>0.0</td>\n",
       "      <td>0.0</td>\n",
       "      <td>0.0</td>\n",
       "      <td>0.0</td>\n",
       "      <td>0.0</td>\n",
       "      <td>0.0</td>\n",
       "      <td>0.0</td>\n",
       "      <td>0.0</td>\n",
       "      <td>0.0</td>\n",
       "      <td>0.0</td>\n",
       "      <td>0.0</td>\n",
       "      <td>0.0</td>\n",
       "      <td>0.0</td>\n",
       "      <td>0.0</td>\n",
       "      <td>0.0</td>\n",
       "      <td>0.0</td>\n",
       "      <td>0.0</td>\n",
       "      <td>0.0</td>\n",
       "      <td>0.0</td>\n",
       "      <td>0.0</td>\n",
       "      <td>0.0</td>\n",
       "      <td>0.0</td>\n",
       "      <td>0.0</td>\n",
       "      <td>0.0</td>\n",
       "      <td>0.0</td>\n",
       "      <td>0.0</td>\n",
       "      <td>...</td>\n",
       "      <td>0.0</td>\n",
       "      <td>0.0</td>\n",
       "      <td>0.0</td>\n",
       "      <td>0.0</td>\n",
       "      <td>0.0</td>\n",
       "      <td>0.0</td>\n",
       "      <td>0.0</td>\n",
       "      <td>0.0</td>\n",
       "      <td>0.0</td>\n",
       "      <td>0.0</td>\n",
       "      <td>0.0</td>\n",
       "      <td>0.0</td>\n",
       "      <td>0.0</td>\n",
       "      <td>0.0</td>\n",
       "      <td>0.0</td>\n",
       "      <td>0.0</td>\n",
       "      <td>0.0</td>\n",
       "      <td>0.0</td>\n",
       "      <td>0.0</td>\n",
       "      <td>0.0</td>\n",
       "      <td>0.0</td>\n",
       "      <td>0.0</td>\n",
       "      <td>0.0</td>\n",
       "      <td>0.0</td>\n",
       "      <td>0.0</td>\n",
       "      <td>0.0</td>\n",
       "      <td>0.0</td>\n",
       "      <td>0.0</td>\n",
       "      <td>0.0</td>\n",
       "      <td>0.0</td>\n",
       "      <td>0.0</td>\n",
       "      <td>0.0</td>\n",
       "      <td>0.0</td>\n",
       "      <td>0.0</td>\n",
       "      <td>0.0</td>\n",
       "      <td>0.0</td>\n",
       "      <td>0.0</td>\n",
       "      <td>0.0</td>\n",
       "      <td>0.0</td>\n",
       "      <td>0.0</td>\n",
       "    </tr>\n",
       "    <tr>\n",
       "      <th>3</th>\n",
       "      <td>10017</td>\n",
       "      <td>0.0</td>\n",
       "      <td>0.0</td>\n",
       "      <td>0.0</td>\n",
       "      <td>0.0</td>\n",
       "      <td>0.0</td>\n",
       "      <td>0.0</td>\n",
       "      <td>0.0</td>\n",
       "      <td>0.0</td>\n",
       "      <td>0.0</td>\n",
       "      <td>0.0</td>\n",
       "      <td>0.0</td>\n",
       "      <td>0.0</td>\n",
       "      <td>0.0</td>\n",
       "      <td>0.0</td>\n",
       "      <td>0.0</td>\n",
       "      <td>0.0</td>\n",
       "      <td>0.0</td>\n",
       "      <td>0.0</td>\n",
       "      <td>0.0</td>\n",
       "      <td>0.0</td>\n",
       "      <td>0.0</td>\n",
       "      <td>0.0</td>\n",
       "      <td>0.0</td>\n",
       "      <td>0.0</td>\n",
       "      <td>0.0</td>\n",
       "      <td>0.0</td>\n",
       "      <td>0.0</td>\n",
       "      <td>0.0</td>\n",
       "      <td>0.0</td>\n",
       "      <td>0.0</td>\n",
       "      <td>0.0</td>\n",
       "      <td>0.0</td>\n",
       "      <td>0.0</td>\n",
       "      <td>0.0</td>\n",
       "      <td>0.0</td>\n",
       "      <td>0.0</td>\n",
       "      <td>0.0</td>\n",
       "      <td>0.0</td>\n",
       "      <td>0.0</td>\n",
       "      <td>...</td>\n",
       "      <td>0.0</td>\n",
       "      <td>0.0</td>\n",
       "      <td>0.0</td>\n",
       "      <td>0.0</td>\n",
       "      <td>0.0</td>\n",
       "      <td>0.0</td>\n",
       "      <td>0.0</td>\n",
       "      <td>0.0</td>\n",
       "      <td>0.0</td>\n",
       "      <td>0.0</td>\n",
       "      <td>0.0</td>\n",
       "      <td>0.0</td>\n",
       "      <td>0.0</td>\n",
       "      <td>0.0</td>\n",
       "      <td>0.0</td>\n",
       "      <td>0.0</td>\n",
       "      <td>0.0</td>\n",
       "      <td>0.0</td>\n",
       "      <td>0.0</td>\n",
       "      <td>0.0</td>\n",
       "      <td>0.0</td>\n",
       "      <td>0.0</td>\n",
       "      <td>0.0</td>\n",
       "      <td>0.0</td>\n",
       "      <td>0.0</td>\n",
       "      <td>0.0</td>\n",
       "      <td>0.0</td>\n",
       "      <td>0.0</td>\n",
       "      <td>0.0</td>\n",
       "      <td>0.0</td>\n",
       "      <td>0.0</td>\n",
       "      <td>0.0</td>\n",
       "      <td>0.0</td>\n",
       "      <td>0.0</td>\n",
       "      <td>0.0</td>\n",
       "      <td>0.0</td>\n",
       "      <td>0.0</td>\n",
       "      <td>0.0</td>\n",
       "      <td>0.0</td>\n",
       "      <td>0.0</td>\n",
       "    </tr>\n",
       "    <tr>\n",
       "      <th>4</th>\n",
       "      <td>10019</td>\n",
       "      <td>0.0</td>\n",
       "      <td>0.0</td>\n",
       "      <td>0.0</td>\n",
       "      <td>0.0</td>\n",
       "      <td>0.0</td>\n",
       "      <td>0.0</td>\n",
       "      <td>0.0</td>\n",
       "      <td>0.0</td>\n",
       "      <td>0.0</td>\n",
       "      <td>0.0</td>\n",
       "      <td>0.0</td>\n",
       "      <td>1.0</td>\n",
       "      <td>0.0</td>\n",
       "      <td>0.0</td>\n",
       "      <td>0.0</td>\n",
       "      <td>0.0</td>\n",
       "      <td>0.0</td>\n",
       "      <td>0.0</td>\n",
       "      <td>0.0</td>\n",
       "      <td>0.0</td>\n",
       "      <td>0.0</td>\n",
       "      <td>0.0</td>\n",
       "      <td>0.0</td>\n",
       "      <td>0.0</td>\n",
       "      <td>0.0</td>\n",
       "      <td>0.0</td>\n",
       "      <td>0.0</td>\n",
       "      <td>0.0</td>\n",
       "      <td>0.0</td>\n",
       "      <td>0.0</td>\n",
       "      <td>0.0</td>\n",
       "      <td>0.0</td>\n",
       "      <td>0.0</td>\n",
       "      <td>0.0</td>\n",
       "      <td>0.0</td>\n",
       "      <td>0.0</td>\n",
       "      <td>0.0</td>\n",
       "      <td>0.0</td>\n",
       "      <td>0.0</td>\n",
       "      <td>...</td>\n",
       "      <td>0.0</td>\n",
       "      <td>0.0</td>\n",
       "      <td>0.0</td>\n",
       "      <td>0.0</td>\n",
       "      <td>0.0</td>\n",
       "      <td>0.0</td>\n",
       "      <td>0.0</td>\n",
       "      <td>0.0</td>\n",
       "      <td>0.0</td>\n",
       "      <td>0.0</td>\n",
       "      <td>0.0</td>\n",
       "      <td>0.0</td>\n",
       "      <td>0.0</td>\n",
       "      <td>0.0</td>\n",
       "      <td>0.0</td>\n",
       "      <td>0.0</td>\n",
       "      <td>0.0</td>\n",
       "      <td>0.0</td>\n",
       "      <td>0.0</td>\n",
       "      <td>0.0</td>\n",
       "      <td>0.0</td>\n",
       "      <td>0.0</td>\n",
       "      <td>0.0</td>\n",
       "      <td>0.0</td>\n",
       "      <td>0.0</td>\n",
       "      <td>0.0</td>\n",
       "      <td>0.0</td>\n",
       "      <td>0.0</td>\n",
       "      <td>0.0</td>\n",
       "      <td>0.0</td>\n",
       "      <td>0.0</td>\n",
       "      <td>0.0</td>\n",
       "      <td>0.0</td>\n",
       "      <td>0.0</td>\n",
       "      <td>0.0</td>\n",
       "      <td>0.0</td>\n",
       "      <td>0.0</td>\n",
       "      <td>0.0</td>\n",
       "      <td>0.0</td>\n",
       "      <td>0.0</td>\n",
       "    </tr>\n",
       "  </tbody>\n",
       "</table>\n",
       "<p>5 rows × 582 columns</p>\n",
       "</div>"
      ],
      "text/plain": [
       "icd9_code  subject_id  00845  0380  03811  ...  V600  V667  V8741  V8801\n",
       "0               10006    0.0   0.0    0.0  ...   0.0   0.0    0.0    0.0\n",
       "1               10011    0.0   0.0    0.0  ...   0.0   0.0    0.0    0.0\n",
       "2               10013    0.0   0.0    0.0  ...   0.0   0.0    0.0    0.0\n",
       "3               10017    0.0   0.0    0.0  ...   0.0   0.0    0.0    0.0\n",
       "4               10019    0.0   0.0    0.0  ...   0.0   0.0    0.0    0.0\n",
       "\n",
       "[5 rows x 582 columns]"
      ]
     },
     "execution_count": 174,
     "metadata": {
      "tags": []
     },
     "output_type": "execute_result"
    }
   ],
   "source": [
    "diagnoses_features.head()"
   ]
  },
  {
   "cell_type": "code",
   "execution_count": null,
   "metadata": {
    "colab": {
     "base_uri": "https://localhost:8080/",
     "height": 34
    },
    "colab_type": "code",
    "executionInfo": {
     "elapsed": 267,
     "status": "ok",
     "timestamp": 1599762483605,
     "user": {
      "displayName": "Samir Gupta",
      "photoUrl": "",
      "userId": "08477919997854778705"
     },
     "user_tz": 240
    },
    "id": "tTrmymNURjDi",
    "outputId": "b1ef83e4-cf2a-4075-e9e7-0bd58826e545"
   },
   "outputs": [
    {
     "data": {
      "text/plain": [
       "(100, 582)"
      ]
     },
     "execution_count": 175,
     "metadata": {
      "tags": []
     },
     "output_type": "execute_result"
    }
   ],
   "source": [
    "diagnoses_features.shape"
   ]
  },
  {
   "cell_type": "markdown",
   "metadata": {
    "colab_type": "text",
    "id": "Gf05rJjbUfGN"
   },
   "source": [
    "## Combining Datasets: Concat"
   ]
  },
  {
   "cell_type": "markdown",
   "metadata": {
    "colab_type": "text",
    "id": "1uxDVwIuUs1a"
   },
   "source": [
    "Some of the most interesting studies of data come from combining different data sources. These operations can involve anything from very straightforward concatenation of two different datasets, to more complicated database-style joins and merges that correctly handle any overlaps between the datasets. "
   ]
  },
  {
   "cell_type": "markdown",
   "metadata": {
    "colab_type": "text",
    "id": "f3AOd6QVUs8k"
   },
   "source": [
    "For convenience, we'll define this function which creates a ``DataFrame`` of a particular form that will be useful below:"
   ]
  },
  {
   "cell_type": "code",
   "execution_count": null,
   "metadata": {
    "colab": {
     "base_uri": "https://localhost:8080/",
     "height": 137
    },
    "colab_type": "code",
    "executionInfo": {
     "elapsed": 318,
     "status": "ok",
     "timestamp": 1599763381986,
     "user": {
      "displayName": "Samir Gupta",
      "photoUrl": "",
      "userId": "08477919997854778705"
     },
     "user_tz": 240
    },
    "id": "ADYqG2KiUj0u",
    "outputId": "8ceb383f-1253-49a6-897b-ceab7f02aae9"
   },
   "outputs": [
    {
     "data": {
      "text/html": [
       "<div>\n",
       "<style scoped>\n",
       "    .dataframe tbody tr th:only-of-type {\n",
       "        vertical-align: middle;\n",
       "    }\n",
       "\n",
       "    .dataframe tbody tr th {\n",
       "        vertical-align: top;\n",
       "    }\n",
       "\n",
       "    .dataframe thead th {\n",
       "        text-align: right;\n",
       "    }\n",
       "</style>\n",
       "<table border=\"1\" class=\"dataframe\">\n",
       "  <thead>\n",
       "    <tr style=\"text-align: right;\">\n",
       "      <th></th>\n",
       "      <th>A</th>\n",
       "      <th>B</th>\n",
       "      <th>C</th>\n",
       "    </tr>\n",
       "  </thead>\n",
       "  <tbody>\n",
       "    <tr>\n",
       "      <th>0</th>\n",
       "      <td>A0</td>\n",
       "      <td>B0</td>\n",
       "      <td>C0</td>\n",
       "    </tr>\n",
       "    <tr>\n",
       "      <th>1</th>\n",
       "      <td>A1</td>\n",
       "      <td>B1</td>\n",
       "      <td>C1</td>\n",
       "    </tr>\n",
       "    <tr>\n",
       "      <th>2</th>\n",
       "      <td>A2</td>\n",
       "      <td>B2</td>\n",
       "      <td>C2</td>\n",
       "    </tr>\n",
       "  </tbody>\n",
       "</table>\n",
       "</div>"
      ],
      "text/plain": [
       "    A   B   C\n",
       "0  A0  B0  C0\n",
       "1  A1  B1  C1\n",
       "2  A2  B2  C2"
      ]
     },
     "execution_count": 177,
     "metadata": {
      "tags": []
     },
     "output_type": "execute_result"
    }
   ],
   "source": [
    "def make_df(cols, ind):\n",
    "    \"\"\"Quickly make a DataFrame\"\"\"\n",
    "    data = {c: [str(c) + str(i) for i in ind]\n",
    "            for c in cols}\n",
    "    return pd.DataFrame(data, ind)\n",
    "\n",
    "# example DataFrame\n",
    "make_df('ABC', [0,1,2])"
   ]
  },
  {
   "cell_type": "markdown",
   "metadata": {
    "colab_type": "text",
    "id": "f4GDhdEYVE1N"
   },
   "source": [
    "In addition, we'll create a quick class that allows us to display multiple ``DataFrame``s side by side. The code makes use of the special ``_repr_html_`` method, which IPython uses to implement its rich object display:"
   ]
  },
  {
   "cell_type": "code",
   "execution_count": null,
   "metadata": {
    "colab": {},
    "colab_type": "code",
    "id": "URGZIQ7oVGDm"
   },
   "outputs": [],
   "source": [
    "class display(object):\n",
    "    \"\"\"Display HTML representation of multiple objects\"\"\"\n",
    "    template = \"\"\"<div style=\"float: left; padding: 10px;\">\n",
    "    <p style='font-family:\"Courier New\", Courier, monospace'>{0}</p>{1}\n",
    "    </div>\"\"\"\n",
    "    def __init__(self, *args):\n",
    "        self.args = args\n",
    "        \n",
    "    def _repr_html_(self):\n",
    "        return '\\n'.join(self.template.format(a, eval(a)._repr_html_())\n",
    "                         for a in self.args)\n",
    "    \n",
    "    def __repr__(self):\n",
    "        return '\\n\\n'.join(a + '\\n' + repr(eval(a))\n",
    "                           for a in self.args)"
   ]
  },
  {
   "cell_type": "markdown",
   "metadata": {
    "colab_type": "text",
    "id": "bbQha4s-VKI7"
   },
   "source": [
    "The use of this will become clearer as we continue our discussion in the following section."
   ]
  },
  {
   "cell_type": "markdown",
   "metadata": {
    "colab_type": "text",
    "id": "CkJWzfN3VQ8v"
   },
   "source": [
    "### Simple Concatenation with ``pd.concat``"
   ]
  },
  {
   "cell_type": "code",
   "execution_count": null,
   "metadata": {
    "colab": {
     "base_uri": "https://localhost:8080/",
     "height": 161
    },
    "colab_type": "code",
    "executionInfo": {
     "elapsed": 409,
     "status": "ok",
     "timestamp": 1599767603027,
     "user": {
      "displayName": "Samir Gupta",
      "photoUrl": "",
      "userId": "08477919997854778705"
     },
     "user_tz": 240
    },
    "id": "fWdQnvlWVQqj",
    "outputId": "86f591cc-021c-477e-ab5e-1e4eadfb6a1b"
   },
   "outputs": [
    {
     "data": {
      "text/html": [
       "<div style=\"float: left; padding: 10px;\">\n",
       "    <p style='font-family:\"Courier New\", Courier, monospace'>df1</p><div>\n",
       "<style scoped>\n",
       "    .dataframe tbody tr th:only-of-type {\n",
       "        vertical-align: middle;\n",
       "    }\n",
       "\n",
       "    .dataframe tbody tr th {\n",
       "        vertical-align: top;\n",
       "    }\n",
       "\n",
       "    .dataframe thead th {\n",
       "        text-align: right;\n",
       "    }\n",
       "</style>\n",
       "<table border=\"1\" class=\"dataframe\">\n",
       "  <thead>\n",
       "    <tr style=\"text-align: right;\">\n",
       "      <th></th>\n",
       "      <th>A</th>\n",
       "      <th>B</th>\n",
       "    </tr>\n",
       "  </thead>\n",
       "  <tbody>\n",
       "    <tr>\n",
       "      <th>1</th>\n",
       "      <td>A1</td>\n",
       "      <td>B1</td>\n",
       "    </tr>\n",
       "    <tr>\n",
       "      <th>2</th>\n",
       "      <td>A2</td>\n",
       "      <td>B2</td>\n",
       "    </tr>\n",
       "  </tbody>\n",
       "</table>\n",
       "</div>\n",
       "    </div>\n",
       "<div style=\"float: left; padding: 10px;\">\n",
       "    <p style='font-family:\"Courier New\", Courier, monospace'>df2</p><div>\n",
       "<style scoped>\n",
       "    .dataframe tbody tr th:only-of-type {\n",
       "        vertical-align: middle;\n",
       "    }\n",
       "\n",
       "    .dataframe tbody tr th {\n",
       "        vertical-align: top;\n",
       "    }\n",
       "\n",
       "    .dataframe thead th {\n",
       "        text-align: right;\n",
       "    }\n",
       "</style>\n",
       "<table border=\"1\" class=\"dataframe\">\n",
       "  <thead>\n",
       "    <tr style=\"text-align: right;\">\n",
       "      <th></th>\n",
       "      <th>A</th>\n",
       "      <th>B</th>\n",
       "    </tr>\n",
       "  </thead>\n",
       "  <tbody>\n",
       "    <tr>\n",
       "      <th>3</th>\n",
       "      <td>A3</td>\n",
       "      <td>B3</td>\n",
       "    </tr>\n",
       "    <tr>\n",
       "      <th>4</th>\n",
       "      <td>A4</td>\n",
       "      <td>B4</td>\n",
       "    </tr>\n",
       "  </tbody>\n",
       "</table>\n",
       "</div>\n",
       "    </div>"
      ],
      "text/plain": [
       "df1\n",
       "    A   B\n",
       "1  A1  B1\n",
       "2  A2  B2\n",
       "\n",
       "df2\n",
       "    A   B\n",
       "3  A3  B3\n",
       "4  A4  B4"
      ]
     },
     "execution_count": 109,
     "metadata": {
      "tags": []
     },
     "output_type": "execute_result"
    }
   ],
   "source": [
    "df1 = make_df('AB', [1, 2])\n",
    "df2 = make_df('AB', [3, 4])\n",
    "\n",
    "display('df1','df2')"
   ]
  },
  {
   "cell_type": "code",
   "execution_count": null,
   "metadata": {
    "colab": {
     "base_uri": "https://localhost:8080/",
     "height": 175
    },
    "colab_type": "code",
    "executionInfo": {
     "elapsed": 252,
     "status": "ok",
     "timestamp": 1599767605610,
     "user": {
      "displayName": "Samir Gupta",
      "photoUrl": "",
      "userId": "08477919997854778705"
     },
     "user_tz": 240
    },
    "id": "6ByAdTPfk5OT",
    "outputId": "5f159a4b-e01b-4981-a352-0a72ebc2166d"
   },
   "outputs": [
    {
     "data": {
      "text/html": [
       "<div>\n",
       "<style scoped>\n",
       "    .dataframe tbody tr th:only-of-type {\n",
       "        vertical-align: middle;\n",
       "    }\n",
       "\n",
       "    .dataframe tbody tr th {\n",
       "        vertical-align: top;\n",
       "    }\n",
       "\n",
       "    .dataframe thead th {\n",
       "        text-align: right;\n",
       "    }\n",
       "</style>\n",
       "<table border=\"1\" class=\"dataframe\">\n",
       "  <thead>\n",
       "    <tr style=\"text-align: right;\">\n",
       "      <th></th>\n",
       "      <th>A</th>\n",
       "      <th>B</th>\n",
       "    </tr>\n",
       "  </thead>\n",
       "  <tbody>\n",
       "    <tr>\n",
       "      <th>1</th>\n",
       "      <td>A1</td>\n",
       "      <td>B1</td>\n",
       "    </tr>\n",
       "    <tr>\n",
       "      <th>2</th>\n",
       "      <td>A2</td>\n",
       "      <td>B2</td>\n",
       "    </tr>\n",
       "    <tr>\n",
       "      <th>3</th>\n",
       "      <td>A3</td>\n",
       "      <td>B3</td>\n",
       "    </tr>\n",
       "    <tr>\n",
       "      <th>4</th>\n",
       "      <td>A4</td>\n",
       "      <td>B4</td>\n",
       "    </tr>\n",
       "  </tbody>\n",
       "</table>\n",
       "</div>"
      ],
      "text/plain": [
       "    A   B\n",
       "1  A1  B1\n",
       "2  A2  B2\n",
       "3  A3  B3\n",
       "4  A4  B4"
      ]
     },
     "execution_count": 110,
     "metadata": {
      "tags": []
     },
     "output_type": "execute_result"
    }
   ],
   "source": [
    "pd.concat([df1, df2])"
   ]
  },
  {
   "cell_type": "code",
   "execution_count": null,
   "metadata": {
    "colab": {
     "base_uri": "https://localhost:8080/",
     "height": 224
    },
    "colab_type": "code",
    "executionInfo": {
     "elapsed": 352,
     "status": "ok",
     "timestamp": 1599767614487,
     "user": {
      "displayName": "Samir Gupta",
      "photoUrl": "",
      "userId": "08477919997854778705"
     },
     "user_tz": 240
    },
    "id": "fFSd2l4NlIlC",
    "outputId": "4175f1c3-3cc4-41c7-d914-70c8af68879d"
   },
   "outputs": [
    {
     "data": {
      "text/html": [
       "<div style=\"float: left; padding: 10px;\">\n",
       "    <p style='font-family:\"Courier New\", Courier, monospace'>df1</p><div>\n",
       "<style scoped>\n",
       "    .dataframe tbody tr th:only-of-type {\n",
       "        vertical-align: middle;\n",
       "    }\n",
       "\n",
       "    .dataframe tbody tr th {\n",
       "        vertical-align: top;\n",
       "    }\n",
       "\n",
       "    .dataframe thead th {\n",
       "        text-align: right;\n",
       "    }\n",
       "</style>\n",
       "<table border=\"1\" class=\"dataframe\">\n",
       "  <thead>\n",
       "    <tr style=\"text-align: right;\">\n",
       "      <th></th>\n",
       "      <th>A</th>\n",
       "      <th>B</th>\n",
       "    </tr>\n",
       "  </thead>\n",
       "  <tbody>\n",
       "    <tr>\n",
       "      <th>1</th>\n",
       "      <td>A1</td>\n",
       "      <td>B1</td>\n",
       "    </tr>\n",
       "    <tr>\n",
       "      <th>2</th>\n",
       "      <td>A2</td>\n",
       "      <td>B2</td>\n",
       "    </tr>\n",
       "  </tbody>\n",
       "</table>\n",
       "</div>\n",
       "    </div>\n",
       "<div style=\"float: left; padding: 10px;\">\n",
       "    <p style='font-family:\"Courier New\", Courier, monospace'>df2</p><div>\n",
       "<style scoped>\n",
       "    .dataframe tbody tr th:only-of-type {\n",
       "        vertical-align: middle;\n",
       "    }\n",
       "\n",
       "    .dataframe tbody tr th {\n",
       "        vertical-align: top;\n",
       "    }\n",
       "\n",
       "    .dataframe thead th {\n",
       "        text-align: right;\n",
       "    }\n",
       "</style>\n",
       "<table border=\"1\" class=\"dataframe\">\n",
       "  <thead>\n",
       "    <tr style=\"text-align: right;\">\n",
       "      <th></th>\n",
       "      <th>A</th>\n",
       "      <th>B</th>\n",
       "    </tr>\n",
       "  </thead>\n",
       "  <tbody>\n",
       "    <tr>\n",
       "      <th>3</th>\n",
       "      <td>A3</td>\n",
       "      <td>B3</td>\n",
       "    </tr>\n",
       "    <tr>\n",
       "      <th>4</th>\n",
       "      <td>A4</td>\n",
       "      <td>B4</td>\n",
       "    </tr>\n",
       "  </tbody>\n",
       "</table>\n",
       "</div>\n",
       "    </div>\n",
       "<div style=\"float: left; padding: 10px;\">\n",
       "    <p style='font-family:\"Courier New\", Courier, monospace'>pd.concat([df1, df2])</p><div>\n",
       "<style scoped>\n",
       "    .dataframe tbody tr th:only-of-type {\n",
       "        vertical-align: middle;\n",
       "    }\n",
       "\n",
       "    .dataframe tbody tr th {\n",
       "        vertical-align: top;\n",
       "    }\n",
       "\n",
       "    .dataframe thead th {\n",
       "        text-align: right;\n",
       "    }\n",
       "</style>\n",
       "<table border=\"1\" class=\"dataframe\">\n",
       "  <thead>\n",
       "    <tr style=\"text-align: right;\">\n",
       "      <th></th>\n",
       "      <th>A</th>\n",
       "      <th>B</th>\n",
       "    </tr>\n",
       "  </thead>\n",
       "  <tbody>\n",
       "    <tr>\n",
       "      <th>1</th>\n",
       "      <td>A1</td>\n",
       "      <td>B1</td>\n",
       "    </tr>\n",
       "    <tr>\n",
       "      <th>2</th>\n",
       "      <td>A2</td>\n",
       "      <td>B2</td>\n",
       "    </tr>\n",
       "    <tr>\n",
       "      <th>3</th>\n",
       "      <td>A3</td>\n",
       "      <td>B3</td>\n",
       "    </tr>\n",
       "    <tr>\n",
       "      <th>4</th>\n",
       "      <td>A4</td>\n",
       "      <td>B4</td>\n",
       "    </tr>\n",
       "  </tbody>\n",
       "</table>\n",
       "</div>\n",
       "    </div>"
      ],
      "text/plain": [
       "df1\n",
       "    A   B\n",
       "1  A1  B1\n",
       "2  A2  B2\n",
       "\n",
       "df2\n",
       "    A   B\n",
       "3  A3  B3\n",
       "4  A4  B4\n",
       "\n",
       "pd.concat([df1, df2])\n",
       "    A   B\n",
       "1  A1  B1\n",
       "2  A2  B2\n",
       "3  A3  B3\n",
       "4  A4  B4"
      ]
     },
     "execution_count": 111,
     "metadata": {
      "tags": []
     },
     "output_type": "execute_result"
    }
   ],
   "source": [
    "display('df1', 'df2', 'pd.concat([df1, df2])')"
   ]
  },
  {
   "cell_type": "markdown",
   "metadata": {
    "colab_type": "text",
    "id": "eXSTrUuQVZNg"
   },
   "source": [
    "By default, the concatenation takes place row-wise within the ``DataFrame`` (i.e., ``axis=0``).\n",
    "``pd.concat`` allows specification of an axis along which concatenation will take place.\n",
    "Consider the following example:"
   ]
  },
  {
   "cell_type": "code",
   "execution_count": null,
   "metadata": {
    "colab": {
     "base_uri": "https://localhost:8080/",
     "height": 156
    },
    "colab_type": "code",
    "executionInfo": {
     "elapsed": 268,
     "status": "ok",
     "timestamp": 1599763527476,
     "user": {
      "displayName": "Samir Gupta",
      "photoUrl": "",
      "userId": "08477919997854778705"
     },
     "user_tz": 240
    },
    "id": "TmHc21uhVcEX",
    "outputId": "b19241f4-6d02-4f71-bdf6-6c27af863733"
   },
   "outputs": [
    {
     "data": {
      "text/html": [
       "<div style=\"float: left; padding: 10px;\">\n",
       "    <p style='font-family:\"Courier New\", Courier, monospace'>df3</p><div>\n",
       "<style scoped>\n",
       "    .dataframe tbody tr th:only-of-type {\n",
       "        vertical-align: middle;\n",
       "    }\n",
       "\n",
       "    .dataframe tbody tr th {\n",
       "        vertical-align: top;\n",
       "    }\n",
       "\n",
       "    .dataframe thead th {\n",
       "        text-align: right;\n",
       "    }\n",
       "</style>\n",
       "<table border=\"1\" class=\"dataframe\">\n",
       "  <thead>\n",
       "    <tr style=\"text-align: right;\">\n",
       "      <th></th>\n",
       "      <th>A</th>\n",
       "      <th>B</th>\n",
       "    </tr>\n",
       "  </thead>\n",
       "  <tbody>\n",
       "    <tr>\n",
       "      <th>0</th>\n",
       "      <td>A0</td>\n",
       "      <td>B0</td>\n",
       "    </tr>\n",
       "    <tr>\n",
       "      <th>1</th>\n",
       "      <td>A1</td>\n",
       "      <td>B1</td>\n",
       "    </tr>\n",
       "  </tbody>\n",
       "</table>\n",
       "</div>\n",
       "    </div>\n",
       "<div style=\"float: left; padding: 10px;\">\n",
       "    <p style='font-family:\"Courier New\", Courier, monospace'>df4</p><div>\n",
       "<style scoped>\n",
       "    .dataframe tbody tr th:only-of-type {\n",
       "        vertical-align: middle;\n",
       "    }\n",
       "\n",
       "    .dataframe tbody tr th {\n",
       "        vertical-align: top;\n",
       "    }\n",
       "\n",
       "    .dataframe thead th {\n",
       "        text-align: right;\n",
       "    }\n",
       "</style>\n",
       "<table border=\"1\" class=\"dataframe\">\n",
       "  <thead>\n",
       "    <tr style=\"text-align: right;\">\n",
       "      <th></th>\n",
       "      <th>C</th>\n",
       "      <th>D</th>\n",
       "    </tr>\n",
       "  </thead>\n",
       "  <tbody>\n",
       "    <tr>\n",
       "      <th>0</th>\n",
       "      <td>C0</td>\n",
       "      <td>D0</td>\n",
       "    </tr>\n",
       "    <tr>\n",
       "      <th>1</th>\n",
       "      <td>C1</td>\n",
       "      <td>D1</td>\n",
       "    </tr>\n",
       "  </tbody>\n",
       "</table>\n",
       "</div>\n",
       "    </div>\n",
       "<div style=\"float: left; padding: 10px;\">\n",
       "    <p style='font-family:\"Courier New\", Courier, monospace'>pd.concat([df3, df4], axis=1)</p><div>\n",
       "<style scoped>\n",
       "    .dataframe tbody tr th:only-of-type {\n",
       "        vertical-align: middle;\n",
       "    }\n",
       "\n",
       "    .dataframe tbody tr th {\n",
       "        vertical-align: top;\n",
       "    }\n",
       "\n",
       "    .dataframe thead th {\n",
       "        text-align: right;\n",
       "    }\n",
       "</style>\n",
       "<table border=\"1\" class=\"dataframe\">\n",
       "  <thead>\n",
       "    <tr style=\"text-align: right;\">\n",
       "      <th></th>\n",
       "      <th>A</th>\n",
       "      <th>B</th>\n",
       "      <th>C</th>\n",
       "      <th>D</th>\n",
       "    </tr>\n",
       "  </thead>\n",
       "  <tbody>\n",
       "    <tr>\n",
       "      <th>0</th>\n",
       "      <td>A0</td>\n",
       "      <td>B0</td>\n",
       "      <td>C0</td>\n",
       "      <td>D0</td>\n",
       "    </tr>\n",
       "    <tr>\n",
       "      <th>1</th>\n",
       "      <td>A1</td>\n",
       "      <td>B1</td>\n",
       "      <td>C1</td>\n",
       "      <td>D1</td>\n",
       "    </tr>\n",
       "  </tbody>\n",
       "</table>\n",
       "</div>\n",
       "    </div>"
      ],
      "text/plain": [
       "df3\n",
       "    A   B\n",
       "0  A0  B0\n",
       "1  A1  B1\n",
       "\n",
       "df4\n",
       "    C   D\n",
       "0  C0  D0\n",
       "1  C1  D1\n",
       "\n",
       "pd.concat([df3, df4], axis=1)\n",
       "    A   B   C   D\n",
       "0  A0  B0  C0  D0\n",
       "1  A1  B1  C1  D1"
      ]
     },
     "execution_count": 181,
     "metadata": {
      "tags": []
     },
     "output_type": "execute_result"
    }
   ],
   "source": [
    "df3 = make_df('AB', [0, 1])\n",
    "df4 = make_df('CD', [0, 1])\n",
    "display('df3', 'df4', \"pd.concat([df3, df4], axis=1)\")"
   ]
  },
  {
   "cell_type": "markdown",
   "metadata": {
    "colab_type": "text",
    "id": "HG0Nt3nsVp0R"
   },
   "source": [
    "In the simple examples we just looked at, we were mainly concatenating ``DataFrame``s with shared column names.\n",
    "In practice, data from different sources might have different sets of column names, and ``pd.concat`` offers several options in this case.\n",
    "Consider the concatenation of the following two ``DataFrame``s, which have some (but not all!) columns in common:"
   ]
  },
  {
   "cell_type": "code",
   "execution_count": null,
   "metadata": {
    "colab": {
     "base_uri": "https://localhost:8080/",
     "height": 216
    },
    "colab_type": "code",
    "executionInfo": {
     "elapsed": 308,
     "status": "ok",
     "timestamp": 1599763572901,
     "user": {
      "displayName": "Samir Gupta",
      "photoUrl": "",
      "userId": "08477919997854778705"
     },
     "user_tz": 240
    },
    "id": "j0oS1dEgVtAQ",
    "outputId": "1aae9510-23f3-4f0a-b72c-b6f67a946d8c"
   },
   "outputs": [
    {
     "data": {
      "text/html": [
       "<div style=\"float: left; padding: 10px;\">\n",
       "    <p style='font-family:\"Courier New\", Courier, monospace'>df5</p><div>\n",
       "<style scoped>\n",
       "    .dataframe tbody tr th:only-of-type {\n",
       "        vertical-align: middle;\n",
       "    }\n",
       "\n",
       "    .dataframe tbody tr th {\n",
       "        vertical-align: top;\n",
       "    }\n",
       "\n",
       "    .dataframe thead th {\n",
       "        text-align: right;\n",
       "    }\n",
       "</style>\n",
       "<table border=\"1\" class=\"dataframe\">\n",
       "  <thead>\n",
       "    <tr style=\"text-align: right;\">\n",
       "      <th></th>\n",
       "      <th>A</th>\n",
       "      <th>B</th>\n",
       "      <th>C</th>\n",
       "    </tr>\n",
       "  </thead>\n",
       "  <tbody>\n",
       "    <tr>\n",
       "      <th>1</th>\n",
       "      <td>A1</td>\n",
       "      <td>B1</td>\n",
       "      <td>C1</td>\n",
       "    </tr>\n",
       "    <tr>\n",
       "      <th>2</th>\n",
       "      <td>A2</td>\n",
       "      <td>B2</td>\n",
       "      <td>C2</td>\n",
       "    </tr>\n",
       "  </tbody>\n",
       "</table>\n",
       "</div>\n",
       "    </div>\n",
       "<div style=\"float: left; padding: 10px;\">\n",
       "    <p style='font-family:\"Courier New\", Courier, monospace'>df6</p><div>\n",
       "<style scoped>\n",
       "    .dataframe tbody tr th:only-of-type {\n",
       "        vertical-align: middle;\n",
       "    }\n",
       "\n",
       "    .dataframe tbody tr th {\n",
       "        vertical-align: top;\n",
       "    }\n",
       "\n",
       "    .dataframe thead th {\n",
       "        text-align: right;\n",
       "    }\n",
       "</style>\n",
       "<table border=\"1\" class=\"dataframe\">\n",
       "  <thead>\n",
       "    <tr style=\"text-align: right;\">\n",
       "      <th></th>\n",
       "      <th>B</th>\n",
       "      <th>C</th>\n",
       "      <th>D</th>\n",
       "    </tr>\n",
       "  </thead>\n",
       "  <tbody>\n",
       "    <tr>\n",
       "      <th>3</th>\n",
       "      <td>B3</td>\n",
       "      <td>C3</td>\n",
       "      <td>D3</td>\n",
       "    </tr>\n",
       "    <tr>\n",
       "      <th>4</th>\n",
       "      <td>B4</td>\n",
       "      <td>C4</td>\n",
       "      <td>D4</td>\n",
       "    </tr>\n",
       "  </tbody>\n",
       "</table>\n",
       "</div>\n",
       "    </div>\n",
       "<div style=\"float: left; padding: 10px;\">\n",
       "    <p style='font-family:\"Courier New\", Courier, monospace'>pd.concat([df5, df6])</p><div>\n",
       "<style scoped>\n",
       "    .dataframe tbody tr th:only-of-type {\n",
       "        vertical-align: middle;\n",
       "    }\n",
       "\n",
       "    .dataframe tbody tr th {\n",
       "        vertical-align: top;\n",
       "    }\n",
       "\n",
       "    .dataframe thead th {\n",
       "        text-align: right;\n",
       "    }\n",
       "</style>\n",
       "<table border=\"1\" class=\"dataframe\">\n",
       "  <thead>\n",
       "    <tr style=\"text-align: right;\">\n",
       "      <th></th>\n",
       "      <th>A</th>\n",
       "      <th>B</th>\n",
       "      <th>C</th>\n",
       "      <th>D</th>\n",
       "    </tr>\n",
       "  </thead>\n",
       "  <tbody>\n",
       "    <tr>\n",
       "      <th>1</th>\n",
       "      <td>A1</td>\n",
       "      <td>B1</td>\n",
       "      <td>C1</td>\n",
       "      <td>NaN</td>\n",
       "    </tr>\n",
       "    <tr>\n",
       "      <th>2</th>\n",
       "      <td>A2</td>\n",
       "      <td>B2</td>\n",
       "      <td>C2</td>\n",
       "      <td>NaN</td>\n",
       "    </tr>\n",
       "    <tr>\n",
       "      <th>3</th>\n",
       "      <td>NaN</td>\n",
       "      <td>B3</td>\n",
       "      <td>C3</td>\n",
       "      <td>D3</td>\n",
       "    </tr>\n",
       "    <tr>\n",
       "      <th>4</th>\n",
       "      <td>NaN</td>\n",
       "      <td>B4</td>\n",
       "      <td>C4</td>\n",
       "      <td>D4</td>\n",
       "    </tr>\n",
       "  </tbody>\n",
       "</table>\n",
       "</div>\n",
       "    </div>"
      ],
      "text/plain": [
       "df5\n",
       "    A   B   C\n",
       "1  A1  B1  C1\n",
       "2  A2  B2  C2\n",
       "\n",
       "df6\n",
       "    B   C   D\n",
       "3  B3  C3  D3\n",
       "4  B4  C4  D4\n",
       "\n",
       "pd.concat([df5, df6])\n",
       "     A   B   C    D\n",
       "1   A1  B1  C1  NaN\n",
       "2   A2  B2  C2  NaN\n",
       "3  NaN  B3  C3   D3\n",
       "4  NaN  B4  C4   D4"
      ]
     },
     "execution_count": 182,
     "metadata": {
      "tags": []
     },
     "output_type": "execute_result"
    }
   ],
   "source": [
    "df5 = make_df('ABC', [1, 2])\n",
    "df6 = make_df('BCD', [3, 4])\n",
    "display('df5', 'df6', 'pd.concat([df5, df6])')"
   ]
  },
  {
   "cell_type": "markdown",
   "metadata": {
    "colab_type": "text",
    "id": "dCfyBO49VvmE"
   },
   "source": [
    "## Combining Datasets: Merge and Join\n",
    "\n",
    "One essential feature offered by Pandas is its high-performance, in-memory join and merge operations.\n",
    "If you have ever worked with databases, you should be familiar with this type of data interaction.\n",
    "The main interface for this is the ``pd.merge`` function, and we'll see few examples of how this can work in practice."
   ]
  },
  {
   "cell_type": "markdown",
   "metadata": {
    "colab_type": "text",
    "id": "niyOlqAiV81s"
   },
   "source": [
    "### Categories of Joins\n",
    "\n",
    "The `pd.merge()` function implements a number of types of joins: the one-to-one, many-to-one, and many-to-many joins. All three types of joins are accessed via an identical call to the `pd.merge()` interface; the type of join performed depends on the form of the input data"
   ]
  },
  {
   "cell_type": "markdown",
   "metadata": {
    "colab_type": "text",
    "id": "1IfA_gitWJit"
   },
   "source": [
    "**One-to-one joins**"
   ]
  },
  {
   "cell_type": "code",
   "execution_count": null,
   "metadata": {
    "colab": {
     "base_uri": "https://localhost:8080/",
     "height": 224
    },
    "colab_type": "code",
    "executionInfo": {
     "elapsed": 320,
     "status": "ok",
     "timestamp": 1599768047615,
     "user": {
      "displayName": "Samir Gupta",
      "photoUrl": "",
      "userId": "08477919997854778705"
     },
     "user_tz": 240
    },
    "id": "mZWy0oS8WMtQ",
    "outputId": "bd31ac1d-165a-44a7-aef1-c1ec3b2c625f"
   },
   "outputs": [
    {
     "data": {
      "text/html": [
       "<div style=\"float: left; padding: 10px;\">\n",
       "    <p style='font-family:\"Courier New\", Courier, monospace'>df1</p><div>\n",
       "<style scoped>\n",
       "    .dataframe tbody tr th:only-of-type {\n",
       "        vertical-align: middle;\n",
       "    }\n",
       "\n",
       "    .dataframe tbody tr th {\n",
       "        vertical-align: top;\n",
       "    }\n",
       "\n",
       "    .dataframe thead th {\n",
       "        text-align: right;\n",
       "    }\n",
       "</style>\n",
       "<table border=\"1\" class=\"dataframe\">\n",
       "  <thead>\n",
       "    <tr style=\"text-align: right;\">\n",
       "      <th></th>\n",
       "      <th>employee</th>\n",
       "      <th>group</th>\n",
       "    </tr>\n",
       "  </thead>\n",
       "  <tbody>\n",
       "    <tr>\n",
       "      <th>0</th>\n",
       "      <td>Bob</td>\n",
       "      <td>Accounting</td>\n",
       "    </tr>\n",
       "    <tr>\n",
       "      <th>1</th>\n",
       "      <td>Jake</td>\n",
       "      <td>Engineering</td>\n",
       "    </tr>\n",
       "    <tr>\n",
       "      <th>2</th>\n",
       "      <td>Lisa</td>\n",
       "      <td>Engineering</td>\n",
       "    </tr>\n",
       "    <tr>\n",
       "      <th>3</th>\n",
       "      <td>Sue</td>\n",
       "      <td>HR</td>\n",
       "    </tr>\n",
       "  </tbody>\n",
       "</table>\n",
       "</div>\n",
       "    </div>\n",
       "<div style=\"float: left; padding: 10px;\">\n",
       "    <p style='font-family:\"Courier New\", Courier, monospace'>df2</p><div>\n",
       "<style scoped>\n",
       "    .dataframe tbody tr th:only-of-type {\n",
       "        vertical-align: middle;\n",
       "    }\n",
       "\n",
       "    .dataframe tbody tr th {\n",
       "        vertical-align: top;\n",
       "    }\n",
       "\n",
       "    .dataframe thead th {\n",
       "        text-align: right;\n",
       "    }\n",
       "</style>\n",
       "<table border=\"1\" class=\"dataframe\">\n",
       "  <thead>\n",
       "    <tr style=\"text-align: right;\">\n",
       "      <th></th>\n",
       "      <th>employee</th>\n",
       "      <th>hire_date</th>\n",
       "    </tr>\n",
       "  </thead>\n",
       "  <tbody>\n",
       "    <tr>\n",
       "      <th>0</th>\n",
       "      <td>Lisa</td>\n",
       "      <td>2004</td>\n",
       "    </tr>\n",
       "    <tr>\n",
       "      <th>1</th>\n",
       "      <td>Bob</td>\n",
       "      <td>2008</td>\n",
       "    </tr>\n",
       "    <tr>\n",
       "      <th>2</th>\n",
       "      <td>Jake</td>\n",
       "      <td>2012</td>\n",
       "    </tr>\n",
       "    <tr>\n",
       "      <th>3</th>\n",
       "      <td>Sue</td>\n",
       "      <td>2014</td>\n",
       "    </tr>\n",
       "  </tbody>\n",
       "</table>\n",
       "</div>\n",
       "    </div>"
      ],
      "text/plain": [
       "df1\n",
       "  employee        group\n",
       "0      Bob   Accounting\n",
       "1     Jake  Engineering\n",
       "2     Lisa  Engineering\n",
       "3      Sue           HR\n",
       "\n",
       "df2\n",
       "  employee  hire_date\n",
       "0     Lisa       2004\n",
       "1      Bob       2008\n",
       "2     Jake       2012\n",
       "3      Sue       2014"
      ]
     },
     "execution_count": 116,
     "metadata": {
      "tags": []
     },
     "output_type": "execute_result"
    }
   ],
   "source": [
    "df1 = pd.DataFrame({'employee': ['Bob', 'Jake', 'Lisa', 'Sue'],\n",
    "                    'group': ['Accounting', 'Engineering', 'Engineering', 'HR']})\n",
    "df2 = pd.DataFrame({'employee': ['Lisa', 'Bob', 'Jake', 'Sue'],\n",
    "                    'hire_date': [2004, 2008, 2012, 2014]})\n",
    "display('df1', 'df2')"
   ]
  },
  {
   "cell_type": "markdown",
   "metadata": {
    "colab_type": "text",
    "id": "nVtmirO6WT4D"
   },
   "source": [
    "To combine this information into a single ``DataFrame``, we can use the ``pd.merge()`` function:"
   ]
  },
  {
   "cell_type": "code",
   "execution_count": null,
   "metadata": {
    "colab": {
     "base_uri": "https://localhost:8080/",
     "height": 175
    },
    "colab_type": "code",
    "executionInfo": {
     "elapsed": 428,
     "status": "ok",
     "timestamp": 1599768049624,
     "user": {
      "displayName": "Samir Gupta",
      "photoUrl": "",
      "userId": "08477919997854778705"
     },
     "user_tz": 240
    },
    "id": "9NxGU5L1WU6K",
    "outputId": "ab59cda1-8114-43cd-c4a6-ed6e17d306ca"
   },
   "outputs": [
    {
     "data": {
      "text/html": [
       "<div>\n",
       "<style scoped>\n",
       "    .dataframe tbody tr th:only-of-type {\n",
       "        vertical-align: middle;\n",
       "    }\n",
       "\n",
       "    .dataframe tbody tr th {\n",
       "        vertical-align: top;\n",
       "    }\n",
       "\n",
       "    .dataframe thead th {\n",
       "        text-align: right;\n",
       "    }\n",
       "</style>\n",
       "<table border=\"1\" class=\"dataframe\">\n",
       "  <thead>\n",
       "    <tr style=\"text-align: right;\">\n",
       "      <th></th>\n",
       "      <th>employee</th>\n",
       "      <th>group</th>\n",
       "      <th>hire_date</th>\n",
       "    </tr>\n",
       "  </thead>\n",
       "  <tbody>\n",
       "    <tr>\n",
       "      <th>0</th>\n",
       "      <td>Bob</td>\n",
       "      <td>Accounting</td>\n",
       "      <td>2008</td>\n",
       "    </tr>\n",
       "    <tr>\n",
       "      <th>1</th>\n",
       "      <td>Jake</td>\n",
       "      <td>Engineering</td>\n",
       "      <td>2012</td>\n",
       "    </tr>\n",
       "    <tr>\n",
       "      <th>2</th>\n",
       "      <td>Lisa</td>\n",
       "      <td>Engineering</td>\n",
       "      <td>2004</td>\n",
       "    </tr>\n",
       "    <tr>\n",
       "      <th>3</th>\n",
       "      <td>Sue</td>\n",
       "      <td>HR</td>\n",
       "      <td>2014</td>\n",
       "    </tr>\n",
       "  </tbody>\n",
       "</table>\n",
       "</div>"
      ],
      "text/plain": [
       "  employee        group  hire_date\n",
       "0      Bob   Accounting       2008\n",
       "1     Jake  Engineering       2012\n",
       "2     Lisa  Engineering       2004\n",
       "3      Sue           HR       2014"
      ]
     },
     "execution_count": 117,
     "metadata": {
      "tags": []
     },
     "output_type": "execute_result"
    }
   ],
   "source": [
    "df3 = pd.merge(df1, df2)\n",
    "df3"
   ]
  },
  {
   "cell_type": "markdown",
   "metadata": {
    "colab_type": "text",
    "id": "q1uv3zLeWcTr"
   },
   "source": [
    "**Many-to-one**"
   ]
  },
  {
   "cell_type": "code",
   "execution_count": null,
   "metadata": {
    "colab": {
     "base_uri": "https://localhost:8080/",
     "height": 224
    },
    "colab_type": "code",
    "executionInfo": {
     "elapsed": 410,
     "status": "ok",
     "timestamp": 1599768054049,
     "user": {
      "displayName": "Samir Gupta",
      "photoUrl": "",
      "userId": "08477919997854778705"
     },
     "user_tz": 240
    },
    "id": "4nDHDSTfWfaK",
    "outputId": "54377b42-f154-477c-8540-d05e643230ca"
   },
   "outputs": [
    {
     "data": {
      "text/html": [
       "<div style=\"float: left; padding: 10px;\">\n",
       "    <p style='font-family:\"Courier New\", Courier, monospace'>df3</p><div>\n",
       "<style scoped>\n",
       "    .dataframe tbody tr th:only-of-type {\n",
       "        vertical-align: middle;\n",
       "    }\n",
       "\n",
       "    .dataframe tbody tr th {\n",
       "        vertical-align: top;\n",
       "    }\n",
       "\n",
       "    .dataframe thead th {\n",
       "        text-align: right;\n",
       "    }\n",
       "</style>\n",
       "<table border=\"1\" class=\"dataframe\">\n",
       "  <thead>\n",
       "    <tr style=\"text-align: right;\">\n",
       "      <th></th>\n",
       "      <th>employee</th>\n",
       "      <th>group</th>\n",
       "      <th>hire_date</th>\n",
       "    </tr>\n",
       "  </thead>\n",
       "  <tbody>\n",
       "    <tr>\n",
       "      <th>0</th>\n",
       "      <td>Bob</td>\n",
       "      <td>Accounting</td>\n",
       "      <td>2008</td>\n",
       "    </tr>\n",
       "    <tr>\n",
       "      <th>1</th>\n",
       "      <td>Jake</td>\n",
       "      <td>Engineering</td>\n",
       "      <td>2012</td>\n",
       "    </tr>\n",
       "    <tr>\n",
       "      <th>2</th>\n",
       "      <td>Lisa</td>\n",
       "      <td>Engineering</td>\n",
       "      <td>2004</td>\n",
       "    </tr>\n",
       "    <tr>\n",
       "      <th>3</th>\n",
       "      <td>Sue</td>\n",
       "      <td>HR</td>\n",
       "      <td>2014</td>\n",
       "    </tr>\n",
       "  </tbody>\n",
       "</table>\n",
       "</div>\n",
       "    </div>\n",
       "<div style=\"float: left; padding: 10px;\">\n",
       "    <p style='font-family:\"Courier New\", Courier, monospace'>df4</p><div>\n",
       "<style scoped>\n",
       "    .dataframe tbody tr th:only-of-type {\n",
       "        vertical-align: middle;\n",
       "    }\n",
       "\n",
       "    .dataframe tbody tr th {\n",
       "        vertical-align: top;\n",
       "    }\n",
       "\n",
       "    .dataframe thead th {\n",
       "        text-align: right;\n",
       "    }\n",
       "</style>\n",
       "<table border=\"1\" class=\"dataframe\">\n",
       "  <thead>\n",
       "    <tr style=\"text-align: right;\">\n",
       "      <th></th>\n",
       "      <th>group</th>\n",
       "      <th>supervisor</th>\n",
       "    </tr>\n",
       "  </thead>\n",
       "  <tbody>\n",
       "    <tr>\n",
       "      <th>0</th>\n",
       "      <td>Accounting</td>\n",
       "      <td>Carly</td>\n",
       "    </tr>\n",
       "    <tr>\n",
       "      <th>1</th>\n",
       "      <td>Engineering</td>\n",
       "      <td>Guido</td>\n",
       "    </tr>\n",
       "    <tr>\n",
       "      <th>2</th>\n",
       "      <td>HR</td>\n",
       "      <td>Steve</td>\n",
       "    </tr>\n",
       "  </tbody>\n",
       "</table>\n",
       "</div>\n",
       "    </div>"
      ],
      "text/plain": [
       "df3\n",
       "  employee        group  hire_date\n",
       "0      Bob   Accounting       2008\n",
       "1     Jake  Engineering       2012\n",
       "2     Lisa  Engineering       2004\n",
       "3      Sue           HR       2014\n",
       "\n",
       "df4\n",
       "         group supervisor\n",
       "0   Accounting      Carly\n",
       "1  Engineering      Guido\n",
       "2           HR      Steve"
      ]
     },
     "execution_count": 118,
     "metadata": {
      "tags": []
     },
     "output_type": "execute_result"
    }
   ],
   "source": [
    "df4 = pd.DataFrame({'group': ['Accounting', 'Engineering', 'HR'],\n",
    "                    'supervisor': ['Carly', 'Guido', 'Steve']})\n",
    "display('df3', 'df4')"
   ]
  },
  {
   "cell_type": "code",
   "execution_count": null,
   "metadata": {
    "colab": {
     "base_uri": "https://localhost:8080/",
     "height": 175
    },
    "colab_type": "code",
    "executionInfo": {
     "elapsed": 427,
     "status": "ok",
     "timestamp": 1599768056815,
     "user": {
      "displayName": "Samir Gupta",
      "photoUrl": "",
      "userId": "08477919997854778705"
     },
     "user_tz": 240
    },
    "id": "ejedHW73mnBK",
    "outputId": "b2f0356b-cd89-4b86-ae28-c4a17efc4080"
   },
   "outputs": [
    {
     "data": {
      "text/html": [
       "<div>\n",
       "<style scoped>\n",
       "    .dataframe tbody tr th:only-of-type {\n",
       "        vertical-align: middle;\n",
       "    }\n",
       "\n",
       "    .dataframe tbody tr th {\n",
       "        vertical-align: top;\n",
       "    }\n",
       "\n",
       "    .dataframe thead th {\n",
       "        text-align: right;\n",
       "    }\n",
       "</style>\n",
       "<table border=\"1\" class=\"dataframe\">\n",
       "  <thead>\n",
       "    <tr style=\"text-align: right;\">\n",
       "      <th></th>\n",
       "      <th>employee</th>\n",
       "      <th>group</th>\n",
       "      <th>hire_date</th>\n",
       "      <th>supervisor</th>\n",
       "    </tr>\n",
       "  </thead>\n",
       "  <tbody>\n",
       "    <tr>\n",
       "      <th>0</th>\n",
       "      <td>Bob</td>\n",
       "      <td>Accounting</td>\n",
       "      <td>2008</td>\n",
       "      <td>Carly</td>\n",
       "    </tr>\n",
       "    <tr>\n",
       "      <th>1</th>\n",
       "      <td>Jake</td>\n",
       "      <td>Engineering</td>\n",
       "      <td>2012</td>\n",
       "      <td>Guido</td>\n",
       "    </tr>\n",
       "    <tr>\n",
       "      <th>2</th>\n",
       "      <td>Lisa</td>\n",
       "      <td>Engineering</td>\n",
       "      <td>2004</td>\n",
       "      <td>Guido</td>\n",
       "    </tr>\n",
       "    <tr>\n",
       "      <th>3</th>\n",
       "      <td>Sue</td>\n",
       "      <td>HR</td>\n",
       "      <td>2014</td>\n",
       "      <td>Steve</td>\n",
       "    </tr>\n",
       "  </tbody>\n",
       "</table>\n",
       "</div>"
      ],
      "text/plain": [
       "  employee        group  hire_date supervisor\n",
       "0      Bob   Accounting       2008      Carly\n",
       "1     Jake  Engineering       2012      Guido\n",
       "2     Lisa  Engineering       2004      Guido\n",
       "3      Sue           HR       2014      Steve"
      ]
     },
     "execution_count": 119,
     "metadata": {
      "tags": []
     },
     "output_type": "execute_result"
    }
   ],
   "source": [
    "pd.merge(df3, df4)"
   ]
  },
  {
   "cell_type": "markdown",
   "metadata": {
    "colab_type": "text",
    "id": "_c_ZnJuPWhaF"
   },
   "source": [
    "Many-to-Many"
   ]
  },
  {
   "cell_type": "code",
   "execution_count": null,
   "metadata": {
    "colab": {
     "base_uri": "https://localhost:8080/",
     "height": 287
    },
    "colab_type": "code",
    "executionInfo": {
     "elapsed": 297,
     "status": "ok",
     "timestamp": 1599768076061,
     "user": {
      "displayName": "Samir Gupta",
      "photoUrl": "",
      "userId": "08477919997854778705"
     },
     "user_tz": 240
    },
    "id": "aZ0iKAbpWlCN",
    "outputId": "515140e3-62a1-42ce-edf0-b3abfda5b858"
   },
   "outputs": [
    {
     "data": {
      "text/html": [
       "<div style=\"float: left; padding: 10px;\">\n",
       "    <p style='font-family:\"Courier New\", Courier, monospace'>df1</p><div>\n",
       "<style scoped>\n",
       "    .dataframe tbody tr th:only-of-type {\n",
       "        vertical-align: middle;\n",
       "    }\n",
       "\n",
       "    .dataframe tbody tr th {\n",
       "        vertical-align: top;\n",
       "    }\n",
       "\n",
       "    .dataframe thead th {\n",
       "        text-align: right;\n",
       "    }\n",
       "</style>\n",
       "<table border=\"1\" class=\"dataframe\">\n",
       "  <thead>\n",
       "    <tr style=\"text-align: right;\">\n",
       "      <th></th>\n",
       "      <th>employee</th>\n",
       "      <th>group</th>\n",
       "    </tr>\n",
       "  </thead>\n",
       "  <tbody>\n",
       "    <tr>\n",
       "      <th>0</th>\n",
       "      <td>Bob</td>\n",
       "      <td>Accounting</td>\n",
       "    </tr>\n",
       "    <tr>\n",
       "      <th>1</th>\n",
       "      <td>Jake</td>\n",
       "      <td>Engineering</td>\n",
       "    </tr>\n",
       "    <tr>\n",
       "      <th>2</th>\n",
       "      <td>Lisa</td>\n",
       "      <td>Engineering</td>\n",
       "    </tr>\n",
       "    <tr>\n",
       "      <th>3</th>\n",
       "      <td>Sue</td>\n",
       "      <td>HR</td>\n",
       "    </tr>\n",
       "  </tbody>\n",
       "</table>\n",
       "</div>\n",
       "    </div>\n",
       "<div style=\"float: left; padding: 10px;\">\n",
       "    <p style='font-family:\"Courier New\", Courier, monospace'>df5</p><div>\n",
       "<style scoped>\n",
       "    .dataframe tbody tr th:only-of-type {\n",
       "        vertical-align: middle;\n",
       "    }\n",
       "\n",
       "    .dataframe tbody tr th {\n",
       "        vertical-align: top;\n",
       "    }\n",
       "\n",
       "    .dataframe thead th {\n",
       "        text-align: right;\n",
       "    }\n",
       "</style>\n",
       "<table border=\"1\" class=\"dataframe\">\n",
       "  <thead>\n",
       "    <tr style=\"text-align: right;\">\n",
       "      <th></th>\n",
       "      <th>group</th>\n",
       "      <th>skills</th>\n",
       "    </tr>\n",
       "  </thead>\n",
       "  <tbody>\n",
       "    <tr>\n",
       "      <th>0</th>\n",
       "      <td>Accounting</td>\n",
       "      <td>math</td>\n",
       "    </tr>\n",
       "    <tr>\n",
       "      <th>1</th>\n",
       "      <td>Accounting</td>\n",
       "      <td>spreadsheets</td>\n",
       "    </tr>\n",
       "    <tr>\n",
       "      <th>2</th>\n",
       "      <td>Engineering</td>\n",
       "      <td>coding</td>\n",
       "    </tr>\n",
       "    <tr>\n",
       "      <th>3</th>\n",
       "      <td>Engineering</td>\n",
       "      <td>linux</td>\n",
       "    </tr>\n",
       "    <tr>\n",
       "      <th>4</th>\n",
       "      <td>HR</td>\n",
       "      <td>spreadsheets</td>\n",
       "    </tr>\n",
       "    <tr>\n",
       "      <th>5</th>\n",
       "      <td>HR</td>\n",
       "      <td>organization</td>\n",
       "    </tr>\n",
       "  </tbody>\n",
       "</table>\n",
       "</div>\n",
       "    </div>"
      ],
      "text/plain": [
       "df1\n",
       "  employee        group\n",
       "0      Bob   Accounting\n",
       "1     Jake  Engineering\n",
       "2     Lisa  Engineering\n",
       "3      Sue           HR\n",
       "\n",
       "df5\n",
       "         group        skills\n",
       "0   Accounting          math\n",
       "1   Accounting  spreadsheets\n",
       "2  Engineering        coding\n",
       "3  Engineering         linux\n",
       "4           HR  spreadsheets\n",
       "5           HR  organization"
      ]
     },
     "execution_count": 120,
     "metadata": {
      "tags": []
     },
     "output_type": "execute_result"
    }
   ],
   "source": [
    "df5 = pd.DataFrame({'group': ['Accounting', 'Accounting',\n",
    "                              'Engineering', 'Engineering', 'HR', 'HR'],\n",
    "                    'skills': ['math', 'spreadsheets', 'coding', 'linux',\n",
    "                               'spreadsheets', 'organization']})\n",
    "display('df1', 'df5')"
   ]
  },
  {
   "cell_type": "code",
   "execution_count": null,
   "metadata": {
    "colab": {
     "base_uri": "https://localhost:8080/",
     "height": 300
    },
    "colab_type": "code",
    "executionInfo": {
     "elapsed": 294,
     "status": "ok",
     "timestamp": 1599768078394,
     "user": {
      "displayName": "Samir Gupta",
      "photoUrl": "",
      "userId": "08477919997854778705"
     },
     "user_tz": 240
    },
    "id": "IxqZ2BDAm4m9",
    "outputId": "2dbb0bf0-9d4e-4fa3-ee66-13ef8fba0d31"
   },
   "outputs": [
    {
     "data": {
      "text/html": [
       "<div>\n",
       "<style scoped>\n",
       "    .dataframe tbody tr th:only-of-type {\n",
       "        vertical-align: middle;\n",
       "    }\n",
       "\n",
       "    .dataframe tbody tr th {\n",
       "        vertical-align: top;\n",
       "    }\n",
       "\n",
       "    .dataframe thead th {\n",
       "        text-align: right;\n",
       "    }\n",
       "</style>\n",
       "<table border=\"1\" class=\"dataframe\">\n",
       "  <thead>\n",
       "    <tr style=\"text-align: right;\">\n",
       "      <th></th>\n",
       "      <th>employee</th>\n",
       "      <th>group</th>\n",
       "      <th>skills</th>\n",
       "    </tr>\n",
       "  </thead>\n",
       "  <tbody>\n",
       "    <tr>\n",
       "      <th>0</th>\n",
       "      <td>Bob</td>\n",
       "      <td>Accounting</td>\n",
       "      <td>math</td>\n",
       "    </tr>\n",
       "    <tr>\n",
       "      <th>1</th>\n",
       "      <td>Bob</td>\n",
       "      <td>Accounting</td>\n",
       "      <td>spreadsheets</td>\n",
       "    </tr>\n",
       "    <tr>\n",
       "      <th>2</th>\n",
       "      <td>Jake</td>\n",
       "      <td>Engineering</td>\n",
       "      <td>coding</td>\n",
       "    </tr>\n",
       "    <tr>\n",
       "      <th>3</th>\n",
       "      <td>Jake</td>\n",
       "      <td>Engineering</td>\n",
       "      <td>linux</td>\n",
       "    </tr>\n",
       "    <tr>\n",
       "      <th>4</th>\n",
       "      <td>Lisa</td>\n",
       "      <td>Engineering</td>\n",
       "      <td>coding</td>\n",
       "    </tr>\n",
       "    <tr>\n",
       "      <th>5</th>\n",
       "      <td>Lisa</td>\n",
       "      <td>Engineering</td>\n",
       "      <td>linux</td>\n",
       "    </tr>\n",
       "    <tr>\n",
       "      <th>6</th>\n",
       "      <td>Sue</td>\n",
       "      <td>HR</td>\n",
       "      <td>spreadsheets</td>\n",
       "    </tr>\n",
       "    <tr>\n",
       "      <th>7</th>\n",
       "      <td>Sue</td>\n",
       "      <td>HR</td>\n",
       "      <td>organization</td>\n",
       "    </tr>\n",
       "  </tbody>\n",
       "</table>\n",
       "</div>"
      ],
      "text/plain": [
       "  employee        group        skills\n",
       "0      Bob   Accounting          math\n",
       "1      Bob   Accounting  spreadsheets\n",
       "2     Jake  Engineering        coding\n",
       "3     Jake  Engineering         linux\n",
       "4     Lisa  Engineering        coding\n",
       "5     Lisa  Engineering         linux\n",
       "6      Sue           HR  spreadsheets\n",
       "7      Sue           HR  organization"
      ]
     },
     "execution_count": 121,
     "metadata": {
      "tags": []
     },
     "output_type": "execute_result"
    }
   ],
   "source": [
    "pd.merge(df1, df5)"
   ]
  },
  {
   "cell_type": "markdown",
   "metadata": {
    "colab_type": "text",
    "id": "2-uX3DBLWuPY"
   },
   "source": [
    "### The `on` keyword\n",
    "\n",
    "Most simply, you can explicitly specify the name of the key column using the ``on`` keyword, which takes a column name or a list of column names:"
   ]
  },
  {
   "cell_type": "code",
   "execution_count": null,
   "metadata": {
    "colab": {
     "base_uri": "https://localhost:8080/",
     "height": 224
    },
    "colab_type": "code",
    "executionInfo": {
     "elapsed": 362,
     "status": "ok",
     "timestamp": 1599768105219,
     "user": {
      "displayName": "Samir Gupta",
      "photoUrl": "",
      "userId": "08477919997854778705"
     },
     "user_tz": 240
    },
    "id": "okqYKvRJWzsg",
    "outputId": "6c968756-5d18-4a3f-9f34-fbb8d88a55d6"
   },
   "outputs": [
    {
     "data": {
      "text/html": [
       "<div style=\"float: left; padding: 10px;\">\n",
       "    <p style='font-family:\"Courier New\", Courier, monospace'>df1</p><div>\n",
       "<style scoped>\n",
       "    .dataframe tbody tr th:only-of-type {\n",
       "        vertical-align: middle;\n",
       "    }\n",
       "\n",
       "    .dataframe tbody tr th {\n",
       "        vertical-align: top;\n",
       "    }\n",
       "\n",
       "    .dataframe thead th {\n",
       "        text-align: right;\n",
       "    }\n",
       "</style>\n",
       "<table border=\"1\" class=\"dataframe\">\n",
       "  <thead>\n",
       "    <tr style=\"text-align: right;\">\n",
       "      <th></th>\n",
       "      <th>employee</th>\n",
       "      <th>group</th>\n",
       "    </tr>\n",
       "  </thead>\n",
       "  <tbody>\n",
       "    <tr>\n",
       "      <th>0</th>\n",
       "      <td>Bob</td>\n",
       "      <td>Accounting</td>\n",
       "    </tr>\n",
       "    <tr>\n",
       "      <th>1</th>\n",
       "      <td>Jake</td>\n",
       "      <td>Engineering</td>\n",
       "    </tr>\n",
       "    <tr>\n",
       "      <th>2</th>\n",
       "      <td>Lisa</td>\n",
       "      <td>Engineering</td>\n",
       "    </tr>\n",
       "    <tr>\n",
       "      <th>3</th>\n",
       "      <td>Sue</td>\n",
       "      <td>HR</td>\n",
       "    </tr>\n",
       "  </tbody>\n",
       "</table>\n",
       "</div>\n",
       "    </div>\n",
       "<div style=\"float: left; padding: 10px;\">\n",
       "    <p style='font-family:\"Courier New\", Courier, monospace'>df2</p><div>\n",
       "<style scoped>\n",
       "    .dataframe tbody tr th:only-of-type {\n",
       "        vertical-align: middle;\n",
       "    }\n",
       "\n",
       "    .dataframe tbody tr th {\n",
       "        vertical-align: top;\n",
       "    }\n",
       "\n",
       "    .dataframe thead th {\n",
       "        text-align: right;\n",
       "    }\n",
       "</style>\n",
       "<table border=\"1\" class=\"dataframe\">\n",
       "  <thead>\n",
       "    <tr style=\"text-align: right;\">\n",
       "      <th></th>\n",
       "      <th>employee</th>\n",
       "      <th>hire_date</th>\n",
       "    </tr>\n",
       "  </thead>\n",
       "  <tbody>\n",
       "    <tr>\n",
       "      <th>0</th>\n",
       "      <td>Lisa</td>\n",
       "      <td>2004</td>\n",
       "    </tr>\n",
       "    <tr>\n",
       "      <th>1</th>\n",
       "      <td>Bob</td>\n",
       "      <td>2008</td>\n",
       "    </tr>\n",
       "    <tr>\n",
       "      <th>2</th>\n",
       "      <td>Jake</td>\n",
       "      <td>2012</td>\n",
       "    </tr>\n",
       "    <tr>\n",
       "      <th>3</th>\n",
       "      <td>Sue</td>\n",
       "      <td>2014</td>\n",
       "    </tr>\n",
       "  </tbody>\n",
       "</table>\n",
       "</div>\n",
       "    </div>"
      ],
      "text/plain": [
       "df1\n",
       "  employee        group\n",
       "0      Bob   Accounting\n",
       "1     Jake  Engineering\n",
       "2     Lisa  Engineering\n",
       "3      Sue           HR\n",
       "\n",
       "df2\n",
       "  employee  hire_date\n",
       "0     Lisa       2004\n",
       "1      Bob       2008\n",
       "2     Jake       2012\n",
       "3      Sue       2014"
      ]
     },
     "execution_count": 122,
     "metadata": {
      "tags": []
     },
     "output_type": "execute_result"
    }
   ],
   "source": [
    "display('df1', 'df2')"
   ]
  },
  {
   "cell_type": "code",
   "execution_count": null,
   "metadata": {
    "colab": {
     "base_uri": "https://localhost:8080/",
     "height": 175
    },
    "colab_type": "code",
    "executionInfo": {
     "elapsed": 319,
     "status": "ok",
     "timestamp": 1599768106626,
     "user": {
      "displayName": "Samir Gupta",
      "photoUrl": "",
      "userId": "08477919997854778705"
     },
     "user_tz": 240
    },
    "id": "UC4bL52jm_uu",
    "outputId": "27eb6aed-c401-4229-93ff-2b3792d83025"
   },
   "outputs": [
    {
     "data": {
      "text/html": [
       "<div>\n",
       "<style scoped>\n",
       "    .dataframe tbody tr th:only-of-type {\n",
       "        vertical-align: middle;\n",
       "    }\n",
       "\n",
       "    .dataframe tbody tr th {\n",
       "        vertical-align: top;\n",
       "    }\n",
       "\n",
       "    .dataframe thead th {\n",
       "        text-align: right;\n",
       "    }\n",
       "</style>\n",
       "<table border=\"1\" class=\"dataframe\">\n",
       "  <thead>\n",
       "    <tr style=\"text-align: right;\">\n",
       "      <th></th>\n",
       "      <th>employee</th>\n",
       "      <th>group</th>\n",
       "      <th>hire_date</th>\n",
       "    </tr>\n",
       "  </thead>\n",
       "  <tbody>\n",
       "    <tr>\n",
       "      <th>0</th>\n",
       "      <td>Bob</td>\n",
       "      <td>Accounting</td>\n",
       "      <td>2008</td>\n",
       "    </tr>\n",
       "    <tr>\n",
       "      <th>1</th>\n",
       "      <td>Jake</td>\n",
       "      <td>Engineering</td>\n",
       "      <td>2012</td>\n",
       "    </tr>\n",
       "    <tr>\n",
       "      <th>2</th>\n",
       "      <td>Lisa</td>\n",
       "      <td>Engineering</td>\n",
       "      <td>2004</td>\n",
       "    </tr>\n",
       "    <tr>\n",
       "      <th>3</th>\n",
       "      <td>Sue</td>\n",
       "      <td>HR</td>\n",
       "      <td>2014</td>\n",
       "    </tr>\n",
       "  </tbody>\n",
       "</table>\n",
       "</div>"
      ],
      "text/plain": [
       "  employee        group  hire_date\n",
       "0      Bob   Accounting       2008\n",
       "1     Jake  Engineering       2012\n",
       "2     Lisa  Engineering       2004\n",
       "3      Sue           HR       2014"
      ]
     },
     "execution_count": 123,
     "metadata": {
      "tags": []
     },
     "output_type": "execute_result"
    }
   ],
   "source": [
    "pd.merge(df1, df2, on='employee')"
   ]
  },
  {
   "cell_type": "markdown",
   "metadata": {
    "colab_type": "text",
    "id": "a2WeOT5pW8KF"
   },
   "source": [
    "### The ``left_on`` and ``right_on`` keywords\n",
    "\n",
    "At times you may wish to merge two datasets with different column names; for example, we may have a dataset in which the employee name is labeled as \"name\" rather than \"employee\".\n",
    "In this case, we can use the ``left_on`` and ``right_on`` keywords to specify the two column names:"
   ]
  },
  {
   "cell_type": "code",
   "execution_count": null,
   "metadata": {
    "colab": {
     "base_uri": "https://localhost:8080/",
     "height": 224
    },
    "colab_type": "code",
    "executionInfo": {
     "elapsed": 374,
     "status": "ok",
     "timestamp": 1599768116772,
     "user": {
      "displayName": "Samir Gupta",
      "photoUrl": "",
      "userId": "08477919997854778705"
     },
     "user_tz": 240
    },
    "id": "b6_7JhchW9C_",
    "outputId": "95913d9a-e02c-45bc-b492-c1489dfda4e9"
   },
   "outputs": [
    {
     "data": {
      "text/html": [
       "<div style=\"float: left; padding: 10px;\">\n",
       "    <p style='font-family:\"Courier New\", Courier, monospace'>df1</p><div>\n",
       "<style scoped>\n",
       "    .dataframe tbody tr th:only-of-type {\n",
       "        vertical-align: middle;\n",
       "    }\n",
       "\n",
       "    .dataframe tbody tr th {\n",
       "        vertical-align: top;\n",
       "    }\n",
       "\n",
       "    .dataframe thead th {\n",
       "        text-align: right;\n",
       "    }\n",
       "</style>\n",
       "<table border=\"1\" class=\"dataframe\">\n",
       "  <thead>\n",
       "    <tr style=\"text-align: right;\">\n",
       "      <th></th>\n",
       "      <th>employee</th>\n",
       "      <th>group</th>\n",
       "    </tr>\n",
       "  </thead>\n",
       "  <tbody>\n",
       "    <tr>\n",
       "      <th>0</th>\n",
       "      <td>Bob</td>\n",
       "      <td>Accounting</td>\n",
       "    </tr>\n",
       "    <tr>\n",
       "      <th>1</th>\n",
       "      <td>Jake</td>\n",
       "      <td>Engineering</td>\n",
       "    </tr>\n",
       "    <tr>\n",
       "      <th>2</th>\n",
       "      <td>Lisa</td>\n",
       "      <td>Engineering</td>\n",
       "    </tr>\n",
       "    <tr>\n",
       "      <th>3</th>\n",
       "      <td>Sue</td>\n",
       "      <td>HR</td>\n",
       "    </tr>\n",
       "  </tbody>\n",
       "</table>\n",
       "</div>\n",
       "    </div>\n",
       "<div style=\"float: left; padding: 10px;\">\n",
       "    <p style='font-family:\"Courier New\", Courier, monospace'>df3</p><div>\n",
       "<style scoped>\n",
       "    .dataframe tbody tr th:only-of-type {\n",
       "        vertical-align: middle;\n",
       "    }\n",
       "\n",
       "    .dataframe tbody tr th {\n",
       "        vertical-align: top;\n",
       "    }\n",
       "\n",
       "    .dataframe thead th {\n",
       "        text-align: right;\n",
       "    }\n",
       "</style>\n",
       "<table border=\"1\" class=\"dataframe\">\n",
       "  <thead>\n",
       "    <tr style=\"text-align: right;\">\n",
       "      <th></th>\n",
       "      <th>name</th>\n",
       "      <th>salary</th>\n",
       "    </tr>\n",
       "  </thead>\n",
       "  <tbody>\n",
       "    <tr>\n",
       "      <th>0</th>\n",
       "      <td>Bob</td>\n",
       "      <td>70000</td>\n",
       "    </tr>\n",
       "    <tr>\n",
       "      <th>1</th>\n",
       "      <td>Jake</td>\n",
       "      <td>80000</td>\n",
       "    </tr>\n",
       "    <tr>\n",
       "      <th>2</th>\n",
       "      <td>Lisa</td>\n",
       "      <td>120000</td>\n",
       "    </tr>\n",
       "    <tr>\n",
       "      <th>3</th>\n",
       "      <td>Sue</td>\n",
       "      <td>90000</td>\n",
       "    </tr>\n",
       "  </tbody>\n",
       "</table>\n",
       "</div>\n",
       "    </div>"
      ],
      "text/plain": [
       "df1\n",
       "  employee        group\n",
       "0      Bob   Accounting\n",
       "1     Jake  Engineering\n",
       "2     Lisa  Engineering\n",
       "3      Sue           HR\n",
       "\n",
       "df3\n",
       "   name  salary\n",
       "0   Bob   70000\n",
       "1  Jake   80000\n",
       "2  Lisa  120000\n",
       "3   Sue   90000"
      ]
     },
     "execution_count": 124,
     "metadata": {
      "tags": []
     },
     "output_type": "execute_result"
    }
   ],
   "source": [
    "df3 = pd.DataFrame({'name': ['Bob', 'Jake', 'Lisa', 'Sue'],\n",
    "                    'salary': [70000, 80000, 120000, 90000]})\n",
    "display('df1', 'df3')"
   ]
  },
  {
   "cell_type": "code",
   "execution_count": null,
   "metadata": {
    "colab": {
     "base_uri": "https://localhost:8080/",
     "height": 175
    },
    "colab_type": "code",
    "executionInfo": {
     "elapsed": 244,
     "status": "ok",
     "timestamp": 1599768123767,
     "user": {
      "displayName": "Samir Gupta",
      "photoUrl": "",
      "userId": "08477919997854778705"
     },
     "user_tz": 240
    },
    "id": "TkYLbeCznESl",
    "outputId": "af0677fc-1bf8-4ba5-ebd2-2b06a14d98a5"
   },
   "outputs": [
    {
     "data": {
      "text/html": [
       "<div>\n",
       "<style scoped>\n",
       "    .dataframe tbody tr th:only-of-type {\n",
       "        vertical-align: middle;\n",
       "    }\n",
       "\n",
       "    .dataframe tbody tr th {\n",
       "        vertical-align: top;\n",
       "    }\n",
       "\n",
       "    .dataframe thead th {\n",
       "        text-align: right;\n",
       "    }\n",
       "</style>\n",
       "<table border=\"1\" class=\"dataframe\">\n",
       "  <thead>\n",
       "    <tr style=\"text-align: right;\">\n",
       "      <th></th>\n",
       "      <th>employee</th>\n",
       "      <th>group</th>\n",
       "      <th>name</th>\n",
       "      <th>salary</th>\n",
       "    </tr>\n",
       "  </thead>\n",
       "  <tbody>\n",
       "    <tr>\n",
       "      <th>0</th>\n",
       "      <td>Bob</td>\n",
       "      <td>Accounting</td>\n",
       "      <td>Bob</td>\n",
       "      <td>70000</td>\n",
       "    </tr>\n",
       "    <tr>\n",
       "      <th>1</th>\n",
       "      <td>Jake</td>\n",
       "      <td>Engineering</td>\n",
       "      <td>Jake</td>\n",
       "      <td>80000</td>\n",
       "    </tr>\n",
       "    <tr>\n",
       "      <th>2</th>\n",
       "      <td>Lisa</td>\n",
       "      <td>Engineering</td>\n",
       "      <td>Lisa</td>\n",
       "      <td>120000</td>\n",
       "    </tr>\n",
       "    <tr>\n",
       "      <th>3</th>\n",
       "      <td>Sue</td>\n",
       "      <td>HR</td>\n",
       "      <td>Sue</td>\n",
       "      <td>90000</td>\n",
       "    </tr>\n",
       "  </tbody>\n",
       "</table>\n",
       "</div>"
      ],
      "text/plain": [
       "  employee        group  name  salary\n",
       "0      Bob   Accounting   Bob   70000\n",
       "1     Jake  Engineering  Jake   80000\n",
       "2     Lisa  Engineering  Lisa  120000\n",
       "3      Sue           HR   Sue   90000"
      ]
     },
     "execution_count": 125,
     "metadata": {
      "tags": []
     },
     "output_type": "execute_result"
    }
   ],
   "source": [
    "pd.merge(df1, df3, left_on=\"employee\", right_on=\"name\")"
   ]
  },
  {
   "cell_type": "markdown",
   "metadata": {
    "colab_type": "text",
    "id": "2bEMAaKSXEtn"
   },
   "source": [
    "###Set Arithmetic for Joins: inner, outer: The `how` keyword\n",
    "\n",
    "In all the preceding examples we have glossed over one important consideration in performing a join: the type of set arithmetic used in the join.\n",
    "This comes up when a value appears in one key column but not the other. Consider this example:"
   ]
  },
  {
   "cell_type": "code",
   "execution_count": null,
   "metadata": {
    "colab": {
     "base_uri": "https://localhost:8080/",
     "height": 193
    },
    "colab_type": "code",
    "executionInfo": {
     "elapsed": 307,
     "status": "ok",
     "timestamp": 1599768141231,
     "user": {
      "displayName": "Samir Gupta",
      "photoUrl": "",
      "userId": "08477919997854778705"
     },
     "user_tz": 240
    },
    "id": "ClxlJuRfXgjL",
    "outputId": "89453960-9d5d-44de-9d0e-e68729ba186e"
   },
   "outputs": [
    {
     "data": {
      "text/html": [
       "<div style=\"float: left; padding: 10px;\">\n",
       "    <p style='font-family:\"Courier New\", Courier, monospace'>df6</p><div>\n",
       "<style scoped>\n",
       "    .dataframe tbody tr th:only-of-type {\n",
       "        vertical-align: middle;\n",
       "    }\n",
       "\n",
       "    .dataframe tbody tr th {\n",
       "        vertical-align: top;\n",
       "    }\n",
       "\n",
       "    .dataframe thead th {\n",
       "        text-align: right;\n",
       "    }\n",
       "</style>\n",
       "<table border=\"1\" class=\"dataframe\">\n",
       "  <thead>\n",
       "    <tr style=\"text-align: right;\">\n",
       "      <th></th>\n",
       "      <th>name</th>\n",
       "      <th>food</th>\n",
       "    </tr>\n",
       "  </thead>\n",
       "  <tbody>\n",
       "    <tr>\n",
       "      <th>0</th>\n",
       "      <td>Peter</td>\n",
       "      <td>fish</td>\n",
       "    </tr>\n",
       "    <tr>\n",
       "      <th>1</th>\n",
       "      <td>Paul</td>\n",
       "      <td>beans</td>\n",
       "    </tr>\n",
       "    <tr>\n",
       "      <th>2</th>\n",
       "      <td>Mary</td>\n",
       "      <td>bread</td>\n",
       "    </tr>\n",
       "  </tbody>\n",
       "</table>\n",
       "</div>\n",
       "    </div>\n",
       "<div style=\"float: left; padding: 10px;\">\n",
       "    <p style='font-family:\"Courier New\", Courier, monospace'>df7</p><div>\n",
       "<style scoped>\n",
       "    .dataframe tbody tr th:only-of-type {\n",
       "        vertical-align: middle;\n",
       "    }\n",
       "\n",
       "    .dataframe tbody tr th {\n",
       "        vertical-align: top;\n",
       "    }\n",
       "\n",
       "    .dataframe thead th {\n",
       "        text-align: right;\n",
       "    }\n",
       "</style>\n",
       "<table border=\"1\" class=\"dataframe\">\n",
       "  <thead>\n",
       "    <tr style=\"text-align: right;\">\n",
       "      <th></th>\n",
       "      <th>name</th>\n",
       "      <th>drink</th>\n",
       "    </tr>\n",
       "  </thead>\n",
       "  <tbody>\n",
       "    <tr>\n",
       "      <th>0</th>\n",
       "      <td>Mary</td>\n",
       "      <td>wine</td>\n",
       "    </tr>\n",
       "    <tr>\n",
       "      <th>1</th>\n",
       "      <td>Joseph</td>\n",
       "      <td>beer</td>\n",
       "    </tr>\n",
       "  </tbody>\n",
       "</table>\n",
       "</div>\n",
       "    </div>"
      ],
      "text/plain": [
       "df6\n",
       "    name   food\n",
       "0  Peter   fish\n",
       "1   Paul  beans\n",
       "2   Mary  bread\n",
       "\n",
       "df7\n",
       "     name drink\n",
       "0    Mary  wine\n",
       "1  Joseph  beer"
      ]
     },
     "execution_count": 126,
     "metadata": {
      "tags": []
     },
     "output_type": "execute_result"
    }
   ],
   "source": [
    "df6 = pd.DataFrame({'name': ['Peter', 'Paul', 'Mary'],\n",
    "                    'food': ['fish', 'beans', 'bread']},\n",
    "                   columns=['name', 'food'])\n",
    "df7 = pd.DataFrame({'name': ['Mary', 'Joseph'],\n",
    "                    'drink': ['wine', 'beer']},\n",
    "                   columns=['name', 'drink'])\n",
    "display('df6', 'df7')"
   ]
  },
  {
   "cell_type": "code",
   "execution_count": null,
   "metadata": {
    "colab": {
     "base_uri": "https://localhost:8080/",
     "height": 81
    },
    "colab_type": "code",
    "executionInfo": {
     "elapsed": 314,
     "status": "ok",
     "timestamp": 1599768142927,
     "user": {
      "displayName": "Samir Gupta",
      "photoUrl": "",
      "userId": "08477919997854778705"
     },
     "user_tz": 240
    },
    "id": "5uz9luu_nIhD",
    "outputId": "cdf1017d-682f-4f77-b2ce-dff36f96f8b1"
   },
   "outputs": [
    {
     "data": {
      "text/html": [
       "<div>\n",
       "<style scoped>\n",
       "    .dataframe tbody tr th:only-of-type {\n",
       "        vertical-align: middle;\n",
       "    }\n",
       "\n",
       "    .dataframe tbody tr th {\n",
       "        vertical-align: top;\n",
       "    }\n",
       "\n",
       "    .dataframe thead th {\n",
       "        text-align: right;\n",
       "    }\n",
       "</style>\n",
       "<table border=\"1\" class=\"dataframe\">\n",
       "  <thead>\n",
       "    <tr style=\"text-align: right;\">\n",
       "      <th></th>\n",
       "      <th>name</th>\n",
       "      <th>food</th>\n",
       "      <th>drink</th>\n",
       "    </tr>\n",
       "  </thead>\n",
       "  <tbody>\n",
       "    <tr>\n",
       "      <th>0</th>\n",
       "      <td>Mary</td>\n",
       "      <td>bread</td>\n",
       "      <td>wine</td>\n",
       "    </tr>\n",
       "  </tbody>\n",
       "</table>\n",
       "</div>"
      ],
      "text/plain": [
       "   name   food drink\n",
       "0  Mary  bread  wine"
      ]
     },
     "execution_count": 127,
     "metadata": {
      "tags": []
     },
     "output_type": "execute_result"
    }
   ],
   "source": [
    "pd.merge(df6, df7)"
   ]
  },
  {
   "cell_type": "markdown",
   "metadata": {
    "colab_type": "text",
    "id": "41CYoyFZXoLW"
   },
   "source": [
    "Here we have merged two datasets that have only a single \"name\" entry in common: Mary.\n",
    "By default, the result contains the *intersection* of the two sets of inputs; this is what is known as an *inner join*.\n",
    "We can specify this explicitly using the ``how`` keyword, which defaults to ``\"inner\"``:"
   ]
  },
  {
   "cell_type": "code",
   "execution_count": null,
   "metadata": {
    "colab": {
     "base_uri": "https://localhost:8080/",
     "height": 81
    },
    "colab_type": "code",
    "executionInfo": {
     "elapsed": 345,
     "status": "ok",
     "timestamp": 1599768148814,
     "user": {
      "displayName": "Samir Gupta",
      "photoUrl": "",
      "userId": "08477919997854778705"
     },
     "user_tz": 240
    },
    "id": "ePdeif8jXsKQ",
    "outputId": "10a894bd-a535-4f0c-83b6-e375bc15fe21"
   },
   "outputs": [
    {
     "data": {
      "text/html": [
       "<div>\n",
       "<style scoped>\n",
       "    .dataframe tbody tr th:only-of-type {\n",
       "        vertical-align: middle;\n",
       "    }\n",
       "\n",
       "    .dataframe tbody tr th {\n",
       "        vertical-align: top;\n",
       "    }\n",
       "\n",
       "    .dataframe thead th {\n",
       "        text-align: right;\n",
       "    }\n",
       "</style>\n",
       "<table border=\"1\" class=\"dataframe\">\n",
       "  <thead>\n",
       "    <tr style=\"text-align: right;\">\n",
       "      <th></th>\n",
       "      <th>name</th>\n",
       "      <th>food</th>\n",
       "      <th>drink</th>\n",
       "    </tr>\n",
       "  </thead>\n",
       "  <tbody>\n",
       "    <tr>\n",
       "      <th>0</th>\n",
       "      <td>Mary</td>\n",
       "      <td>bread</td>\n",
       "      <td>wine</td>\n",
       "    </tr>\n",
       "  </tbody>\n",
       "</table>\n",
       "</div>"
      ],
      "text/plain": [
       "   name   food drink\n",
       "0  Mary  bread  wine"
      ]
     },
     "execution_count": 128,
     "metadata": {
      "tags": []
     },
     "output_type": "execute_result"
    }
   ],
   "source": [
    "pd.merge(df6, df7, how='inner')"
   ]
  },
  {
   "cell_type": "markdown",
   "metadata": {
    "colab_type": "text",
    "id": "6xhLzDI8XxMe"
   },
   "source": [
    "Other options for the ``how`` keyword are ``'outer'``, ``'left'``, and ``'right'``.\n",
    "An *outer join* returns a join over the union of the input columns, and fills in all missing values with NAs:"
   ]
  },
  {
   "cell_type": "code",
   "execution_count": null,
   "metadata": {
    "colab": {
     "base_uri": "https://localhost:8080/",
     "height": 193
    },
    "colab_type": "code",
    "executionInfo": {
     "elapsed": 303,
     "status": "ok",
     "timestamp": 1599768155433,
     "user": {
      "displayName": "Samir Gupta",
      "photoUrl": "",
      "userId": "08477919997854778705"
     },
     "user_tz": 240
    },
    "id": "42KRg6fuXyK1",
    "outputId": "b7afa731-0738-4ee3-e59b-d30cf1eab811"
   },
   "outputs": [
    {
     "data": {
      "text/html": [
       "<div style=\"float: left; padding: 10px;\">\n",
       "    <p style='font-family:\"Courier New\", Courier, monospace'>df6</p><div>\n",
       "<style scoped>\n",
       "    .dataframe tbody tr th:only-of-type {\n",
       "        vertical-align: middle;\n",
       "    }\n",
       "\n",
       "    .dataframe tbody tr th {\n",
       "        vertical-align: top;\n",
       "    }\n",
       "\n",
       "    .dataframe thead th {\n",
       "        text-align: right;\n",
       "    }\n",
       "</style>\n",
       "<table border=\"1\" class=\"dataframe\">\n",
       "  <thead>\n",
       "    <tr style=\"text-align: right;\">\n",
       "      <th></th>\n",
       "      <th>name</th>\n",
       "      <th>food</th>\n",
       "    </tr>\n",
       "  </thead>\n",
       "  <tbody>\n",
       "    <tr>\n",
       "      <th>0</th>\n",
       "      <td>Peter</td>\n",
       "      <td>fish</td>\n",
       "    </tr>\n",
       "    <tr>\n",
       "      <th>1</th>\n",
       "      <td>Paul</td>\n",
       "      <td>beans</td>\n",
       "    </tr>\n",
       "    <tr>\n",
       "      <th>2</th>\n",
       "      <td>Mary</td>\n",
       "      <td>bread</td>\n",
       "    </tr>\n",
       "  </tbody>\n",
       "</table>\n",
       "</div>\n",
       "    </div>\n",
       "<div style=\"float: left; padding: 10px;\">\n",
       "    <p style='font-family:\"Courier New\", Courier, monospace'>df7</p><div>\n",
       "<style scoped>\n",
       "    .dataframe tbody tr th:only-of-type {\n",
       "        vertical-align: middle;\n",
       "    }\n",
       "\n",
       "    .dataframe tbody tr th {\n",
       "        vertical-align: top;\n",
       "    }\n",
       "\n",
       "    .dataframe thead th {\n",
       "        text-align: right;\n",
       "    }\n",
       "</style>\n",
       "<table border=\"1\" class=\"dataframe\">\n",
       "  <thead>\n",
       "    <tr style=\"text-align: right;\">\n",
       "      <th></th>\n",
       "      <th>name</th>\n",
       "      <th>drink</th>\n",
       "    </tr>\n",
       "  </thead>\n",
       "  <tbody>\n",
       "    <tr>\n",
       "      <th>0</th>\n",
       "      <td>Mary</td>\n",
       "      <td>wine</td>\n",
       "    </tr>\n",
       "    <tr>\n",
       "      <th>1</th>\n",
       "      <td>Joseph</td>\n",
       "      <td>beer</td>\n",
       "    </tr>\n",
       "  </tbody>\n",
       "</table>\n",
       "</div>\n",
       "    </div>"
      ],
      "text/plain": [
       "df6\n",
       "    name   food\n",
       "0  Peter   fish\n",
       "1   Paul  beans\n",
       "2   Mary  bread\n",
       "\n",
       "df7\n",
       "     name drink\n",
       "0    Mary  wine\n",
       "1  Joseph  beer"
      ]
     },
     "execution_count": 129,
     "metadata": {
      "tags": []
     },
     "output_type": "execute_result"
    }
   ],
   "source": [
    "display('df6', 'df7')"
   ]
  },
  {
   "cell_type": "code",
   "execution_count": null,
   "metadata": {
    "colab": {
     "base_uri": "https://localhost:8080/",
     "height": 175
    },
    "colab_type": "code",
    "executionInfo": {
     "elapsed": 301,
     "status": "ok",
     "timestamp": 1599768165980,
     "user": {
      "displayName": "Samir Gupta",
      "photoUrl": "",
      "userId": "08477919997854778705"
     },
     "user_tz": 240
    },
    "id": "MBtquHubnOY9",
    "outputId": "a99ad802-5d24-4cb6-d7f2-cecf47ed0366"
   },
   "outputs": [
    {
     "data": {
      "text/html": [
       "<div>\n",
       "<style scoped>\n",
       "    .dataframe tbody tr th:only-of-type {\n",
       "        vertical-align: middle;\n",
       "    }\n",
       "\n",
       "    .dataframe tbody tr th {\n",
       "        vertical-align: top;\n",
       "    }\n",
       "\n",
       "    .dataframe thead th {\n",
       "        text-align: right;\n",
       "    }\n",
       "</style>\n",
       "<table border=\"1\" class=\"dataframe\">\n",
       "  <thead>\n",
       "    <tr style=\"text-align: right;\">\n",
       "      <th></th>\n",
       "      <th>name</th>\n",
       "      <th>food</th>\n",
       "      <th>drink</th>\n",
       "    </tr>\n",
       "  </thead>\n",
       "  <tbody>\n",
       "    <tr>\n",
       "      <th>0</th>\n",
       "      <td>Peter</td>\n",
       "      <td>fish</td>\n",
       "      <td>NaN</td>\n",
       "    </tr>\n",
       "    <tr>\n",
       "      <th>1</th>\n",
       "      <td>Paul</td>\n",
       "      <td>beans</td>\n",
       "      <td>NaN</td>\n",
       "    </tr>\n",
       "    <tr>\n",
       "      <th>2</th>\n",
       "      <td>Mary</td>\n",
       "      <td>bread</td>\n",
       "      <td>wine</td>\n",
       "    </tr>\n",
       "    <tr>\n",
       "      <th>3</th>\n",
       "      <td>Joseph</td>\n",
       "      <td>NaN</td>\n",
       "      <td>beer</td>\n",
       "    </tr>\n",
       "  </tbody>\n",
       "</table>\n",
       "</div>"
      ],
      "text/plain": [
       "     name   food drink\n",
       "0   Peter   fish   NaN\n",
       "1    Paul  beans   NaN\n",
       "2    Mary  bread  wine\n",
       "3  Joseph    NaN  beer"
      ]
     },
     "execution_count": 130,
     "metadata": {
      "tags": []
     },
     "output_type": "execute_result"
    }
   ],
   "source": []
  },
  {
   "cell_type": "markdown",
   "metadata": {
    "colab_type": "text",
    "id": "6GvqczAfX28l"
   },
   "source": [
    "The *left join* and *right join* return joins over the left entries and right entries, respectively.\n",
    "For example:"
   ]
  },
  {
   "cell_type": "code",
   "execution_count": null,
   "metadata": {
    "colab": {
     "base_uri": "https://localhost:8080/",
     "height": 193
    },
    "colab_type": "code",
    "executionInfo": {
     "elapsed": 370,
     "status": "ok",
     "timestamp": 1599768179991,
     "user": {
      "displayName": "Samir Gupta",
      "photoUrl": "",
      "userId": "08477919997854778705"
     },
     "user_tz": 240
    },
    "id": "T4KP_Pe-X12B",
    "outputId": "e0c2931f-2f65-4b9c-cffa-c07f73229dc8"
   },
   "outputs": [
    {
     "data": {
      "text/html": [
       "<div style=\"float: left; padding: 10px;\">\n",
       "    <p style='font-family:\"Courier New\", Courier, monospace'>df6</p><div>\n",
       "<style scoped>\n",
       "    .dataframe tbody tr th:only-of-type {\n",
       "        vertical-align: middle;\n",
       "    }\n",
       "\n",
       "    .dataframe tbody tr th {\n",
       "        vertical-align: top;\n",
       "    }\n",
       "\n",
       "    .dataframe thead th {\n",
       "        text-align: right;\n",
       "    }\n",
       "</style>\n",
       "<table border=\"1\" class=\"dataframe\">\n",
       "  <thead>\n",
       "    <tr style=\"text-align: right;\">\n",
       "      <th></th>\n",
       "      <th>name</th>\n",
       "      <th>food</th>\n",
       "    </tr>\n",
       "  </thead>\n",
       "  <tbody>\n",
       "    <tr>\n",
       "      <th>0</th>\n",
       "      <td>Peter</td>\n",
       "      <td>fish</td>\n",
       "    </tr>\n",
       "    <tr>\n",
       "      <th>1</th>\n",
       "      <td>Paul</td>\n",
       "      <td>beans</td>\n",
       "    </tr>\n",
       "    <tr>\n",
       "      <th>2</th>\n",
       "      <td>Mary</td>\n",
       "      <td>bread</td>\n",
       "    </tr>\n",
       "  </tbody>\n",
       "</table>\n",
       "</div>\n",
       "    </div>\n",
       "<div style=\"float: left; padding: 10px;\">\n",
       "    <p style='font-family:\"Courier New\", Courier, monospace'>df7</p><div>\n",
       "<style scoped>\n",
       "    .dataframe tbody tr th:only-of-type {\n",
       "        vertical-align: middle;\n",
       "    }\n",
       "\n",
       "    .dataframe tbody tr th {\n",
       "        vertical-align: top;\n",
       "    }\n",
       "\n",
       "    .dataframe thead th {\n",
       "        text-align: right;\n",
       "    }\n",
       "</style>\n",
       "<table border=\"1\" class=\"dataframe\">\n",
       "  <thead>\n",
       "    <tr style=\"text-align: right;\">\n",
       "      <th></th>\n",
       "      <th>name</th>\n",
       "      <th>drink</th>\n",
       "    </tr>\n",
       "  </thead>\n",
       "  <tbody>\n",
       "    <tr>\n",
       "      <th>0</th>\n",
       "      <td>Mary</td>\n",
       "      <td>wine</td>\n",
       "    </tr>\n",
       "    <tr>\n",
       "      <th>1</th>\n",
       "      <td>Joseph</td>\n",
       "      <td>beer</td>\n",
       "    </tr>\n",
       "  </tbody>\n",
       "</table>\n",
       "</div>\n",
       "    </div>"
      ],
      "text/plain": [
       "df6\n",
       "    name   food\n",
       "0  Peter   fish\n",
       "1   Paul  beans\n",
       "2   Mary  bread\n",
       "\n",
       "df7\n",
       "     name drink\n",
       "0    Mary  wine\n",
       "1  Joseph  beer"
      ]
     },
     "execution_count": 131,
     "metadata": {
      "tags": []
     },
     "output_type": "execute_result"
    }
   ],
   "source": [
    "display('df6', 'df7')"
   ]
  },
  {
   "cell_type": "code",
   "execution_count": null,
   "metadata": {
    "colab": {
     "base_uri": "https://localhost:8080/",
     "height": 143
    },
    "colab_type": "code",
    "executionInfo": {
     "elapsed": 352,
     "status": "ok",
     "timestamp": 1599768181525,
     "user": {
      "displayName": "Samir Gupta",
      "photoUrl": "",
      "userId": "08477919997854778705"
     },
     "user_tz": 240
    },
    "id": "o8Q9jZS_nR5I",
    "outputId": "9b9b9dd5-8e93-40cc-c8e5-f4c529f8bdc3"
   },
   "outputs": [
    {
     "data": {
      "text/html": [
       "<div>\n",
       "<style scoped>\n",
       "    .dataframe tbody tr th:only-of-type {\n",
       "        vertical-align: middle;\n",
       "    }\n",
       "\n",
       "    .dataframe tbody tr th {\n",
       "        vertical-align: top;\n",
       "    }\n",
       "\n",
       "    .dataframe thead th {\n",
       "        text-align: right;\n",
       "    }\n",
       "</style>\n",
       "<table border=\"1\" class=\"dataframe\">\n",
       "  <thead>\n",
       "    <tr style=\"text-align: right;\">\n",
       "      <th></th>\n",
       "      <th>name</th>\n",
       "      <th>food</th>\n",
       "      <th>drink</th>\n",
       "    </tr>\n",
       "  </thead>\n",
       "  <tbody>\n",
       "    <tr>\n",
       "      <th>0</th>\n",
       "      <td>Peter</td>\n",
       "      <td>fish</td>\n",
       "      <td>NaN</td>\n",
       "    </tr>\n",
       "    <tr>\n",
       "      <th>1</th>\n",
       "      <td>Paul</td>\n",
       "      <td>beans</td>\n",
       "      <td>NaN</td>\n",
       "    </tr>\n",
       "    <tr>\n",
       "      <th>2</th>\n",
       "      <td>Mary</td>\n",
       "      <td>bread</td>\n",
       "      <td>wine</td>\n",
       "    </tr>\n",
       "  </tbody>\n",
       "</table>\n",
       "</div>"
      ],
      "text/plain": [
       "    name   food drink\n",
       "0  Peter   fish   NaN\n",
       "1   Paul  beans   NaN\n",
       "2   Mary  bread  wine"
      ]
     },
     "execution_count": 132,
     "metadata": {
      "tags": []
     },
     "output_type": "execute_result"
    }
   ],
   "source": [
    "pd.merge(df6, df7, how='left')"
   ]
  },
  {
   "cell_type": "code",
   "execution_count": null,
   "metadata": {
    "colab": {
     "base_uri": "https://localhost:8080/",
     "height": 193
    },
    "colab_type": "code",
    "executionInfo": {
     "elapsed": 342,
     "status": "ok",
     "timestamp": 1599768193969,
     "user": {
      "displayName": "Samir Gupta",
      "photoUrl": "",
      "userId": "08477919997854778705"
     },
     "user_tz": 240
    },
    "id": "hA1dAT1FX6pX",
    "outputId": "6d97dfff-ba43-4612-866d-a2d4d5b7ff94"
   },
   "outputs": [
    {
     "data": {
      "text/html": [
       "<div style=\"float: left; padding: 10px;\">\n",
       "    <p style='font-family:\"Courier New\", Courier, monospace'>df6</p><div>\n",
       "<style scoped>\n",
       "    .dataframe tbody tr th:only-of-type {\n",
       "        vertical-align: middle;\n",
       "    }\n",
       "\n",
       "    .dataframe tbody tr th {\n",
       "        vertical-align: top;\n",
       "    }\n",
       "\n",
       "    .dataframe thead th {\n",
       "        text-align: right;\n",
       "    }\n",
       "</style>\n",
       "<table border=\"1\" class=\"dataframe\">\n",
       "  <thead>\n",
       "    <tr style=\"text-align: right;\">\n",
       "      <th></th>\n",
       "      <th>name</th>\n",
       "      <th>food</th>\n",
       "    </tr>\n",
       "  </thead>\n",
       "  <tbody>\n",
       "    <tr>\n",
       "      <th>0</th>\n",
       "      <td>Peter</td>\n",
       "      <td>fish</td>\n",
       "    </tr>\n",
       "    <tr>\n",
       "      <th>1</th>\n",
       "      <td>Paul</td>\n",
       "      <td>beans</td>\n",
       "    </tr>\n",
       "    <tr>\n",
       "      <th>2</th>\n",
       "      <td>Mary</td>\n",
       "      <td>bread</td>\n",
       "    </tr>\n",
       "  </tbody>\n",
       "</table>\n",
       "</div>\n",
       "    </div>\n",
       "<div style=\"float: left; padding: 10px;\">\n",
       "    <p style='font-family:\"Courier New\", Courier, monospace'>df7</p><div>\n",
       "<style scoped>\n",
       "    .dataframe tbody tr th:only-of-type {\n",
       "        vertical-align: middle;\n",
       "    }\n",
       "\n",
       "    .dataframe tbody tr th {\n",
       "        vertical-align: top;\n",
       "    }\n",
       "\n",
       "    .dataframe thead th {\n",
       "        text-align: right;\n",
       "    }\n",
       "</style>\n",
       "<table border=\"1\" class=\"dataframe\">\n",
       "  <thead>\n",
       "    <tr style=\"text-align: right;\">\n",
       "      <th></th>\n",
       "      <th>name</th>\n",
       "      <th>drink</th>\n",
       "    </tr>\n",
       "  </thead>\n",
       "  <tbody>\n",
       "    <tr>\n",
       "      <th>0</th>\n",
       "      <td>Mary</td>\n",
       "      <td>wine</td>\n",
       "    </tr>\n",
       "    <tr>\n",
       "      <th>1</th>\n",
       "      <td>Joseph</td>\n",
       "      <td>beer</td>\n",
       "    </tr>\n",
       "  </tbody>\n",
       "</table>\n",
       "</div>\n",
       "    </div>"
      ],
      "text/plain": [
       "df6\n",
       "    name   food\n",
       "0  Peter   fish\n",
       "1   Paul  beans\n",
       "2   Mary  bread\n",
       "\n",
       "df7\n",
       "     name drink\n",
       "0    Mary  wine\n",
       "1  Joseph  beer"
      ]
     },
     "execution_count": 133,
     "metadata": {
      "tags": []
     },
     "output_type": "execute_result"
    }
   ],
   "source": [
    "display('df6', 'df7')"
   ]
  },
  {
   "cell_type": "code",
   "execution_count": null,
   "metadata": {
    "colab": {
     "base_uri": "https://localhost:8080/",
     "height": 112
    },
    "colab_type": "code",
    "executionInfo": {
     "elapsed": 332,
     "status": "ok",
     "timestamp": 1599768206003,
     "user": {
      "displayName": "Samir Gupta",
      "photoUrl": "",
      "userId": "08477919997854778705"
     },
     "user_tz": 240
    },
    "id": "rQxeN1aCnW_T",
    "outputId": "9c1daf19-dfbd-4871-c747-26acab556e3a"
   },
   "outputs": [
    {
     "data": {
      "text/html": [
       "<div>\n",
       "<style scoped>\n",
       "    .dataframe tbody tr th:only-of-type {\n",
       "        vertical-align: middle;\n",
       "    }\n",
       "\n",
       "    .dataframe tbody tr th {\n",
       "        vertical-align: top;\n",
       "    }\n",
       "\n",
       "    .dataframe thead th {\n",
       "        text-align: right;\n",
       "    }\n",
       "</style>\n",
       "<table border=\"1\" class=\"dataframe\">\n",
       "  <thead>\n",
       "    <tr style=\"text-align: right;\">\n",
       "      <th></th>\n",
       "      <th>name</th>\n",
       "      <th>food</th>\n",
       "      <th>drink</th>\n",
       "    </tr>\n",
       "  </thead>\n",
       "  <tbody>\n",
       "    <tr>\n",
       "      <th>0</th>\n",
       "      <td>Mary</td>\n",
       "      <td>bread</td>\n",
       "      <td>wine</td>\n",
       "    </tr>\n",
       "    <tr>\n",
       "      <th>1</th>\n",
       "      <td>Joseph</td>\n",
       "      <td>NaN</td>\n",
       "      <td>beer</td>\n",
       "    </tr>\n",
       "  </tbody>\n",
       "</table>\n",
       "</div>"
      ],
      "text/plain": [
       "     name   food drink\n",
       "0    Mary  bread  wine\n",
       "1  Joseph    NaN  beer"
      ]
     },
     "execution_count": 135,
     "metadata": {
      "tags": []
     },
     "output_type": "execute_result"
    }
   ],
   "source": [
    "pd.merge(df6, df7, how='right')"
   ]
  },
  {
   "cell_type": "markdown",
   "metadata": {
    "colab_type": "text",
    "id": "mnmuRqYhZT8Q"
   },
   "source": [
    "## Further resources\n",
    "\n",
    "In this workshop, we've covered many of the basics of using Pandas effectively for data analysis.\n",
    "Still, much has been omitted from our discussion.\n",
    "To learn more about Pandas, I recommend the following resources:\n",
    "\n",
    "- [Pandas online documentation](http://pandas.pydata.org/): This is the go-to source for complete documentation of the package. While the examples in the documentation tend to be small generated datasets, the description of the options is complete and generally very useful for understanding the use of various functions.\n",
    "\n",
    "- [Python Data Science Handbook](https://colab.research.google.com/github/jakevdp/PythonDataScienceHandbook/blob/master/notebooks/Index.ipynb)  notebook version of the [Python Data Science Handbook](http://shop.oreilly.com/product/0636920034919.do) by Jake VanderPlas; the content is available [on GitHub](https://github.com/jakevdp/PythonDataScienceHandbook). Chapter 3 covers Pandas in detail.\n",
    "\n",
    "- [Pandas cookbook by  Julia Evans](https://github.com/jvns/pandas-cookbook): The goal of this 2015 cookbook (by Julia Evans) is to give you some concrete examples for getting started with pandas. These are examples with real-world data, and all the bugs and weirdness that entails.\n",
    "\n",
    "\n",
    "- [Stack Overflow](http://stackoverflow.com/questions/tagged/pandas): Pandas has so many users that any question you have has likely been asked and answered on Stack Overflow. Using Pandas is a case where some Google-Fu is your best friend. Simply go to your favorite search engine and type in the question, problem, or error you're coming across–more than likely you'll find your answer on a Stack Overflow page.\n",
    "\n",
    "\n",
    "\n",
    "\n"
   ]
  },
  {
   "cell_type": "markdown",
   "metadata": {
    "colab_type": "text",
    "id": "TUTnYZGObkHk"
   },
   "source": [
    "Done!"
   ]
  }
 ],
 "metadata": {
  "colab": {
   "authorship_tag": "ABX9TyMQjQzuymzOSpOhu/vVRYjg",
   "name": "pandas_tutorial_solved.ipynb",
   "provenance": []
  },
  "kernelspec": {
   "display_name": "Python 3",
   "language": "python",
   "name": "python3"
  },
  "language_info": {
   "codemirror_mode": {
    "name": "ipython",
    "version": 3
   },
   "file_extension": ".py",
   "mimetype": "text/x-python",
   "name": "python",
   "nbconvert_exporter": "python",
   "pygments_lexer": "ipython3",
   "version": "3.6.9"
  }
 },
 "nbformat": 4,
 "nbformat_minor": 1
}
