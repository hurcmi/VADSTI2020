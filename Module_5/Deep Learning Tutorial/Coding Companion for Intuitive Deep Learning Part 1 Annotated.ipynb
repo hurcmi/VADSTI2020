{
 "cells": [
  {
   "cell_type": "markdown",
   "metadata": {},
   "source": [
    "# Coding Companion for Intuitive Deep Learning Part 1 (Annotated)"
   ]
  },
  {
   "cell_type": "markdown",
   "metadata": {},
   "source": [
    "In this notebook, we'll go through the code for the coding companion for Intuitive Deep Learning Part 1 ([Part 1a](https://medium.com/intuitive-deep-learning/intuitive-deep-learning-part-1a-introduction-to-neural-networks-d7b16ebf6b99), [Part 1b](https://medium.com/intuitive-deep-learning/intuitive-deep-learning-part-1b-introduction-to-neural-networks-8565d97ddd2d)) to create your very first neural network to predict whether the house price is below or above median value. We will go through the following in this notebook:\n",
    "\n",
    "- Exploring and Processing the Data\n",
    "- Building and Training our Neural Network\n",
    "- Visualizing Loss and Accuracy\n",
    "- Adding Regularization to our Neural Network\n",
    "\n",
    "The code is annotated throughout the notebook and you simply need to download the dataset [here](https://drive.google.com/file/d/1GfvKA0qznNVknghV4botnNxyH-KvODOC/view), put the dataset in the same folder as this notebook and run the code cells below. Note that the results you get might differ slightly from the blogpost as there is a degree of randomness in the way we split our dataset as well as the initialization of our neural network."
   ]
  },
  {
   "cell_type": "markdown",
   "metadata": {},
   "source": [
    "# Installing Python Libraries"
   ]
  },
  {
   "cell_type": "markdown",
   "metadata": {},
   "source": [
    "We first have to install the python libraries necessary for working with neural networks"
   ]
  },
  {
   "cell_type": "code",
   "execution_count": 1,
   "metadata": {},
   "outputs": [
    {
     "name": "stdout",
     "output_type": "stream",
     "text": [
      "Requirement already satisfied: pandas in /home/codio/.local/lib/python3.6/site-packages (1.1.5)\n",
      "Requirement already satisfied: python-dateutil>=2.7.3 in /usr/local/lib/python3.6/dist-packages (from pandas) (2.8.0)\n",
      "Requirement already satisfied: numpy>=1.15.4 in /home/codio/.local/lib/python3.6/site-packages (from pandas) (1.19.5)\n",
      "Requirement already satisfied: pytz>=2017.2 in /home/codio/.local/lib/python3.6/site-packages (from pandas) (2021.1)\n",
      "Requirement already satisfied: six>=1.5 in /home/codio/.local/lib/python3.6/site-packages (from python-dateutil>=2.7.3->pandas) (1.15.0)\n",
      "\u001b[33mWARNING: You are using pip version 19.1.1, however version 21.0.1 is available.\n",
      "You should consider upgrading via the 'pip install --upgrade pip' command.\u001b[0m\n",
      "Requirement already satisfied: sklearn in /home/codio/.local/lib/python3.6/site-packages (0.0)\n",
      "Requirement already satisfied: scikit-learn in /home/codio/.local/lib/python3.6/site-packages (from sklearn) (0.24.1)\n",
      "Requirement already satisfied: joblib>=0.11 in /home/codio/.local/lib/python3.6/site-packages (from scikit-learn->sklearn) (1.0.1)\n",
      "Requirement already satisfied: threadpoolctl>=2.0.0 in /home/codio/.local/lib/python3.6/site-packages (from scikit-learn->sklearn) (2.1.0)\n",
      "Requirement already satisfied: numpy>=1.13.3 in /home/codio/.local/lib/python3.6/site-packages (from scikit-learn->sklearn) (1.19.5)\n",
      "Requirement already satisfied: scipy>=0.19.1 in /usr/local/lib/python3.6/dist-packages (from scikit-learn->sklearn) (1.2.1)\n",
      "\u001b[33mWARNING: You are using pip version 19.1.1, however version 21.0.1 is available.\n",
      "You should consider upgrading via the 'pip install --upgrade pip' command.\u001b[0m\n",
      "Requirement already satisfied: keras in /home/codio/.local/lib/python3.6/site-packages (2.4.3)\n",
      "Requirement already satisfied: scipy>=0.14 in /usr/local/lib/python3.6/dist-packages (from keras) (1.2.1)\n",
      "Requirement already satisfied: numpy>=1.9.1 in /home/codio/.local/lib/python3.6/site-packages (from keras) (1.19.5)\n",
      "Requirement already satisfied: h5py in /home/codio/.local/lib/python3.6/site-packages (from keras) (2.10.0)\n",
      "Requirement already satisfied: pyyaml in /usr/lib/python3/dist-packages (from keras) (3.12)\n",
      "Requirement already satisfied: six in /home/codio/.local/lib/python3.6/site-packages (from h5py->keras) (1.15.0)\n",
      "\u001b[33mWARNING: You are using pip version 19.1.1, however version 21.0.1 is available.\n",
      "You should consider upgrading via the 'pip install --upgrade pip' command.\u001b[0m\n"
     ]
    }
   ],
   "source": [
    "!pip3 install pandas --user\n",
    "!pip3 install sklearn --user\n",
    "!pip3 install keras --user"
   ]
  },
  {
   "cell_type": "markdown",
   "metadata": {},
   "source": [
    "# Exploring and Processing the Data"
   ]
  },
  {
   "cell_type": "markdown",
   "metadata": {},
   "source": [
    "Exploring and Processing the Data\n",
    "We first have to read in the CSV file that we've been given. We'll use a package called pandas for that:"
   ]
  },
  {
   "cell_type": "code",
   "execution_count": 2,
   "metadata": {},
   "outputs": [],
   "source": [
    "import pandas as pd"
   ]
  },
  {
   "cell_type": "markdown",
   "metadata": {},
   "source": [
    "We first have to read in the CSV file that we've been given. We'll use a package called pandas for that:"
   ]
  },
  {
   "cell_type": "code",
   "execution_count": 3,
   "metadata": {},
   "outputs": [],
   "source": [
    "df = pd.read_csv('housepricedata.csv')"
   ]
  },
  {
   "cell_type": "code",
   "execution_count": 4,
   "metadata": {},
   "outputs": [
    {
     "data": {
      "text/html": [
       "<div>\n",
       "<style scoped>\n",
       "    .dataframe tbody tr th:only-of-type {\n",
       "        vertical-align: middle;\n",
       "    }\n",
       "\n",
       "    .dataframe tbody tr th {\n",
       "        vertical-align: top;\n",
       "    }\n",
       "\n",
       "    .dataframe thead th {\n",
       "        text-align: right;\n",
       "    }\n",
       "</style>\n",
       "<table border=\"1\" class=\"dataframe\">\n",
       "  <thead>\n",
       "    <tr style=\"text-align: right;\">\n",
       "      <th></th>\n",
       "      <th>LotArea</th>\n",
       "      <th>OverallQual</th>\n",
       "      <th>OverallCond</th>\n",
       "      <th>TotalBsmtSF</th>\n",
       "      <th>FullBath</th>\n",
       "      <th>HalfBath</th>\n",
       "      <th>BedroomAbvGr</th>\n",
       "      <th>TotRmsAbvGrd</th>\n",
       "      <th>Fireplaces</th>\n",
       "      <th>GarageArea</th>\n",
       "      <th>AboveMedianPrice</th>\n",
       "    </tr>\n",
       "  </thead>\n",
       "  <tbody>\n",
       "    <tr>\n",
       "      <th>0</th>\n",
       "      <td>8450</td>\n",
       "      <td>7</td>\n",
       "      <td>5</td>\n",
       "      <td>856</td>\n",
       "      <td>2</td>\n",
       "      <td>1</td>\n",
       "      <td>3</td>\n",
       "      <td>8</td>\n",
       "      <td>0</td>\n",
       "      <td>548</td>\n",
       "      <td>1</td>\n",
       "    </tr>\n",
       "    <tr>\n",
       "      <th>1</th>\n",
       "      <td>9600</td>\n",
       "      <td>6</td>\n",
       "      <td>8</td>\n",
       "      <td>1262</td>\n",
       "      <td>2</td>\n",
       "      <td>0</td>\n",
       "      <td>3</td>\n",
       "      <td>6</td>\n",
       "      <td>1</td>\n",
       "      <td>460</td>\n",
       "      <td>1</td>\n",
       "    </tr>\n",
       "    <tr>\n",
       "      <th>2</th>\n",
       "      <td>11250</td>\n",
       "      <td>7</td>\n",
       "      <td>5</td>\n",
       "      <td>920</td>\n",
       "      <td>2</td>\n",
       "      <td>1</td>\n",
       "      <td>3</td>\n",
       "      <td>6</td>\n",
       "      <td>1</td>\n",
       "      <td>608</td>\n",
       "      <td>1</td>\n",
       "    </tr>\n",
       "    <tr>\n",
       "      <th>3</th>\n",
       "      <td>9550</td>\n",
       "      <td>7</td>\n",
       "      <td>5</td>\n",
       "      <td>756</td>\n",
       "      <td>1</td>\n",
       "      <td>0</td>\n",
       "      <td>3</td>\n",
       "      <td>7</td>\n",
       "      <td>1</td>\n",
       "      <td>642</td>\n",
       "      <td>0</td>\n",
       "    </tr>\n",
       "    <tr>\n",
       "      <th>4</th>\n",
       "      <td>14260</td>\n",
       "      <td>8</td>\n",
       "      <td>5</td>\n",
       "      <td>1145</td>\n",
       "      <td>2</td>\n",
       "      <td>1</td>\n",
       "      <td>4</td>\n",
       "      <td>9</td>\n",
       "      <td>1</td>\n",
       "      <td>836</td>\n",
       "      <td>1</td>\n",
       "    </tr>\n",
       "    <tr>\n",
       "      <th>...</th>\n",
       "      <td>...</td>\n",
       "      <td>...</td>\n",
       "      <td>...</td>\n",
       "      <td>...</td>\n",
       "      <td>...</td>\n",
       "      <td>...</td>\n",
       "      <td>...</td>\n",
       "      <td>...</td>\n",
       "      <td>...</td>\n",
       "      <td>...</td>\n",
       "      <td>...</td>\n",
       "    </tr>\n",
       "    <tr>\n",
       "      <th>1455</th>\n",
       "      <td>7917</td>\n",
       "      <td>6</td>\n",
       "      <td>5</td>\n",
       "      <td>953</td>\n",
       "      <td>2</td>\n",
       "      <td>1</td>\n",
       "      <td>3</td>\n",
       "      <td>7</td>\n",
       "      <td>1</td>\n",
       "      <td>460</td>\n",
       "      <td>1</td>\n",
       "    </tr>\n",
       "    <tr>\n",
       "      <th>1456</th>\n",
       "      <td>13175</td>\n",
       "      <td>6</td>\n",
       "      <td>6</td>\n",
       "      <td>1542</td>\n",
       "      <td>2</td>\n",
       "      <td>0</td>\n",
       "      <td>3</td>\n",
       "      <td>7</td>\n",
       "      <td>2</td>\n",
       "      <td>500</td>\n",
       "      <td>1</td>\n",
       "    </tr>\n",
       "    <tr>\n",
       "      <th>1457</th>\n",
       "      <td>9042</td>\n",
       "      <td>7</td>\n",
       "      <td>9</td>\n",
       "      <td>1152</td>\n",
       "      <td>2</td>\n",
       "      <td>0</td>\n",
       "      <td>4</td>\n",
       "      <td>9</td>\n",
       "      <td>2</td>\n",
       "      <td>252</td>\n",
       "      <td>1</td>\n",
       "    </tr>\n",
       "    <tr>\n",
       "      <th>1458</th>\n",
       "      <td>9717</td>\n",
       "      <td>5</td>\n",
       "      <td>6</td>\n",
       "      <td>1078</td>\n",
       "      <td>1</td>\n",
       "      <td>0</td>\n",
       "      <td>2</td>\n",
       "      <td>5</td>\n",
       "      <td>0</td>\n",
       "      <td>240</td>\n",
       "      <td>0</td>\n",
       "    </tr>\n",
       "    <tr>\n",
       "      <th>1459</th>\n",
       "      <td>9937</td>\n",
       "      <td>5</td>\n",
       "      <td>6</td>\n",
       "      <td>1256</td>\n",
       "      <td>1</td>\n",
       "      <td>1</td>\n",
       "      <td>3</td>\n",
       "      <td>6</td>\n",
       "      <td>0</td>\n",
       "      <td>276</td>\n",
       "      <td>0</td>\n",
       "    </tr>\n",
       "  </tbody>\n",
       "</table>\n",
       "<p>1460 rows × 11 columns</p>\n",
       "</div>"
      ],
      "text/plain": [
       "      LotArea  OverallQual  OverallCond  TotalBsmtSF  FullBath  HalfBath  \\\n",
       "0        8450            7            5          856         2         1   \n",
       "1        9600            6            8         1262         2         0   \n",
       "2       11250            7            5          920         2         1   \n",
       "3        9550            7            5          756         1         0   \n",
       "4       14260            8            5         1145         2         1   \n",
       "...       ...          ...          ...          ...       ...       ...   \n",
       "1455     7917            6            5          953         2         1   \n",
       "1456    13175            6            6         1542         2         0   \n",
       "1457     9042            7            9         1152         2         0   \n",
       "1458     9717            5            6         1078         1         0   \n",
       "1459     9937            5            6         1256         1         1   \n",
       "\n",
       "      BedroomAbvGr  TotRmsAbvGrd  Fireplaces  GarageArea  AboveMedianPrice  \n",
       "0                3             8           0         548                 1  \n",
       "1                3             6           1         460                 1  \n",
       "2                3             6           1         608                 1  \n",
       "3                3             7           1         642                 0  \n",
       "4                4             9           1         836                 1  \n",
       "...            ...           ...         ...         ...               ...  \n",
       "1455             3             7           1         460                 1  \n",
       "1456             3             7           2         500                 1  \n",
       "1457             4             9           2         252                 1  \n",
       "1458             2             5           0         240                 0  \n",
       "1459             3             6           0         276                 0  \n",
       "\n",
       "[1460 rows x 11 columns]"
      ]
     },
     "execution_count": 4,
     "metadata": {},
     "output_type": "execute_result"
    }
   ],
   "source": [
    "df"
   ]
  },
  {
   "cell_type": "markdown",
   "metadata": {},
   "source": [
    "The dataset that we have now is in what we call a pandas dataframe. To convert it to an array, simply access its values:"
   ]
  },
  {
   "cell_type": "code",
   "execution_count": 5,
   "metadata": {},
   "outputs": [],
   "source": [
    "dataset = df.values"
   ]
  },
  {
   "cell_type": "code",
   "execution_count": 6,
   "metadata": {},
   "outputs": [
    {
     "data": {
      "text/plain": [
       "array([[ 8450,     7,     5, ...,     0,   548,     1],\n",
       "       [ 9600,     6,     8, ...,     1,   460,     1],\n",
       "       [11250,     7,     5, ...,     1,   608,     1],\n",
       "       ...,\n",
       "       [ 9042,     7,     9, ...,     2,   252,     1],\n",
       "       [ 9717,     5,     6, ...,     0,   240,     0],\n",
       "       [ 9937,     5,     6, ...,     0,   276,     0]])"
      ]
     },
     "execution_count": 6,
     "metadata": {},
     "output_type": "execute_result"
    }
   ],
   "source": [
    "dataset"
   ]
  },
  {
   "cell_type": "markdown",
   "metadata": {},
   "source": [
    "Now, we split the dataset into our input features and the label we wish to predict."
   ]
  },
  {
   "cell_type": "code",
   "execution_count": 7,
   "metadata": {},
   "outputs": [],
   "source": [
    "X = dataset[:,0:10]\n",
    "Y = dataset[:,10]"
   ]
  },
  {
   "cell_type": "markdown",
   "metadata": {},
   "source": [
    "Normalizing our data is very important, as we want the input features to be on the same order of magnitude to make our training easier. We'll use a min-max scaler from scikit-learn which scales our data to be between 0 and 1."
   ]
  },
  {
   "cell_type": "code",
   "execution_count": 8,
   "metadata": {},
   "outputs": [],
   "source": [
    "from sklearn import preprocessing"
   ]
  },
  {
   "cell_type": "code",
   "execution_count": 9,
   "metadata": {},
   "outputs": [],
   "source": [
    "min_max_scaler = preprocessing.MinMaxScaler()\n",
    "X_scale = min_max_scaler.fit_transform(X)"
   ]
  },
  {
   "cell_type": "code",
   "execution_count": 10,
   "metadata": {},
   "outputs": [
    {
     "data": {
      "text/plain": [
       "array([[0.0334198 , 0.66666667, 0.5       , ..., 0.5       , 0.        ,\n",
       "        0.3864598 ],\n",
       "       [0.03879502, 0.55555556, 0.875     , ..., 0.33333333, 0.33333333,\n",
       "        0.32440056],\n",
       "       [0.04650728, 0.66666667, 0.5       , ..., 0.33333333, 0.33333333,\n",
       "        0.42877292],\n",
       "       ...,\n",
       "       [0.03618687, 0.66666667, 1.        , ..., 0.58333333, 0.66666667,\n",
       "        0.17771509],\n",
       "       [0.03934189, 0.44444444, 0.625     , ..., 0.25      , 0.        ,\n",
       "        0.16925247],\n",
       "       [0.04037019, 0.44444444, 0.625     , ..., 0.33333333, 0.        ,\n",
       "        0.19464034]])"
      ]
     },
     "execution_count": 10,
     "metadata": {},
     "output_type": "execute_result"
    }
   ],
   "source": [
    "X_scale"
   ]
  },
  {
   "cell_type": "markdown",
   "metadata": {},
   "source": [
    "Lastly, we wish to set aside some parts of our dataset for a validation set and a test set. We use the function train_test_split from scikit-learn to do that."
   ]
  },
  {
   "cell_type": "code",
   "execution_count": 11,
   "metadata": {},
   "outputs": [],
   "source": [
    "from sklearn.model_selection import train_test_split"
   ]
  },
  {
   "cell_type": "code",
   "execution_count": 12,
   "metadata": {},
   "outputs": [],
   "source": [
    "X_train, X_val_and_test, Y_train, Y_val_and_test = train_test_split(X_scale, Y, test_size=0.3)"
   ]
  },
  {
   "cell_type": "code",
   "execution_count": 13,
   "metadata": {},
   "outputs": [],
   "source": [
    "X_val, X_test, Y_val, Y_test = train_test_split(X_val_and_test, Y_val_and_test, test_size=0.5)"
   ]
  },
  {
   "cell_type": "code",
   "execution_count": null,
   "metadata": {},
   "outputs": [
    {
     "name": "stdout",
     "output_type": "stream",
     "text": [
      "(1022, 10) (219, 10) (219, 10) (1022,) (219,) (219,)\n"
     ]
    }
   ],
   "source": [
    "print(X_train.shape, X_val.shape, X_test.shape, Y_train.shape, Y_val.shape, Y_test.shape)"
   ]
  },
  {
   "cell_type": "markdown",
   "metadata": {},
   "source": [
    "# Building and Training Our First Neural Network"
   ]
  },
  {
   "cell_type": "markdown",
   "metadata": {},
   "source": [
    "We will be using Keras to build our architecture. Let's import the code from Keras that we will need to use:"
   ]
  },
  {
   "cell_type": "code",
   "execution_count": null,
   "metadata": {},
   "outputs": [],
   "source": [
    "from keras.models import Sequential\n",
    "from keras.layers import Dense"
   ]
  },
  {
   "cell_type": "markdown",
   "metadata": {},
   "source": [
    "We will be using the Sequential model, which means that we merely need to describe the layers above in sequence. Our neural network has three layers:\n",
    "\n",
    "- Hidden layer 1: 30 neurons, ReLU activation\n",
    "- Hidden layer 2: 30 neurons, ReLU activation\n",
    "- Output Layer: 1 neuron, Sigmoid activation"
   ]
  },
  {
   "cell_type": "code",
   "execution_count": null,
   "metadata": {},
   "outputs": [],
   "source": [
    "model = Sequential([\n",
    "    Dense(32, activation='relu', input_shape=(10,)),\n",
    "    Dense(32, activation='relu'),\n",
    "    Dense(1, activation='sigmoid'),\n",
    "])"
   ]
  },
  {
   "cell_type": "markdown",
   "metadata": {},
   "source": [
    "Now that we've got our architecture specified, we need to find the best numbers for it. Before we start our training, we have to configure the model by\n",
    "- Telling it what algorithm you want to use to do the optimization (we'll use stochastic gradient descent)\n",
    "- Telling it what loss function to use (for binary classification, we will use binary cross entropy)\n",
    "- Telling it what other metrics you want to track apart from the loss function (we want to track accuracy as well)\n",
    "\n",
    "We do so below:"
   ]
  },
  {
   "cell_type": "code",
   "execution_count": null,
   "metadata": {},
   "outputs": [],
   "source": [
    "model.compile(optimizer='sgd',\n",
    "              loss='binary_crossentropy',\n",
    "              metrics=['accuracy'])"
   ]
  },
  {
   "cell_type": "markdown",
   "metadata": {},
   "source": [
    "Training on the data is pretty straightforward and requires us to write one line of code. The function is called 'fit' as we are fitting the parameters to the data. We specify:\n",
    "- what data we are training on, which is X_train and Y_train\n",
    "- the size of our mini-batch \n",
    "- how long we want to train it for (epochs)\n",
    "- what our validation data is so that the model will tell us how we are doing on the validation data at each point.\n",
    "\n",
    "This function will output a history, which we save under the variable hist. We'll use this variable a little later."
   ]
  },
  {
   "cell_type": "code",
   "execution_count": null,
   "metadata": {},
   "outputs": [
    {
     "name": "stdout",
     "output_type": "stream",
     "text": [
      "Epoch 1/100\n",
      "32/32 [==============================] - 1s 16ms/step - loss: 0.6966 - accuracy: 0.5015 - val_loss: 0.6904 - val_accuracy: 0.5251\n",
      "Epoch 2/100\n",
      "32/32 [==============================] - 0s 2ms/step - loss: 0.6896 - accuracy: 0.5141 - val_loss: 0.6849 - val_accuracy: 0.5479\n",
      "Epoch 3/100\n",
      "32/32 [==============================] - 0s 2ms/step - loss: 0.6850 - accuracy: 0.5638 - val_loss: 0.6801 - val_accuracy: 0.6347\n",
      "Epoch 4/100\n",
      "32/32 [==============================] - 0s 2ms/step - loss: 0.6801 - accuracy: 0.6712 - val_loss: 0.6764 - val_accuracy: 0.6895\n",
      "Epoch 5/100\n",
      "32/32 [==============================] - 0s 2ms/step - loss: 0.6765 - accuracy: 0.7123 - val_loss: 0.6731 - val_accuracy: 0.7123\n",
      "Epoch 6/100\n",
      "32/32 [==============================] - 0s 2ms/step - loss: 0.6721 - accuracy: 0.7415 - val_loss: 0.6698 - val_accuracy: 0.7671\n",
      "Epoch 7/100\n",
      "32/32 [==============================] - 0s 2ms/step - loss: 0.6651 - accuracy: 0.8056 - val_loss: 0.6664 - val_accuracy: 0.7854\n",
      "Epoch 8/100\n",
      "32/32 [==============================] - 0s 5ms/step - loss: 0.6642 - accuracy: 0.7916 - val_loss: 0.6625 - val_accuracy: 0.8174\n",
      "Epoch 9/100\n",
      "32/32 [==============================] - 0s 2ms/step - loss: 0.6582 - accuracy: 0.8274 - val_loss: 0.6583 - val_accuracy: 0.8356\n",
      "Epoch 10/100\n",
      "32/32 [==============================] - 0s 2ms/step - loss: 0.6545 - accuracy: 0.8271 - val_loss: 0.6536 - val_accuracy: 0.8356\n",
      "Epoch 11/100\n",
      "32/32 [==============================] - 0s 2ms/step - loss: 0.6509 - accuracy: 0.8266 - val_loss: 0.6488 - val_accuracy: 0.8311\n",
      "Epoch 12/100\n",
      "32/32 [==============================] - 0s 2ms/step - loss: 0.6448 - accuracy: 0.8250 - val_loss: 0.6439 - val_accuracy: 0.8265\n",
      "Epoch 13/100\n",
      "32/32 [==============================] - 0s 2ms/step - loss: 0.6385 - accuracy: 0.8340 - val_loss: 0.6384 - val_accuracy: 0.8219\n",
      "Epoch 14/100\n",
      "32/32 [==============================] - 0s 2ms/step - loss: 0.6330 - accuracy: 0.8291 - val_loss: 0.6328 - val_accuracy: 0.8311\n",
      "Epoch 15/100\n",
      "32/32 [==============================] - 0s 2ms/step - loss: 0.6288 - accuracy: 0.8304 - val_loss: 0.6270 - val_accuracy: 0.8402\n",
      "Epoch 16/100\n",
      "32/32 [==============================] - 0s 2ms/step - loss: 0.6196 - accuracy: 0.8553 - val_loss: 0.6208 - val_accuracy: 0.8402\n",
      "Epoch 17/100\n",
      "32/32 [==============================] - 0s 2ms/step - loss: 0.6144 - accuracy: 0.8400 - val_loss: 0.6144 - val_accuracy: 0.8402\n",
      "Epoch 18/100\n",
      "32/32 [==============================] - 0s 2ms/step - loss: 0.6103 - accuracy: 0.8345 - val_loss: 0.6079 - val_accuracy: 0.8493\n",
      "Epoch 19/100\n",
      "32/32 [==============================] - 0s 2ms/step - loss: 0.6008 - accuracy: 0.8497 - val_loss: 0.6010 - val_accuracy: 0.8493\n",
      "Epoch 20/100\n",
      "32/32 [==============================] - 0s 2ms/step - loss: 0.6005 - accuracy: 0.8309 - val_loss: 0.5937 - val_accuracy: 0.8584\n",
      "Epoch 21/100\n",
      "32/32 [==============================] - 0s 2ms/step - loss: 0.5876 - accuracy: 0.8494 - val_loss: 0.5859 - val_accuracy: 0.8447\n",
      "Epoch 22/100\n",
      "32/32 [==============================] - 0s 2ms/step - loss: 0.5767 - accuracy: 0.8683 - val_loss: 0.5780 - val_accuracy: 0.8584\n",
      "Epoch 23/100\n",
      "32/32 [==============================] - 0s 2ms/step - loss: 0.5741 - accuracy: 0.8546 - val_loss: 0.5701 - val_accuracy: 0.8539\n",
      "Epoch 24/100\n",
      "32/32 [==============================] - 0s 2ms/step - loss: 0.5668 - accuracy: 0.8548 - val_loss: 0.5616 - val_accuracy: 0.8539\n",
      "Epoch 25/100\n",
      "32/32 [==============================] - 0s 2ms/step - loss: 0.5602 - accuracy: 0.8453 - val_loss: 0.5526 - val_accuracy: 0.8584\n",
      "Epoch 26/100\n",
      "32/32 [==============================] - 0s 2ms/step - loss: 0.5515 - accuracy: 0.8529 - val_loss: 0.5437 - val_accuracy: 0.8584\n",
      "Epoch 27/100\n",
      "32/32 [==============================] - 0s 2ms/step - loss: 0.5459 - accuracy: 0.8353 - val_loss: 0.5346 - val_accuracy: 0.8584\n",
      "Epoch 28/100\n",
      "32/32 [==============================] - 0s 2ms/step - loss: 0.5347 - accuracy: 0.8569 - val_loss: 0.5258 - val_accuracy: 0.8539\n",
      "Epoch 29/100\n",
      "32/32 [==============================] - 0s 2ms/step - loss: 0.5250 - accuracy: 0.8594 - val_loss: 0.5162 - val_accuracy: 0.8584\n",
      "Epoch 30/100\n",
      "32/32 [==============================] - 0s 2ms/step - loss: 0.5164 - accuracy: 0.8519 - val_loss: 0.5063 - val_accuracy: 0.8630\n",
      "Epoch 31/100\n",
      "32/32 [==============================] - 0s 2ms/step - loss: 0.5113 - accuracy: 0.8541 - val_loss: 0.4971 - val_accuracy: 0.8676\n",
      "Epoch 32/100\n",
      "32/32 [==============================] - 0s 2ms/step - loss: 0.4924 - accuracy: 0.8725 - val_loss: 0.4876 - val_accuracy: 0.8721\n",
      "Epoch 33/100\n",
      "32/32 [==============================] - 0s 2ms/step - loss: 0.4753 - accuracy: 0.8890 - val_loss: 0.4783 - val_accuracy: 0.8767\n",
      "Epoch 34/100\n",
      "32/32 [==============================] - 0s 2ms/step - loss: 0.4796 - accuracy: 0.8527 - val_loss: 0.4697 - val_accuracy: 0.8721\n",
      "Epoch 35/100\n",
      "32/32 [==============================] - 0s 2ms/step - loss: 0.4474 - accuracy: 0.8910 - val_loss: 0.4605 - val_accuracy: 0.8721\n",
      "Epoch 36/100\n",
      "32/32 [==============================] - 0s 2ms/step - loss: 0.4480 - accuracy: 0.8689 - val_loss: 0.4522 - val_accuracy: 0.8767\n",
      "Epoch 37/100\n",
      "32/32 [==============================] - 0s 2ms/step - loss: 0.4317 - accuracy: 0.8838 - val_loss: 0.4436 - val_accuracy: 0.8767\n",
      "Epoch 38/100\n",
      "32/32 [==============================] - 0s 2ms/step - loss: 0.4357 - accuracy: 0.8816 - val_loss: 0.4355 - val_accuracy: 0.8721\n",
      "Epoch 39/100\n",
      "32/32 [==============================] - 0s 2ms/step - loss: 0.4102 - accuracy: 0.8929 - val_loss: 0.4278 - val_accuracy: 0.8767\n",
      "Epoch 40/100\n",
      "32/32 [==============================] - 0s 2ms/step - loss: 0.4393 - accuracy: 0.8548 - val_loss: 0.4205 - val_accuracy: 0.8721\n",
      "Epoch 41/100\n",
      "32/32 [==============================] - 0s 2ms/step - loss: 0.4239 - accuracy: 0.8527 - val_loss: 0.4136 - val_accuracy: 0.8767\n",
      "Epoch 42/100\n",
      "32/32 [==============================] - 0s 2ms/step - loss: 0.4078 - accuracy: 0.8605 - val_loss: 0.4070 - val_accuracy: 0.8767\n",
      "Epoch 43/100\n",
      "32/32 [==============================] - 0s 2ms/step - loss: 0.3918 - accuracy: 0.8731 - val_loss: 0.4004 - val_accuracy: 0.8721\n",
      "Epoch 44/100\n",
      "32/32 [==============================] - 0s 2ms/step - loss: 0.3909 - accuracy: 0.8741 - val_loss: 0.3946 - val_accuracy: 0.8721\n",
      "Epoch 45/100\n",
      "32/32 [==============================] - 0s 2ms/step - loss: 0.3889 - accuracy: 0.8655 - val_loss: 0.3894 - val_accuracy: 0.8676\n",
      "Epoch 46/100\n",
      "32/32 [==============================] - 0s 5ms/step - loss: 0.3724 - accuracy: 0.8773 - val_loss: 0.3837 - val_accuracy: 0.8721\n",
      "Epoch 47/100\n",
      "32/32 [==============================] - 0s 2ms/step - loss: 0.3820 - accuracy: 0.8645 - val_loss: 0.3783 - val_accuracy: 0.8721\n",
      "Epoch 48/100\n",
      "32/32 [==============================] - 0s 2ms/step - loss: 0.3572 - accuracy: 0.8790 - val_loss: 0.3736 - val_accuracy: 0.8721\n",
      "Epoch 49/100\n",
      "32/32 [==============================] - 0s 2ms/step - loss: 0.3704 - accuracy: 0.8706 - val_loss: 0.3694 - val_accuracy: 0.8767\n",
      "Epoch 50/100\n",
      "32/32 [==============================] - 0s 2ms/step - loss: 0.3540 - accuracy: 0.8809 - val_loss: 0.3649 - val_accuracy: 0.8676\n",
      "Epoch 51/100\n",
      "32/32 [==============================] - 0s 2ms/step - loss: 0.3663 - accuracy: 0.8678 - val_loss: 0.3610 - val_accuracy: 0.8676\n",
      "Epoch 52/100\n",
      "32/32 [==============================] - 0s 2ms/step - loss: 0.3577 - accuracy: 0.8705 - val_loss: 0.3575 - val_accuracy: 0.8676\n",
      "Epoch 53/100\n",
      "32/32 [==============================] - 0s 2ms/step - loss: 0.3320 - accuracy: 0.8891 - val_loss: 0.3541 - val_accuracy: 0.8584\n",
      "Epoch 54/100\n",
      "32/32 [==============================] - 0s 2ms/step - loss: 0.3472 - accuracy: 0.8728 - val_loss: 0.3513 - val_accuracy: 0.8858\n",
      "Epoch 55/100\n",
      "32/32 [==============================] - 0s 2ms/step - loss: 0.3555 - accuracy: 0.8649 - val_loss: 0.3475 - val_accuracy: 0.8767\n",
      "Epoch 56/100\n",
      "32/32 [==============================] - 0s 2ms/step - loss: 0.3492 - accuracy: 0.8750 - val_loss: 0.3446 - val_accuracy: 0.8721\n",
      "Epoch 57/100\n",
      "32/32 [==============================] - 0s 2ms/step - loss: 0.3319 - accuracy: 0.8751 - val_loss: 0.3419 - val_accuracy: 0.8813\n",
      "Epoch 58/100\n",
      "32/32 [==============================] - 0s 2ms/step - loss: 0.3617 - accuracy: 0.8606 - val_loss: 0.3394 - val_accuracy: 0.8721\n"
     ]
    },
    {
     "name": "stdout",
     "output_type": "stream",
     "text": [
      "Epoch 59/100\n",
      "32/32 [==============================] - 0s 2ms/step - loss: 0.3165 - accuracy: 0.8882 - val_loss: 0.3369 - val_accuracy: 0.8721\n",
      "Epoch 60/100\n",
      "32/32 [==============================] - 0s 2ms/step - loss: 0.3474 - accuracy: 0.8666 - val_loss: 0.3347 - val_accuracy: 0.8676\n",
      "Epoch 61/100\n",
      "32/32 [==============================] - 0s 2ms/step - loss: 0.3081 - accuracy: 0.8813 - val_loss: 0.3325 - val_accuracy: 0.8721\n",
      "Epoch 62/100\n",
      "32/32 [==============================] - 0s 2ms/step - loss: 0.3042 - accuracy: 0.8869 - val_loss: 0.3305 - val_accuracy: 0.8767\n",
      "Epoch 63/100\n",
      "32/32 [==============================] - 0s 2ms/step - loss: 0.3303 - accuracy: 0.8753 - val_loss: 0.3286 - val_accuracy: 0.8858\n",
      "Epoch 64/100\n",
      "32/32 [==============================] - 0s 2ms/step - loss: 0.3095 - accuracy: 0.8924 - val_loss: 0.3278 - val_accuracy: 0.8676\n",
      "Epoch 65/100\n",
      "32/32 [==============================] - 0s 2ms/step - loss: 0.2996 - accuracy: 0.8856 - val_loss: 0.3253 - val_accuracy: 0.8721\n",
      "Epoch 66/100\n",
      "32/32 [==============================] - 0s 2ms/step - loss: 0.3217 - accuracy: 0.8781 - val_loss: 0.3235 - val_accuracy: 0.8767\n",
      "Epoch 67/100\n",
      "32/32 [==============================] - 0s 2ms/step - loss: 0.3302 - accuracy: 0.8743 - val_loss: 0.3226 - val_accuracy: 0.8676\n",
      "Epoch 68/100\n",
      "32/32 [==============================] - 0s 2ms/step - loss: 0.3125 - accuracy: 0.8641 - val_loss: 0.3205 - val_accuracy: 0.8767\n",
      "Epoch 69/100\n",
      "32/32 [==============================] - 0s 2ms/step - loss: 0.3162 - accuracy: 0.8804 - val_loss: 0.3192 - val_accuracy: 0.8767\n",
      "Epoch 70/100\n",
      "32/32 [==============================] - 0s 2ms/step - loss: 0.3108 - accuracy: 0.8748 - val_loss: 0.3178 - val_accuracy: 0.8858\n",
      "Epoch 71/100\n",
      "32/32 [==============================] - 0s 2ms/step - loss: 0.3077 - accuracy: 0.8711 - val_loss: 0.3165 - val_accuracy: 0.8858\n",
      "Epoch 72/100\n",
      "32/32 [==============================] - 0s 2ms/step - loss: 0.2927 - accuracy: 0.8829 - val_loss: 0.3153 - val_accuracy: 0.8904\n",
      "Epoch 73/100\n",
      "32/32 [==============================] - 0s 2ms/step - loss: 0.3257 - accuracy: 0.8636 - val_loss: 0.3142 - val_accuracy: 0.8904\n",
      "Epoch 74/100\n",
      "32/32 [==============================] - 0s 2ms/step - loss: 0.2918 - accuracy: 0.8901 - val_loss: 0.3156 - val_accuracy: 0.8630\n",
      "Epoch 75/100\n",
      "32/32 [==============================] - 0s 2ms/step - loss: 0.2654 - accuracy: 0.9017 - val_loss: 0.3122 - val_accuracy: 0.8904\n",
      "Epoch 76/100\n",
      "32/32 [==============================] - 0s 2ms/step - loss: 0.2849 - accuracy: 0.8838 - val_loss: 0.3110 - val_accuracy: 0.8904\n",
      "Epoch 77/100\n",
      "32/32 [==============================] - 0s 2ms/step - loss: 0.2775 - accuracy: 0.8887 - val_loss: 0.3101 - val_accuracy: 0.8904\n",
      "Epoch 78/100\n",
      "32/32 [==============================] - 0s 2ms/step - loss: 0.2886 - accuracy: 0.8796 - val_loss: 0.3097 - val_accuracy: 0.8950\n",
      "Epoch 79/100\n",
      "32/32 [==============================] - 0s 2ms/step - loss: 0.3193 - accuracy: 0.8670 - val_loss: 0.3088 - val_accuracy: 0.8950\n",
      "Epoch 80/100\n",
      "32/32 [==============================] - 0s 2ms/step - loss: 0.2756 - accuracy: 0.8963 - val_loss: 0.3081 - val_accuracy: 0.8950\n",
      "Epoch 81/100\n",
      "32/32 [==============================] - 0s 2ms/step - loss: 0.2740 - accuracy: 0.8949 - val_loss: 0.3070 - val_accuracy: 0.8950\n",
      "Epoch 82/100\n",
      "32/32 [==============================] - 0s 2ms/step - loss: 0.2776 - accuracy: 0.8974 - val_loss: 0.3060 - val_accuracy: 0.8950\n",
      "Epoch 83/100\n",
      "32/32 [==============================] - 0s 2ms/step - loss: 0.2814 - accuracy: 0.8932 - val_loss: 0.3051 - val_accuracy: 0.8858\n",
      "Epoch 84/100\n",
      "32/32 [==============================] - 0s 2ms/step - loss: 0.2912 - accuracy: 0.8861 - val_loss: 0.3043 - val_accuracy: 0.8904\n",
      "Epoch 85/100\n",
      "32/32 [==============================] - 0s 2ms/step - loss: 0.2890 - accuracy: 0.8828 - val_loss: 0.3036 - val_accuracy: 0.8858\n",
      "Epoch 86/100\n",
      "32/32 [==============================] - 0s 2ms/step - loss: 0.2952 - accuracy: 0.8762 - val_loss: 0.3030 - val_accuracy: 0.8904\n",
      "Epoch 87/100\n",
      "32/32 [==============================] - 0s 2ms/step - loss: 0.2807 - accuracy: 0.8880 - val_loss: 0.3022 - val_accuracy: 0.8904\n",
      "Epoch 88/100\n",
      "32/32 [==============================] - 0s 2ms/step - loss: 0.2660 - accuracy: 0.8954 - val_loss: 0.3016 - val_accuracy: 0.8858\n",
      "Epoch 89/100\n",
      "32/32 [==============================] - 0s 2ms/step - loss: 0.2806 - accuracy: 0.8849 - val_loss: 0.3017 - val_accuracy: 0.8904\n",
      "Epoch 90/100\n",
      "32/32 [==============================] - 0s 2ms/step - loss: 0.2732 - accuracy: 0.8910 - val_loss: 0.3009 - val_accuracy: 0.8904\n",
      "Epoch 91/100\n",
      "32/32 [==============================] - 0s 2ms/step - loss: 0.2618 - accuracy: 0.8961 - val_loss: 0.3003 - val_accuracy: 0.8904\n",
      "Epoch 92/100\n",
      "32/32 [==============================] - 0s 5ms/step - loss: 0.2716 - accuracy: 0.8906 - val_loss: 0.2992 - val_accuracy: 0.8858\n",
      "Epoch 93/100\n",
      "32/32 [==============================] - 0s 2ms/step - loss: 0.2860 - accuracy: 0.8887 - val_loss: 0.2986 - val_accuracy: 0.8858\n",
      "Epoch 94/100\n",
      "32/32 [==============================] - 0s 2ms/step - loss: 0.2912 - accuracy: 0.8790 - val_loss: 0.2994 - val_accuracy: 0.8950\n",
      "Epoch 95/100\n",
      "32/32 [==============================] - 0s 2ms/step - loss: 0.2457 - accuracy: 0.9133 - val_loss: 0.2975 - val_accuracy: 0.8813\n",
      "Epoch 96/100\n",
      "32/32 [==============================] - 0s 2ms/step - loss: 0.2847 - accuracy: 0.8835 - val_loss: 0.2977 - val_accuracy: 0.8950\n",
      "Epoch 97/100\n",
      "32/32 [==============================] - 0s 2ms/step - loss: 0.2810 - accuracy: 0.8806 - val_loss: 0.2965 - val_accuracy: 0.8858\n",
      "Epoch 98/100\n",
      "32/32 [==============================] - 0s 2ms/step - loss: 0.2884 - accuracy: 0.8819 - val_loss: 0.2958 - val_accuracy: 0.8858\n",
      "Epoch 99/100\n",
      "32/32 [==============================] - 0s 2ms/step - loss: 0.2705 - accuracy: 0.8916 - val_loss: 0.2959 - val_accuracy: 0.8950\n",
      "Epoch 100/100\n",
      "32/32 [==============================] - 0s 2ms/step - loss: 0.2875 - accuracy: 0.8872 - val_loss: 0.2948 - val_accuracy: 0.8858\n"
     ]
    }
   ],
   "source": [
    "hist = model.fit(X_train, Y_train,\n",
    "          batch_size=32, epochs=100,\n",
    "          validation_data=(X_val, Y_val))"
   ]
  },
  {
   "cell_type": "markdown",
   "metadata": {},
   "source": [
    "Evaluating our data on the test set:"
   ]
  },
  {
   "cell_type": "code",
   "execution_count": null,
   "metadata": {},
   "outputs": [
    {
     "name": "stdout",
     "output_type": "stream",
     "text": [
      "7/7 [==============================] - 0s 743us/step - loss: 0.2629 - accuracy: 0.8950\n"
     ]
    },
    {
     "data": {
      "text/plain": [
       "0.8949771523475647"
      ]
     },
     "execution_count": 19,
     "metadata": {},
     "output_type": "execute_result"
    }
   ],
   "source": [
    "model.evaluate(X_test, Y_test)[1]"
   ]
  },
  {
   "cell_type": "markdown",
   "metadata": {},
   "source": [
    "# Visualizing Loss and Accuracy"
   ]
  },
  {
   "cell_type": "markdown",
   "metadata": {},
   "source": [
    "Import the relevant package we need to do the visualization"
   ]
  },
  {
   "cell_type": "code",
   "execution_count": null,
   "metadata": {},
   "outputs": [],
   "source": [
    "import matplotlib.pyplot as plt"
   ]
  },
  {
   "cell_type": "markdown",
   "metadata": {},
   "source": [
    "We want to visualize the training loss and the validation loss like this:"
   ]
  },
  {
   "cell_type": "code",
   "execution_count": null,
   "metadata": {},
   "outputs": [
    {
     "data": {
      "image/png": "[encoded data removed]",
      "text/plain": [
       "<Figure size 432x288 with 1 Axes>"
      ]
     },
     "metadata": {
      "needs_background": "light"
     },
     "output_type": "display_data"
    }
   ],
   "source": [
    "plt.plot(hist.history['loss'])\n",
    "plt.plot(hist.history['val_loss'])\n",
    "plt.title('Model loss')\n",
    "plt.ylabel('Loss')\n",
    "plt.xlabel('Epoch')\n",
    "plt.legend(['Train', 'Val'], loc='upper right')\n",
    "plt.show()"
   ]
  },
  {
   "cell_type": "markdown",
   "metadata": {},
   "source": [
    "We can also visualize the training accuracy and the validation accuracy like this:"
   ]
  },
  {
   "cell_type": "code",
   "execution_count": null,
   "metadata": {},
   "outputs": [
    {
     "data": {
      "image/png": "[encoded data removed]",
      "text/plain": [
       "<Figure size 432x288 with 1 Axes>"
      ]
     },
     "metadata": {
      "needs_background": "light"
     },
     "output_type": "display_data"
    }
   ],
   "source": [
    "plt.plot(hist.history['accuracy'])\n",
    "plt.plot(hist.history['val_accuracy'])\n",
    "plt.title('Model accuracy')\n",
    "plt.ylabel('Accuracy')\n",
    "plt.xlabel('Epoch')\n",
    "plt.legend(['Train', 'Val'], loc='lower right')\n",
    "plt.show()"
   ]
  },
  {
   "cell_type": "markdown",
   "metadata": {},
   "source": [
    "# Adding Regularization to our Neural Network"
   ]
  },
  {
   "cell_type": "markdown",
   "metadata": {},
   "source": [
    "We'll train a model which will overfit, which we call Model 2. This might take a few minutes."
   ]
  },
  {
   "cell_type": "code",
   "execution_count": null,
   "metadata": {},
   "outputs": [
    {
     "name": "stdout",
     "output_type": "stream",
     "text": [
      "Epoch 1/100\n",
      "32/32 [==============================] - 1s 17ms/step - loss: 0.5459 - accuracy: 0.7060 - val_loss: 0.3935 - val_accuracy: 0.8311\n",
      "Epoch 2/100\n",
      "32/32 [==============================] - 0s 12ms/step - loss: 0.3400 - accuracy: 0.8575 - val_loss: 0.3589 - val_accuracy: 0.8539\n",
      "Epoch 3/100\n",
      "32/32 [==============================] - 0s 12ms/step - loss: 0.3033 - accuracy: 0.8763 - val_loss: 0.3566 - val_accuracy: 0.8447\n",
      "Epoch 4/100\n",
      "32/32 [==============================] - 0s 12ms/step - loss: 0.2846 - accuracy: 0.8949 - val_loss: 0.3300 - val_accuracy: 0.8813\n",
      "Epoch 5/100\n",
      "32/32 [==============================] - 0s 12ms/step - loss: 0.2582 - accuracy: 0.8887 - val_loss: 0.2998 - val_accuracy: 0.8676\n",
      "Epoch 6/100\n",
      "32/32 [==============================] - 0s 16ms/step - loss: 0.3443 - accuracy: 0.8823 - val_loss: 0.3616 - val_accuracy: 0.8539\n",
      "Epoch 7/100\n",
      "32/32 [==============================] - 0s 12ms/step - loss: 0.2712 - accuracy: 0.8985 - val_loss: 0.3057 - val_accuracy: 0.8630\n",
      "Epoch 8/100\n",
      "32/32 [==============================] - 0s 12ms/step - loss: 0.2457 - accuracy: 0.9050 - val_loss: 0.2829 - val_accuracy: 0.8858\n",
      "Epoch 9/100\n",
      "32/32 [==============================] - 0s 12ms/step - loss: 0.2408 - accuracy: 0.8987 - val_loss: 0.2851 - val_accuracy: 0.8813\n",
      "Epoch 10/100\n",
      "32/32 [==============================] - 0s 13ms/step - loss: 0.2238 - accuracy: 0.9183 - val_loss: 0.2910 - val_accuracy: 0.8904\n",
      "Epoch 11/100\n",
      "32/32 [==============================] - 0s 13ms/step - loss: 0.1997 - accuracy: 0.9239 - val_loss: 0.2848 - val_accuracy: 0.8813\n",
      "Epoch 12/100\n",
      "32/32 [==============================] - 0s 14ms/step - loss: 0.2305 - accuracy: 0.9116 - val_loss: 0.2838 - val_accuracy: 0.8813\n",
      "Epoch 13/100\n",
      "32/32 [==============================] - 0s 13ms/step - loss: 0.2014 - accuracy: 0.9174 - val_loss: 0.2995 - val_accuracy: 0.8858\n",
      "Epoch 14/100\n",
      "32/32 [==============================] - 0s 14ms/step - loss: 0.2358 - accuracy: 0.9049 - val_loss: 0.3280 - val_accuracy: 0.8676\n",
      "Epoch 15/100\n",
      "32/32 [==============================] - 0s 14ms/step - loss: 0.2460 - accuracy: 0.8938 - val_loss: 0.3200 - val_accuracy: 0.8813\n",
      "Epoch 16/100\n",
      "32/32 [==============================] - 0s 14ms/step - loss: 0.2482 - accuracy: 0.8896 - val_loss: 0.3135 - val_accuracy: 0.8995\n",
      "Epoch 17/100\n",
      "32/32 [==============================] - 0s 13ms/step - loss: 0.1949 - accuracy: 0.9147 - val_loss: 0.2932 - val_accuracy: 0.9087\n",
      "Epoch 18/100\n",
      "32/32 [==============================] - 0s 12ms/step - loss: 0.2056 - accuracy: 0.9094 - val_loss: 0.2846 - val_accuracy: 0.8813\n",
      "Epoch 19/100\n",
      "32/32 [==============================] - 0s 12ms/step - loss: 0.1896 - accuracy: 0.9180 - val_loss: 0.3064 - val_accuracy: 0.8904\n",
      "Epoch 20/100\n",
      "32/32 [==============================] - 0s 13ms/step - loss: 0.1933 - accuracy: 0.9227 - val_loss: 0.2915 - val_accuracy: 0.8995\n",
      "Epoch 21/100\n",
      "32/32 [==============================] - 0s 13ms/step - loss: 0.1768 - accuracy: 0.9258 - val_loss: 0.3602 - val_accuracy: 0.8676\n",
      "Epoch 22/100\n",
      "32/32 [==============================] - 0s 13ms/step - loss: 0.2036 - accuracy: 0.9234 - val_loss: 0.2841 - val_accuracy: 0.8950\n",
      "Epoch 23/100\n",
      "32/32 [==============================] - 0s 13ms/step - loss: 0.1973 - accuracy: 0.9321 - val_loss: 0.2939 - val_accuracy: 0.9041\n",
      "Epoch 24/100\n",
      "32/32 [==============================] - 0s 12ms/step - loss: 0.1751 - accuracy: 0.9283 - val_loss: 0.2990 - val_accuracy: 0.9041\n",
      "Epoch 25/100\n",
      "32/32 [==============================] - 0s 12ms/step - loss: 0.1720 - accuracy: 0.9317 - val_loss: 0.3160 - val_accuracy: 0.8950\n",
      "Epoch 26/100\n",
      "32/32 [==============================] - 0s 12ms/step - loss: 0.1909 - accuracy: 0.9205 - val_loss: 0.2935 - val_accuracy: 0.9041\n",
      "Epoch 27/100\n",
      "32/32 [==============================] - 0s 12ms/step - loss: 0.1644 - accuracy: 0.9264 - val_loss: 0.3671 - val_accuracy: 0.8676\n",
      "Epoch 28/100\n",
      "32/32 [==============================] - 0s 12ms/step - loss: 0.2100 - accuracy: 0.9109 - val_loss: 0.2722 - val_accuracy: 0.9041\n",
      "Epoch 29/100\n",
      "32/32 [==============================] - 0s 12ms/step - loss: 0.1979 - accuracy: 0.9174 - val_loss: 0.2796 - val_accuracy: 0.9087\n",
      "Epoch 30/100\n",
      "32/32 [==============================] - 0s 12ms/step - loss: 0.1833 - accuracy: 0.9204 - val_loss: 0.3174 - val_accuracy: 0.8950\n",
      "Epoch 31/100\n",
      "32/32 [==============================] - 0s 12ms/step - loss: 0.1698 - accuracy: 0.9335 - val_loss: 0.2818 - val_accuracy: 0.8950\n",
      "Epoch 32/100\n",
      "32/32 [==============================] - 0s 12ms/step - loss: 0.1695 - accuracy: 0.9299 - val_loss: 0.3472 - val_accuracy: 0.9041\n",
      "Epoch 33/100\n",
      "32/32 [==============================] - 0s 12ms/step - loss: 0.1850 - accuracy: 0.9260 - val_loss: 0.2974 - val_accuracy: 0.9041\n",
      "Epoch 34/100\n",
      "32/32 [==============================] - 0s 12ms/step - loss: 0.1784 - accuracy: 0.9221 - val_loss: 0.3294 - val_accuracy: 0.8995\n",
      "Epoch 35/100\n",
      "32/32 [==============================] - 0s 12ms/step - loss: 0.2256 - accuracy: 0.9029 - val_loss: 0.3205 - val_accuracy: 0.8721\n",
      "Epoch 36/100\n",
      "32/32 [==============================] - 0s 14ms/step - loss: 0.1855 - accuracy: 0.9141 - val_loss: 0.3204 - val_accuracy: 0.8950\n",
      "Epoch 37/100\n",
      "32/32 [==============================] - 0s 13ms/step - loss: 0.1661 - accuracy: 0.9302 - val_loss: 0.2949 - val_accuracy: 0.9087\n",
      "Epoch 38/100\n",
      "32/32 [==============================] - 0s 12ms/step - loss: 0.1778 - accuracy: 0.9189 - val_loss: 0.3044 - val_accuracy: 0.9087\n",
      "Epoch 39/100\n",
      "32/32 [==============================] - 0s 12ms/step - loss: 0.1655 - accuracy: 0.9372 - val_loss: 0.3489 - val_accuracy: 0.8995\n",
      "Epoch 40/100\n",
      "32/32 [==============================] - 0s 12ms/step - loss: 0.1467 - accuracy: 0.9320 - val_loss: 0.3784 - val_accuracy: 0.9132\n",
      "Epoch 41/100\n",
      "32/32 [==============================] - 0s 13ms/step - loss: 0.1402 - accuracy: 0.9398 - val_loss: 0.3263 - val_accuracy: 0.8950\n",
      "Epoch 42/100\n",
      "32/32 [==============================] - 0s 12ms/step - loss: 0.1597 - accuracy: 0.9364 - val_loss: 0.3586 - val_accuracy: 0.8950\n",
      "Epoch 43/100\n",
      "32/32 [==============================] - 0s 12ms/step - loss: 0.1760 - accuracy: 0.9255 - val_loss: 0.4034 - val_accuracy: 0.8995\n",
      "Epoch 44/100\n",
      "32/32 [==============================] - 0s 12ms/step - loss: 0.1583 - accuracy: 0.9344 - val_loss: 0.3885 - val_accuracy: 0.8721\n",
      "Epoch 45/100\n",
      "32/32 [==============================] - 0s 13ms/step - loss: 0.2110 - accuracy: 0.9203 - val_loss: 0.2863 - val_accuracy: 0.8950\n",
      "Epoch 46/100\n",
      "32/32 [==============================] - 0s 15ms/step - loss: 0.1877 - accuracy: 0.9191 - val_loss: 0.3770 - val_accuracy: 0.9041\n",
      "Epoch 47/100\n",
      "32/32 [==============================] - 0s 13ms/step - loss: 0.1775 - accuracy: 0.9234 - val_loss: 0.3547 - val_accuracy: 0.9041\n",
      "Epoch 48/100\n",
      "32/32 [==============================] - 1s 16ms/step - loss: 0.1476 - accuracy: 0.9314 - val_loss: 0.3092 - val_accuracy: 0.9178\n",
      "Epoch 49/100\n",
      "32/32 [==============================] - 0s 14ms/step - loss: 0.1362 - accuracy: 0.9459 - val_loss: 0.3902 - val_accuracy: 0.8767\n",
      "Epoch 50/100\n",
      "32/32 [==============================] - 0s 12ms/step - loss: 0.1999 - accuracy: 0.9129 - val_loss: 0.3298 - val_accuracy: 0.8950\n",
      "Epoch 51/100\n",
      "32/32 [==============================] - 0s 13ms/step - loss: 0.1466 - accuracy: 0.9449 - val_loss: 0.4041 - val_accuracy: 0.8950\n",
      "Epoch 52/100\n",
      "32/32 [==============================] - 0s 12ms/step - loss: 0.1589 - accuracy: 0.9288 - val_loss: 0.3647 - val_accuracy: 0.8995\n",
      "Epoch 53/100\n",
      "32/32 [==============================] - 0s 12ms/step - loss: 0.1396 - accuracy: 0.9427 - val_loss: 0.3410 - val_accuracy: 0.8995\n",
      "Epoch 54/100\n",
      "32/32 [==============================] - 0s 13ms/step - loss: 0.1311 - accuracy: 0.9417 - val_loss: 0.4292 - val_accuracy: 0.8995\n",
      "Epoch 55/100\n",
      "32/32 [==============================] - 0s 13ms/step - loss: 0.1485 - accuracy: 0.9263 - val_loss: 0.3828 - val_accuracy: 0.8630\n",
      "Epoch 56/100\n",
      "32/32 [==============================] - 0s 12ms/step - loss: 0.1723 - accuracy: 0.9338 - val_loss: 0.4196 - val_accuracy: 0.9041\n",
      "Epoch 57/100\n",
      "32/32 [==============================] - 0s 12ms/step - loss: 0.1374 - accuracy: 0.9426 - val_loss: 0.3984 - val_accuracy: 0.8995\n",
      "Epoch 58/100\n",
      "32/32 [==============================] - 0s 13ms/step - loss: 0.1324 - accuracy: 0.9449 - val_loss: 0.5323 - val_accuracy: 0.8995\n",
      "Epoch 59/100\n",
      "32/32 [==============================] - 0s 12ms/step - loss: 0.1535 - accuracy: 0.9371 - val_loss: 0.4561 - val_accuracy: 0.8950\n",
      "Epoch 60/100\n",
      "32/32 [==============================] - 0s 13ms/step - loss: 0.1368 - accuracy: 0.9413 - val_loss: 0.4919 - val_accuracy: 0.8767\n",
      "Epoch 61/100\n",
      "32/32 [==============================] - 0s 14ms/step - loss: 0.1525 - accuracy: 0.9339 - val_loss: 0.4217 - val_accuracy: 0.9087\n",
      "Epoch 62/100\n",
      "32/32 [==============================] - 0s 13ms/step - loss: 0.1439 - accuracy: 0.9427 - val_loss: 0.4658 - val_accuracy: 0.9087\n",
      "Epoch 63/100\n",
      "32/32 [==============================] - 0s 13ms/step - loss: 0.1316 - accuracy: 0.9352 - val_loss: 0.4662 - val_accuracy: 0.9041\n",
      "Epoch 64/100\n",
      "32/32 [==============================] - 0s 14ms/step - loss: 0.1063 - accuracy: 0.9572 - val_loss: 0.5259 - val_accuracy: 0.8858\n",
      "Epoch 65/100\n",
      "32/32 [==============================] - 0s 15ms/step - loss: 0.1012 - accuracy: 0.9540 - val_loss: 0.4789 - val_accuracy: 0.8995\n",
      "Epoch 66/100\n",
      "32/32 [==============================] - 0s 12ms/step - loss: 0.1504 - accuracy: 0.9373 - val_loss: 0.3938 - val_accuracy: 0.9132\n",
      "Epoch 67/100\n",
      "32/32 [==============================] - 0s 12ms/step - loss: 0.1866 - accuracy: 0.9208 - val_loss: 0.4662 - val_accuracy: 0.8630\n",
      "Epoch 68/100\n",
      "32/32 [==============================] - 0s 12ms/step - loss: 0.1789 - accuracy: 0.9196 - val_loss: 0.4232 - val_accuracy: 0.9087\n",
      "Epoch 69/100\n",
      "32/32 [==============================] - 0s 12ms/step - loss: 0.1083 - accuracy: 0.9506 - val_loss: 0.3486 - val_accuracy: 0.9269\n",
      "Epoch 70/100\n",
      "32/32 [==============================] - 0s 12ms/step - loss: 0.1528 - accuracy: 0.9436 - val_loss: 0.4343 - val_accuracy: 0.8950\n",
      "Epoch 71/100\n",
      "32/32 [==============================] - 0s 13ms/step - loss: 0.1299 - accuracy: 0.9409 - val_loss: 0.3863 - val_accuracy: 0.9087\n",
      "Epoch 72/100\n",
      "32/32 [==============================] - 0s 13ms/step - loss: 0.1115 - accuracy: 0.9523 - val_loss: 0.4078 - val_accuracy: 0.8995\n",
      "Epoch 73/100\n",
      "32/32 [==============================] - 0s 13ms/step - loss: 0.1186 - accuracy: 0.9558 - val_loss: 0.4681 - val_accuracy: 0.8950\n",
      "Epoch 74/100\n",
      "32/32 [==============================] - 0s 12ms/step - loss: 0.1174 - accuracy: 0.9437 - val_loss: 0.5264 - val_accuracy: 0.9087\n",
      "Epoch 75/100\n",
      "32/32 [==============================] - 0s 12ms/step - loss: 0.1233 - accuracy: 0.9375 - val_loss: 0.5405 - val_accuracy: 0.8813\n",
      "Epoch 76/100\n",
      "32/32 [==============================] - 0s 12ms/step - loss: 0.1396 - accuracy: 0.9301 - val_loss: 0.4134 - val_accuracy: 0.8995\n",
      "Epoch 77/100\n",
      "32/32 [==============================] - 0s 12ms/step - loss: 0.1346 - accuracy: 0.9496 - val_loss: 0.4827 - val_accuracy: 0.8858\n",
      "Epoch 78/100\n",
      "32/32 [==============================] - 0s 13ms/step - loss: 0.1402 - accuracy: 0.9441 - val_loss: 0.4617 - val_accuracy: 0.9087\n",
      "Epoch 79/100\n",
      "32/32 [==============================] - 0s 12ms/step - loss: 0.1307 - accuracy: 0.9415 - val_loss: 0.4857 - val_accuracy: 0.9132\n",
      "Epoch 80/100\n",
      "32/32 [==============================] - 0s 12ms/step - loss: 0.1417 - accuracy: 0.9336 - val_loss: 0.5587 - val_accuracy: 0.8950\n",
      "Epoch 81/100\n",
      "32/32 [==============================] - 0s 13ms/step - loss: 0.1171 - accuracy: 0.9514 - val_loss: 0.5286 - val_accuracy: 0.9087\n",
      "Epoch 82/100\n",
      "32/32 [==============================] - 0s 12ms/step - loss: 0.1194 - accuracy: 0.9482 - val_loss: 0.5972 - val_accuracy: 0.8950\n",
      "Epoch 83/100\n",
      "32/32 [==============================] - 0s 12ms/step - loss: 0.1204 - accuracy: 0.9443 - val_loss: 0.4686 - val_accuracy: 0.8721\n",
      "Epoch 84/100\n",
      "32/32 [==============================] - 0s 12ms/step - loss: 0.1570 - accuracy: 0.9287 - val_loss: 0.5136 - val_accuracy: 0.9087\n",
      "Epoch 85/100\n",
      "32/32 [==============================] - 1s 16ms/step - loss: 0.1083 - accuracy: 0.9536 - val_loss: 0.4167 - val_accuracy: 0.8950\n",
      "Epoch 86/100\n",
      "32/32 [==============================] - 0s 14ms/step - loss: 0.1325 - accuracy: 0.9526 - val_loss: 0.5789 - val_accuracy: 0.8858\n",
      "Epoch 87/100\n",
      "32/32 [==============================] - 0s 14ms/step - loss: 0.1130 - accuracy: 0.9538 - val_loss: 0.5172 - val_accuracy: 0.8995\n",
      "Epoch 88/100\n",
      "32/32 [==============================] - 0s 12ms/step - loss: 0.0922 - accuracy: 0.9619 - val_loss: 0.5271 - val_accuracy: 0.9132\n",
      "Epoch 89/100\n",
      "32/32 [==============================] - 0s 13ms/step - loss: 0.1017 - accuracy: 0.9614 - val_loss: 0.5714 - val_accuracy: 0.9041\n",
      "Epoch 90/100\n",
      "32/32 [==============================] - 0s 13ms/step - loss: 0.0953 - accuracy: 0.9616 - val_loss: 0.6059 - val_accuracy: 0.8904\n",
      "Epoch 91/100\n",
      "32/32 [==============================] - 0s 12ms/step - loss: 0.0972 - accuracy: 0.9570 - val_loss: 0.5920 - val_accuracy: 0.8676\n",
      "Epoch 92/100\n",
      "32/32 [==============================] - 0s 12ms/step - loss: 0.1505 - accuracy: 0.9343 - val_loss: 0.4965 - val_accuracy: 0.8813\n",
      "Epoch 93/100\n",
      "32/32 [==============================] - 0s 12ms/step - loss: 0.1206 - accuracy: 0.9505 - val_loss: 0.6041 - val_accuracy: 0.8858\n",
      "Epoch 94/100\n",
      "32/32 [==============================] - 0s 12ms/step - loss: 0.0915 - accuracy: 0.9623 - val_loss: 0.6141 - val_accuracy: 0.9087\n",
      "Epoch 95/100\n",
      "32/32 [==============================] - 0s 13ms/step - loss: 0.1051 - accuracy: 0.9548 - val_loss: 0.6410 - val_accuracy: 0.9041\n",
      "Epoch 96/100\n",
      "32/32 [==============================] - 0s 16ms/step - loss: 0.0919 - accuracy: 0.9570 - val_loss: 0.5825 - val_accuracy: 0.9041\n",
      "Epoch 97/100\n",
      "32/32 [==============================] - 1s 18ms/step - loss: 0.1073 - accuracy: 0.9526 - val_loss: 0.7860 - val_accuracy: 0.8858\n",
      "Epoch 98/100\n",
      "32/32 [==============================] - 0s 13ms/step - loss: 0.1349 - accuracy: 0.9443 - val_loss: 0.7129 - val_accuracy: 0.8950\n",
      "Epoch 99/100\n",
      "32/32 [==============================] - 0s 13ms/step - loss: 0.1686 - accuracy: 0.9351 - val_loss: 0.4743 - val_accuracy: 0.8904\n",
      "Epoch 100/100\n",
      "32/32 [==============================] - 0s 13ms/step - loss: 0.1486 - accuracy: 0.9446 - val_loss: 0.5084 - val_accuracy: 0.8950\n"
     ]
    }
   ],
   "source": [
    "model_2 = Sequential([\n",
    "    Dense(1000, activation='relu', input_shape=(10,)),\n",
    "    Dense(1000, activation='relu'),\n",
    "    Dense(1000, activation='relu'),\n",
    "    Dense(1000, activation='relu'),\n",
    "    Dense(1, activation='sigmoid'),\n",
    "])\n",
    "model_2.compile(optimizer='adam',\n",
    "              loss='binary_crossentropy',\n",
    "              metrics=['accuracy'])\n",
    "hist_2 = model_2.fit(X_train, Y_train,\n",
    "          batch_size=32, epochs=100,\n",
    "          validation_data=(X_val, Y_val))"
   ]
  },
  {
   "cell_type": "markdown",
   "metadata": {},
   "source": [
    "Let's do the same visualization to see what overfitting looks like in terms of the loss and accuracy."
   ]
  },
  {
   "cell_type": "code",
   "execution_count": null,
   "metadata": {},
   "outputs": [
    {
     "data": {
      "image/png": "[encoded data removed]",
      "text/plain": [
       "<Figure size 432x288 with 1 Axes>"
      ]
     },
     "metadata": {
      "needs_background": "light"
     },
     "output_type": "display_data"
    }
   ],
   "source": [
    "plt.plot(hist_2.history['loss'])\n",
    "plt.plot(hist_2.history['val_loss'])\n",
    "plt.title('Model loss')\n",
    "plt.ylabel('Loss')\n",
    "plt.xlabel('Epoch')\n",
    "plt.legend(['Train', 'Val'], loc='upper right')\n",
    "plt.show()"
   ]
  },
  {
   "cell_type": "code",
   "execution_count": null,
   "metadata": {},
   "outputs": [
    {
     "data": {
      "image/png": "[encoded data removed]",
      "text/plain": [
       "<Figure size 432x288 with 1 Axes>"
      ]
     },
     "metadata": {
      "needs_background": "light"
     },
     "output_type": "display_data"
    }
   ],
   "source": [
    "plt.plot(hist_2.history['accuracy'])\n",
    "plt.plot(hist_2.history['val_accuracy'])\n",
    "plt.title('Model accuracy')\n",
    "plt.ylabel('Accuracy')\n",
    "plt.xlabel('Epoch')\n",
    "plt.legend(['Train', 'Val'], loc='lower right')\n",
    "plt.show()"
   ]
  },
  {
   "cell_type": "markdown",
   "metadata": {},
   "source": [
    "To address the overfitting we see in Model 2, we'll incorporate L2 regularization and dropout in our third model here (Model 3)."
   ]
  },
  {
   "cell_type": "code",
   "execution_count": null,
   "metadata": {},
   "outputs": [],
   "source": [
    "from keras.layers import Dropout\n",
    "from keras import regularizers"
   ]
  },
  {
   "cell_type": "code",
   "execution_count": null,
   "metadata": {},
   "outputs": [],
   "source": [
    "model_3 = Sequential([\n",
    "    Dense(1000, activation='relu', kernel_regularizer=regularizers.l2(0.01), input_shape=(10,)),\n",
    "    Dropout(0.3),\n",
    "    Dense(1000, activation='relu', kernel_regularizer=regularizers.l2(0.01)),\n",
    "    Dropout(0.3),\n",
    "    Dense(1000, activation='relu', kernel_regularizer=regularizers.l2(0.01)),\n",
    "    Dropout(0.3),\n",
    "    Dense(1000, activation='relu', kernel_regularizer=regularizers.l2(0.01)),\n",
    "    Dropout(0.3),\n",
    "    Dense(1, activation='sigmoid', kernel_regularizer=regularizers.l2(0.01)),\n",
    "])"
   ]
  },
  {
   "cell_type": "code",
   "execution_count": null,
   "metadata": {},
   "outputs": [
    {
     "name": "stdout",
     "output_type": "stream",
     "text": [
      "Epoch 1/100\n"
     ]
    }
   ],
   "source": [
    "model_3.compile(optimizer='adam',\n",
    "              loss='binary_crossentropy',\n",
    "              metrics=['accuracy'])\n",
    "hist_3 = model_3.fit(X_train, Y_train,\n",
    "          batch_size=32, epochs=100,\n",
    "          validation_data=(X_val, Y_val))"
   ]
  },
  {
   "cell_type": "markdown",
   "metadata": {},
   "source": [
    "We'll now plot the loss and accuracy graphs for Model 3. You'll notice that the loss is a lot higher at the start, and that's because we've changed our loss function. To plot such that the window is zoomed in between 0 and 1.2 for the loss, we add an additional line of code (plt.ylim) when plotting"
   ]
  },
  {
   "cell_type": "code",
   "execution_count": null,
   "metadata": {},
   "outputs": [],
   "source": [
    "plt.plot(hist_3.history['loss'])\n",
    "plt.plot(hist_3.history['val_loss'])\n",
    "plt.title('Model loss')\n",
    "plt.ylabel('Loss')\n",
    "plt.xlabel('Epoch')\n",
    "plt.legend(['Train', 'Val'], loc='upper right')\n",
    "plt.ylim(top=1.2, bottom=0)\n",
    "plt.show()"
   ]
  },
  {
   "cell_type": "code",
   "execution_count": null,
   "metadata": {},
   "outputs": [],
   "source": [
    "plt.plot(hist_3.history['acc'])\n",
    "plt.plot(hist_3.history['val_acc'])\n",
    "plt.title('Model accuracy')\n",
    "plt.ylabel('Accuracy')\n",
    "plt.xlabel('Epoch')\n",
    "plt.legend(['Train', 'Val'], loc='lower right')\n",
    "plt.show()"
   ]
  },
  {
   "cell_type": "markdown",
   "metadata": {},
   "source": [
    "As compared to Model 2, you should see that there's less overfitting!"
   ]
  },
  {
   "cell_type": "code",
   "execution_count": null,
   "metadata": {},
   "outputs": [],
   "source": []
  }
 ],
 "metadata": {
  "kernelspec": {
   "display_name": "Python 3",
   "language": "python",
   "name": "python3"
  },
  "language_info": {
   "codemirror_mode": {
    "name": "ipython",
    "version": 3
   },
   "file_extension": ".py",
   "mimetype": "text/x-python",
   "name": "python",
   "nbconvert_exporter": "python",
   "pygments_lexer": "ipython3",
   "version": "3.6.9"
  }
 },
 "nbformat": 4,
 "nbformat_minor": 2
}
